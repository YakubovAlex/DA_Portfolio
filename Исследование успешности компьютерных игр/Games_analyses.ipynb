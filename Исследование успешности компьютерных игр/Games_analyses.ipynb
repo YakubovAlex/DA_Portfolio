{
 "cells": [
  {
   "cell_type": "markdown",
   "metadata": {},
   "source": [
    "Изучение закономерностей, определяющих успешность игры\n",
    "====================================================="
   ]
  },
  {
   "cell_type": "markdown",
   "metadata": {},
   "source": [
    "# Описание проекта"
   ]
  },
  {
   "cell_type": "markdown",
   "metadata": {},
   "source": [
    "Вы работаете в интернет-магазине «Стримчик», который продаёт по всему миру компьютерные игры. Из открытых источников доступны исторические данные о продажах игр, оценки пользователей и экспертов, жанры и платформы (например, Xbox или PlayStation). Вам нужно выявить определяющие успешность игры закономерности. Это позволит сделать ставку на потенциально популярный продукт и спланировать рекламные кампании."
   ]
  },
  {
   "cell_type": "markdown",
   "metadata": {},
   "source": [
    "# Содержание проекта\n",
    "### **1. Скачивание файла с данными и изучение общей информации**  \n",
    "### **2. Предобработка данных**  \n",
    "### **3. Исследовательский анализ**  \n",
    "### **4. Портрет пользователя каждого региона**  \n",
    "### **5. Проверка гипотез**  \n",
    "### **6. Общий вывод**"
   ]
  },
  {
   "cell_type": "markdown",
   "metadata": {},
   "source": [
    "## 1. Скачивание файла с данными и изучение общей информации"
   ]
  },
  {
   "cell_type": "code",
   "execution_count": 1,
   "metadata": {},
   "outputs": [],
   "source": [
    "# импортируем библиотеки\n",
    "import pandas as pd\n",
    "import numpy as np\n",
    "import seaborn as sns\n",
    "import matplotlib.pyplot as plt\n",
    "from scipy import stats as st\n",
    "import warnings"
   ]
  },
  {
   "cell_type": "code",
   "execution_count": 2,
   "metadata": {},
   "outputs": [
    {
     "data": {
      "text/html": [
       "<div>\n",
       "<style scoped>\n",
       "    .dataframe tbody tr th:only-of-type {\n",
       "        vertical-align: middle;\n",
       "    }\n",
       "\n",
       "    .dataframe tbody tr th {\n",
       "        vertical-align: top;\n",
       "    }\n",
       "\n",
       "    .dataframe thead th {\n",
       "        text-align: right;\n",
       "    }\n",
       "</style>\n",
       "<table border=\"1\" class=\"dataframe\">\n",
       "  <thead>\n",
       "    <tr style=\"text-align: right;\">\n",
       "      <th></th>\n",
       "      <th>Name</th>\n",
       "      <th>Platform</th>\n",
       "      <th>Year_of_Release</th>\n",
       "      <th>Genre</th>\n",
       "      <th>NA_sales</th>\n",
       "      <th>EU_sales</th>\n",
       "      <th>JP_sales</th>\n",
       "      <th>Other_sales</th>\n",
       "      <th>Critic_Score</th>\n",
       "      <th>User_Score</th>\n",
       "      <th>Rating</th>\n",
       "    </tr>\n",
       "  </thead>\n",
       "  <tbody>\n",
       "    <tr>\n",
       "      <th>0</th>\n",
       "      <td>Wii Sports</td>\n",
       "      <td>Wii</td>\n",
       "      <td>2006.0</td>\n",
       "      <td>Sports</td>\n",
       "      <td>41.36</td>\n",
       "      <td>28.96</td>\n",
       "      <td>3.77</td>\n",
       "      <td>8.45</td>\n",
       "      <td>76.0</td>\n",
       "      <td>8</td>\n",
       "      <td>E</td>\n",
       "    </tr>\n",
       "    <tr>\n",
       "      <th>1</th>\n",
       "      <td>Super Mario Bros.</td>\n",
       "      <td>NES</td>\n",
       "      <td>1985.0</td>\n",
       "      <td>Platform</td>\n",
       "      <td>29.08</td>\n",
       "      <td>3.58</td>\n",
       "      <td>6.81</td>\n",
       "      <td>0.77</td>\n",
       "      <td>NaN</td>\n",
       "      <td>NaN</td>\n",
       "      <td>NaN</td>\n",
       "    </tr>\n",
       "    <tr>\n",
       "      <th>2</th>\n",
       "      <td>Mario Kart Wii</td>\n",
       "      <td>Wii</td>\n",
       "      <td>2008.0</td>\n",
       "      <td>Racing</td>\n",
       "      <td>15.68</td>\n",
       "      <td>12.76</td>\n",
       "      <td>3.79</td>\n",
       "      <td>3.29</td>\n",
       "      <td>82.0</td>\n",
       "      <td>8.3</td>\n",
       "      <td>E</td>\n",
       "    </tr>\n",
       "    <tr>\n",
       "      <th>3</th>\n",
       "      <td>Wii Sports Resort</td>\n",
       "      <td>Wii</td>\n",
       "      <td>2009.0</td>\n",
       "      <td>Sports</td>\n",
       "      <td>15.61</td>\n",
       "      <td>10.93</td>\n",
       "      <td>3.28</td>\n",
       "      <td>2.95</td>\n",
       "      <td>80.0</td>\n",
       "      <td>8</td>\n",
       "      <td>E</td>\n",
       "    </tr>\n",
       "    <tr>\n",
       "      <th>4</th>\n",
       "      <td>Pokemon Red/Pokemon Blue</td>\n",
       "      <td>GB</td>\n",
       "      <td>1996.0</td>\n",
       "      <td>Role-Playing</td>\n",
       "      <td>11.27</td>\n",
       "      <td>8.89</td>\n",
       "      <td>10.22</td>\n",
       "      <td>1.00</td>\n",
       "      <td>NaN</td>\n",
       "      <td>NaN</td>\n",
       "      <td>NaN</td>\n",
       "    </tr>\n",
       "  </tbody>\n",
       "</table>\n",
       "</div>"
      ],
      "text/plain": [
       "                       Name Platform  Year_of_Release         Genre  NA_sales  \\\n",
       "0                Wii Sports      Wii           2006.0        Sports     41.36   \n",
       "1         Super Mario Bros.      NES           1985.0      Platform     29.08   \n",
       "2            Mario Kart Wii      Wii           2008.0        Racing     15.68   \n",
       "3         Wii Sports Resort      Wii           2009.0        Sports     15.61   \n",
       "4  Pokemon Red/Pokemon Blue       GB           1996.0  Role-Playing     11.27   \n",
       "\n",
       "   EU_sales  JP_sales  Other_sales  Critic_Score User_Score Rating  \n",
       "0     28.96      3.77         8.45          76.0          8      E  \n",
       "1      3.58      6.81         0.77           NaN        NaN    NaN  \n",
       "2     12.76      3.79         3.29          82.0        8.3      E  \n",
       "3     10.93      3.28         2.95          80.0          8      E  \n",
       "4      8.89     10.22         1.00           NaN        NaN    NaN  "
      ]
     },
     "execution_count": 2,
     "metadata": {},
     "output_type": "execute_result"
    }
   ],
   "source": [
    "# считаем файл и выведем пять строк\n",
    "data = pd.read_csv('/datasets/games.csv')\n",
    "data.head()"
   ]
  },
  {
   "cell_type": "code",
   "execution_count": 3,
   "metadata": {},
   "outputs": [
    {
     "name": "stdout",
     "output_type": "stream",
     "text": [
      "<class 'pandas.core.frame.DataFrame'>\n",
      "RangeIndex: 16715 entries, 0 to 16714\n",
      "Data columns (total 11 columns):\n",
      " #   Column           Non-Null Count  Dtype  \n",
      "---  ------           --------------  -----  \n",
      " 0   Name             16713 non-null  object \n",
      " 1   Platform         16715 non-null  object \n",
      " 2   Year_of_Release  16446 non-null  float64\n",
      " 3   Genre            16713 non-null  object \n",
      " 4   NA_sales         16715 non-null  float64\n",
      " 5   EU_sales         16715 non-null  float64\n",
      " 6   JP_sales         16715 non-null  float64\n",
      " 7   Other_sales      16715 non-null  float64\n",
      " 8   Critic_Score     8137 non-null   float64\n",
      " 9   User_Score       10014 non-null  object \n",
      " 10  Rating           9949 non-null   object \n",
      "dtypes: float64(6), object(5)\n",
      "memory usage: 1.4+ MB\n"
     ]
    }
   ],
   "source": [
    "# проверим информацию о датасете\n",
    "data.info()"
   ]
  },
  {
   "cell_type": "code",
   "execution_count": 4,
   "metadata": {},
   "outputs": [
    {
     "data": {
      "text/plain": [
       "Critic_Score       8578\n",
       "Rating             6766\n",
       "User_Score         6701\n",
       "Year_of_Release     269\n",
       "Name                  2\n",
       "Genre                 2\n",
       "Platform              0\n",
       "NA_sales              0\n",
       "EU_sales              0\n",
       "JP_sales              0\n",
       "Other_sales           0\n",
       "dtype: int64"
      ]
     },
     "execution_count": 4,
     "metadata": {},
     "output_type": "execute_result"
    }
   ],
   "source": [
    "# проверим пропуски\n",
    "data.isna().sum().sort_values(ascending = False)"
   ]
  },
  {
   "cell_type": "code",
   "execution_count": 5,
   "metadata": {},
   "outputs": [
    {
     "data": {
      "text/plain": [
       "0"
      ]
     },
     "execution_count": 5,
     "metadata": {},
     "output_type": "execute_result"
    }
   ],
   "source": [
    "# проверим явные дубликаты\n",
    "data.duplicated().sum()"
   ]
  },
  {
   "cell_type": "markdown",
   "metadata": {},
   "source": [
    "**Вывод**"
   ]
  },
  {
   "cell_type": "markdown",
   "metadata": {},
   "source": [
    "Для исследования предлагается таблица 11 столбцов х 16715 строк. Явные дубликаты отсутствуют. Обнаружены пропуски значений в некоторых столбцах - разберем их далее. Название каждого столбца нужно привести к нижнему регистру, у некоторых столбцов требуется преобразование типа данных."
   ]
  },
  {
   "cell_type": "markdown",
   "metadata": {},
   "source": [
    "## 2. Предобработка данных"
   ]
  },
  {
   "cell_type": "code",
   "execution_count": 6,
   "metadata": {},
   "outputs": [],
   "source": [
    "# приведем столбцы в нижний регистр\n",
    "data.columns = data.columns.str.lower()"
   ]
  },
  {
   "cell_type": "code",
   "execution_count": 7,
   "metadata": {},
   "outputs": [
    {
     "data": {
      "text/html": [
       "<div>\n",
       "<style scoped>\n",
       "    .dataframe tbody tr th:only-of-type {\n",
       "        vertical-align: middle;\n",
       "    }\n",
       "\n",
       "    .dataframe tbody tr th {\n",
       "        vertical-align: top;\n",
       "    }\n",
       "\n",
       "    .dataframe thead th {\n",
       "        text-align: right;\n",
       "    }\n",
       "</style>\n",
       "<table border=\"1\" class=\"dataframe\">\n",
       "  <thead>\n",
       "    <tr style=\"text-align: right;\">\n",
       "      <th></th>\n",
       "      <th>name</th>\n",
       "      <th>platform</th>\n",
       "      <th>year_of_release</th>\n",
       "      <th>genre</th>\n",
       "      <th>na_sales</th>\n",
       "      <th>eu_sales</th>\n",
       "      <th>jp_sales</th>\n",
       "      <th>other_sales</th>\n",
       "      <th>critic_score</th>\n",
       "      <th>user_score</th>\n",
       "      <th>rating</th>\n",
       "    </tr>\n",
       "  </thead>\n",
       "  <tbody>\n",
       "    <tr>\n",
       "      <th>659</th>\n",
       "      <td>NaN</td>\n",
       "      <td>GEN</td>\n",
       "      <td>1993.0</td>\n",
       "      <td>NaN</td>\n",
       "      <td>1.78</td>\n",
       "      <td>0.53</td>\n",
       "      <td>0.00</td>\n",
       "      <td>0.08</td>\n",
       "      <td>NaN</td>\n",
       "      <td>NaN</td>\n",
       "      <td>NaN</td>\n",
       "    </tr>\n",
       "    <tr>\n",
       "      <th>14244</th>\n",
       "      <td>NaN</td>\n",
       "      <td>GEN</td>\n",
       "      <td>1993.0</td>\n",
       "      <td>NaN</td>\n",
       "      <td>0.00</td>\n",
       "      <td>0.00</td>\n",
       "      <td>0.03</td>\n",
       "      <td>0.00</td>\n",
       "      <td>NaN</td>\n",
       "      <td>NaN</td>\n",
       "      <td>NaN</td>\n",
       "    </tr>\n",
       "  </tbody>\n",
       "</table>\n",
       "</div>"
      ],
      "text/plain": [
       "      name platform  year_of_release genre  na_sales  eu_sales  jp_sales  \\\n",
       "659    NaN      GEN           1993.0   NaN      1.78      0.53      0.00   \n",
       "14244  NaN      GEN           1993.0   NaN      0.00      0.00      0.03   \n",
       "\n",
       "       other_sales  critic_score user_score rating  \n",
       "659           0.08           NaN        NaN    NaN  \n",
       "14244         0.00           NaN        NaN    NaN  "
      ]
     },
     "execution_count": 7,
     "metadata": {},
     "output_type": "execute_result"
    }
   ],
   "source": [
    "# первым делом, проверим два пропуска в столбце name\n",
    "data[data['name'].isna()]"
   ]
  },
  {
   "cell_type": "markdown",
   "metadata": {},
   "source": [
    "Удалим эти две строки, набор данных в них бесмысленный - похоже на тех. сбой."
   ]
  },
  {
   "cell_type": "code",
   "execution_count": 8,
   "metadata": {},
   "outputs": [],
   "source": [
    "data = data.dropna(subset=['name'])"
   ]
  },
  {
   "cell_type": "markdown",
   "metadata": {},
   "source": [
    "Тип данных столбцов year_of_release, critic_score, user_score необходимо поменять.\n",
    "Для этого последовательно исследуем пропуски в данных столбцах."
   ]
  },
  {
   "cell_type": "markdown",
   "metadata": {},
   "source": [
    "В столбце year_of_release пропущено всего ~1,5% значений. Ревьюер предыдущего проекта дал рекомендацию удалять строки с пропусками, если их относительное количество от общего числа строк датафрейма меньше 10%. В нашем случае по данному столбцу ~98,5% данных заполнено корректно - этого более чем достаточно для исследования."
   ]
  },
  {
   "cell_type": "code",
   "execution_count": 9,
   "metadata": {},
   "outputs": [],
   "source": [
    "data = data.dropna(subset=['year_of_release'])"
   ]
  },
  {
   "cell_type": "code",
   "execution_count": 10,
   "metadata": {},
   "outputs": [
    {
     "data": {
      "text/plain": [
       "16444"
      ]
     },
     "execution_count": 10,
     "metadata": {},
     "output_type": "execute_result"
    }
   ],
   "source": [
    "# проверим сколько строк удалилось (визуально)\n",
    "data.shape[0]"
   ]
  },
  {
   "cell_type": "markdown",
   "metadata": {},
   "source": [
    "271 строка удалена - корректно. Единичные пропуски удалены.\n"
   ]
  },
  {
   "cell_type": "markdown",
   "metadata": {},
   "source": [
    "В столбцах, которые связаны с рейтингом и оценками, не так все просто. Пропуски явно не случайны и просто удалить их нельзя - слишком много строк. В качестве причин можем предположить: отсутствие площадок для оценки игр в 80-е/90-е и слабое их развитие в 00-е годы. Также игры непопулярных жанров оценивали мало пользователей и критиков (не было данных для средневзвешенной оценки) или не оценивали вовсе. Проверим уникальные значения в столбцах critic_score, user_score, rating. "
   ]
  },
  {
   "cell_type": "code",
   "execution_count": 11,
   "metadata": {},
   "outputs": [
    {
     "data": {
      "text/plain": [
       "array([76., nan, 82., 80., 89., 58., 87., 91., 61., 97., 95., 77., 88.,\n",
       "       83., 94., 93., 85., 86., 98., 96., 90., 84., 73., 74., 78., 92.,\n",
       "       71., 72., 68., 62., 49., 67., 81., 66., 56., 79., 70., 59., 64.,\n",
       "       75., 60., 63., 69., 50., 25., 42., 44., 55., 48., 57., 29., 47.,\n",
       "       65., 54., 20., 53., 37., 38., 33., 52., 30., 32., 43., 45., 51.,\n",
       "       40., 46., 39., 34., 41., 36., 31., 27., 35., 26., 19., 28., 23.,\n",
       "       24., 21., 17., 13.])"
      ]
     },
     "execution_count": 11,
     "metadata": {},
     "output_type": "execute_result"
    }
   ],
   "source": [
    "data.critic_score.unique()"
   ]
  },
  {
   "cell_type": "code",
   "execution_count": 12,
   "metadata": {},
   "outputs": [
    {
     "data": {
      "text/plain": [
       "array(['8', nan, '8.3', '8.5', '6.6', '8.4', '8.6', '7.7', '6.3', '7.4',\n",
       "       '8.2', '9', '7.9', '8.1', '8.7', '7.1', '3.4', '5.3', '4.8', '3.2',\n",
       "       '8.9', '6.4', '7.8', '7.5', '2.6', '7.2', '9.2', '7', '7.3', '4.3',\n",
       "       '7.6', '5.7', '5', '9.1', '6.5', 'tbd', '8.8', '6.9', '9.4', '6.8',\n",
       "       '6.1', '6.7', '5.4', '4', '4.9', '4.5', '9.3', '6.2', '4.2', '6',\n",
       "       '3.7', '4.1', '5.8', '5.6', '5.5', '4.4', '4.6', '5.9', '3.9',\n",
       "       '3.1', '2.9', '5.2', '3.3', '4.7', '5.1', '3.5', '2.5', '1.9', '3',\n",
       "       '2.7', '2.2', '2', '9.5', '2.1', '3.6', '2.8', '1.8', '3.8', '0',\n",
       "       '1.6', '9.6', '2.4', '1.7', '1.1', '0.3', '1.5', '0.7', '1.2',\n",
       "       '2.3', '0.5', '1.3', '0.2', '0.6', '1.4', '0.9', '1', '9.7'],\n",
       "      dtype=object)"
      ]
     },
     "execution_count": 12,
     "metadata": {},
     "output_type": "execute_result"
    }
   ],
   "source": [
    "data.user_score.unique()"
   ]
  },
  {
   "cell_type": "code",
   "execution_count": 13,
   "metadata": {},
   "outputs": [
    {
     "data": {
      "text/plain": [
       "array(['E', nan, 'M', 'T', 'E10+', 'K-A', 'AO', 'EC', 'RP'], dtype=object)"
      ]
     },
     "execution_count": 13,
     "metadata": {},
     "output_type": "execute_result"
    }
   ],
   "source": [
    "data.rating.unique()"
   ]
  },
  {
   "cell_type": "markdown",
   "metadata": {},
   "source": [
    "Оценку пользователя и критика мы не можем заменить на медиану или среднее, так как речь идет о разных эпохах, этапах развития игровой отрасли, разных поколениях игроков и критиков. Заменим пропуски на нулевые значения."
   ]
  },
  {
   "cell_type": "code",
   "execution_count": 14,
   "metadata": {},
   "outputs": [],
   "source": [
    "data[['critic_score','user_score']] = data[['critic_score','user_score']].fillna(0)"
   ]
  },
  {
   "cell_type": "markdown",
   "metadata": {},
   "source": [
    "В столбце rating есть только единственный вариант обработки - поставить заглушку вместо пропуска. "
   ]
  },
  {
   "cell_type": "code",
   "execution_count": 15,
   "metadata": {},
   "outputs": [],
   "source": [
    "data['rating'] = data['rating'].fillna('no_rating')"
   ]
  },
  {
   "cell_type": "markdown",
   "metadata": {},
   "source": [
    "tbd - to be determined, заменим на ноль. Это равносильно пропуску и значение непредсказуемо (заменим на медиану - можем сильно не угадать)"
   ]
  },
  {
   "cell_type": "code",
   "execution_count": 16,
   "metadata": {},
   "outputs": [],
   "source": [
    "data.loc[data['user_score'] == 'tbd', 'user_score'] = \"\"\n",
    "data['user_score'] = pd.to_numeric(data['user_score'])"
   ]
  },
  {
   "cell_type": "code",
   "execution_count": 17,
   "metadata": {},
   "outputs": [
    {
     "data": {
      "text/plain": [
       "name                  0\n",
       "platform              0\n",
       "year_of_release       0\n",
       "genre                 0\n",
       "na_sales              0\n",
       "eu_sales              0\n",
       "jp_sales              0\n",
       "other_sales           0\n",
       "critic_score          0\n",
       "user_score         2376\n",
       "rating                0\n",
       "dtype: int64"
      ]
     },
     "execution_count": 17,
     "metadata": {},
     "output_type": "execute_result"
    }
   ],
   "source": [
    "data.isna().sum()"
   ]
  },
  {
   "cell_type": "markdown",
   "metadata": {},
   "source": [
    "Пропусков больше нет."
   ]
  },
  {
   "cell_type": "markdown",
   "metadata": {},
   "source": [
    "Добавляем столбец world_sales - суммарные продажи в мире. "
   ]
  },
  {
   "cell_type": "code",
   "execution_count": 18,
   "metadata": {},
   "outputs": [
    {
     "data": {
      "text/html": [
       "<div>\n",
       "<style scoped>\n",
       "    .dataframe tbody tr th:only-of-type {\n",
       "        vertical-align: middle;\n",
       "    }\n",
       "\n",
       "    .dataframe tbody tr th {\n",
       "        vertical-align: top;\n",
       "    }\n",
       "\n",
       "    .dataframe thead th {\n",
       "        text-align: right;\n",
       "    }\n",
       "</style>\n",
       "<table border=\"1\" class=\"dataframe\">\n",
       "  <thead>\n",
       "    <tr style=\"text-align: right;\">\n",
       "      <th></th>\n",
       "      <th>name</th>\n",
       "      <th>platform</th>\n",
       "      <th>year_of_release</th>\n",
       "      <th>genre</th>\n",
       "      <th>na_sales</th>\n",
       "      <th>eu_sales</th>\n",
       "      <th>jp_sales</th>\n",
       "      <th>other_sales</th>\n",
       "      <th>critic_score</th>\n",
       "      <th>user_score</th>\n",
       "      <th>rating</th>\n",
       "      <th>world_sales</th>\n",
       "    </tr>\n",
       "  </thead>\n",
       "  <tbody>\n",
       "    <tr>\n",
       "      <th>0</th>\n",
       "      <td>Wii Sports</td>\n",
       "      <td>Wii</td>\n",
       "      <td>2006.0</td>\n",
       "      <td>Sports</td>\n",
       "      <td>41.36</td>\n",
       "      <td>28.96</td>\n",
       "      <td>3.77</td>\n",
       "      <td>8.45</td>\n",
       "      <td>76.0</td>\n",
       "      <td>8.0</td>\n",
       "      <td>E</td>\n",
       "      <td>82.54</td>\n",
       "    </tr>\n",
       "    <tr>\n",
       "      <th>1</th>\n",
       "      <td>Super Mario Bros.</td>\n",
       "      <td>NES</td>\n",
       "      <td>1985.0</td>\n",
       "      <td>Platform</td>\n",
       "      <td>29.08</td>\n",
       "      <td>3.58</td>\n",
       "      <td>6.81</td>\n",
       "      <td>0.77</td>\n",
       "      <td>0.0</td>\n",
       "      <td>0.0</td>\n",
       "      <td>no_rating</td>\n",
       "      <td>40.24</td>\n",
       "    </tr>\n",
       "    <tr>\n",
       "      <th>2</th>\n",
       "      <td>Mario Kart Wii</td>\n",
       "      <td>Wii</td>\n",
       "      <td>2008.0</td>\n",
       "      <td>Racing</td>\n",
       "      <td>15.68</td>\n",
       "      <td>12.76</td>\n",
       "      <td>3.79</td>\n",
       "      <td>3.29</td>\n",
       "      <td>82.0</td>\n",
       "      <td>8.3</td>\n",
       "      <td>E</td>\n",
       "      <td>35.52</td>\n",
       "    </tr>\n",
       "    <tr>\n",
       "      <th>3</th>\n",
       "      <td>Wii Sports Resort</td>\n",
       "      <td>Wii</td>\n",
       "      <td>2009.0</td>\n",
       "      <td>Sports</td>\n",
       "      <td>15.61</td>\n",
       "      <td>10.93</td>\n",
       "      <td>3.28</td>\n",
       "      <td>2.95</td>\n",
       "      <td>80.0</td>\n",
       "      <td>8.0</td>\n",
       "      <td>E</td>\n",
       "      <td>32.77</td>\n",
       "    </tr>\n",
       "    <tr>\n",
       "      <th>4</th>\n",
       "      <td>Pokemon Red/Pokemon Blue</td>\n",
       "      <td>GB</td>\n",
       "      <td>1996.0</td>\n",
       "      <td>Role-Playing</td>\n",
       "      <td>11.27</td>\n",
       "      <td>8.89</td>\n",
       "      <td>10.22</td>\n",
       "      <td>1.00</td>\n",
       "      <td>0.0</td>\n",
       "      <td>0.0</td>\n",
       "      <td>no_rating</td>\n",
       "      <td>31.38</td>\n",
       "    </tr>\n",
       "  </tbody>\n",
       "</table>\n",
       "</div>"
      ],
      "text/plain": [
       "                       name platform  year_of_release         genre  na_sales  \\\n",
       "0                Wii Sports      Wii           2006.0        Sports     41.36   \n",
       "1         Super Mario Bros.      NES           1985.0      Platform     29.08   \n",
       "2            Mario Kart Wii      Wii           2008.0        Racing     15.68   \n",
       "3         Wii Sports Resort      Wii           2009.0        Sports     15.61   \n",
       "4  Pokemon Red/Pokemon Blue       GB           1996.0  Role-Playing     11.27   \n",
       "\n",
       "   eu_sales  jp_sales  other_sales  critic_score  user_score     rating  \\\n",
       "0     28.96      3.77         8.45          76.0         8.0          E   \n",
       "1      3.58      6.81         0.77           0.0         0.0  no_rating   \n",
       "2     12.76      3.79         3.29          82.0         8.3          E   \n",
       "3     10.93      3.28         2.95          80.0         8.0          E   \n",
       "4      8.89     10.22         1.00           0.0         0.0  no_rating   \n",
       "\n",
       "   world_sales  \n",
       "0        82.54  \n",
       "1        40.24  \n",
       "2        35.52  \n",
       "3        32.77  \n",
       "4        31.38  "
      ]
     },
     "execution_count": 18,
     "metadata": {},
     "output_type": "execute_result"
    }
   ],
   "source": [
    "data['world_sales'] = data['na_sales'] + data['eu_sales'] + data['jp_sales']+data['other_sales']\n",
    "data.head()"
   ]
  },
  {
   "cell_type": "markdown",
   "metadata": {},
   "source": [
    "Завершаем предобработку данных преобразованием типов: year_of_release, critic_score - ставим целочисленный, user_score - вещественный тип."
   ]
  },
  {
   "cell_type": "code",
   "execution_count": 19,
   "metadata": {},
   "outputs": [
    {
     "name": "stdout",
     "output_type": "stream",
     "text": [
      "<class 'pandas.core.frame.DataFrame'>\n",
      "Int64Index: 16444 entries, 0 to 16714\n",
      "Data columns (total 12 columns):\n",
      " #   Column           Non-Null Count  Dtype  \n",
      "---  ------           --------------  -----  \n",
      " 0   name             16444 non-null  object \n",
      " 1   platform         16444 non-null  object \n",
      " 2   year_of_release  16444 non-null  int64  \n",
      " 3   genre            16444 non-null  object \n",
      " 4   na_sales         16444 non-null  float64\n",
      " 5   eu_sales         16444 non-null  float64\n",
      " 6   jp_sales         16444 non-null  float64\n",
      " 7   other_sales      16444 non-null  float64\n",
      " 8   critic_score     16444 non-null  int64  \n",
      " 9   user_score       14068 non-null  float64\n",
      " 10  rating           16444 non-null  object \n",
      " 11  world_sales      16444 non-null  float64\n",
      "dtypes: float64(6), int64(2), object(4)\n",
      "memory usage: 1.6+ MB\n"
     ]
    }
   ],
   "source": [
    "data['year_of_release']=data['year_of_release'].astype('int')\n",
    "data['critic_score']=data['critic_score'].astype('int')\n",
    "data['user_score']=data['user_score'].astype('float')\n",
    "data.info()"
   ]
  },
  {
   "cell_type": "markdown",
   "metadata": {},
   "source": [
    "**Вывод**\n",
    "\n",
    "- привели названия колонок к нижнему регистру\n",
    "- заменили типы данных в годе выпуска, оценке критиков и оценке пользователей\n",
    "- пропуски в оценках были заменены на 0 из-за отсутствие значения\n",
    "- в столбце рейтинга использовали заглушку при заполнении пропусков\n",
    "- добавили столбец с мировыми продажами\n",
    "- заменили типы данных в годе выпуска, оценке критиков и пользователей"
   ]
  },
  {
   "cell_type": "markdown",
   "metadata": {},
   "source": [
    "## 3. Исследовательский анализ данных"
   ]
  },
  {
   "cell_type": "markdown",
   "metadata": {},
   "source": [
    "**Сколько игр выпускалось в разные годы**"
   ]
  },
  {
   "cell_type": "code",
   "execution_count": 20,
   "metadata": {},
   "outputs": [
    {
     "data": {
      "image/png": "[encoded data removed]",
      "text/plain": [
       "<Figure size 864x432 with 1 Axes>"
      ]
     },
     "metadata": {
      "needs_background": "light"
     },
     "output_type": "display_data"
    }
   ],
   "source": [
    "data.groupby('year_of_release')['name'].count().plot(kind='bar',figsize=(12,6))\n",
    "plt.xlabel('Год', fontsize=10)\n",
    "plt.ylabel('Количество игр', fontsize=10)\n",
    "plt.grid()\n",
    "plt.show()"
   ]
  },
  {
   "cell_type": "markdown",
   "metadata": {},
   "source": [
    "**Вывод:**\n",
    "Гистограмма показывает, что максимальные значения по количеству выпускаемых игр приходятся на 2008-2009 года, с 2010 года начинается спад, который идет вплоть до 2016 года. Период с 1980 по 1990 года не имеет тенденции к росту, в это время индустрия зарождается, развивается, обучаются разработчики, наращивается аудитория нового вида развлечения."
   ]
  },
  {
   "cell_type": "markdown",
   "metadata": {},
   "source": [
    "**Продажи по платформам и распределение продаж популярных платформ по годам**"
   ]
  },
  {
   "cell_type": "code",
   "execution_count": 21,
   "metadata": {},
   "outputs": [],
   "source": [
    "sales = data.groupby('platform')['world_sales'].sum().sort_values(ascending=False)\n",
    "sales = sales[:10]"
   ]
  },
  {
   "cell_type": "code",
   "execution_count": 22,
   "metadata": {},
   "outputs": [
    {
     "data": {
      "image/png": "[encoded data removed]",
      "text/plain": [
       "<Figure size 1152x288 with 1 Axes>"
      ]
     },
     "metadata": {
      "needs_background": "light"
     },
     "output_type": "display_data"
    }
   ],
   "source": [
    "sales.plot(kind='bar',figsize=(16,4))\n",
    "\n",
    "plt.title('Продажи по платформам-лидерам',fontsize = 16)\n",
    "plt.xlabel(\"Наименование платформы\", fontsize=12)\n",
    "plt.ylabel('Суммарные продажи', fontsize=12)\n",
    "plt.grid()\n",
    "plt.show()"
   ]
  },
  {
   "cell_type": "markdown",
   "metadata": {},
   "source": [
    "Лидерами продаж являются платформы: PS2, X360, PS3, Wii, DS, PS. Максимальные суммарные продажи принесла платформа PS2"
   ]
  },
  {
   "cell_type": "code",
   "execution_count": 23,
   "metadata": {},
   "outputs": [],
   "source": [
    "# доп. сводная таблица для составления рейтинга продаж по платформам\n",
    "platform_top = data.pivot_table(index='platform', values='world_sales', aggfunc='sum')\\\n",
    "                .query('world_sales > world_sales.quantile(0.75)').sort_values(by='world_sales',ascending=False)\n",
    "top = list(platform_top.index)"
   ]
  },
  {
   "cell_type": "code",
   "execution_count": 24,
   "metadata": {},
   "outputs": [],
   "source": [
    "# доп. сводная таблица для для общего графика продаж платформ лидеров\n",
    "platform_sales = data.pivot_table(index='year_of_release',columns='platform',values='world_sales',aggfunc='sum')\n",
    "platform_top_sales = platform_sales.loc[:, top]"
   ]
  },
  {
   "cell_type": "code",
   "execution_count": 25,
   "metadata": {},
   "outputs": [
    {
     "data": {
      "image/png": "[encoded data removed]",
      "text/plain": [
       "<Figure size 1152x432 with 1 Axes>"
      ]
     },
     "metadata": {
      "needs_background": "light"
     },
     "output_type": "display_data"
    }
   ],
   "source": [
    "# график по\n",
    "plt.figure(figsize=(16,6))\n",
    "plt.plot(platform_top_sales.index, platform_top_sales)\n",
    "plt.title('Платформы лидеры',fontsize = 16)\n",
    "plt.xlim(left=1993)\n",
    "plt.ylabel('Продажи в млн шт',fontsize = 12)\n",
    "plt.xlabel('Год',fontsize = 2)\n",
    "plt.legend(platform_top_sales,loc='upper right', fontsize=12)\n",
    "plt.grid()\n",
    "plt.show()"
   ]
  },
  {
   "cell_type": "markdown",
   "metadata": {},
   "source": [
    "**Вывод по графику:**\n",
    "Возможно график перегружен данными, но он явно отображает жизненный цикл платформы. Есть начальная точка, затем рост продаж, максимум, затем падение продаж и конечная точка (закрытие продаж на платформе). С начала жизни игровой индустрии лидировали продукты SONY - PS и PS2. После 2005 года лидерами стали Wii (Nintendo) и Xbox (Microsoft). Для сохранения интереса пользователей производители создавали новые игровые платформы на базе предыдущих (PS-PS2-PS3-PS4)."
   ]
  },
  {
   "cell_type": "markdown",
   "metadata": {},
   "source": [
    "**За какой характерный срок появляются новые и исчезают старые платформы?**"
   ]
  },
  {
   "cell_type": "code",
   "execution_count": 26,
   "metadata": {},
   "outputs": [],
   "source": [
    "platform_lifetime = data.groupby('platform').agg({'year_of_release':['min','max']})\n",
    "platform_lifetime.columns = ['year_min','year_max']\n",
    "platform_lifetime['lifetime'] = platform_lifetime['year_max']-platform_lifetime['year_min']+1"
   ]
  },
  {
   "cell_type": "code",
   "execution_count": 27,
   "metadata": {},
   "outputs": [
    {
     "data": {
      "image/png": "[encoded data removed]",
      "text/plain": [
       "<Figure size 432x288 with 1 Axes>"
      ]
     },
     "metadata": {
      "needs_background": "light"
     },
     "output_type": "display_data"
    }
   ],
   "source": [
    "# построим  ящик с усами\n",
    "sns.boxplot(data=platform_lifetime['lifetime'], orient='h')\n",
    "plt.title('Средний срок игровой платформы')\n",
    "plt.xlabel('Продолжительность в годах')\n",
    "plt.show()"
   ]
  },
  {
   "cell_type": "code",
   "execution_count": 28,
   "metadata": {},
   "outputs": [
    {
     "data": {
      "text/plain": [
       "7.0"
      ]
     },
     "execution_count": 28,
     "metadata": {},
     "output_type": "execute_result"
    }
   ],
   "source": [
    "# проверим медиану\n",
    "platform_lifetime['lifetime'].median()"
   ]
  },
  {
   "cell_type": "markdown",
   "metadata": {},
   "source": [
    "На момент года платформа PS4 была на спаде, но вполне \"жива\". Рассмотрим среднее значение по платформам, закрытым раньше 2016 года."
   ]
  },
  {
   "cell_type": "code",
   "execution_count": 29,
   "metadata": {},
   "outputs": [
    {
     "data": {
      "text/plain": [
       "8.0"
      ]
     },
     "execution_count": 29,
     "metadata": {},
     "output_type": "execute_result"
    }
   ],
   "source": [
    "platform_lifetime.query('year_max < 2016')['lifetime'].mean()"
   ]
  },
  {
   "cell_type": "markdown",
   "metadata": {},
   "source": [
    "**Вывод:**\n",
    "Средняя продолжительность \"жизни\" игровой платформы 8 лет. При этом есть платформы, которые на момент 2016 года еще не закрылись."
   ]
  },
  {
   "cell_type": "markdown",
   "metadata": {},
   "source": [
    "**Определение актуального периода для прогнозирования данных на 2017 год**"
   ]
  },
  {
   "cell_type": "markdown",
   "metadata": {},
   "source": [
    "Вряд ли аналитик - не геймер сможет досконально понять потребности покупателей и пользователей различных платформ. А именно чем сейчас руководствуются пользователи при выборе и покупке, какие их ожидания от игр. Например, по датасету непонятно как выглядит игра на той или иной современной платформе и чем она вызывает интерес своего пользователя и формирует пул покупателей. Поэтому, если руководствоваться только цифрами - работать и делать прогноз считаю нужным только по актуальным платформам. Не вижу смысл прогнозировать по DS и Wii (хоть они и достаточно современны и по-своему актуальны) - они попали в топ-10 и прошли имели пик продаж, но к 2016 году их продажи почти сошли на ноль. Будем отталкиваться от главного соперничества последних лет, которое двигает игровую индустрию - Xbox и PS (3-я и 4-я версии). Актуальным периодом примем 2013 - 2016 г."
   ]
  },
  {
   "cell_type": "code",
   "execution_count": 30,
   "metadata": {},
   "outputs": [],
   "source": [
    "# актуальные данные запишем в новый датафрейм\n",
    "actual_data = data.query('year_of_release >= 2013') "
   ]
  },
  {
   "cell_type": "markdown",
   "metadata": {},
   "source": [
    "**Какие платформы лидируют по продажам**"
   ]
  },
  {
   "cell_type": "code",
   "execution_count": 31,
   "metadata": {},
   "outputs": [
    {
     "data": {
      "text/html": [
       "<div>\n",
       "<style scoped>\n",
       "    .dataframe tbody tr th:only-of-type {\n",
       "        vertical-align: middle;\n",
       "    }\n",
       "\n",
       "    .dataframe tbody tr th {\n",
       "        vertical-align: top;\n",
       "    }\n",
       "\n",
       "    .dataframe thead th {\n",
       "        text-align: right;\n",
       "    }\n",
       "</style>\n",
       "<table border=\"1\" class=\"dataframe\">\n",
       "  <thead>\n",
       "    <tr style=\"text-align: right;\">\n",
       "      <th>platform</th>\n",
       "      <th>3DS</th>\n",
       "      <th>DS</th>\n",
       "      <th>PC</th>\n",
       "      <th>PS3</th>\n",
       "      <th>PS4</th>\n",
       "      <th>PSP</th>\n",
       "      <th>PSV</th>\n",
       "      <th>Wii</th>\n",
       "      <th>WiiU</th>\n",
       "      <th>X360</th>\n",
       "      <th>XOne</th>\n",
       "    </tr>\n",
       "    <tr>\n",
       "      <th>year_of_release</th>\n",
       "      <th></th>\n",
       "      <th></th>\n",
       "      <th></th>\n",
       "      <th></th>\n",
       "      <th></th>\n",
       "      <th></th>\n",
       "      <th></th>\n",
       "      <th></th>\n",
       "      <th></th>\n",
       "      <th></th>\n",
       "      <th></th>\n",
       "    </tr>\n",
       "  </thead>\n",
       "  <tbody>\n",
       "    <tr>\n",
       "      <th>2013</th>\n",
       "      <td>56.57</td>\n",
       "      <td>1.54</td>\n",
       "      <td>12.38</td>\n",
       "      <td>113.25</td>\n",
       "      <td>25.99</td>\n",
       "      <td>3.14</td>\n",
       "      <td>10.59</td>\n",
       "      <td>8.59</td>\n",
       "      <td>21.65</td>\n",
       "      <td>88.58</td>\n",
       "      <td>18.96</td>\n",
       "    </tr>\n",
       "    <tr>\n",
       "      <th>2014</th>\n",
       "      <td>43.76</td>\n",
       "      <td>NaN</td>\n",
       "      <td>13.28</td>\n",
       "      <td>47.76</td>\n",
       "      <td>100.00</td>\n",
       "      <td>0.24</td>\n",
       "      <td>11.90</td>\n",
       "      <td>3.75</td>\n",
       "      <td>22.03</td>\n",
       "      <td>34.74</td>\n",
       "      <td>54.07</td>\n",
       "    </tr>\n",
       "    <tr>\n",
       "      <th>2015</th>\n",
       "      <td>27.78</td>\n",
       "      <td>NaN</td>\n",
       "      <td>8.52</td>\n",
       "      <td>16.82</td>\n",
       "      <td>118.90</td>\n",
       "      <td>0.12</td>\n",
       "      <td>6.25</td>\n",
       "      <td>1.14</td>\n",
       "      <td>16.35</td>\n",
       "      <td>11.96</td>\n",
       "      <td>60.14</td>\n",
       "    </tr>\n",
       "    <tr>\n",
       "      <th>2016</th>\n",
       "      <td>15.14</td>\n",
       "      <td>NaN</td>\n",
       "      <td>5.25</td>\n",
       "      <td>3.60</td>\n",
       "      <td>69.25</td>\n",
       "      <td>NaN</td>\n",
       "      <td>4.25</td>\n",
       "      <td>0.18</td>\n",
       "      <td>4.60</td>\n",
       "      <td>1.52</td>\n",
       "      <td>26.15</td>\n",
       "    </tr>\n",
       "  </tbody>\n",
       "</table>\n",
       "</div>"
      ],
      "text/plain": [
       "platform           3DS    DS     PC     PS3     PS4   PSP    PSV   Wii   WiiU  \\\n",
       "year_of_release                                                                 \n",
       "2013             56.57  1.54  12.38  113.25   25.99  3.14  10.59  8.59  21.65   \n",
       "2014             43.76   NaN  13.28   47.76  100.00  0.24  11.90  3.75  22.03   \n",
       "2015             27.78   NaN   8.52   16.82  118.90  0.12   6.25  1.14  16.35   \n",
       "2016             15.14   NaN   5.25    3.60   69.25   NaN   4.25  0.18   4.60   \n",
       "\n",
       "platform          X360   XOne  \n",
       "year_of_release                \n",
       "2013             88.58  18.96  \n",
       "2014             34.74  54.07  \n",
       "2015             11.96  60.14  \n",
       "2016              1.52  26.15  "
      ]
     },
     "execution_count": 31,
     "metadata": {},
     "output_type": "execute_result"
    }
   ],
   "source": [
    "# сформируем сводник по актуальным данным\n",
    "actual_sales = actual_data.pivot_table(index='year_of_release',columns='platform',values='world_sales',aggfunc='sum')\n",
    "actual_sales"
   ]
  },
  {
   "cell_type": "code",
   "execution_count": 32,
   "metadata": {},
   "outputs": [],
   "source": [
    "# plt.figure(figsize=(16,6))\n",
    "\n",
    "# plt.plot(actual_sales.index, actual_sales)\n",
    "\n",
    "# plt.title('Продажи игр по платформам',fontsize = 20)\n",
    "\n",
    "# plt.ylabel('Продажи в млн шт',fontsize = 12)\n",
    "# plt.xlabel('Год выпуска',fontsize = 12)\n",
    "# plt.legend(actual_sales,loc='upper right', fontsize=12)\n",
    "# plt.grid()\n",
    "# plt.xticks([2013, 2014, 2015, 2016])\n",
    "# plt.show()\n"
   ]
  },
  {
   "cell_type": "code",
   "execution_count": 33,
   "metadata": {},
   "outputs": [
    {
     "data": {
      "text/plain": [
       "<Figure size 1152x432 with 0 Axes>"
      ]
     },
     "metadata": {},
     "output_type": "display_data"
    },
    {
     "data": {
      "image/png": "[encoded data removed]",
      "text/plain": [
       "<Figure size 1080x504 with 1 Axes>"
      ]
     },
     "metadata": {
      "needs_background": "light"
     },
     "output_type": "display_data"
    }
   ],
   "source": [
    "plt.figure(figsize=(16,6))\n",
    "\n",
    "colors = ['grey', 'red', 'brown', 'olive', 'yellow', 'green', 'teal', 'aqua', 'blue', 'indigo', 'pink', 'peru', 'purple', 'khaki', 'violet', 'crimson', 'skyblue', 'tomato']\n",
    "actual_sales.plot(kind='line', figsize=(15,7), stacked=True, color=colors)\n",
    "plt.title('Продажи игр по платформам',fontsize = 20)\n",
    "\n",
    "plt.ylabel('Продажи в млн шт',fontsize = 12)\n",
    "plt.xlabel('Год выпуска',fontsize = 12)\n",
    "plt.legend(actual_sales,loc='upper right', fontsize=12)\n",
    "plt.grid()\n",
    "plt.xticks([2013, 2014, 2015, 2016])\n",
    "plt.show()"
   ]
  },
  {
   "cell_type": "markdown",
   "metadata": {},
   "source": [
    "Мы видим 10 актуальных платформ. На первом месте PS4, на втором XOne, на третьем 3DS. Продажи всех платформ снизились к 2016 году. "
   ]
  },
  {
   "cell_type": "code",
   "execution_count": 34,
   "metadata": {},
   "outputs": [
    {
     "data": {
      "text/html": [
       "<div>\n",
       "<style scoped>\n",
       "    .dataframe tbody tr th:only-of-type {\n",
       "        vertical-align: middle;\n",
       "    }\n",
       "\n",
       "    .dataframe tbody tr th {\n",
       "        vertical-align: top;\n",
       "    }\n",
       "\n",
       "    .dataframe thead th {\n",
       "        text-align: right;\n",
       "    }\n",
       "</style>\n",
       "<table border=\"1\" class=\"dataframe\">\n",
       "  <thead>\n",
       "    <tr style=\"text-align: right;\">\n",
       "      <th></th>\n",
       "      <th>year_min</th>\n",
       "      <th>year_max</th>\n",
       "      <th>lifetime</th>\n",
       "    </tr>\n",
       "    <tr>\n",
       "      <th>platform</th>\n",
       "      <th></th>\n",
       "      <th></th>\n",
       "      <th></th>\n",
       "    </tr>\n",
       "  </thead>\n",
       "  <tbody>\n",
       "    <tr>\n",
       "      <th>PC</th>\n",
       "      <td>1985</td>\n",
       "      <td>2016</td>\n",
       "      <td>32</td>\n",
       "    </tr>\n",
       "    <tr>\n",
       "      <th>PSP</th>\n",
       "      <td>2004</td>\n",
       "      <td>2015</td>\n",
       "      <td>12</td>\n",
       "    </tr>\n",
       "    <tr>\n",
       "      <th>X360</th>\n",
       "      <td>2005</td>\n",
       "      <td>2016</td>\n",
       "      <td>12</td>\n",
       "    </tr>\n",
       "    <tr>\n",
       "      <th>PS3</th>\n",
       "      <td>2006</td>\n",
       "      <td>2016</td>\n",
       "      <td>11</td>\n",
       "    </tr>\n",
       "    <tr>\n",
       "      <th>Wii</th>\n",
       "      <td>2006</td>\n",
       "      <td>2016</td>\n",
       "      <td>11</td>\n",
       "    </tr>\n",
       "    <tr>\n",
       "      <th>3DS</th>\n",
       "      <td>2011</td>\n",
       "      <td>2016</td>\n",
       "      <td>6</td>\n",
       "    </tr>\n",
       "    <tr>\n",
       "      <th>PSV</th>\n",
       "      <td>2011</td>\n",
       "      <td>2016</td>\n",
       "      <td>6</td>\n",
       "    </tr>\n",
       "    <tr>\n",
       "      <th>WiiU</th>\n",
       "      <td>2012</td>\n",
       "      <td>2016</td>\n",
       "      <td>5</td>\n",
       "    </tr>\n",
       "    <tr>\n",
       "      <th>PS4</th>\n",
       "      <td>2013</td>\n",
       "      <td>2016</td>\n",
       "      <td>4</td>\n",
       "    </tr>\n",
       "    <tr>\n",
       "      <th>XOne</th>\n",
       "      <td>2013</td>\n",
       "      <td>2016</td>\n",
       "      <td>4</td>\n",
       "    </tr>\n",
       "  </tbody>\n",
       "</table>\n",
       "</div>"
      ],
      "text/plain": [
       "          year_min  year_max  lifetime\n",
       "platform                              \n",
       "PC            1985      2016        32\n",
       "PSP           2004      2015        12\n",
       "X360          2005      2016        12\n",
       "PS3           2006      2016        11\n",
       "Wii           2006      2016        11\n",
       "3DS           2011      2016         6\n",
       "PSV           2011      2016         6\n",
       "WiiU          2012      2016         5\n",
       "PS4           2013      2016         4\n",
       "XOne          2013      2016         4"
      ]
     },
     "execution_count": 34,
     "metadata": {},
     "output_type": "execute_result"
    }
   ],
   "source": [
    "platform_lifetime.query('year_max > 2013').sort_values('lifetime', ascending=False)"
   ]
  },
  {
   "cell_type": "markdown",
   "metadata": {},
   "source": [
    "5 платформ превысили среднюю продолжительность жизни. PC - номинальный \"лидер\". Предположение из предыдущих разделов подтверждается  - ориентироваться по прогнозу нужно на Xbox и PS.  \n"
   ]
  },
  {
   "cell_type": "markdown",
   "metadata": {},
   "source": [
    "**Построим график «ящик с усами» по глобальным продажам игр в разбивке по платформам.**\n"
   ]
  },
  {
   "cell_type": "code",
   "execution_count": 35,
   "metadata": {},
   "outputs": [
    {
     "data": {
      "text/plain": [
       "(0.0, 2.0)"
      ]
     },
     "execution_count": 35,
     "metadata": {},
     "output_type": "execute_result"
    },
    {
     "data": {
      "image/png": "[encoded data removed]",
      "text/plain": [
       "<Figure size 576x576 with 1 Axes>"
      ]
     },
     "metadata": {
      "needs_background": "light"
     },
     "output_type": "display_data"
    }
   ],
   "source": [
    "sns.catplot(x='world_sales', \n",
    "            y='platform', \n",
    "            kind=\"box\", \n",
    "            data=actual_data, \n",
    "            orient='h',\n",
    "            height=8)\n",
    "plt.title('Продажи по платформам за актуальный период')\n",
    "plt.xlabel('Платформа')\n",
    "plt.ylabel('Продажи в млн шт')\n",
    "plt.xlim(0, 2)"
   ]
  },
  {
   "cell_type": "markdown",
   "metadata": {},
   "source": [
    "**Вывод** \n",
    "Видим, что за выбранный актуальный период (2013-2016 годы) продажи игр не достигают миллиона штук. Но существуют явные выбросы - игры-хиты с миллионными продажами. Особо отличаются игры на PS4, X360 и Wii."
   ]
  },
  {
   "cell_type": "markdown",
   "metadata": {},
   "source": [
    "**Влияние на продажи отзывов пользователей и критиков. На примере одной популярной платформы.**"
   ]
  },
  {
   "cell_type": "markdown",
   "metadata": {},
   "source": [
    "Исследуем платформу PS4. Исключим игры без оценки критиков и пользователей (значение ноль)"
   ]
  },
  {
   "cell_type": "code",
   "execution_count": 36,
   "metadata": {},
   "outputs": [
    {
     "data": {
      "text/html": [
       "<div>\n",
       "<style scoped>\n",
       "    .dataframe tbody tr th:only-of-type {\n",
       "        vertical-align: middle;\n",
       "    }\n",
       "\n",
       "    .dataframe tbody tr th {\n",
       "        vertical-align: top;\n",
       "    }\n",
       "\n",
       "    .dataframe thead th {\n",
       "        text-align: right;\n",
       "    }\n",
       "</style>\n",
       "<table border=\"1\" class=\"dataframe\">\n",
       "  <thead>\n",
       "    <tr style=\"text-align: right;\">\n",
       "      <th></th>\n",
       "      <th>name</th>\n",
       "      <th>platform</th>\n",
       "      <th>year_of_release</th>\n",
       "      <th>genre</th>\n",
       "      <th>na_sales</th>\n",
       "      <th>eu_sales</th>\n",
       "      <th>jp_sales</th>\n",
       "      <th>other_sales</th>\n",
       "      <th>critic_score</th>\n",
       "      <th>user_score</th>\n",
       "      <th>rating</th>\n",
       "      <th>world_sales</th>\n",
       "    </tr>\n",
       "  </thead>\n",
       "  <tbody>\n",
       "    <tr>\n",
       "      <th>42</th>\n",
       "      <td>Grand Theft Auto V</td>\n",
       "      <td>PS4</td>\n",
       "      <td>2014</td>\n",
       "      <td>Action</td>\n",
       "      <td>3.96</td>\n",
       "      <td>6.31</td>\n",
       "      <td>0.38</td>\n",
       "      <td>1.97</td>\n",
       "      <td>97</td>\n",
       "      <td>8.3</td>\n",
       "      <td>M</td>\n",
       "      <td>12.62</td>\n",
       "    </tr>\n",
       "    <tr>\n",
       "      <th>77</th>\n",
       "      <td>FIFA 16</td>\n",
       "      <td>PS4</td>\n",
       "      <td>2015</td>\n",
       "      <td>Sports</td>\n",
       "      <td>1.12</td>\n",
       "      <td>6.12</td>\n",
       "      <td>0.06</td>\n",
       "      <td>1.28</td>\n",
       "      <td>82</td>\n",
       "      <td>4.3</td>\n",
       "      <td>E</td>\n",
       "      <td>8.58</td>\n",
       "    </tr>\n",
       "    <tr>\n",
       "      <th>92</th>\n",
       "      <td>Call of Duty: Advanced Warfare</td>\n",
       "      <td>PS4</td>\n",
       "      <td>2014</td>\n",
       "      <td>Shooter</td>\n",
       "      <td>2.81</td>\n",
       "      <td>3.48</td>\n",
       "      <td>0.14</td>\n",
       "      <td>1.23</td>\n",
       "      <td>83</td>\n",
       "      <td>5.7</td>\n",
       "      <td>M</td>\n",
       "      <td>7.66</td>\n",
       "    </tr>\n",
       "    <tr>\n",
       "      <th>94</th>\n",
       "      <td>FIFA 17</td>\n",
       "      <td>PS4</td>\n",
       "      <td>2016</td>\n",
       "      <td>Sports</td>\n",
       "      <td>0.66</td>\n",
       "      <td>5.75</td>\n",
       "      <td>0.08</td>\n",
       "      <td>1.11</td>\n",
       "      <td>85</td>\n",
       "      <td>5.0</td>\n",
       "      <td>E</td>\n",
       "      <td>7.60</td>\n",
       "    </tr>\n",
       "    <tr>\n",
       "      <th>105</th>\n",
       "      <td>Fallout 4</td>\n",
       "      <td>PS4</td>\n",
       "      <td>2015</td>\n",
       "      <td>Role-Playing</td>\n",
       "      <td>2.53</td>\n",
       "      <td>3.27</td>\n",
       "      <td>0.24</td>\n",
       "      <td>1.13</td>\n",
       "      <td>87</td>\n",
       "      <td>6.5</td>\n",
       "      <td>M</td>\n",
       "      <td>7.17</td>\n",
       "    </tr>\n",
       "  </tbody>\n",
       "</table>\n",
       "</div>"
      ],
      "text/plain": [
       "                               name platform  year_of_release         genre  \\\n",
       "42               Grand Theft Auto V      PS4             2014        Action   \n",
       "77                          FIFA 16      PS4             2015        Sports   \n",
       "92   Call of Duty: Advanced Warfare      PS4             2014       Shooter   \n",
       "94                          FIFA 17      PS4             2016        Sports   \n",
       "105                       Fallout 4      PS4             2015  Role-Playing   \n",
       "\n",
       "     na_sales  eu_sales  jp_sales  other_sales  critic_score  user_score  \\\n",
       "42       3.96      6.31      0.38         1.97            97         8.3   \n",
       "77       1.12      6.12      0.06         1.28            82         4.3   \n",
       "92       2.81      3.48      0.14         1.23            83         5.7   \n",
       "94       0.66      5.75      0.08         1.11            85         5.0   \n",
       "105      2.53      3.27      0.24         1.13            87         6.5   \n",
       "\n",
       "    rating  world_sales  \n",
       "42       M        12.62  \n",
       "77       E         8.58  \n",
       "92       M         7.66  \n",
       "94       E         7.60  \n",
       "105      M         7.17  "
      ]
     },
     "execution_count": 36,
     "metadata": {},
     "output_type": "execute_result"
    }
   ],
   "source": [
    "ps4_cr = data.query('platform == \"PS4\" and critic_score >0')\n",
    "ps4_cr.head()"
   ]
  },
  {
   "cell_type": "code",
   "execution_count": 37,
   "metadata": {},
   "outputs": [
    {
     "data": {
      "text/html": [
       "<div>\n",
       "<style scoped>\n",
       "    .dataframe tbody tr th:only-of-type {\n",
       "        vertical-align: middle;\n",
       "    }\n",
       "\n",
       "    .dataframe tbody tr th {\n",
       "        vertical-align: top;\n",
       "    }\n",
       "\n",
       "    .dataframe thead th {\n",
       "        text-align: right;\n",
       "    }\n",
       "</style>\n",
       "<table border=\"1\" class=\"dataframe\">\n",
       "  <thead>\n",
       "    <tr style=\"text-align: right;\">\n",
       "      <th></th>\n",
       "      <th>name</th>\n",
       "      <th>platform</th>\n",
       "      <th>year_of_release</th>\n",
       "      <th>genre</th>\n",
       "      <th>na_sales</th>\n",
       "      <th>eu_sales</th>\n",
       "      <th>jp_sales</th>\n",
       "      <th>other_sales</th>\n",
       "      <th>critic_score</th>\n",
       "      <th>user_score</th>\n",
       "      <th>rating</th>\n",
       "      <th>world_sales</th>\n",
       "    </tr>\n",
       "  </thead>\n",
       "  <tbody>\n",
       "    <tr>\n",
       "      <th>42</th>\n",
       "      <td>Grand Theft Auto V</td>\n",
       "      <td>PS4</td>\n",
       "      <td>2014</td>\n",
       "      <td>Action</td>\n",
       "      <td>3.96</td>\n",
       "      <td>6.31</td>\n",
       "      <td>0.38</td>\n",
       "      <td>1.97</td>\n",
       "      <td>97</td>\n",
       "      <td>8.3</td>\n",
       "      <td>M</td>\n",
       "      <td>12.62</td>\n",
       "    </tr>\n",
       "    <tr>\n",
       "      <th>77</th>\n",
       "      <td>FIFA 16</td>\n",
       "      <td>PS4</td>\n",
       "      <td>2015</td>\n",
       "      <td>Sports</td>\n",
       "      <td>1.12</td>\n",
       "      <td>6.12</td>\n",
       "      <td>0.06</td>\n",
       "      <td>1.28</td>\n",
       "      <td>82</td>\n",
       "      <td>4.3</td>\n",
       "      <td>E</td>\n",
       "      <td>8.58</td>\n",
       "    </tr>\n",
       "    <tr>\n",
       "      <th>92</th>\n",
       "      <td>Call of Duty: Advanced Warfare</td>\n",
       "      <td>PS4</td>\n",
       "      <td>2014</td>\n",
       "      <td>Shooter</td>\n",
       "      <td>2.81</td>\n",
       "      <td>3.48</td>\n",
       "      <td>0.14</td>\n",
       "      <td>1.23</td>\n",
       "      <td>83</td>\n",
       "      <td>5.7</td>\n",
       "      <td>M</td>\n",
       "      <td>7.66</td>\n",
       "    </tr>\n",
       "    <tr>\n",
       "      <th>94</th>\n",
       "      <td>FIFA 17</td>\n",
       "      <td>PS4</td>\n",
       "      <td>2016</td>\n",
       "      <td>Sports</td>\n",
       "      <td>0.66</td>\n",
       "      <td>5.75</td>\n",
       "      <td>0.08</td>\n",
       "      <td>1.11</td>\n",
       "      <td>85</td>\n",
       "      <td>5.0</td>\n",
       "      <td>E</td>\n",
       "      <td>7.60</td>\n",
       "    </tr>\n",
       "    <tr>\n",
       "      <th>105</th>\n",
       "      <td>Fallout 4</td>\n",
       "      <td>PS4</td>\n",
       "      <td>2015</td>\n",
       "      <td>Role-Playing</td>\n",
       "      <td>2.53</td>\n",
       "      <td>3.27</td>\n",
       "      <td>0.24</td>\n",
       "      <td>1.13</td>\n",
       "      <td>87</td>\n",
       "      <td>6.5</td>\n",
       "      <td>M</td>\n",
       "      <td>7.17</td>\n",
       "    </tr>\n",
       "  </tbody>\n",
       "</table>\n",
       "</div>"
      ],
      "text/plain": [
       "                               name platform  year_of_release         genre  \\\n",
       "42               Grand Theft Auto V      PS4             2014        Action   \n",
       "77                          FIFA 16      PS4             2015        Sports   \n",
       "92   Call of Duty: Advanced Warfare      PS4             2014       Shooter   \n",
       "94                          FIFA 17      PS4             2016        Sports   \n",
       "105                       Fallout 4      PS4             2015  Role-Playing   \n",
       "\n",
       "     na_sales  eu_sales  jp_sales  other_sales  critic_score  user_score  \\\n",
       "42       3.96      6.31      0.38         1.97            97         8.3   \n",
       "77       1.12      6.12      0.06         1.28            82         4.3   \n",
       "92       2.81      3.48      0.14         1.23            83         5.7   \n",
       "94       0.66      5.75      0.08         1.11            85         5.0   \n",
       "105      2.53      3.27      0.24         1.13            87         6.5   \n",
       "\n",
       "    rating  world_sales  \n",
       "42       M        12.62  \n",
       "77       E         8.58  \n",
       "92       M         7.66  \n",
       "94       E         7.60  \n",
       "105      M         7.17  "
      ]
     },
     "execution_count": 37,
     "metadata": {},
     "output_type": "execute_result"
    }
   ],
   "source": [
    "ps4_us = data.query('platform == \"PS4\" and user_score >0')\n",
    "ps4_us.head()"
   ]
  },
  {
   "cell_type": "code",
   "execution_count": 38,
   "metadata": {},
   "outputs": [
    {
     "data": {
      "image/png": "[encoded data removed]",
      "text/plain": [
       "<Figure size 720x432 with 1 Axes>"
      ]
     },
     "metadata": {
      "needs_background": "light"
     },
     "output_type": "display_data"
    }
   ],
   "source": [
    "# построим две диаграммы рассеяния\n",
    "fig,ax = plt.subplots(figsize=(10, 6))\n",
    "ax.scatter(x = ps4_cr['critic_score'], y = ps4_cr['world_sales'], alpha=0.6)\n",
    "plt.xlabel(\"Оценка критиков\")\n",
    "plt.ylabel(\"Продажи в млн шт\")\n",
    "plt.grid()\n",
    "plt.show()"
   ]
  },
  {
   "cell_type": "code",
   "execution_count": 39,
   "metadata": {},
   "outputs": [
    {
     "data": {
      "image/png": "[encoded data removed]",
      "text/plain": [
       "<Figure size 720x432 with 1 Axes>"
      ]
     },
     "metadata": {
      "needs_background": "light"
     },
     "output_type": "display_data"
    }
   ],
   "source": [
    "fig,ax = plt.subplots(figsize=(10, 6))\n",
    "ax.scatter(x = ps4_us['user_score'], y = ps4_us['world_sales'], alpha=0.6)\n",
    "plt.xlabel(\"Оценка пользователей\")\n",
    "plt.ylabel(\"Продажи в млн шт\")\n",
    "plt.grid()\n",
    "plt.show()"
   ]
  },
  {
   "cell_type": "code",
   "execution_count": 40,
   "metadata": {},
   "outputs": [
    {
     "data": {
      "text/plain": [
       "0.41"
      ]
     },
     "execution_count": 40,
     "metadata": {},
     "output_type": "execute_result"
    }
   ],
   "source": [
    "# коэффициент корреляции оценки критиков и продаж\n",
    "round(ps4_cr['critic_score'].corr(ps4_cr['world_sales']),2)"
   ]
  },
  {
   "cell_type": "code",
   "execution_count": 41,
   "metadata": {},
   "outputs": [
    {
     "data": {
      "text/plain": [
       "-0.03"
      ]
     },
     "execution_count": 41,
     "metadata": {},
     "output_type": "execute_result"
    }
   ],
   "source": [
    "# коэффициент корреляции оценки игроков и продаж\n",
    "round(ps4_us['user_score'].corr(ps4_us['world_sales']),2)"
   ]
  },
  {
   "cell_type": "markdown",
   "metadata": {},
   "source": [
    "Коэффициент корреляции - 0,41 указывает на крайне слабую зависимость между оценкой критиков и продажами игр. Оценка пользователей и продажи не зависят друг от друга (коэффициент корреляции -0,03)."
   ]
  },
  {
   "cell_type": "markdown",
   "metadata": {},
   "source": [
    "Проверим наши выводы на продажах игр других платформ. "
   ]
  },
  {
   "cell_type": "code",
   "execution_count": 42,
   "metadata": {},
   "outputs": [
    {
     "name": "stdout",
     "output_type": "stream",
     "text": [
      "----------------------------------------\n",
      "Платформа: PS3\n",
      "Коэф. корреляции между продажами и отзывами критиков: 0.43\n",
      "Коэф. корреляции между продажами и отзывами игроков: 0.13\n",
      "----------------------------------------\n",
      "----------------------------------------\n",
      "Платформа: X360\n",
      "Коэф. корреляции между продажами и отзывами критиков: 0.39\n",
      "Коэф. корреляции между продажами и отзывами игроков: 0.11\n",
      "----------------------------------------\n",
      "----------------------------------------\n",
      "Платформа: PS4\n",
      "Коэф. корреляции между продажами и отзывами критиков: 0.41\n",
      "Коэф. корреляции между продажами и отзывами игроков: -0.03\n",
      "----------------------------------------\n",
      "----------------------------------------\n",
      "Платформа: 3DS\n",
      "Коэф. корреляции между продажами и отзывами критиков: 0.35\n",
      "Коэф. корреляции между продажами и отзывами игроков: 0.22\n",
      "----------------------------------------\n",
      "----------------------------------------\n",
      "Платформа: XOne\n",
      "Коэф. корреляции между продажами и отзывами критиков: 0.42\n",
      "Коэф. корреляции между продажами и отзывами игроков: -0.07\n",
      "----------------------------------------\n",
      "----------------------------------------\n",
      "Платформа: WiiU\n",
      "Коэф. корреляции между продажами и отзывами критиков: 0.35\n",
      "Коэф. корреляции между продажами и отзывами игроков: 0.4\n",
      "----------------------------------------\n",
      "----------------------------------------\n",
      "Платформа: Wii\n",
      "Коэф. корреляции между продажами и отзывами критиков: 0.18\n",
      "Коэф. корреляции между продажами и отзывами игроков: 0.11\n",
      "----------------------------------------\n",
      "----------------------------------------\n",
      "Платформа: PC\n",
      "Коэф. корреляции между продажами и отзывами критиков: 0.26\n",
      "Коэф. корреляции между продажами и отзывами игроков: 0.01\n",
      "----------------------------------------\n",
      "----------------------------------------\n",
      "Платформа: PSV\n",
      "Коэф. корреляции между продажами и отзывами критиков: 0.13\n",
      "Коэф. корреляции между продажами и отзывами игроков: 0.01\n",
      "----------------------------------------\n",
      "----------------------------------------\n",
      "Платформа: DS\n",
      "Коэф. корреляции между продажами и отзывами критиков: 0.24\n",
      "Коэф. корреляции между продажами и отзывами игроков: 0.13\n",
      "----------------------------------------\n",
      "----------------------------------------\n",
      "Платформа: PSP\n",
      "Коэф. корреляции между продажами и отзывами критиков: 0.32\n",
      "Коэф. корреляции между продажами и отзывами игроков: 0.22\n",
      "----------------------------------------\n"
     ]
    }
   ],
   "source": [
    "for name in actual_data['platform'].unique():\n",
    "    \n",
    "    user = data.query('platform == @name and user_score >0')\n",
    "    critic = data.query('platform == @name and critic_score >0')\n",
    "\n",
    "    user_corr = round(user['user_score'].corr(user['world_sales']),2)\n",
    "    critic_corr = round(critic['critic_score'].corr(critic['world_sales']),2)\n",
    "    print('----------------------------------------')\n",
    "    print('Платформа:', name)\n",
    "    print('Коэф. корреляции между продажами и отзывами критиков:', critic_corr)\n",
    "    print('Коэф. корреляции между продажами и отзывами игроков:', user_corr)\n",
    "    print('----------------------------------------')"
   ]
  },
  {
   "cell_type": "markdown",
   "metadata": {},
   "source": [
    "В целом выводы для PS4 также применимы к большинству платформ. Но есть и небольшие отличия. Например, портативные консоли (PSP, 3DS) все же зависят (слабо) от оценок пользователей, коэффициент корреляции отличен от нуля. Также, платформа WiiU имеет умеренную зависимость от оценок критиков и игроков - коэффициенты почти равны. "
   ]
  },
  {
   "cell_type": "markdown",
   "metadata": {},
   "source": [
    "**Общее распределение игр по жанрам**\n"
   ]
  },
  {
   "cell_type": "code",
   "execution_count": 43,
   "metadata": {},
   "outputs": [
    {
     "data": {
      "text/html": [
       "<div>\n",
       "<style scoped>\n",
       "    .dataframe tbody tr th:only-of-type {\n",
       "        vertical-align: middle;\n",
       "    }\n",
       "\n",
       "    .dataframe tbody tr th {\n",
       "        vertical-align: top;\n",
       "    }\n",
       "\n",
       "    .dataframe thead th {\n",
       "        text-align: right;\n",
       "    }\n",
       "</style>\n",
       "<table border=\"1\" class=\"dataframe\">\n",
       "  <thead>\n",
       "    <tr style=\"text-align: right;\">\n",
       "      <th></th>\n",
       "      <th>games</th>\n",
       "      <th>sales</th>\n",
       "      <th>rate</th>\n",
       "    </tr>\n",
       "    <tr>\n",
       "      <th>genre</th>\n",
       "      <th></th>\n",
       "      <th></th>\n",
       "      <th></th>\n",
       "    </tr>\n",
       "  </thead>\n",
       "  <tbody>\n",
       "    <tr>\n",
       "      <th>Action</th>\n",
       "      <td>766</td>\n",
       "      <td>321.87</td>\n",
       "      <td>0.420196</td>\n",
       "    </tr>\n",
       "    <tr>\n",
       "      <th>Role-Playing</th>\n",
       "      <td>292</td>\n",
       "      <td>145.89</td>\n",
       "      <td>0.499623</td>\n",
       "    </tr>\n",
       "    <tr>\n",
       "      <th>Adventure</th>\n",
       "      <td>245</td>\n",
       "      <td>23.64</td>\n",
       "      <td>0.096490</td>\n",
       "    </tr>\n",
       "    <tr>\n",
       "      <th>Sports</th>\n",
       "      <td>214</td>\n",
       "      <td>150.65</td>\n",
       "      <td>0.703972</td>\n",
       "    </tr>\n",
       "    <tr>\n",
       "      <th>Shooter</th>\n",
       "      <td>187</td>\n",
       "      <td>232.98</td>\n",
       "      <td>1.245882</td>\n",
       "    </tr>\n",
       "    <tr>\n",
       "      <th>Misc</th>\n",
       "      <td>155</td>\n",
       "      <td>62.82</td>\n",
       "      <td>0.405290</td>\n",
       "    </tr>\n",
       "    <tr>\n",
       "      <th>Racing</th>\n",
       "      <td>85</td>\n",
       "      <td>39.89</td>\n",
       "      <td>0.469294</td>\n",
       "    </tr>\n",
       "    <tr>\n",
       "      <th>Fighting</th>\n",
       "      <td>80</td>\n",
       "      <td>35.31</td>\n",
       "      <td>0.441375</td>\n",
       "    </tr>\n",
       "    <tr>\n",
       "      <th>Platform</th>\n",
       "      <td>74</td>\n",
       "      <td>42.63</td>\n",
       "      <td>0.576081</td>\n",
       "    </tr>\n",
       "    <tr>\n",
       "      <th>Simulation</th>\n",
       "      <td>62</td>\n",
       "      <td>21.76</td>\n",
       "      <td>0.350968</td>\n",
       "    </tr>\n",
       "    <tr>\n",
       "      <th>Strategy</th>\n",
       "      <td>56</td>\n",
       "      <td>10.08</td>\n",
       "      <td>0.180000</td>\n",
       "    </tr>\n",
       "    <tr>\n",
       "      <th>Puzzle</th>\n",
       "      <td>17</td>\n",
       "      <td>3.17</td>\n",
       "      <td>0.186471</td>\n",
       "    </tr>\n",
       "  </tbody>\n",
       "</table>\n",
       "</div>"
      ],
      "text/plain": [
       "              games   sales      rate\n",
       "genre                                \n",
       "Action          766  321.87  0.420196\n",
       "Role-Playing    292  145.89  0.499623\n",
       "Adventure       245   23.64  0.096490\n",
       "Sports          214  150.65  0.703972\n",
       "Shooter         187  232.98  1.245882\n",
       "Misc            155   62.82  0.405290\n",
       "Racing           85   39.89  0.469294\n",
       "Fighting         80   35.31  0.441375\n",
       "Platform         74   42.63  0.576081\n",
       "Simulation       62   21.76  0.350968\n",
       "Strategy         56   10.08  0.180000\n",
       "Puzzle           17    3.17  0.186471"
      ]
     },
     "execution_count": 43,
     "metadata": {},
     "output_type": "execute_result"
    }
   ],
   "source": [
    "genre_sales = actual_data.groupby('genre').agg({'world_sales':['count', 'sum']})\n",
    "\n",
    "genre_sales.columns=['games','sales']\n",
    "genre_sales['rate'] = genre_sales['sales']/genre_sales['games']\n",
    "genre_sales.sort_values(('games'), ascending=False)"
   ]
  },
  {
   "cell_type": "code",
   "execution_count": 44,
   "metadata": {},
   "outputs": [
    {
     "data": {
      "image/png": "[encoded data removed]",
      "text/plain": [
       "<Figure size 864x432 with 1 Axes>"
      ]
     },
     "metadata": {
      "needs_background": "light"
     },
     "output_type": "display_data"
    }
   ],
   "source": [
    "# построим гистограмму\n",
    "genre_sales['sales'].sort_values(ascending = False).plot(kind='bar',fontsize=8,figsize=(12,6))\n",
    "plt.title('Продажи по жанрам')\n",
    "plt.xlabel('Жанр', fontsize=10)\n",
    "plt.ylabel('Количество игр', fontsize=10)\n",
    "plt.grid()\n",
    "plt.show()"
   ]
  },
  {
   "cell_type": "code",
   "execution_count": 45,
   "metadata": {},
   "outputs": [
    {
     "data": {
      "image/png": "[encoded data removed]",
      "text/plain": [
       "<Figure size 864x432 with 1 Axes>"
      ]
     },
     "metadata": {
      "needs_background": "light"
     },
     "output_type": "display_data"
    }
   ],
   "source": [
    "genre_sales['sales'].plot(kind='bar',fontsize=8,figsize=(12,6))\n",
    "plt.title('Продажи по жанрам')\n",
    "plt.xlabel('Жанр', fontsize=10)\n",
    "plt.ylabel('Количество игр', fontsize=10)\n",
    "plt.grid()\n",
    "plt.show()"
   ]
  },
  {
   "cell_type": "markdown",
   "metadata": {},
   "source": [
    "Лидеры продаж - жанры Action и Shooter. Аутсайдеры - Puzzle и Strategy. "
   ]
  },
  {
   "cell_type": "code",
   "execution_count": 46,
   "metadata": {},
   "outputs": [
    {
     "data": {
      "image/png": "[encoded data removed]",
      "text/plain": [
       "<Figure size 864x432 with 1 Axes>"
      ]
     },
     "metadata": {
      "needs_background": "light"
     },
     "output_type": "display_data"
    }
   ],
   "source": [
    "genre_sales['rate'].sort_values(ascending = False).plot(kind='bar',fontsize=8,figsize=(12,6))\n",
    "plt.title('Медианные продажи по жанрам')\n",
    "plt.xlabel('Жанр', fontsize=10)\n",
    "plt.ylabel('Количество игр', fontsize=10)\n",
    "plt.grid()\n",
    "plt.show()"
   ]
  },
  {
   "cell_type": "markdown",
   "metadata": {},
   "source": [
    "Лидеры абсолютных продаж - жанры Shooter и Sports. Аутсайдеры - Adventure и Strategy. Медианные продажи совпали лишь частично, но жанр Shooter - остался в топе лидеров, а Strategy - в аутсайдерах. "
   ]
  },
  {
   "cell_type": "markdown",
   "metadata": {},
   "source": [
    "**Вывод**"
   ]
  },
  {
   "cell_type": "markdown",
   "metadata": {},
   "source": [
    "В качестве summary приведем основные тезисы исследовательского анализа датасета:\n",
    "- Максимальные значения по количеству выпускаемых игр приходятся на 2008-2009 года, с 2010 года начинается спад\n",
    "- Лидерами продаж являются платформы: PS2, X360, PS3, Wii. Жизненый цикл платформы - 8 лет.\n",
    "- Главное соперничество последних лет, которое двигает игровую индустрию - Xbox против PS. Поэтому актуальным выбран период 2013 - 2016 г.\n",
    "- Продажи по платформам за актуальный период: на первом месте PS4, на втором XOne, на третьем 3DS.\n",
    "- Коэффициенты корреляции указывают на умеренную зависимость между оценкой критиков и продажами игр и независимость оценки пользователей и продаж.\n",
    "- По жанрам: лидеры продаж по двум показателям - Shooter. Аутсайдер - Strategy. Анализ подтвержает интуитивную логику - игры, где нужно больше думать и планировать - менее популярны. \n"
   ]
  },
  {
   "cell_type": "markdown",
   "metadata": {},
   "source": [
    "## 4. Составьте портрет пользователя каждого региона"
   ]
  },
  {
   "cell_type": "markdown",
   "metadata": {},
   "source": [
    "Определите для пользователя каждого региона (NA, EU, JP):\n",
    "- Самые популярные платформы (топ-5). Опишите различия в долях продаж.\n",
    "- Самые популярные жанры (топ-5). Поясните разницу.\n",
    "- Влияет ли рейтинг ESRB на продажи в отдельном регионе?"
   ]
  },
  {
   "cell_type": "code",
   "execution_count": 47,
   "metadata": {},
   "outputs": [
    {
     "data": {
      "image/png": "[encoded data removed]",
      "text/plain": [
       "<Figure size 1008x288 with 1 Axes>"
      ]
     },
     "metadata": {
      "needs_background": "light"
     },
     "output_type": "display_data"
    },
    {
     "data": {
      "image/png": "[encoded data removed]",
      "text/plain": [
       "<Figure size 1008x288 with 1 Axes>"
      ]
     },
     "metadata": {
      "needs_background": "light"
     },
     "output_type": "display_data"
    },
    {
     "data": {
      "image/png": "[encoded data removed]",
      "text/plain": [
       "<Figure size 1008x288 with 1 Axes>"
      ]
     },
     "metadata": {
      "needs_background": "light"
     },
     "output_type": "display_data"
    }
   ],
   "source": [
    "# Популярные платформы для региона NA\n",
    "na_sales = actual_data.pivot_table(index='platform',values='na_sales', aggfunc='sum').sort_values(by='na_sales', ascending=False)[:5]\n",
    "na_sales.plot(kind='bar',figsize=(14,4))\n",
    "plt.xlabel(\"Платформа\", fontsize=12)\n",
    "plt.ylabel('Продажи', fontsize=12)\n",
    "plt.xticks(fontsize=12)\n",
    "plt.yticks(fontsize=12)\n",
    "plt.title('Америка', fontsize=14)\n",
    "plt.grid()\n",
    "plt.show()\n",
    "\n",
    "# Популярные платформы для региона EU\n",
    "eu_sales = actual_data.pivot_table(index='platform',values='eu_sales', aggfunc='sum').sort_values(by='eu_sales', ascending=False)[:5]\n",
    "eu_sales.plot(kind='bar',figsize=(14,4))\n",
    "plt.xlabel(\"Платформа\", fontsize=12)\n",
    "plt.ylabel('Продажи', fontsize=12)\n",
    "plt.xticks(fontsize=12)\n",
    "plt.yticks(fontsize=12)\n",
    "plt.title('Европа', fontsize=14)\n",
    "plt.grid()\n",
    "plt.show()\n",
    "\n",
    "# Популярные платформы для региона JP\n",
    "jp_sales = actual_data.pivot_table(index='platform',values='jp_sales', aggfunc='sum').sort_values(by='jp_sales', ascending=False)[:5]\n",
    "jp_sales.plot(kind='bar',figsize=(14,4))\n",
    "plt.xlabel(\"Платформа\", fontsize=12)\n",
    "plt.ylabel('Продажи', fontsize=12)\n",
    "plt.xticks(fontsize=12)\n",
    "plt.yticks(fontsize=12)\n",
    "plt.title('Япония', fontsize=14)\n",
    "plt.grid()\n",
    "plt.show()\n"
   ]
  },
  {
   "cell_type": "code",
   "execution_count": 48,
   "metadata": {},
   "outputs": [
    {
     "name": "stdout",
     "output_type": "stream",
     "text": [
      "Доля продаж в Америке:\n",
      " platform\n",
      "X360    59.692982\n",
      "XOne    58.448406\n",
      "PS3     34.999724\n",
      "PS4     34.615140\n",
      "3DS     26.666667\n",
      "dtype: float64\n",
      "--------------------\n",
      "Доля продаж в Европе:\n",
      " platform\n",
      "PS4     44.913096\n",
      "PS3     37.375296\n",
      "XOne    32.381371\n",
      "X360    31.081871\n",
      "3DS     21.612565\n",
      "dtype: float64\n",
      "--------------------\n",
      "Доля продаж в Японии:\n",
      " platform\n",
      "PSV     56.350409\n",
      "3DS     47.336824\n",
      "WiiU    16.834287\n",
      "PS3     12.869977\n",
      "PS4      5.080537\n",
      "dtype: float64\n"
     ]
    }
   ],
   "source": [
    "# посчитаем долю продаж в Америке \n",
    "total_sales = actual_data.pivot_table(index='platform', values='world_sales', aggfunc='sum') \n",
    "per_sales_na = (na_sales['na_sales'] / total_sales['world_sales']* 100)\n",
    "print('Доля продаж в Америке:\\n', per_sales_na.sort_values(ascending=False)[:5])\n",
    "print(\"--------------------\")\n",
    "# посчитаем долю продаж в Европе \n",
    "per_sales_eu = (eu_sales['eu_sales'] / total_sales['world_sales']* 100) \n",
    "print('Доля продаж в Европе:\\n', per_sales_eu.sort_values(ascending=False)[:5])\n",
    "print(\"--------------------\")\n",
    "# посчитаем долю продаж в Японии\n",
    "per_sales_jp = (jp_sales['jp_sales'] / total_sales['world_sales']* 100)\n",
    "print('Доля продаж в Японии:\\n', per_sales_jp.sort_values(ascending=False)[:5])"
   ]
  },
  {
   "cell_type": "markdown",
   "metadata": {},
   "source": [
    "**Вывод:**\n",
    "В Америке и Европе пользуются спросом одни и те же игровые платформы, а у японцев - японские игровые платформы. Игровые платформы PS3-4, 3DS пользуются спросом во всех регионах. В Японии в топ не попала консоль Xbox.\n",
    "По долям продаж можно судить, что японцы обладают своим менталитетом - больше предпочитают портативные консоли. Они помешаны на работе, и явно могут поиграть только в короткие перерывы или в транспорте. Дома нет времени на игры. Американцы  предпочитают \"отечественное\" - приставку Xbox от Microsoft. А рынок Европы больше покорили консоли от Sony (PS4, PS3)."
   ]
  },
  {
   "cell_type": "markdown",
   "metadata": {},
   "source": [
    "Исследуем жанры."
   ]
  },
  {
   "cell_type": "code",
   "execution_count": 49,
   "metadata": {},
   "outputs": [
    {
     "data": {
      "text/html": [
       "<div>\n",
       "<style scoped>\n",
       "    .dataframe tbody tr th:only-of-type {\n",
       "        vertical-align: middle;\n",
       "    }\n",
       "\n",
       "    .dataframe tbody tr th {\n",
       "        vertical-align: top;\n",
       "    }\n",
       "\n",
       "    .dataframe thead th {\n",
       "        text-align: right;\n",
       "    }\n",
       "</style>\n",
       "<table border=\"1\" class=\"dataframe\">\n",
       "  <thead>\n",
       "    <tr style=\"text-align: right;\">\n",
       "      <th></th>\n",
       "      <th>eu_sales</th>\n",
       "    </tr>\n",
       "    <tr>\n",
       "      <th>genre</th>\n",
       "      <th></th>\n",
       "    </tr>\n",
       "  </thead>\n",
       "  <tbody>\n",
       "    <tr>\n",
       "      <th>Action</th>\n",
       "      <td>118.13</td>\n",
       "    </tr>\n",
       "    <tr>\n",
       "      <th>Shooter</th>\n",
       "      <td>87.86</td>\n",
       "    </tr>\n",
       "    <tr>\n",
       "      <th>Sports</th>\n",
       "      <td>60.52</td>\n",
       "    </tr>\n",
       "    <tr>\n",
       "      <th>Role-Playing</th>\n",
       "      <td>36.97</td>\n",
       "    </tr>\n",
       "    <tr>\n",
       "      <th>Racing</th>\n",
       "      <td>20.19</td>\n",
       "    </tr>\n",
       "  </tbody>\n",
       "</table>\n",
       "</div>"
      ],
      "text/plain": [
       "              eu_sales\n",
       "genre                 \n",
       "Action          118.13\n",
       "Shooter          87.86\n",
       "Sports           60.52\n",
       "Role-Playing     36.97\n",
       "Racing           20.19"
      ]
     },
     "execution_count": 49,
     "metadata": {},
     "output_type": "execute_result"
    }
   ],
   "source": [
    "actual_data.pivot_table(index='genre', values='eu_sales', aggfunc='sum') .sort_values(by='eu_sales', ascending=False)[:5]"
   ]
  },
  {
   "cell_type": "code",
   "execution_count": 50,
   "metadata": {},
   "outputs": [
    {
     "data": {
      "image/png": "[encoded data removed]",
      "text/plain": [
       "<Figure size 1008x288 with 1 Axes>"
      ]
     },
     "metadata": {
      "needs_background": "light"
     },
     "output_type": "display_data"
    },
    {
     "data": {
      "image/png": "[encoded data removed]",
      "text/plain": [
       "<Figure size 1008x288 with 1 Axes>"
      ]
     },
     "metadata": {
      "needs_background": "light"
     },
     "output_type": "display_data"
    },
    {
     "data": {
      "image/png": "[encoded data removed]",
      "text/plain": [
       "<Figure size 1008x288 with 1 Axes>"
      ]
     },
     "metadata": {
      "needs_background": "light"
     },
     "output_type": "display_data"
    }
   ],
   "source": [
    "# популярные жанры в Северной Америке\n",
    "actual_data.pivot_table(index='genre', values='na_sales', aggfunc='sum').sort_values(by='na_sales', ascending=False)[:5].plot(kind='bar',figsize=(14,4))\n",
    "plt.xlabel(\"Жанр\", fontsize=12)\n",
    "plt.ylabel('Количество продаж', fontsize=12)\n",
    "plt.xticks(fontsize=12)\n",
    "plt.yticks(fontsize=12)\n",
    "plt.title('Америка', fontsize=14)\n",
    "plt.grid()\n",
    "\n",
    "# популярные жанры в Европе\n",
    "actual_data.pivot_table(index='genre', values='eu_sales', aggfunc='sum').sort_values(by='eu_sales', ascending=False)[:5].plot(kind='bar',figsize=(14,4))\n",
    "plt.xlabel(\"Жанр\", fontsize=12)\n",
    "plt.ylabel('Количество продаж', fontsize=12)\n",
    "plt.xticks(fontsize=12)\n",
    "plt.yticks(fontsize=12)\n",
    "plt.title('Европа', fontsize=14)\n",
    "plt.grid()\n",
    "\n",
    "# популярные жанры в Японии\n",
    "actual_data.pivot_table(index='genre', values='jp_sales', aggfunc='sum').sort_values(by='jp_sales', ascending=False)[:5].plot(kind='bar',figsize=(14,4))\n",
    "plt.xlabel(\"Жанр\", fontsize=12)\n",
    "plt.ylabel('Количество продаж', fontsize=12)\n",
    "plt.xticks(fontsize=12)\n",
    "plt.yticks(fontsize=12)\n",
    "plt.title('Япония', fontsize=14)\n",
    "plt.grid()\n",
    "plt.show()"
   ]
  },
  {
   "cell_type": "markdown",
   "metadata": {},
   "source": [
    "**Вывод:** Японцы выделились и здесь - их топ-5 отличается от Европы и Америки. Role-playning, Action, Shooter - фигурирует в топ-5 во всех регионах. Предпочтения Америки и Европы почти совпадает."
   ]
  },
  {
   "cell_type": "markdown",
   "metadata": {},
   "source": [
    "**Влияение рейтинга ESRB на продажи в отдельном регионе**\n"
   ]
  },
  {
   "cell_type": "code",
   "execution_count": 51,
   "metadata": {},
   "outputs": [],
   "source": [
    "na_rating = actual_data.groupby('rating',as_index=False)['na_sales'].sum()\n",
    "eu_rating = actual_data.groupby('rating',as_index=False)['eu_sales'].sum()\n",
    "jp_rating = actual_data.groupby('rating',as_index=False)['jp_sales'].sum()"
   ]
  },
  {
   "cell_type": "code",
   "execution_count": 52,
   "metadata": {},
   "outputs": [
    {
     "data": {
      "image/png": "[encoded data removed]",
      "text/plain": [
       "<Figure size 432x432 with 1 Axes>"
      ]
     },
     "metadata": {},
     "output_type": "display_data"
    },
    {
     "data": {
      "image/png": "[encoded data removed]",
      "text/plain": [
       "<Figure size 432x432 with 1 Axes>"
      ]
     },
     "metadata": {},
     "output_type": "display_data"
    },
    {
     "data": {
      "image/png": "[encoded data removed]",
      "text/plain": [
       "<Figure size 432x432 with 1 Axes>"
      ]
     },
     "metadata": {},
     "output_type": "display_data"
    }
   ],
   "source": [
    "na_rating.plot(kind='pie',y=\"na_sales\", autopct='%1.0f%%', legend=False, labels=na_rating['rating'],\n",
    "               title = \"Влияние ESRB на продажи в Северной Америке\", figsize=(6,6),ylabel='')\n",
    "eu_rating.plot(kind='pie',y=\"eu_sales\", autopct='%1.0f%%', legend=False, labels=eu_rating['rating'],\n",
    "               title = \"Влияние ESRB на продажи в Европе\", figsize=(6,6),ylabel='')\n",
    "jp_rating.plot(kind='pie',y=\"jp_sales\", autopct='%1.0f%%', legend=False, labels=jp_rating['rating'],\n",
    "               title = \"Влияние ESRB на продажи в Японии\", figsize=(6,6),ylabel='');"
   ]
  },
  {
   "cell_type": "markdown",
   "metadata": {},
   "source": [
    "**Вывод** Доля рейтингов у Европы и Северной Америки мало различаются. На первом месте рейтинг «M» — «Для взрослых». Сюда входит все, что запрещено младшей аудитории (насилие, кровь, секс и так далее). Соответствует популярным жанрам Action Shooter. В Японии около 60% игр вообще не имеют рейтинга поскольку ESRB не является обязательным и принадлежит Америке."
   ]
  },
  {
   "cell_type": "markdown",
   "metadata": {},
   "source": [
    "## 5. Проверка гипотез"
   ]
  },
  {
   "cell_type": "markdown",
   "metadata": {},
   "source": [
    "**Средние пользовательские рейтинги платформ Xbox One и PC одинаковые**\n"
   ]
  },
  {
   "cell_type": "markdown",
   "metadata": {},
   "source": [
    "Осуществим проверку гипотез о равенстве средних двух генеральных совокупностей (двухстороннюю): сначала формулируется нулевая гипотеза H₀ о равенстве, далее формулируется альтернативная гипотеза, опровергающая утверждение H₀."
   ]
  },
  {
   "cell_type": "markdown",
   "metadata": {},
   "source": [
    "Сформулируем гипотезы:\n",
    "\n",
    "Нулевая гипотеза H₀: средние пользовательские рейтинги платформ Xbox One и PC не различаются\n",
    "Альтернативная гипотеза H₁: средние пользовательские рейтинги платформ Xbox One и PC различаются"
   ]
  },
  {
   "cell_type": "code",
   "execution_count": 53,
   "metadata": {},
   "outputs": [],
   "source": [
    "# две выборки данных\n",
    "xone = actual_data.query('platform == \"XOne\" and user_score > 0')\n",
    "pc = actual_data.query('platform == \"PC\" and user_score > 0')"
   ]
  },
  {
   "cell_type": "code",
   "execution_count": 54,
   "metadata": {},
   "outputs": [
    {
     "name": "stdout",
     "output_type": "stream",
     "text": [
      "6.521428571428572\n",
      "6.2696774193548395\n"
     ]
    }
   ],
   "source": [
    "# средние рейтинги\n",
    "print(xone['user_score'].mean())\n",
    "print(pc['user_score'].mean())"
   ]
  },
  {
   "cell_type": "code",
   "execution_count": 55,
   "metadata": {},
   "outputs": [
    {
     "name": "stdout",
     "output_type": "stream",
     "text": [
      "p-значение:  0.14759594013430463\n",
      "Не получилось отвергнуть нулевую гипотезу\n"
     ]
    }
   ],
   "source": [
    "# проверим гипотезу\n",
    "alpha = .05\n",
    "\n",
    "results = st.ttest_ind(xone['user_score'], pc['user_score'], equal_var = False)\n",
    "\n",
    "print('p-значение: ', results.pvalue)\n",
    "\n",
    "if results.pvalue < alpha:\n",
    "    print(\"Отвергаем нулевую гипотезу\")\n",
    "else:\n",
    "    print(\"Не получилось отвергнуть нулевую гипотезу\") "
   ]
  },
  {
   "cell_type": "markdown",
   "metadata": {},
   "source": [
    "**Средние пользовательские рейтинги жанров Action и Sports разные**\n"
   ]
  },
  {
   "cell_type": "markdown",
   "metadata": {},
   "source": [
    "Сформулируем гипотезы:\n",
    "\n",
    "Нулевая гипотеза H₀: Средние пользовательские рейтинги жанров Action и Sports не различаются\n",
    "Альтернативная гипотеза H₁: Средние пользовательские рейтинги жанров Action и Sports различаются"
   ]
  },
  {
   "cell_type": "code",
   "execution_count": 56,
   "metadata": {},
   "outputs": [],
   "source": [
    "# две выборки данных\n",
    "action = actual_data.query('genre == \"Action\" and user_score > 0')\n",
    "sports = actual_data.query('genre == \"Sports\" and user_score > 0')"
   ]
  },
  {
   "cell_type": "code",
   "execution_count": 57,
   "metadata": {},
   "outputs": [
    {
     "name": "stdout",
     "output_type": "stream",
     "text": [
      "6.837532133676092\n",
      "5.238124999999999\n"
     ]
    }
   ],
   "source": [
    "# средние рейтинги\n",
    "print(action['user_score'].mean())\n",
    "print(sports['user_score'].mean())"
   ]
  },
  {
   "cell_type": "code",
   "execution_count": 58,
   "metadata": {},
   "outputs": [
    {
     "name": "stdout",
     "output_type": "stream",
     "text": [
      "p-значение:  1.4460039700704315e-20\n",
      "Отвергаем нулевую гипотезу\n"
     ]
    }
   ],
   "source": [
    "alpha = .05\n",
    "\n",
    "results = st.ttest_ind(action['user_score'], sports['user_score'], equal_var = False)\n",
    "\n",
    "print('p-значение: ', results.pvalue)\n",
    "\n",
    "if results.pvalue < alpha:\n",
    "    print(\"Отвергаем нулевую гипотезу\")\n",
    "else:\n",
    "    print(\"Не получилось отвергнуть нулевую гипотезу\") "
   ]
  },
  {
   "cell_type": "markdown",
   "metadata": {},
   "source": [
    "**Вывод**\n",
    "\n",
    "- \"Средние пользовательские рейтинги платформ Xbox One и PC одинаковые\" - С высокой вероятностью пользовательские оценки для платформ будут одинаковыми.\n",
    "- \"Средние пользовательские рейтинги жанров Action и Sports разные\" - С высокой вероятностью мы получим разные оценки для жанров."
   ]
  },
  {
   "cell_type": "markdown",
   "metadata": {},
   "source": [
    "## 6. Общий вывод"
   ]
  },
  {
   "cell_type": "markdown",
   "metadata": {},
   "source": [
    "В качестве общего summary обозначим некоторые промежуточные выводы. \n",
    "\n",
    "Для исследования предоставлены данные по выпуску и продаже игр за период 1980 - 2016 годы. Пики выпуска новых игр и продаж приходится на 2008-2009 годы.  Далее мы видим снижение и выпуска и продаж. Возможно, связано с появлением и развитием игр для смартфонов.\n",
    "\n",
    "Самыми продаваемыми игровыми платформами за все время являются PS и Xbox. В свое время лидером был Nintendo. Разработчики своевременно производят новые платформы, заменяя старые. \n",
    "\n",
    "На всем изучаемом периоде количество игровых платформ менялось. Средняя продолжительность жизни игровой платформы 8 лет. Последний пик роста количества игровых платформ приходится на 2013 год , затем идет снижение. \n",
    "\n",
    "Для большинства платформ справедливо утверждение: на продажи игр в небольшой степени влияют оценки критиков и не влияют оценки игроков.\n",
    "\n",
    "При планировании продаж на 2017 год, необходимо ориентироваться на игровые платформы PS4 и XOne.\n",
    "\n",
    "В Америке и Европе следует обращать внимание на игры в жанрах Action или Shooter. В Японии - RPg. Влияние на итоговые продажи могутоказать оценки критиков. Оценки игроков таким влиянием не обладают.\n",
    "\n",
    "В целом можно сказать, что по аналогии с 2016 годом можно ожидать 2 -кратное падение продаж.\n",
    "\n",
    "Доля рейтингов у Европы и Северной Америки мало различаются. На первом месте рейтинг «M» — «Для взрослых». В Японии - свой рейтинг, не представленный в датасете.\n",
    "\n",
    "Наиболее прибыльный жанр - Shooter (по медианным продажам). Аутсайдер - Стратегия."
   ]
  },
  {
   "cell_type": "markdown",
   "metadata": {},
   "source": [
    "<a id='result-1'></a>"
   ]
  }
 ],
 "metadata": {
  "ExecuteTimeLog": [
   {
    "duration": 1421,
    "start_time": "2022-11-16T09:13:56.122Z"
   },
   {
    "duration": 223,
    "start_time": "2022-11-16T09:18:31.219Z"
   },
   {
    "duration": 15,
    "start_time": "2022-11-16T09:34:54.087Z"
   },
   {
    "duration": 30,
    "start_time": "2022-11-16T09:57:52.331Z"
   },
   {
    "duration": 15,
    "start_time": "2022-11-16T09:59:34.734Z"
   },
   {
    "duration": 10,
    "start_time": "2022-11-16T09:59:59.681Z"
   },
   {
    "duration": 23,
    "start_time": "2022-11-16T10:05:37.653Z"
   },
   {
    "duration": 25,
    "start_time": "2022-11-16T10:05:47.931Z"
   },
   {
    "duration": 3,
    "start_time": "2022-11-16T10:27:15.728Z"
   },
   {
    "duration": 24,
    "start_time": "2022-11-16T10:28:38.048Z"
   },
   {
    "duration": 101,
    "start_time": "2022-11-16T10:54:44.018Z"
   },
   {
    "duration": 18,
    "start_time": "2022-11-16T11:20:49.222Z"
   },
   {
    "duration": 57,
    "start_time": "2022-11-16T11:23:07.706Z"
   },
   {
    "duration": 15,
    "start_time": "2022-11-16T11:23:23.844Z"
   },
   {
    "duration": 8,
    "start_time": "2022-11-16T11:36:32.269Z"
   },
   {
    "duration": 9,
    "start_time": "2022-11-16T11:37:42.621Z"
   },
   {
    "duration": 4,
    "start_time": "2022-11-16T11:40:10.860Z"
   },
   {
    "duration": 1369,
    "start_time": "2022-11-16T13:24:29.912Z"
   },
   {
    "duration": 217,
    "start_time": "2022-11-16T13:24:31.283Z"
   },
   {
    "duration": 21,
    "start_time": "2022-11-16T13:24:31.502Z"
   },
   {
    "duration": 16,
    "start_time": "2022-11-16T13:24:31.525Z"
   },
   {
    "duration": 32,
    "start_time": "2022-11-16T13:24:31.543Z"
   },
   {
    "duration": 16,
    "start_time": "2022-11-16T13:24:31.577Z"
   },
   {
    "duration": 46,
    "start_time": "2022-11-16T13:24:31.595Z"
   },
   {
    "duration": 38,
    "start_time": "2022-11-16T13:24:31.643Z"
   },
   {
    "duration": 22,
    "start_time": "2022-11-16T13:24:31.683Z"
   },
   {
    "duration": 4,
    "start_time": "2022-11-16T13:24:35.532Z"
   },
   {
    "duration": 5,
    "start_time": "2022-11-16T14:35:36.131Z"
   },
   {
    "duration": 6,
    "start_time": "2022-11-16T14:35:57.138Z"
   },
   {
    "duration": 5,
    "start_time": "2022-11-16T14:36:28.849Z"
   },
   {
    "duration": 6,
    "start_time": "2022-11-16T14:36:30.905Z"
   },
   {
    "duration": 5,
    "start_time": "2022-11-16T14:36:31.493Z"
   },
   {
    "duration": 8,
    "start_time": "2022-11-16T14:54:06.630Z"
   },
   {
    "duration": 6,
    "start_time": "2022-11-16T14:54:22.286Z"
   },
   {
    "duration": 4,
    "start_time": "2022-11-16T14:54:33.936Z"
   },
   {
    "duration": 5,
    "start_time": "2022-11-16T15:08:07.235Z"
   },
   {
    "duration": 6,
    "start_time": "2022-11-16T15:16:36.780Z"
   },
   {
    "duration": 104,
    "start_time": "2022-11-16T15:23:42.381Z"
   },
   {
    "duration": 13,
    "start_time": "2022-11-16T15:23:56.082Z"
   },
   {
    "duration": 9,
    "start_time": "2022-11-16T15:24:38.815Z"
   },
   {
    "duration": 4,
    "start_time": "2022-11-16T15:26:39.804Z"
   },
   {
    "duration": 6,
    "start_time": "2022-11-16T15:33:20.920Z"
   },
   {
    "duration": 19,
    "start_time": "2022-11-16T15:33:38.078Z"
   },
   {
    "duration": 7,
    "start_time": "2022-11-16T15:46:53.788Z"
   },
   {
    "duration": 9,
    "start_time": "2022-11-16T15:46:58.482Z"
   },
   {
    "duration": 26,
    "start_time": "2022-11-16T15:51:20.776Z"
   },
   {
    "duration": 14,
    "start_time": "2022-11-16T15:52:12.512Z"
   },
   {
    "duration": 13,
    "start_time": "2022-11-16T15:52:27.351Z"
   },
   {
    "duration": 318,
    "start_time": "2022-11-16T17:38:08.934Z"
   },
   {
    "duration": 305,
    "start_time": "2022-11-16T17:38:26.167Z"
   },
   {
    "duration": 304,
    "start_time": "2022-11-16T17:39:03.630Z"
   },
   {
    "duration": 1910,
    "start_time": "2022-11-17T04:27:34.896Z"
   },
   {
    "duration": 119,
    "start_time": "2022-11-17T04:27:36.809Z"
   },
   {
    "duration": 26,
    "start_time": "2022-11-17T04:27:36.930Z"
   },
   {
    "duration": 17,
    "start_time": "2022-11-17T04:27:36.959Z"
   },
   {
    "duration": 35,
    "start_time": "2022-11-17T04:27:36.978Z"
   },
   {
    "duration": 5,
    "start_time": "2022-11-17T04:27:37.016Z"
   },
   {
    "duration": 38,
    "start_time": "2022-11-17T04:27:37.023Z"
   },
   {
    "duration": 22,
    "start_time": "2022-11-17T04:27:37.063Z"
   },
   {
    "duration": 12,
    "start_time": "2022-11-17T04:27:37.087Z"
   },
   {
    "duration": 9,
    "start_time": "2022-11-17T04:27:37.102Z"
   },
   {
    "duration": 20,
    "start_time": "2022-11-17T04:27:37.113Z"
   },
   {
    "duration": 10,
    "start_time": "2022-11-17T04:27:37.135Z"
   },
   {
    "duration": 11,
    "start_time": "2022-11-17T04:27:37.147Z"
   },
   {
    "duration": 10,
    "start_time": "2022-11-17T04:27:37.160Z"
   },
   {
    "duration": 10,
    "start_time": "2022-11-17T04:27:37.172Z"
   },
   {
    "duration": 16,
    "start_time": "2022-11-17T04:27:37.184Z"
   },
   {
    "duration": 11,
    "start_time": "2022-11-17T04:27:37.202Z"
   },
   {
    "duration": 47,
    "start_time": "2022-11-17T04:27:37.214Z"
   },
   {
    "duration": 27,
    "start_time": "2022-11-17T04:27:37.264Z"
   },
   {
    "duration": 584,
    "start_time": "2022-11-17T04:27:37.294Z"
   },
   {
    "duration": 111,
    "start_time": "2022-11-17T04:29:51.404Z"
   },
   {
    "duration": 17,
    "start_time": "2022-11-17T04:30:02.153Z"
   },
   {
    "duration": 8,
    "start_time": "2022-11-17T04:30:08.303Z"
   },
   {
    "duration": 7,
    "start_time": "2022-11-17T04:30:18.827Z"
   },
   {
    "duration": 8,
    "start_time": "2022-11-17T04:30:37.010Z"
   },
   {
    "duration": 9,
    "start_time": "2022-11-17T04:32:56.237Z"
   },
   {
    "duration": 306,
    "start_time": "2022-11-17T04:34:50.023Z"
   },
   {
    "duration": 6,
    "start_time": "2022-11-17T04:35:41.894Z"
   },
   {
    "duration": 182,
    "start_time": "2022-11-17T04:35:45.805Z"
   },
   {
    "duration": 172,
    "start_time": "2022-11-17T04:40:43.645Z"
   },
   {
    "duration": 166,
    "start_time": "2022-11-17T04:40:55.440Z"
   },
   {
    "duration": 46,
    "start_time": "2022-11-19T08:22:48.384Z"
   },
   {
    "duration": 6,
    "start_time": "2022-11-19T08:22:57.290Z"
   },
   {
    "duration": 1298,
    "start_time": "2022-11-19T08:22:59.610Z"
   },
   {
    "duration": 106,
    "start_time": "2022-11-19T08:23:00.910Z"
   },
   {
    "duration": 14,
    "start_time": "2022-11-19T08:23:01.017Z"
   },
   {
    "duration": 18,
    "start_time": "2022-11-19T08:23:01.033Z"
   },
   {
    "duration": 45,
    "start_time": "2022-11-19T08:23:01.053Z"
   },
   {
    "duration": 23,
    "start_time": "2022-11-19T08:23:01.100Z"
   },
   {
    "duration": 37,
    "start_time": "2022-11-19T08:23:01.124Z"
   },
   {
    "duration": 41,
    "start_time": "2022-11-19T08:23:01.163Z"
   },
   {
    "duration": 28,
    "start_time": "2022-11-19T08:23:01.206Z"
   },
   {
    "duration": 16,
    "start_time": "2022-11-19T08:23:01.235Z"
   },
   {
    "duration": 20,
    "start_time": "2022-11-19T08:23:01.253Z"
   },
   {
    "duration": 15,
    "start_time": "2022-11-19T08:23:01.275Z"
   },
   {
    "duration": 10,
    "start_time": "2022-11-19T08:23:01.292Z"
   },
   {
    "duration": 10,
    "start_time": "2022-11-19T08:23:01.304Z"
   },
   {
    "duration": 17,
    "start_time": "2022-11-19T08:23:01.316Z"
   },
   {
    "duration": 23,
    "start_time": "2022-11-19T08:23:01.335Z"
   },
   {
    "duration": 10,
    "start_time": "2022-11-19T08:23:01.360Z"
   },
   {
    "duration": 22,
    "start_time": "2022-11-19T08:23:01.372Z"
   },
   {
    "duration": 20,
    "start_time": "2022-11-19T08:23:01.396Z"
   },
   {
    "duration": 328,
    "start_time": "2022-11-19T08:23:01.417Z"
   },
   {
    "duration": 6,
    "start_time": "2022-11-19T08:23:01.747Z"
   },
   {
    "duration": 165,
    "start_time": "2022-11-19T08:23:01.754Z"
   },
   {
    "duration": 64,
    "start_time": "2022-11-19T08:23:01.921Z"
   },
   {
    "duration": 18,
    "start_time": "2022-11-19T08:23:19.752Z"
   },
   {
    "duration": 9,
    "start_time": "2022-11-19T08:29:58.700Z"
   },
   {
    "duration": 35,
    "start_time": "2022-11-19T08:30:04.657Z"
   },
   {
    "duration": 17,
    "start_time": "2022-11-19T08:30:13.119Z"
   },
   {
    "duration": 12,
    "start_time": "2022-11-19T08:44:52.705Z"
   },
   {
    "duration": 14,
    "start_time": "2022-11-19T08:45:00.082Z"
   },
   {
    "duration": 238,
    "start_time": "2022-11-19T08:45:01.906Z"
   },
   {
    "duration": 155,
    "start_time": "2022-11-19T08:49:50.953Z"
   },
   {
    "duration": 52,
    "start_time": "2022-11-19T08:50:08.040Z"
   },
   {
    "duration": 317,
    "start_time": "2022-11-19T08:50:11.809Z"
   },
   {
    "duration": 190,
    "start_time": "2022-11-19T08:52:25.880Z"
   },
   {
    "duration": 263,
    "start_time": "2022-11-19T08:53:06.862Z"
   },
   {
    "duration": 161,
    "start_time": "2022-11-19T08:53:48.020Z"
   },
   {
    "duration": 172,
    "start_time": "2022-11-19T08:53:58.352Z"
   },
   {
    "duration": 205,
    "start_time": "2022-11-19T08:54:04.853Z"
   },
   {
    "duration": 9,
    "start_time": "2022-11-19T09:21:19.058Z"
   },
   {
    "duration": 48,
    "start_time": "2022-11-19T09:24:21.121Z"
   },
   {
    "duration": 8,
    "start_time": "2022-11-19T09:24:36.866Z"
   },
   {
    "duration": 86,
    "start_time": "2022-11-19T09:24:37.463Z"
   },
   {
    "duration": 103,
    "start_time": "2022-11-19T09:24:45.709Z"
   },
   {
    "duration": 5,
    "start_time": "2022-11-19T09:26:22.220Z"
   },
   {
    "duration": 7,
    "start_time": "2022-11-19T09:33:01.181Z"
   },
   {
    "duration": 52,
    "start_time": "2022-11-19T09:37:05.383Z"
   },
   {
    "duration": 16,
    "start_time": "2022-11-19T10:40:00.934Z"
   },
   {
    "duration": 23,
    "start_time": "2022-11-19T10:47:32.981Z"
   },
   {
    "duration": 1343,
    "start_time": "2022-11-19T15:35:43.341Z"
   },
   {
    "duration": 143,
    "start_time": "2022-11-19T15:35:44.686Z"
   },
   {
    "duration": 23,
    "start_time": "2022-11-19T15:35:44.832Z"
   },
   {
    "duration": 26,
    "start_time": "2022-11-19T15:35:44.857Z"
   },
   {
    "duration": 19,
    "start_time": "2022-11-19T15:35:44.886Z"
   },
   {
    "duration": 15,
    "start_time": "2022-11-19T15:35:44.907Z"
   },
   {
    "duration": 21,
    "start_time": "2022-11-19T15:35:44.925Z"
   },
   {
    "duration": 28,
    "start_time": "2022-11-19T15:35:44.948Z"
   },
   {
    "duration": 15,
    "start_time": "2022-11-19T15:35:44.979Z"
   },
   {
    "duration": 16,
    "start_time": "2022-11-19T15:35:44.996Z"
   },
   {
    "duration": 24,
    "start_time": "2022-11-19T15:35:45.013Z"
   },
   {
    "duration": 23,
    "start_time": "2022-11-19T15:35:45.038Z"
   },
   {
    "duration": 11,
    "start_time": "2022-11-19T15:35:45.063Z"
   },
   {
    "duration": 12,
    "start_time": "2022-11-19T15:35:45.077Z"
   },
   {
    "duration": 17,
    "start_time": "2022-11-19T15:35:45.091Z"
   },
   {
    "duration": 15,
    "start_time": "2022-11-19T15:35:45.110Z"
   },
   {
    "duration": 12,
    "start_time": "2022-11-19T15:35:45.127Z"
   },
   {
    "duration": 23,
    "start_time": "2022-11-19T15:35:45.141Z"
   },
   {
    "duration": 16,
    "start_time": "2022-11-19T15:35:45.165Z"
   },
   {
    "duration": 371,
    "start_time": "2022-11-19T15:35:45.183Z"
   },
   {
    "duration": 7,
    "start_time": "2022-11-19T15:35:45.557Z"
   },
   {
    "duration": 203,
    "start_time": "2022-11-19T15:35:45.575Z"
   },
   {
    "duration": 13,
    "start_time": "2022-11-19T15:35:45.780Z"
   },
   {
    "duration": 21,
    "start_time": "2022-11-19T15:35:45.795Z"
   },
   {
    "duration": 251,
    "start_time": "2022-11-19T15:35:45.818Z"
   },
   {
    "duration": 7,
    "start_time": "2022-11-19T15:35:46.071Z"
   },
   {
    "duration": 99,
    "start_time": "2022-11-19T15:35:46.080Z"
   },
   {
    "duration": 5,
    "start_time": "2022-11-19T15:35:46.180Z"
   },
   {
    "duration": 17,
    "start_time": "2022-11-19T15:35:46.186Z"
   },
   {
    "duration": 7,
    "start_time": "2022-11-19T15:35:46.204Z"
   },
   {
    "duration": 28,
    "start_time": "2022-11-19T15:35:46.213Z"
   },
   {
    "duration": 1305,
    "start_time": "2022-11-19T19:14:30.100Z"
   },
   {
    "duration": 109,
    "start_time": "2022-11-19T19:14:31.407Z"
   },
   {
    "duration": 15,
    "start_time": "2022-11-19T19:14:31.517Z"
   },
   {
    "duration": 10,
    "start_time": "2022-11-19T19:14:31.533Z"
   },
   {
    "duration": 14,
    "start_time": "2022-11-19T19:14:31.546Z"
   },
   {
    "duration": 2,
    "start_time": "2022-11-19T19:14:31.562Z"
   },
   {
    "duration": 14,
    "start_time": "2022-11-19T19:14:31.567Z"
   },
   {
    "duration": 33,
    "start_time": "2022-11-19T19:14:31.583Z"
   },
   {
    "duration": 6,
    "start_time": "2022-11-19T19:14:31.617Z"
   },
   {
    "duration": 4,
    "start_time": "2022-11-19T19:14:31.624Z"
   },
   {
    "duration": 5,
    "start_time": "2022-11-19T19:14:31.630Z"
   },
   {
    "duration": 4,
    "start_time": "2022-11-19T19:14:31.637Z"
   },
   {
    "duration": 6,
    "start_time": "2022-11-19T19:14:31.643Z"
   },
   {
    "duration": 7,
    "start_time": "2022-11-19T19:14:31.652Z"
   },
   {
    "duration": 6,
    "start_time": "2022-11-19T19:14:31.660Z"
   },
   {
    "duration": 10,
    "start_time": "2022-11-19T19:14:31.667Z"
   },
   {
    "duration": 40,
    "start_time": "2022-11-19T19:14:31.678Z"
   },
   {
    "duration": 17,
    "start_time": "2022-11-19T19:14:31.720Z"
   },
   {
    "duration": 15,
    "start_time": "2022-11-19T19:14:31.738Z"
   },
   {
    "duration": 346,
    "start_time": "2022-11-19T19:14:31.755Z"
   },
   {
    "duration": 10,
    "start_time": "2022-11-19T19:14:32.103Z"
   },
   {
    "duration": 184,
    "start_time": "2022-11-19T19:14:32.115Z"
   },
   {
    "duration": 19,
    "start_time": "2022-11-19T19:14:32.300Z"
   },
   {
    "duration": 13,
    "start_time": "2022-11-19T19:14:32.321Z"
   },
   {
    "duration": 248,
    "start_time": "2022-11-19T19:14:32.335Z"
   },
   {
    "duration": 9,
    "start_time": "2022-11-19T19:14:32.585Z"
   },
   {
    "duration": 97,
    "start_time": "2022-11-19T19:14:32.595Z"
   },
   {
    "duration": 5,
    "start_time": "2022-11-19T19:14:32.693Z"
   },
   {
    "duration": 16,
    "start_time": "2022-11-19T19:14:32.700Z"
   },
   {
    "duration": 7,
    "start_time": "2022-11-19T19:14:32.717Z"
   },
   {
    "duration": 25,
    "start_time": "2022-11-19T19:14:32.725Z"
   },
   {
    "duration": 47,
    "start_time": "2022-11-19T21:21:52.992Z"
   },
   {
    "duration": 1354,
    "start_time": "2022-11-19T21:21:59.586Z"
   },
   {
    "duration": 198,
    "start_time": "2022-11-19T21:22:00.942Z"
   },
   {
    "duration": 16,
    "start_time": "2022-11-19T21:22:01.142Z"
   },
   {
    "duration": 19,
    "start_time": "2022-11-19T21:22:01.160Z"
   },
   {
    "duration": 27,
    "start_time": "2022-11-19T21:22:01.181Z"
   },
   {
    "duration": 10,
    "start_time": "2022-11-19T21:22:01.209Z"
   },
   {
    "duration": 29,
    "start_time": "2022-11-19T21:22:01.221Z"
   },
   {
    "duration": 39,
    "start_time": "2022-11-19T21:22:01.252Z"
   },
   {
    "duration": 63,
    "start_time": "2022-11-19T21:22:01.293Z"
   },
   {
    "duration": 31,
    "start_time": "2022-11-19T21:22:01.357Z"
   },
   {
    "duration": 23,
    "start_time": "2022-11-19T21:22:01.389Z"
   },
   {
    "duration": 178,
    "start_time": "2022-11-19T21:22:01.414Z"
   },
   {
    "duration": 360,
    "start_time": "2022-11-19T21:22:01.594Z"
   },
   {
    "duration": 11,
    "start_time": "2022-11-19T21:22:01.957Z"
   },
   {
    "duration": 10,
    "start_time": "2022-11-19T21:22:01.970Z"
   },
   {
    "duration": 21,
    "start_time": "2022-11-19T21:22:01.982Z"
   },
   {
    "duration": 28,
    "start_time": "2022-11-19T21:22:02.005Z"
   },
   {
    "duration": 36,
    "start_time": "2022-11-19T21:22:02.035Z"
   },
   {
    "duration": 21,
    "start_time": "2022-11-19T21:22:02.073Z"
   },
   {
    "duration": 360,
    "start_time": "2022-11-19T21:22:02.096Z"
   },
   {
    "duration": 6,
    "start_time": "2022-11-19T21:22:02.457Z"
   },
   {
    "duration": 192,
    "start_time": "2022-11-19T21:22:02.464Z"
   },
   {
    "duration": 14,
    "start_time": "2022-11-19T21:22:02.658Z"
   },
   {
    "duration": 14,
    "start_time": "2022-11-19T21:22:02.674Z"
   },
   {
    "duration": 271,
    "start_time": "2022-11-19T21:22:02.689Z"
   },
   {
    "duration": 9,
    "start_time": "2022-11-19T21:22:02.962Z"
   },
   {
    "duration": 193,
    "start_time": "2022-11-19T21:22:02.972Z"
   },
   {
    "duration": 6,
    "start_time": "2022-11-19T21:22:03.167Z"
   },
   {
    "duration": 13,
    "start_time": "2022-11-19T21:22:03.175Z"
   },
   {
    "duration": 7,
    "start_time": "2022-11-19T21:22:03.190Z"
   },
   {
    "duration": 43,
    "start_time": "2022-11-19T21:22:03.199Z"
   },
   {
    "duration": 253,
    "start_time": "2022-11-19T21:24:06.982Z"
   },
   {
    "duration": 10,
    "start_time": "2022-11-19T21:34:34.765Z"
   },
   {
    "duration": 64,
    "start_time": "2022-11-19T21:43:01.508Z"
   },
   {
    "duration": 74,
    "start_time": "2022-11-19T21:43:49.385Z"
   },
   {
    "duration": 8,
    "start_time": "2022-11-19T21:44:21.124Z"
   },
   {
    "duration": 14,
    "start_time": "2022-11-19T21:46:45.536Z"
   },
   {
    "duration": 9,
    "start_time": "2022-11-19T21:47:12.776Z"
   },
   {
    "duration": 13,
    "start_time": "2022-11-19T21:47:31.280Z"
   },
   {
    "duration": 8,
    "start_time": "2022-11-19T21:50:30.239Z"
   },
   {
    "duration": 9,
    "start_time": "2022-11-19T21:53:07.665Z"
   },
   {
    "duration": 1275,
    "start_time": "2022-11-20T08:15:58.869Z"
   },
   {
    "duration": 198,
    "start_time": "2022-11-20T08:16:00.147Z"
   },
   {
    "duration": 14,
    "start_time": "2022-11-20T08:16:00.347Z"
   },
   {
    "duration": 50,
    "start_time": "2022-11-20T08:16:00.363Z"
   },
   {
    "duration": 21,
    "start_time": "2022-11-20T08:16:00.415Z"
   },
   {
    "duration": 22,
    "start_time": "2022-11-20T08:16:00.438Z"
   },
   {
    "duration": 61,
    "start_time": "2022-11-20T08:16:00.462Z"
   },
   {
    "duration": 35,
    "start_time": "2022-11-20T08:16:00.524Z"
   },
   {
    "duration": 19,
    "start_time": "2022-11-20T08:16:00.561Z"
   },
   {
    "duration": 14,
    "start_time": "2022-11-20T08:16:00.582Z"
   },
   {
    "duration": 15,
    "start_time": "2022-11-20T08:16:00.597Z"
   },
   {
    "duration": 23,
    "start_time": "2022-11-20T08:16:00.613Z"
   },
   {
    "duration": 29,
    "start_time": "2022-11-20T08:16:00.638Z"
   },
   {
    "duration": 38,
    "start_time": "2022-11-20T08:16:00.671Z"
   },
   {
    "duration": 21,
    "start_time": "2022-11-20T08:16:00.711Z"
   },
   {
    "duration": 48,
    "start_time": "2022-11-20T08:16:00.733Z"
   },
   {
    "duration": 19,
    "start_time": "2022-11-20T08:16:00.783Z"
   },
   {
    "duration": 27,
    "start_time": "2022-11-20T08:16:00.804Z"
   },
   {
    "duration": 40,
    "start_time": "2022-11-20T08:16:00.833Z"
   },
   {
    "duration": 333,
    "start_time": "2022-11-20T08:16:00.875Z"
   },
   {
    "duration": 12,
    "start_time": "2022-11-20T08:16:01.210Z"
   },
   {
    "duration": 198,
    "start_time": "2022-11-20T08:16:01.223Z"
   },
   {
    "duration": 14,
    "start_time": "2022-11-20T08:16:01.423Z"
   },
   {
    "duration": 14,
    "start_time": "2022-11-20T08:16:01.438Z"
   },
   {
    "duration": 298,
    "start_time": "2022-11-20T08:16:01.454Z"
   },
   {
    "duration": 8,
    "start_time": "2022-11-20T08:16:01.754Z"
   },
   {
    "duration": 130,
    "start_time": "2022-11-20T08:16:01.764Z"
   },
   {
    "duration": 4,
    "start_time": "2022-11-20T08:16:01.896Z"
   },
   {
    "duration": 26,
    "start_time": "2022-11-20T08:16:01.902Z"
   },
   {
    "duration": 26,
    "start_time": "2022-11-20T08:16:01.930Z"
   },
   {
    "duration": 35,
    "start_time": "2022-11-20T08:16:01.958Z"
   },
   {
    "duration": 226,
    "start_time": "2022-11-20T08:16:01.996Z"
   },
   {
    "duration": 12,
    "start_time": "2022-11-20T08:16:02.224Z"
   },
   {
    "duration": 102,
    "start_time": "2022-11-20T08:32:35.263Z"
   },
   {
    "duration": 14,
    "start_time": "2022-11-20T08:33:02.579Z"
   },
   {
    "duration": 15,
    "start_time": "2022-11-20T08:33:17.452Z"
   },
   {
    "duration": 549,
    "start_time": "2022-11-20T08:33:39.452Z"
   },
   {
    "duration": 9,
    "start_time": "2022-11-20T09:28:22.834Z"
   },
   {
    "duration": 5,
    "start_time": "2022-11-20T09:28:38.240Z"
   },
   {
    "duration": 10,
    "start_time": "2022-11-20T09:28:43.851Z"
   },
   {
    "duration": 18,
    "start_time": "2022-11-20T09:31:16.396Z"
   },
   {
    "duration": 144,
    "start_time": "2022-11-20T09:35:25.784Z"
   },
   {
    "duration": 226,
    "start_time": "2022-11-20T09:35:34.179Z"
   },
   {
    "duration": 1516,
    "start_time": "2022-11-20T09:36:05.488Z"
   },
   {
    "duration": 1359,
    "start_time": "2022-11-20T09:36:11.711Z"
   },
   {
    "duration": 148,
    "start_time": "2022-11-20T09:36:23.797Z"
   },
   {
    "duration": 130,
    "start_time": "2022-11-20T09:36:29.125Z"
   },
   {
    "duration": 149,
    "start_time": "2022-11-20T09:37:40.100Z"
   },
   {
    "duration": 49,
    "start_time": "2022-11-20T11:53:46.479Z"
   },
   {
    "duration": 1250,
    "start_time": "2022-11-20T11:53:51.399Z"
   },
   {
    "duration": 193,
    "start_time": "2022-11-20T11:53:52.651Z"
   },
   {
    "duration": 13,
    "start_time": "2022-11-20T11:53:52.846Z"
   },
   {
    "duration": 9,
    "start_time": "2022-11-20T11:53:52.861Z"
   },
   {
    "duration": 15,
    "start_time": "2022-11-20T11:53:52.871Z"
   },
   {
    "duration": 3,
    "start_time": "2022-11-20T11:53:52.887Z"
   },
   {
    "duration": 49,
    "start_time": "2022-11-20T11:53:52.892Z"
   },
   {
    "duration": 8,
    "start_time": "2022-11-20T11:53:52.943Z"
   },
   {
    "duration": 5,
    "start_time": "2022-11-20T11:53:52.953Z"
   },
   {
    "duration": 11,
    "start_time": "2022-11-20T11:53:52.962Z"
   },
   {
    "duration": 9,
    "start_time": "2022-11-20T11:53:52.974Z"
   },
   {
    "duration": 5,
    "start_time": "2022-11-20T11:53:52.984Z"
   },
   {
    "duration": 5,
    "start_time": "2022-11-20T11:53:52.991Z"
   },
   {
    "duration": 40,
    "start_time": "2022-11-20T11:53:52.998Z"
   },
   {
    "duration": 5,
    "start_time": "2022-11-20T11:53:53.040Z"
   },
   {
    "duration": 12,
    "start_time": "2022-11-20T11:53:53.046Z"
   },
   {
    "duration": 10,
    "start_time": "2022-11-20T11:53:53.060Z"
   },
   {
    "duration": 17,
    "start_time": "2022-11-20T11:53:53.071Z"
   },
   {
    "duration": 16,
    "start_time": "2022-11-20T11:53:53.089Z"
   },
   {
    "duration": 366,
    "start_time": "2022-11-20T11:53:53.107Z"
   },
   {
    "duration": 5,
    "start_time": "2022-11-20T11:53:53.475Z"
   },
   {
    "duration": 199,
    "start_time": "2022-11-20T11:53:53.481Z"
   },
   {
    "duration": 14,
    "start_time": "2022-11-20T11:53:53.681Z"
   },
   {
    "duration": 26,
    "start_time": "2022-11-20T11:53:53.697Z"
   },
   {
    "duration": 274,
    "start_time": "2022-11-20T11:53:53.724Z"
   },
   {
    "duration": 9,
    "start_time": "2022-11-20T11:53:53.999Z"
   },
   {
    "duration": 104,
    "start_time": "2022-11-20T11:53:54.010Z"
   },
   {
    "duration": 5,
    "start_time": "2022-11-20T11:53:54.117Z"
   },
   {
    "duration": 20,
    "start_time": "2022-11-20T11:53:54.123Z"
   },
   {
    "duration": 13,
    "start_time": "2022-11-20T11:53:54.146Z"
   },
   {
    "duration": 26,
    "start_time": "2022-11-20T11:53:54.161Z"
   },
   {
    "duration": 259,
    "start_time": "2022-11-20T11:53:54.189Z"
   },
   {
    "duration": 11,
    "start_time": "2022-11-20T11:53:54.450Z"
   },
   {
    "duration": 533,
    "start_time": "2022-11-20T11:53:54.463Z"
   },
   {
    "duration": 17,
    "start_time": "2022-11-20T11:53:54.997Z"
   },
   {
    "duration": 180,
    "start_time": "2022-11-20T11:54:08.559Z"
   },
   {
    "duration": 18,
    "start_time": "2022-11-20T12:03:38.122Z"
   },
   {
    "duration": 223,
    "start_time": "2022-11-20T12:04:57.375Z"
   },
   {
    "duration": 63,
    "start_time": "2022-11-20T12:29:15.495Z"
   },
   {
    "duration": 5,
    "start_time": "2022-11-20T12:29:25.990Z"
   },
   {
    "duration": 5,
    "start_time": "2022-11-20T12:29:54.575Z"
   },
   {
    "duration": 76,
    "start_time": "2022-11-20T13:41:17.931Z"
   },
   {
    "duration": 82,
    "start_time": "2022-11-20T13:41:43.200Z"
   },
   {
    "duration": 12,
    "start_time": "2022-11-20T14:59:32.781Z"
   },
   {
    "duration": 15,
    "start_time": "2022-11-20T14:59:44.002Z"
   },
   {
    "duration": 237,
    "start_time": "2022-11-20T15:00:40.327Z"
   },
   {
    "duration": 186,
    "start_time": "2022-11-20T15:02:34.461Z"
   },
   {
    "duration": 1761,
    "start_time": "2022-11-20T18:11:53.938Z"
   },
   {
    "duration": 251,
    "start_time": "2022-11-20T18:11:55.702Z"
   },
   {
    "duration": 24,
    "start_time": "2022-11-20T18:11:55.955Z"
   },
   {
    "duration": 14,
    "start_time": "2022-11-20T18:11:55.982Z"
   },
   {
    "duration": 46,
    "start_time": "2022-11-20T18:11:55.998Z"
   },
   {
    "duration": 4,
    "start_time": "2022-11-20T18:11:56.046Z"
   },
   {
    "duration": 21,
    "start_time": "2022-11-20T18:11:56.052Z"
   },
   {
    "duration": 15,
    "start_time": "2022-11-20T18:11:56.075Z"
   },
   {
    "duration": 8,
    "start_time": "2022-11-20T18:11:56.092Z"
   },
   {
    "duration": 38,
    "start_time": "2022-11-20T18:11:56.103Z"
   },
   {
    "duration": 8,
    "start_time": "2022-11-20T18:11:56.144Z"
   },
   {
    "duration": 14,
    "start_time": "2022-11-20T18:11:56.155Z"
   },
   {
    "duration": 11,
    "start_time": "2022-11-20T18:11:56.172Z"
   },
   {
    "duration": 11,
    "start_time": "2022-11-20T18:11:56.185Z"
   },
   {
    "duration": 39,
    "start_time": "2022-11-20T18:11:56.199Z"
   },
   {
    "duration": 18,
    "start_time": "2022-11-20T18:11:56.240Z"
   },
   {
    "duration": 16,
    "start_time": "2022-11-20T18:11:56.261Z"
   },
   {
    "duration": 26,
    "start_time": "2022-11-20T18:11:56.280Z"
   },
   {
    "duration": 52,
    "start_time": "2022-11-20T18:11:56.309Z"
   },
   {
    "duration": 513,
    "start_time": "2022-11-20T18:11:56.364Z"
   },
   {
    "duration": 8,
    "start_time": "2022-11-20T18:11:56.879Z"
   },
   {
    "duration": 298,
    "start_time": "2022-11-20T18:11:56.889Z"
   },
   {
    "duration": 23,
    "start_time": "2022-11-20T18:11:57.189Z"
   },
   {
    "duration": 41,
    "start_time": "2022-11-20T18:11:57.214Z"
   },
   {
    "duration": 416,
    "start_time": "2022-11-20T18:11:57.258Z"
   },
   {
    "duration": 13,
    "start_time": "2022-11-20T18:11:57.677Z"
   },
   {
    "duration": 169,
    "start_time": "2022-11-20T18:11:57.692Z"
   },
   {
    "duration": 15,
    "start_time": "2022-11-20T18:11:57.867Z"
   },
   {
    "duration": 14,
    "start_time": "2022-11-20T18:11:57.884Z"
   },
   {
    "duration": 16,
    "start_time": "2022-11-20T18:11:57.900Z"
   },
   {
    "duration": 54,
    "start_time": "2022-11-20T18:11:57.919Z"
   },
   {
    "duration": 406,
    "start_time": "2022-11-20T18:11:57.976Z"
   },
   {
    "duration": 14,
    "start_time": "2022-11-20T18:11:58.385Z"
   },
   {
    "duration": 649,
    "start_time": "2022-11-20T18:11:58.401Z"
   },
   {
    "duration": 24,
    "start_time": "2022-11-20T18:11:59.052Z"
   },
   {
    "duration": 33,
    "start_time": "2022-11-20T18:11:59.078Z"
   },
   {
    "duration": 250,
    "start_time": "2022-11-20T18:11:59.113Z"
   },
   {
    "duration": 369,
    "start_time": "2022-11-20T18:11:59.366Z"
   },
   {
    "duration": 7,
    "start_time": "2022-11-20T18:11:59.738Z"
   },
   {
    "duration": 7,
    "start_time": "2022-11-20T18:11:59.747Z"
   },
   {
    "duration": 145,
    "start_time": "2022-11-20T18:11:59.756Z"
   },
   {
    "duration": 35,
    "start_time": "2022-11-20T18:11:59.903Z"
   },
   {
    "duration": 310,
    "start_time": "2022-11-20T18:11:59.941Z"
   },
   {
    "duration": 516,
    "start_time": "2022-11-20T19:18:21.063Z"
   },
   {
    "duration": 589,
    "start_time": "2022-11-20T19:25:25.924Z"
   },
   {
    "duration": 159,
    "start_time": "2022-11-20T19:30:18.668Z"
   },
   {
    "duration": 111,
    "start_time": "2022-11-20T19:32:29.964Z"
   },
   {
    "duration": 20,
    "start_time": "2022-11-20T19:32:53.265Z"
   },
   {
    "duration": 25,
    "start_time": "2022-11-20T19:33:15.336Z"
   },
   {
    "duration": 15,
    "start_time": "2022-11-20T19:56:57.603Z"
   },
   {
    "duration": 559,
    "start_time": "2022-11-20T20:00:11.730Z"
   },
   {
    "duration": 638,
    "start_time": "2022-11-20T20:00:24.226Z"
   },
   {
    "duration": 11,
    "start_time": "2022-11-20T20:18:25.251Z"
   },
   {
    "duration": 309,
    "start_time": "2022-11-20T20:19:21.219Z"
   },
   {
    "duration": 341,
    "start_time": "2022-11-20T20:19:44.472Z"
   },
   {
    "duration": 71,
    "start_time": "2022-11-20T20:34:14.902Z"
   },
   {
    "duration": 8,
    "start_time": "2022-11-20T20:34:16.958Z"
   },
   {
    "duration": 71,
    "start_time": "2022-11-20T20:34:18.434Z"
   },
   {
    "duration": 6,
    "start_time": "2022-11-20T20:34:23.726Z"
   },
   {
    "duration": 6,
    "start_time": "2022-11-20T20:43:04.758Z"
   },
   {
    "duration": 6,
    "start_time": "2022-11-20T20:43:35.483Z"
   },
   {
    "duration": 9,
    "start_time": "2022-11-20T20:50:43.962Z"
   },
   {
    "duration": 8,
    "start_time": "2022-11-20T20:51:00.549Z"
   },
   {
    "duration": 4,
    "start_time": "2022-11-20T20:51:03.020Z"
   },
   {
    "duration": 7,
    "start_time": "2022-11-20T20:51:18.955Z"
   },
   {
    "duration": 1048,
    "start_time": "2022-11-21T11:17:06.378Z"
   },
   {
    "duration": 67,
    "start_time": "2022-11-21T11:17:07.427Z"
   },
   {
    "duration": 18,
    "start_time": "2022-11-21T11:17:07.496Z"
   },
   {
    "duration": 9,
    "start_time": "2022-11-21T11:17:07.516Z"
   },
   {
    "duration": 14,
    "start_time": "2022-11-21T11:17:07.527Z"
   },
   {
    "duration": 13,
    "start_time": "2022-11-21T11:17:07.542Z"
   },
   {
    "duration": 18,
    "start_time": "2022-11-21T11:17:07.556Z"
   },
   {
    "duration": 9,
    "start_time": "2022-11-21T11:17:07.575Z"
   },
   {
    "duration": 6,
    "start_time": "2022-11-21T11:17:07.585Z"
   },
   {
    "duration": 31,
    "start_time": "2022-11-21T11:17:07.594Z"
   },
   {
    "duration": 9,
    "start_time": "2022-11-21T11:17:07.627Z"
   },
   {
    "duration": 7,
    "start_time": "2022-11-21T11:17:07.637Z"
   },
   {
    "duration": 6,
    "start_time": "2022-11-21T11:17:07.645Z"
   },
   {
    "duration": 7,
    "start_time": "2022-11-21T11:17:07.652Z"
   },
   {
    "duration": 4,
    "start_time": "2022-11-21T11:17:07.661Z"
   },
   {
    "duration": 22,
    "start_time": "2022-11-21T11:17:07.666Z"
   },
   {
    "duration": 7,
    "start_time": "2022-11-21T11:17:07.689Z"
   },
   {
    "duration": 28,
    "start_time": "2022-11-21T11:17:07.698Z"
   },
   {
    "duration": 15,
    "start_time": "2022-11-21T11:17:07.728Z"
   },
   {
    "duration": 342,
    "start_time": "2022-11-21T11:17:07.744Z"
   },
   {
    "duration": 6,
    "start_time": "2022-11-21T11:17:08.087Z"
   },
   {
    "duration": 175,
    "start_time": "2022-11-21T11:17:08.094Z"
   },
   {
    "duration": 13,
    "start_time": "2022-11-21T11:17:08.270Z"
   },
   {
    "duration": 13,
    "start_time": "2022-11-21T11:17:08.284Z"
   },
   {
    "duration": 210,
    "start_time": "2022-11-21T11:17:08.313Z"
   },
   {
    "duration": 7,
    "start_time": "2022-11-21T11:17:08.525Z"
   },
   {
    "duration": 107,
    "start_time": "2022-11-21T11:17:08.534Z"
   },
   {
    "duration": 5,
    "start_time": "2022-11-21T11:17:08.644Z"
   },
   {
    "duration": 8,
    "start_time": "2022-11-21T11:17:08.650Z"
   },
   {
    "duration": 7,
    "start_time": "2022-11-21T11:17:08.659Z"
   },
   {
    "duration": 23,
    "start_time": "2022-11-21T11:17:08.667Z"
   },
   {
    "duration": 232,
    "start_time": "2022-11-21T11:17:08.691Z"
   },
   {
    "duration": 10,
    "start_time": "2022-11-21T11:17:08.925Z"
   },
   {
    "duration": 406,
    "start_time": "2022-11-21T11:17:08.937Z"
   },
   {
    "duration": 18,
    "start_time": "2022-11-21T11:17:09.345Z"
   },
   {
    "duration": 25,
    "start_time": "2022-11-21T11:17:09.365Z"
   },
   {
    "duration": 146,
    "start_time": "2022-11-21T11:17:09.392Z"
   },
   {
    "duration": 220,
    "start_time": "2022-11-21T11:17:09.540Z"
   },
   {
    "duration": 5,
    "start_time": "2022-11-21T11:17:09.762Z"
   },
   {
    "duration": 6,
    "start_time": "2022-11-21T11:17:09.769Z"
   },
   {
    "duration": 90,
    "start_time": "2022-11-21T11:17:09.777Z"
   },
   {
    "duration": 13,
    "start_time": "2022-11-21T11:17:09.868Z"
   },
   {
    "duration": 185,
    "start_time": "2022-11-21T11:17:09.882Z"
   },
   {
    "duration": 496,
    "start_time": "2022-11-21T11:17:10.069Z"
   },
   {
    "duration": 18,
    "start_time": "2022-11-21T11:17:10.567Z"
   },
   {
    "duration": 28,
    "start_time": "2022-11-21T11:17:10.586Z"
   },
   {
    "duration": 85,
    "start_time": "2022-11-21T11:17:10.615Z"
   },
   {
    "duration": 0,
    "start_time": "2022-11-21T11:17:10.701Z"
   },
   {
    "duration": 0,
    "start_time": "2022-11-21T11:17:10.703Z"
   },
   {
    "duration": 0,
    "start_time": "2022-11-21T11:17:10.704Z"
   },
   {
    "duration": 0,
    "start_time": "2022-11-21T11:17:10.705Z"
   },
   {
    "duration": 0,
    "start_time": "2022-11-21T11:17:10.706Z"
   },
   {
    "duration": 0,
    "start_time": "2022-11-21T11:17:10.708Z"
   },
   {
    "duration": 0,
    "start_time": "2022-11-21T11:17:10.709Z"
   },
   {
    "duration": 0,
    "start_time": "2022-11-21T11:17:10.710Z"
   },
   {
    "duration": 1029,
    "start_time": "2022-11-21T11:29:43.176Z"
   },
   {
    "duration": 65,
    "start_time": "2022-11-21T11:29:44.207Z"
   },
   {
    "duration": 13,
    "start_time": "2022-11-21T11:29:44.274Z"
   },
   {
    "duration": 8,
    "start_time": "2022-11-21T11:29:44.288Z"
   },
   {
    "duration": 14,
    "start_time": "2022-11-21T11:29:44.297Z"
   },
   {
    "duration": 3,
    "start_time": "2022-11-21T11:29:44.313Z"
   },
   {
    "duration": 14,
    "start_time": "2022-11-21T11:29:44.318Z"
   },
   {
    "duration": 8,
    "start_time": "2022-11-21T11:29:44.333Z"
   },
   {
    "duration": 5,
    "start_time": "2022-11-21T11:29:44.343Z"
   },
   {
    "duration": 6,
    "start_time": "2022-11-21T11:29:44.350Z"
   },
   {
    "duration": 7,
    "start_time": "2022-11-21T11:29:44.357Z"
   },
   {
    "duration": 6,
    "start_time": "2022-11-21T11:29:44.365Z"
   },
   {
    "duration": 5,
    "start_time": "2022-11-21T11:29:44.373Z"
   },
   {
    "duration": 37,
    "start_time": "2022-11-21T11:29:44.380Z"
   },
   {
    "duration": 3,
    "start_time": "2022-11-21T11:29:44.419Z"
   },
   {
    "duration": 10,
    "start_time": "2022-11-21T11:29:44.424Z"
   },
   {
    "duration": 7,
    "start_time": "2022-11-21T11:29:44.435Z"
   },
   {
    "duration": 15,
    "start_time": "2022-11-21T11:29:44.444Z"
   },
   {
    "duration": 20,
    "start_time": "2022-11-21T11:29:44.460Z"
   },
   {
    "duration": 393,
    "start_time": "2022-11-21T11:29:44.481Z"
   },
   {
    "duration": 5,
    "start_time": "2022-11-21T11:29:44.876Z"
   },
   {
    "duration": 174,
    "start_time": "2022-11-21T11:29:44.882Z"
   },
   {
    "duration": 14,
    "start_time": "2022-11-21T11:29:45.057Z"
   },
   {
    "duration": 13,
    "start_time": "2022-11-21T11:29:45.073Z"
   },
   {
    "duration": 216,
    "start_time": "2022-11-21T11:29:45.087Z"
   },
   {
    "duration": 12,
    "start_time": "2022-11-21T11:29:45.305Z"
   },
   {
    "duration": 111,
    "start_time": "2022-11-21T11:29:45.318Z"
   },
   {
    "duration": 4,
    "start_time": "2022-11-21T11:29:45.432Z"
   },
   {
    "duration": 8,
    "start_time": "2022-11-21T11:29:45.437Z"
   },
   {
    "duration": 8,
    "start_time": "2022-11-21T11:29:45.446Z"
   },
   {
    "duration": 23,
    "start_time": "2022-11-21T11:29:45.456Z"
   },
   {
    "duration": 235,
    "start_time": "2022-11-21T11:29:45.481Z"
   },
   {
    "duration": 9,
    "start_time": "2022-11-21T11:29:45.717Z"
   },
   {
    "duration": 400,
    "start_time": "2022-11-21T11:29:45.727Z"
   },
   {
    "duration": 16,
    "start_time": "2022-11-21T11:29:46.129Z"
   },
   {
    "duration": 18,
    "start_time": "2022-11-21T11:29:46.146Z"
   },
   {
    "duration": 154,
    "start_time": "2022-11-21T11:29:46.165Z"
   },
   {
    "duration": 217,
    "start_time": "2022-11-21T11:29:46.321Z"
   },
   {
    "duration": 5,
    "start_time": "2022-11-21T11:29:46.540Z"
   },
   {
    "duration": 7,
    "start_time": "2022-11-21T11:29:46.546Z"
   },
   {
    "duration": 84,
    "start_time": "2022-11-21T11:29:46.555Z"
   },
   {
    "duration": 11,
    "start_time": "2022-11-21T11:29:46.641Z"
   },
   {
    "duration": 182,
    "start_time": "2022-11-21T11:29:46.654Z"
   },
   {
    "duration": 462,
    "start_time": "2022-11-21T11:29:46.837Z"
   },
   {
    "duration": 22,
    "start_time": "2022-11-21T11:29:47.300Z"
   },
   {
    "duration": 12,
    "start_time": "2022-11-21T11:29:47.323Z"
   },
   {
    "duration": 74,
    "start_time": "2022-11-21T11:29:47.336Z"
   },
   {
    "duration": 0,
    "start_time": "2022-11-21T11:29:47.411Z"
   },
   {
    "duration": 0,
    "start_time": "2022-11-21T11:29:47.412Z"
   },
   {
    "duration": 0,
    "start_time": "2022-11-21T11:29:47.413Z"
   },
   {
    "duration": 0,
    "start_time": "2022-11-21T11:29:47.415Z"
   },
   {
    "duration": 0,
    "start_time": "2022-11-21T11:29:47.416Z"
   },
   {
    "duration": 0,
    "start_time": "2022-11-21T11:29:47.416Z"
   },
   {
    "duration": 0,
    "start_time": "2022-11-21T11:29:47.417Z"
   },
   {
    "duration": 0,
    "start_time": "2022-11-21T11:29:47.418Z"
   },
   {
    "duration": 73,
    "start_time": "2022-11-21T18:46:11.454Z"
   },
   {
    "duration": 12,
    "start_time": "2022-11-21T18:49:55.520Z"
   },
   {
    "duration": 1773,
    "start_time": "2022-11-21T18:50:02.189Z"
   },
   {
    "duration": 142,
    "start_time": "2022-11-21T18:50:03.967Z"
   },
   {
    "duration": 18,
    "start_time": "2022-11-21T18:50:04.111Z"
   },
   {
    "duration": 12,
    "start_time": "2022-11-21T18:50:04.132Z"
   },
   {
    "duration": 36,
    "start_time": "2022-11-21T18:50:04.147Z"
   },
   {
    "duration": 32,
    "start_time": "2022-11-21T18:50:04.185Z"
   },
   {
    "duration": 27,
    "start_time": "2022-11-21T18:50:04.220Z"
   },
   {
    "duration": 48,
    "start_time": "2022-11-21T18:50:04.249Z"
   },
   {
    "duration": 34,
    "start_time": "2022-11-21T18:50:04.299Z"
   },
   {
    "duration": 41,
    "start_time": "2022-11-21T18:50:04.336Z"
   },
   {
    "duration": 52,
    "start_time": "2022-11-21T18:50:04.380Z"
   },
   {
    "duration": 39,
    "start_time": "2022-11-21T18:50:04.433Z"
   },
   {
    "duration": 16,
    "start_time": "2022-11-21T18:50:04.474Z"
   },
   {
    "duration": 29,
    "start_time": "2022-11-21T18:50:04.494Z"
   },
   {
    "duration": 9,
    "start_time": "2022-11-21T18:50:04.525Z"
   },
   {
    "duration": 19,
    "start_time": "2022-11-21T18:50:04.537Z"
   },
   {
    "duration": 38,
    "start_time": "2022-11-21T18:50:04.558Z"
   },
   {
    "duration": 42,
    "start_time": "2022-11-21T18:50:04.598Z"
   },
   {
    "duration": 20,
    "start_time": "2022-11-21T18:50:04.642Z"
   },
   {
    "duration": 412,
    "start_time": "2022-11-21T18:50:04.663Z"
   },
   {
    "duration": 7,
    "start_time": "2022-11-21T18:50:05.078Z"
   },
   {
    "duration": 267,
    "start_time": "2022-11-21T18:50:05.088Z"
   },
   {
    "duration": 24,
    "start_time": "2022-11-21T18:50:05.358Z"
   },
   {
    "duration": 27,
    "start_time": "2022-11-21T18:50:05.383Z"
   },
   {
    "duration": 305,
    "start_time": "2022-11-21T18:50:05.414Z"
   },
   {
    "duration": 10,
    "start_time": "2022-11-21T18:50:05.720Z"
   },
   {
    "duration": 154,
    "start_time": "2022-11-21T18:50:05.732Z"
   },
   {
    "duration": 5,
    "start_time": "2022-11-21T18:50:05.888Z"
   },
   {
    "duration": 42,
    "start_time": "2022-11-21T18:50:05.894Z"
   },
   {
    "duration": 19,
    "start_time": "2022-11-21T18:50:05.938Z"
   },
   {
    "duration": 51,
    "start_time": "2022-11-21T18:50:05.958Z"
   },
   {
    "duration": 320,
    "start_time": "2022-11-21T18:50:06.012Z"
   },
   {
    "duration": 399,
    "start_time": "2022-11-21T18:50:29.301Z"
   },
   {
    "duration": 215,
    "start_time": "2022-11-21T18:57:26.610Z"
   },
   {
    "duration": 45,
    "start_time": "2022-11-21T19:15:48.869Z"
   },
   {
    "duration": 11,
    "start_time": "2022-11-21T19:24:30.931Z"
   },
   {
    "duration": 3,
    "start_time": "2022-11-21T19:24:34.374Z"
   },
   {
    "duration": 79,
    "start_time": "2022-11-21T19:24:34.380Z"
   },
   {
    "duration": 19,
    "start_time": "2022-11-21T19:24:34.461Z"
   },
   {
    "duration": 16,
    "start_time": "2022-11-21T19:24:34.482Z"
   },
   {
    "duration": 16,
    "start_time": "2022-11-21T19:24:34.500Z"
   },
   {
    "duration": 4,
    "start_time": "2022-11-21T19:24:34.517Z"
   },
   {
    "duration": 23,
    "start_time": "2022-11-21T19:24:34.523Z"
   },
   {
    "duration": 43,
    "start_time": "2022-11-21T19:24:34.548Z"
   },
   {
    "duration": 26,
    "start_time": "2022-11-21T19:24:34.595Z"
   },
   {
    "duration": 6,
    "start_time": "2022-11-21T19:24:34.623Z"
   },
   {
    "duration": 7,
    "start_time": "2022-11-21T19:24:34.631Z"
   },
   {
    "duration": 12,
    "start_time": "2022-11-21T19:24:34.640Z"
   },
   {
    "duration": 14,
    "start_time": "2022-11-21T19:24:34.654Z"
   },
   {
    "duration": 12,
    "start_time": "2022-11-21T19:24:34.681Z"
   },
   {
    "duration": 8,
    "start_time": "2022-11-21T19:24:34.695Z"
   },
   {
    "duration": 35,
    "start_time": "2022-11-21T19:24:34.706Z"
   },
   {
    "duration": 23,
    "start_time": "2022-11-21T19:24:34.743Z"
   },
   {
    "duration": 25,
    "start_time": "2022-11-21T19:24:34.769Z"
   },
   {
    "duration": 36,
    "start_time": "2022-11-21T19:24:34.797Z"
   },
   {
    "duration": 449,
    "start_time": "2022-11-21T19:24:34.834Z"
   },
   {
    "duration": 11,
    "start_time": "2022-11-21T19:24:35.284Z"
   },
   {
    "duration": 213,
    "start_time": "2022-11-21T19:24:35.298Z"
   },
   {
    "duration": 16,
    "start_time": "2022-11-21T19:24:35.513Z"
   },
   {
    "duration": 16,
    "start_time": "2022-11-21T19:24:35.531Z"
   },
   {
    "duration": 268,
    "start_time": "2022-11-21T19:24:35.549Z"
   },
   {
    "duration": 13,
    "start_time": "2022-11-21T19:24:35.820Z"
   },
   {
    "duration": 168,
    "start_time": "2022-11-21T19:24:35.835Z"
   },
   {
    "duration": 5,
    "start_time": "2022-11-21T19:24:36.005Z"
   },
   {
    "duration": 14,
    "start_time": "2022-11-21T19:24:36.011Z"
   },
   {
    "duration": 9,
    "start_time": "2022-11-21T19:24:36.027Z"
   },
   {
    "duration": 67,
    "start_time": "2022-11-21T19:24:36.038Z"
   },
   {
    "duration": 293,
    "start_time": "2022-11-21T19:24:36.107Z"
   },
   {
    "duration": 10,
    "start_time": "2022-11-21T19:24:36.402Z"
   },
   {
    "duration": 550,
    "start_time": "2022-11-21T19:24:36.413Z"
   },
   {
    "duration": 33,
    "start_time": "2022-11-21T19:24:36.965Z"
   },
   {
    "duration": 18,
    "start_time": "2022-11-21T19:24:37.000Z"
   },
   {
    "duration": 189,
    "start_time": "2022-11-21T19:24:37.020Z"
   },
   {
    "duration": 186,
    "start_time": "2022-11-21T19:24:37.211Z"
   },
   {
    "duration": 6,
    "start_time": "2022-11-21T19:24:37.399Z"
   },
   {
    "duration": 9,
    "start_time": "2022-11-21T19:24:37.408Z"
   },
   {
    "duration": 109,
    "start_time": "2022-11-21T19:24:37.422Z"
   },
   {
    "duration": 15,
    "start_time": "2022-11-21T19:24:37.532Z"
   },
   {
    "duration": 223,
    "start_time": "2022-11-21T19:24:37.549Z"
   },
   {
    "duration": 657,
    "start_time": "2022-11-21T19:24:37.774Z"
   },
   {
    "duration": 23,
    "start_time": "2022-11-21T19:24:38.434Z"
   },
   {
    "duration": 38,
    "start_time": "2022-11-21T19:24:38.459Z"
   },
   {
    "duration": 90,
    "start_time": "2022-11-21T19:24:38.500Z"
   },
   {
    "duration": 0,
    "start_time": "2022-11-21T19:24:38.592Z"
   },
   {
    "duration": 0,
    "start_time": "2022-11-21T19:24:38.593Z"
   },
   {
    "duration": 0,
    "start_time": "2022-11-21T19:24:38.594Z"
   },
   {
    "duration": 0,
    "start_time": "2022-11-21T19:24:38.595Z"
   },
   {
    "duration": 0,
    "start_time": "2022-11-21T19:24:38.596Z"
   },
   {
    "duration": 0,
    "start_time": "2022-11-21T19:24:38.597Z"
   },
   {
    "duration": 0,
    "start_time": "2022-11-21T19:24:38.598Z"
   },
   {
    "duration": 0,
    "start_time": "2022-11-21T19:24:38.599Z"
   },
   {
    "duration": 57,
    "start_time": "2022-11-21T19:26:42.860Z"
   },
   {
    "duration": 78,
    "start_time": "2022-11-21T19:27:15.990Z"
   },
   {
    "duration": 50,
    "start_time": "2022-11-21T21:54:25.295Z"
   },
   {
    "duration": 1205,
    "start_time": "2022-11-21T21:54:31.662Z"
   },
   {
    "duration": 105,
    "start_time": "2022-11-21T21:54:32.869Z"
   },
   {
    "duration": 13,
    "start_time": "2022-11-21T21:54:32.975Z"
   },
   {
    "duration": 8,
    "start_time": "2022-11-21T21:54:32.989Z"
   },
   {
    "duration": 18,
    "start_time": "2022-11-21T21:54:32.999Z"
   },
   {
    "duration": 3,
    "start_time": "2022-11-21T21:54:33.019Z"
   },
   {
    "duration": 16,
    "start_time": "2022-11-21T21:54:33.023Z"
   },
   {
    "duration": 9,
    "start_time": "2022-11-21T21:54:33.040Z"
   },
   {
    "duration": 9,
    "start_time": "2022-11-21T21:54:33.050Z"
   },
   {
    "duration": 8,
    "start_time": "2022-11-21T21:54:33.061Z"
   },
   {
    "duration": 15,
    "start_time": "2022-11-21T21:54:33.071Z"
   },
   {
    "duration": 13,
    "start_time": "2022-11-21T21:54:33.087Z"
   },
   {
    "duration": 18,
    "start_time": "2022-11-21T21:54:33.101Z"
   },
   {
    "duration": 19,
    "start_time": "2022-11-21T21:54:33.121Z"
   },
   {
    "duration": 18,
    "start_time": "2022-11-21T21:54:33.141Z"
   },
   {
    "duration": 13,
    "start_time": "2022-11-21T21:54:33.160Z"
   },
   {
    "duration": 8,
    "start_time": "2022-11-21T21:54:33.175Z"
   },
   {
    "duration": 14,
    "start_time": "2022-11-21T21:54:33.184Z"
   },
   {
    "duration": 13,
    "start_time": "2022-11-21T21:54:33.200Z"
   },
   {
    "duration": 297,
    "start_time": "2022-11-21T21:54:33.214Z"
   },
   {
    "duration": 5,
    "start_time": "2022-11-21T21:54:33.513Z"
   },
   {
    "duration": 164,
    "start_time": "2022-11-21T21:54:33.519Z"
   },
   {
    "duration": 21,
    "start_time": "2022-11-21T21:54:33.685Z"
   },
   {
    "duration": 12,
    "start_time": "2022-11-21T21:54:33.707Z"
   },
   {
    "duration": 219,
    "start_time": "2022-11-21T21:54:33.721Z"
   },
   {
    "duration": 9,
    "start_time": "2022-11-21T21:54:33.942Z"
   },
   {
    "duration": 89,
    "start_time": "2022-11-21T21:54:33.953Z"
   },
   {
    "duration": 4,
    "start_time": "2022-11-21T21:54:34.045Z"
   },
   {
    "duration": 9,
    "start_time": "2022-11-21T21:54:34.051Z"
   },
   {
    "duration": 7,
    "start_time": "2022-11-21T21:54:34.061Z"
   },
   {
    "duration": 38,
    "start_time": "2022-11-21T21:54:34.069Z"
   },
   {
    "duration": 213,
    "start_time": "2022-11-21T21:54:34.108Z"
   },
   {
    "duration": 281,
    "start_time": "2022-11-21T21:54:34.322Z"
   },
   {
    "duration": 11,
    "start_time": "2022-11-21T21:54:34.606Z"
   },
   {
    "duration": 581,
    "start_time": "2022-11-21T21:54:34.618Z"
   },
   {
    "duration": 15,
    "start_time": "2022-11-21T21:54:35.201Z"
   },
   {
    "duration": 16,
    "start_time": "2022-11-21T21:54:35.218Z"
   },
   {
    "duration": 152,
    "start_time": "2022-11-21T21:54:35.236Z"
   },
   {
    "duration": 140,
    "start_time": "2022-11-21T21:54:35.389Z"
   },
   {
    "duration": 4,
    "start_time": "2022-11-21T21:54:35.530Z"
   },
   {
    "duration": 8,
    "start_time": "2022-11-21T21:54:35.535Z"
   },
   {
    "duration": 86,
    "start_time": "2022-11-21T21:54:35.544Z"
   },
   {
    "duration": 14,
    "start_time": "2022-11-21T21:54:35.631Z"
   },
   {
    "duration": 179,
    "start_time": "2022-11-21T21:54:35.646Z"
   },
   {
    "duration": 433,
    "start_time": "2022-11-21T21:54:35.827Z"
   },
   {
    "duration": 18,
    "start_time": "2022-11-21T21:54:36.261Z"
   },
   {
    "duration": 24,
    "start_time": "2022-11-21T21:54:36.281Z"
   },
   {
    "duration": 50,
    "start_time": "2022-11-21T21:54:36.306Z"
   },
   {
    "duration": 0,
    "start_time": "2022-11-21T21:54:36.357Z"
   },
   {
    "duration": 0,
    "start_time": "2022-11-21T21:54:36.358Z"
   },
   {
    "duration": 0,
    "start_time": "2022-11-21T21:54:36.359Z"
   },
   {
    "duration": 0,
    "start_time": "2022-11-21T21:54:36.360Z"
   },
   {
    "duration": 0,
    "start_time": "2022-11-21T21:54:36.362Z"
   },
   {
    "duration": 0,
    "start_time": "2022-11-21T21:54:36.363Z"
   },
   {
    "duration": 0,
    "start_time": "2022-11-21T21:54:36.364Z"
   },
   {
    "duration": 0,
    "start_time": "2022-11-21T21:54:36.365Z"
   },
   {
    "duration": 235,
    "start_time": "2022-11-21T21:55:47.313Z"
   },
   {
    "duration": 1194,
    "start_time": "2022-11-21T22:06:13.947Z"
   },
   {
    "duration": 68,
    "start_time": "2022-11-21T22:06:15.143Z"
   },
   {
    "duration": 15,
    "start_time": "2022-11-21T22:06:15.213Z"
   },
   {
    "duration": 8,
    "start_time": "2022-11-21T22:06:15.231Z"
   },
   {
    "duration": 17,
    "start_time": "2022-11-21T22:06:15.241Z"
   },
   {
    "duration": 5,
    "start_time": "2022-11-21T22:06:15.260Z"
   },
   {
    "duration": 38,
    "start_time": "2022-11-21T22:06:15.266Z"
   },
   {
    "duration": 14,
    "start_time": "2022-11-21T22:06:15.306Z"
   },
   {
    "duration": 7,
    "start_time": "2022-11-21T22:06:15.322Z"
   },
   {
    "duration": 10,
    "start_time": "2022-11-21T22:06:15.331Z"
   },
   {
    "duration": 11,
    "start_time": "2022-11-21T22:06:15.343Z"
   },
   {
    "duration": 5,
    "start_time": "2022-11-21T22:06:15.356Z"
   },
   {
    "duration": 7,
    "start_time": "2022-11-21T22:06:15.363Z"
   },
   {
    "duration": 26,
    "start_time": "2022-11-21T22:06:15.371Z"
   },
   {
    "duration": 5,
    "start_time": "2022-11-21T22:06:15.399Z"
   },
   {
    "duration": 12,
    "start_time": "2022-11-21T22:06:15.406Z"
   },
   {
    "duration": 9,
    "start_time": "2022-11-21T22:06:15.420Z"
   },
   {
    "duration": 18,
    "start_time": "2022-11-21T22:06:15.430Z"
   },
   {
    "duration": 48,
    "start_time": "2022-11-21T22:06:15.450Z"
   },
   {
    "duration": 354,
    "start_time": "2022-11-21T22:06:15.500Z"
   },
   {
    "duration": 5,
    "start_time": "2022-11-21T22:06:15.856Z"
   },
   {
    "duration": 189,
    "start_time": "2022-11-21T22:06:15.863Z"
   },
   {
    "duration": 15,
    "start_time": "2022-11-21T22:06:16.053Z"
   },
   {
    "duration": 30,
    "start_time": "2022-11-21T22:06:16.069Z"
   },
   {
    "duration": 241,
    "start_time": "2022-11-21T22:06:16.101Z"
   },
   {
    "duration": 10,
    "start_time": "2022-11-21T22:06:16.345Z"
   },
   {
    "duration": 98,
    "start_time": "2022-11-21T22:06:16.357Z"
   },
   {
    "duration": 5,
    "start_time": "2022-11-21T22:06:16.458Z"
   },
   {
    "duration": 13,
    "start_time": "2022-11-21T22:06:16.464Z"
   },
   {
    "duration": 10,
    "start_time": "2022-11-21T22:06:16.479Z"
   },
   {
    "duration": 32,
    "start_time": "2022-11-21T22:06:16.491Z"
   },
   {
    "duration": 247,
    "start_time": "2022-11-21T22:06:16.525Z"
   },
   {
    "duration": 9,
    "start_time": "2022-11-21T22:06:16.774Z"
   },
   {
    "duration": 447,
    "start_time": "2022-11-21T22:06:16.784Z"
   },
   {
    "duration": 17,
    "start_time": "2022-11-21T22:06:17.232Z"
   },
   {
    "duration": 18,
    "start_time": "2022-11-21T22:06:17.251Z"
   },
   {
    "duration": 200,
    "start_time": "2022-11-21T22:06:17.270Z"
   },
   {
    "duration": 229,
    "start_time": "2022-11-21T22:06:17.472Z"
   },
   {
    "duration": 5,
    "start_time": "2022-11-21T22:06:17.703Z"
   },
   {
    "duration": 23,
    "start_time": "2022-11-21T22:06:17.710Z"
   },
   {
    "duration": 92,
    "start_time": "2022-11-21T22:06:17.735Z"
   },
   {
    "duration": 15,
    "start_time": "2022-11-21T22:06:17.829Z"
   },
   {
    "duration": 204,
    "start_time": "2022-11-21T22:06:17.845Z"
   },
   {
    "duration": 462,
    "start_time": "2022-11-21T22:06:18.051Z"
   },
   {
    "duration": 18,
    "start_time": "2022-11-21T22:06:18.515Z"
   },
   {
    "duration": 17,
    "start_time": "2022-11-21T22:06:18.535Z"
   },
   {
    "duration": 480,
    "start_time": "2022-11-21T22:06:18.554Z"
   },
   {
    "duration": 11,
    "start_time": "2022-11-21T22:06:19.035Z"
   },
   {
    "duration": 333,
    "start_time": "2022-11-21T22:06:19.048Z"
   },
   {
    "duration": 21,
    "start_time": "2022-11-21T22:06:19.382Z"
   },
   {
    "duration": 3,
    "start_time": "2022-11-21T22:06:19.405Z"
   },
   {
    "duration": 6,
    "start_time": "2022-11-21T22:06:19.410Z"
   },
   {
    "duration": 10,
    "start_time": "2022-11-21T22:06:19.418Z"
   },
   {
    "duration": 5,
    "start_time": "2022-11-21T22:06:19.429Z"
   },
   {
    "duration": 9,
    "start_time": "2022-11-21T22:06:19.435Z"
   },
   {
    "duration": 1048,
    "start_time": "2022-11-21T22:48:46.654Z"
   },
   {
    "duration": 70,
    "start_time": "2022-11-21T22:48:47.704Z"
   },
   {
    "duration": 14,
    "start_time": "2022-11-21T22:48:47.776Z"
   },
   {
    "duration": 9,
    "start_time": "2022-11-21T22:48:47.792Z"
   },
   {
    "duration": 15,
    "start_time": "2022-11-21T22:48:47.803Z"
   },
   {
    "duration": 22,
    "start_time": "2022-11-21T22:48:47.820Z"
   },
   {
    "duration": 17,
    "start_time": "2022-11-21T22:48:47.844Z"
   },
   {
    "duration": 14,
    "start_time": "2022-11-21T22:48:47.863Z"
   },
   {
    "duration": 5,
    "start_time": "2022-11-21T22:48:47.878Z"
   },
   {
    "duration": 7,
    "start_time": "2022-11-21T22:48:47.886Z"
   },
   {
    "duration": 9,
    "start_time": "2022-11-21T22:48:47.894Z"
   },
   {
    "duration": 6,
    "start_time": "2022-11-21T22:48:47.904Z"
   },
   {
    "duration": 7,
    "start_time": "2022-11-21T22:48:47.912Z"
   },
   {
    "duration": 11,
    "start_time": "2022-11-21T22:48:47.920Z"
   },
   {
    "duration": 8,
    "start_time": "2022-11-21T22:48:47.933Z"
   },
   {
    "duration": 13,
    "start_time": "2022-11-21T22:48:47.942Z"
   },
   {
    "duration": 13,
    "start_time": "2022-11-21T22:48:47.956Z"
   },
   {
    "duration": 31,
    "start_time": "2022-11-21T22:48:47.970Z"
   },
   {
    "duration": 15,
    "start_time": "2022-11-21T22:48:48.003Z"
   },
   {
    "duration": 327,
    "start_time": "2022-11-21T22:48:48.019Z"
   },
   {
    "duration": 6,
    "start_time": "2022-11-21T22:48:48.347Z"
   },
   {
    "duration": 183,
    "start_time": "2022-11-21T22:48:48.354Z"
   },
   {
    "duration": 13,
    "start_time": "2022-11-21T22:48:48.539Z"
   },
   {
    "duration": 13,
    "start_time": "2022-11-21T22:48:48.554Z"
   },
   {
    "duration": 266,
    "start_time": "2022-11-21T22:48:48.568Z"
   },
   {
    "duration": 8,
    "start_time": "2022-11-21T22:48:48.836Z"
   },
   {
    "duration": 99,
    "start_time": "2022-11-21T22:48:48.846Z"
   },
   {
    "duration": 4,
    "start_time": "2022-11-21T22:48:48.948Z"
   },
   {
    "duration": 9,
    "start_time": "2022-11-21T22:48:48.953Z"
   },
   {
    "duration": 6,
    "start_time": "2022-11-21T22:48:48.963Z"
   },
   {
    "duration": 38,
    "start_time": "2022-11-21T22:48:48.971Z"
   },
   {
    "duration": 231,
    "start_time": "2022-11-21T22:48:49.011Z"
   },
   {
    "duration": 8,
    "start_time": "2022-11-21T22:48:49.244Z"
   },
   {
    "duration": 428,
    "start_time": "2022-11-21T22:48:49.254Z"
   },
   {
    "duration": 24,
    "start_time": "2022-11-21T22:48:49.684Z"
   },
   {
    "duration": 14,
    "start_time": "2022-11-21T22:48:49.710Z"
   },
   {
    "duration": 151,
    "start_time": "2022-11-21T22:48:49.725Z"
   },
   {
    "duration": 226,
    "start_time": "2022-11-21T22:48:49.877Z"
   },
   {
    "duration": 6,
    "start_time": "2022-11-21T22:48:50.105Z"
   },
   {
    "duration": 7,
    "start_time": "2022-11-21T22:48:50.112Z"
   },
   {
    "duration": 89,
    "start_time": "2022-11-21T22:48:50.121Z"
   },
   {
    "duration": 13,
    "start_time": "2022-11-21T22:48:50.212Z"
   },
   {
    "duration": 188,
    "start_time": "2022-11-21T22:48:50.226Z"
   },
   {
    "duration": 427,
    "start_time": "2022-11-21T22:48:50.415Z"
   },
   {
    "duration": 16,
    "start_time": "2022-11-21T22:48:50.844Z"
   },
   {
    "duration": 15,
    "start_time": "2022-11-21T22:48:50.862Z"
   },
   {
    "duration": 457,
    "start_time": "2022-11-21T22:48:50.878Z"
   },
   {
    "duration": 9,
    "start_time": "2022-11-21T22:48:51.337Z"
   },
   {
    "duration": 277,
    "start_time": "2022-11-21T22:48:51.347Z"
   },
   {
    "duration": 7,
    "start_time": "2022-11-21T22:48:51.626Z"
   },
   {
    "duration": 11,
    "start_time": "2022-11-21T22:48:51.635Z"
   },
   {
    "duration": 6,
    "start_time": "2022-11-21T22:48:51.647Z"
   },
   {
    "duration": 9,
    "start_time": "2022-11-21T22:48:51.655Z"
   },
   {
    "duration": 9,
    "start_time": "2022-11-21T22:48:51.666Z"
   },
   {
    "duration": 7,
    "start_time": "2022-11-21T22:48:51.676Z"
   },
   {
    "duration": 53,
    "start_time": "2022-11-22T03:37:07.309Z"
   },
   {
    "duration": 1449,
    "start_time": "2022-11-22T03:37:12.659Z"
   },
   {
    "duration": 206,
    "start_time": "2022-11-22T03:37:14.110Z"
   },
   {
    "duration": 15,
    "start_time": "2022-11-22T03:37:14.318Z"
   },
   {
    "duration": 22,
    "start_time": "2022-11-22T03:37:14.335Z"
   },
   {
    "duration": 26,
    "start_time": "2022-11-22T03:37:14.360Z"
   },
   {
    "duration": 14,
    "start_time": "2022-11-22T03:37:14.388Z"
   },
   {
    "duration": 18,
    "start_time": "2022-11-22T03:37:14.404Z"
   },
   {
    "duration": 22,
    "start_time": "2022-11-22T03:37:14.424Z"
   },
   {
    "duration": 6,
    "start_time": "2022-11-22T03:37:14.448Z"
   },
   {
    "duration": 20,
    "start_time": "2022-11-22T03:37:14.456Z"
   },
   {
    "duration": 17,
    "start_time": "2022-11-22T03:37:14.478Z"
   },
   {
    "duration": 29,
    "start_time": "2022-11-22T03:37:14.497Z"
   },
   {
    "duration": 26,
    "start_time": "2022-11-22T03:37:14.528Z"
   },
   {
    "duration": 30,
    "start_time": "2022-11-22T03:37:14.557Z"
   },
   {
    "duration": 20,
    "start_time": "2022-11-22T03:37:14.589Z"
   },
   {
    "duration": 20,
    "start_time": "2022-11-22T03:37:14.611Z"
   },
   {
    "duration": 17,
    "start_time": "2022-11-22T03:37:14.633Z"
   },
   {
    "duration": 28,
    "start_time": "2022-11-22T03:37:14.652Z"
   },
   {
    "duration": 27,
    "start_time": "2022-11-22T03:37:14.682Z"
   },
   {
    "duration": 379,
    "start_time": "2022-11-22T03:37:14.710Z"
   },
   {
    "duration": 7,
    "start_time": "2022-11-22T03:37:15.090Z"
   },
   {
    "duration": 220,
    "start_time": "2022-11-22T03:37:15.098Z"
   },
   {
    "duration": 15,
    "start_time": "2022-11-22T03:37:15.320Z"
   },
   {
    "duration": 31,
    "start_time": "2022-11-22T03:37:15.337Z"
   },
   {
    "duration": 271,
    "start_time": "2022-11-22T03:37:15.370Z"
   },
   {
    "duration": 14,
    "start_time": "2022-11-22T03:37:15.643Z"
   },
   {
    "duration": 146,
    "start_time": "2022-11-22T03:37:15.658Z"
   },
   {
    "duration": 5,
    "start_time": "2022-11-22T03:37:15.806Z"
   },
   {
    "duration": 23,
    "start_time": "2022-11-22T03:37:15.813Z"
   },
   {
    "duration": 45,
    "start_time": "2022-11-22T03:37:15.838Z"
   },
   {
    "duration": 60,
    "start_time": "2022-11-22T03:37:15.885Z"
   },
   {
    "duration": 25,
    "start_time": "2022-11-22T03:37:15.948Z"
   },
   {
    "duration": 333,
    "start_time": "2022-11-22T03:37:15.975Z"
   },
   {
    "duration": 10,
    "start_time": "2022-11-22T03:37:16.310Z"
   },
   {
    "duration": 597,
    "start_time": "2022-11-22T03:37:16.322Z"
   },
   {
    "duration": 31,
    "start_time": "2022-11-22T03:37:16.921Z"
   },
   {
    "duration": 56,
    "start_time": "2022-11-22T03:37:16.955Z"
   },
   {
    "duration": 277,
    "start_time": "2022-11-22T03:37:17.013Z"
   },
   {
    "duration": 182,
    "start_time": "2022-11-22T03:37:17.292Z"
   },
   {
    "duration": 5,
    "start_time": "2022-11-22T03:37:17.476Z"
   },
   {
    "duration": 26,
    "start_time": "2022-11-22T03:37:17.485Z"
   },
   {
    "duration": 105,
    "start_time": "2022-11-22T03:37:17.513Z"
   },
   {
    "duration": 17,
    "start_time": "2022-11-22T03:37:17.619Z"
   },
   {
    "duration": 218,
    "start_time": "2022-11-22T03:37:17.651Z"
   },
   {
    "duration": 522,
    "start_time": "2022-11-22T03:37:17.871Z"
   },
   {
    "duration": 18,
    "start_time": "2022-11-22T03:37:18.395Z"
   },
   {
    "duration": 18,
    "start_time": "2022-11-22T03:37:18.414Z"
   },
   {
    "duration": 539,
    "start_time": "2022-11-22T03:37:18.433Z"
   },
   {
    "duration": 11,
    "start_time": "2022-11-22T03:37:18.974Z"
   },
   {
    "duration": 384,
    "start_time": "2022-11-22T03:37:18.987Z"
   },
   {
    "duration": 9,
    "start_time": "2022-11-22T03:37:19.373Z"
   },
   {
    "duration": 8,
    "start_time": "2022-11-22T03:37:19.384Z"
   },
   {
    "duration": 7,
    "start_time": "2022-11-22T03:37:19.394Z"
   },
   {
    "duration": 12,
    "start_time": "2022-11-22T03:37:19.402Z"
   },
   {
    "duration": 7,
    "start_time": "2022-11-22T03:37:19.416Z"
   },
   {
    "duration": 30,
    "start_time": "2022-11-22T03:37:19.425Z"
   },
   {
    "duration": 43,
    "start_time": "2022-11-22T20:07:07.906Z"
   },
   {
    "duration": 1335,
    "start_time": "2022-11-22T20:07:13.901Z"
   },
   {
    "duration": 207,
    "start_time": "2022-11-22T20:07:15.238Z"
   },
   {
    "duration": 13,
    "start_time": "2022-11-22T20:07:15.447Z"
   },
   {
    "duration": 9,
    "start_time": "2022-11-22T20:07:15.462Z"
   },
   {
    "duration": 16,
    "start_time": "2022-11-22T20:07:15.473Z"
   },
   {
    "duration": 3,
    "start_time": "2022-11-22T20:07:15.491Z"
   },
   {
    "duration": 35,
    "start_time": "2022-11-22T20:07:15.495Z"
   },
   {
    "duration": 8,
    "start_time": "2022-11-22T20:07:15.532Z"
   },
   {
    "duration": 6,
    "start_time": "2022-11-22T20:07:15.542Z"
   },
   {
    "duration": 5,
    "start_time": "2022-11-22T20:07:15.551Z"
   },
   {
    "duration": 6,
    "start_time": "2022-11-22T20:07:15.558Z"
   },
   {
    "duration": 6,
    "start_time": "2022-11-22T20:07:15.565Z"
   },
   {
    "duration": 11,
    "start_time": "2022-11-22T20:07:15.573Z"
   },
   {
    "duration": 9,
    "start_time": "2022-11-22T20:07:15.585Z"
   },
   {
    "duration": 31,
    "start_time": "2022-11-22T20:07:15.595Z"
   },
   {
    "duration": 11,
    "start_time": "2022-11-22T20:07:15.628Z"
   },
   {
    "duration": 7,
    "start_time": "2022-11-22T20:07:15.641Z"
   },
   {
    "duration": 21,
    "start_time": "2022-11-22T20:07:15.650Z"
   },
   {
    "duration": 30,
    "start_time": "2022-11-22T20:07:15.672Z"
   },
   {
    "duration": 424,
    "start_time": "2022-11-22T20:07:15.704Z"
   },
   {
    "duration": 6,
    "start_time": "2022-11-22T20:07:16.129Z"
   },
   {
    "duration": 189,
    "start_time": "2022-11-22T20:07:16.137Z"
   },
   {
    "duration": 15,
    "start_time": "2022-11-22T20:07:16.329Z"
   },
   {
    "duration": 15,
    "start_time": "2022-11-22T20:07:16.346Z"
   },
   {
    "duration": 251,
    "start_time": "2022-11-22T20:07:16.362Z"
   },
   {
    "duration": 10,
    "start_time": "2022-11-22T20:07:16.615Z"
   },
   {
    "duration": 103,
    "start_time": "2022-11-22T20:07:16.626Z"
   },
   {
    "duration": 4,
    "start_time": "2022-11-22T20:07:16.734Z"
   },
   {
    "duration": 7,
    "start_time": "2022-11-22T20:07:16.740Z"
   },
   {
    "duration": 6,
    "start_time": "2022-11-22T20:07:16.749Z"
   },
   {
    "duration": 22,
    "start_time": "2022-11-22T20:07:16.757Z"
   },
   {
    "duration": 2,
    "start_time": "2022-11-22T20:07:16.781Z"
   },
   {
    "duration": 304,
    "start_time": "2022-11-22T20:07:16.785Z"
   },
   {
    "duration": 10,
    "start_time": "2022-11-22T20:07:17.090Z"
   },
   {
    "duration": 502,
    "start_time": "2022-11-22T20:07:17.101Z"
   },
   {
    "duration": 23,
    "start_time": "2022-11-22T20:07:17.605Z"
   },
   {
    "duration": 17,
    "start_time": "2022-11-22T20:07:17.630Z"
   },
   {
    "duration": 249,
    "start_time": "2022-11-22T20:07:17.648Z"
   },
   {
    "duration": 157,
    "start_time": "2022-11-22T20:07:17.899Z"
   },
   {
    "duration": 4,
    "start_time": "2022-11-22T20:07:18.058Z"
   },
   {
    "duration": 8,
    "start_time": "2022-11-22T20:07:18.063Z"
   },
   {
    "duration": 88,
    "start_time": "2022-11-22T20:07:18.072Z"
   },
   {
    "duration": 15,
    "start_time": "2022-11-22T20:07:18.161Z"
   },
   {
    "duration": 180,
    "start_time": "2022-11-22T20:07:25.946Z"
   },
   {
    "duration": 6,
    "start_time": "2022-11-22T20:08:26.324Z"
   },
   {
    "duration": 7,
    "start_time": "2022-11-22T20:08:40.657Z"
   },
   {
    "duration": 172,
    "start_time": "2022-11-22T20:12:13.001Z"
   },
   {
    "duration": 189,
    "start_time": "2022-11-22T20:12:40.107Z"
   },
   {
    "duration": 55,
    "start_time": "2022-11-23T08:01:08.153Z"
   },
   {
    "duration": 1351,
    "start_time": "2022-11-23T08:07:10.848Z"
   },
   {
    "duration": 110,
    "start_time": "2022-11-23T08:07:12.201Z"
   },
   {
    "duration": 14,
    "start_time": "2022-11-23T08:07:12.313Z"
   },
   {
    "duration": 11,
    "start_time": "2022-11-23T08:07:12.329Z"
   },
   {
    "duration": 16,
    "start_time": "2022-11-23T08:07:12.342Z"
   },
   {
    "duration": 3,
    "start_time": "2022-11-23T08:07:12.360Z"
   },
   {
    "duration": 27,
    "start_time": "2022-11-23T08:07:12.364Z"
   },
   {
    "duration": 23,
    "start_time": "2022-11-23T08:07:12.392Z"
   },
   {
    "duration": 6,
    "start_time": "2022-11-23T08:07:12.418Z"
   },
   {
    "duration": 17,
    "start_time": "2022-11-23T08:07:12.427Z"
   },
   {
    "duration": 16,
    "start_time": "2022-11-23T08:07:12.446Z"
   },
   {
    "duration": 17,
    "start_time": "2022-11-23T08:07:12.465Z"
   },
   {
    "duration": 9,
    "start_time": "2022-11-23T08:07:12.485Z"
   },
   {
    "duration": 14,
    "start_time": "2022-11-23T08:07:12.496Z"
   },
   {
    "duration": 5,
    "start_time": "2022-11-23T08:07:12.512Z"
   },
   {
    "duration": 17,
    "start_time": "2022-11-23T08:07:12.519Z"
   },
   {
    "duration": 9,
    "start_time": "2022-11-23T08:07:12.538Z"
   },
   {
    "duration": 20,
    "start_time": "2022-11-23T08:07:12.549Z"
   },
   {
    "duration": 20,
    "start_time": "2022-11-23T08:07:12.570Z"
   },
   {
    "duration": 380,
    "start_time": "2022-11-23T08:07:12.592Z"
   },
   {
    "duration": 5,
    "start_time": "2022-11-23T08:07:12.974Z"
   },
   {
    "duration": 194,
    "start_time": "2022-11-23T08:07:12.980Z"
   },
   {
    "duration": 15,
    "start_time": "2022-11-23T08:07:13.175Z"
   },
   {
    "duration": 28,
    "start_time": "2022-11-23T08:07:13.192Z"
   },
   {
    "duration": 302,
    "start_time": "2022-11-23T08:07:13.222Z"
   },
   {
    "duration": 9,
    "start_time": "2022-11-23T08:07:13.525Z"
   },
   {
    "duration": 113,
    "start_time": "2022-11-23T08:07:13.535Z"
   },
   {
    "duration": 5,
    "start_time": "2022-11-23T08:07:13.653Z"
   },
   {
    "duration": 10,
    "start_time": "2022-11-23T08:07:13.659Z"
   },
   {
    "duration": 16,
    "start_time": "2022-11-23T08:07:13.671Z"
   },
   {
    "duration": 37,
    "start_time": "2022-11-23T08:07:13.689Z"
   },
   {
    "duration": 3,
    "start_time": "2022-11-23T08:07:13.729Z"
   },
   {
    "duration": 307,
    "start_time": "2022-11-23T08:07:13.733Z"
   },
   {
    "duration": 14,
    "start_time": "2022-11-23T08:07:14.043Z"
   },
   {
    "duration": 533,
    "start_time": "2022-11-23T08:07:14.059Z"
   },
   {
    "duration": 24,
    "start_time": "2022-11-23T08:07:14.593Z"
   },
   {
    "duration": 18,
    "start_time": "2022-11-23T08:07:14.619Z"
   },
   {
    "duration": 252,
    "start_time": "2022-11-23T08:07:14.639Z"
   },
   {
    "duration": 158,
    "start_time": "2022-11-23T08:07:14.893Z"
   },
   {
    "duration": 5,
    "start_time": "2022-11-23T08:07:15.053Z"
   },
   {
    "duration": 22,
    "start_time": "2022-11-23T08:07:15.060Z"
   },
   {
    "duration": 86,
    "start_time": "2022-11-23T08:07:15.084Z"
   },
   {
    "duration": 15,
    "start_time": "2022-11-23T08:07:15.171Z"
   },
   {
    "duration": 207,
    "start_time": "2022-11-23T08:07:15.188Z"
   },
   {
    "duration": 232,
    "start_time": "2022-11-23T08:07:15.397Z"
   },
   {
    "duration": 201,
    "start_time": "2022-11-23T08:07:15.631Z"
   },
   {
    "duration": 490,
    "start_time": "2022-11-23T08:07:15.834Z"
   },
   {
    "duration": 19,
    "start_time": "2022-11-23T08:07:16.325Z"
   },
   {
    "duration": 27,
    "start_time": "2022-11-23T08:07:16.346Z"
   },
   {
    "duration": 576,
    "start_time": "2022-11-23T08:07:16.375Z"
   },
   {
    "duration": 11,
    "start_time": "2022-11-23T08:07:16.953Z"
   },
   {
    "duration": 388,
    "start_time": "2022-11-23T08:07:16.966Z"
   },
   {
    "duration": 9,
    "start_time": "2022-11-23T08:07:17.356Z"
   },
   {
    "duration": 12,
    "start_time": "2022-11-23T08:07:17.366Z"
   },
   {
    "duration": 15,
    "start_time": "2022-11-23T08:07:17.379Z"
   },
   {
    "duration": 16,
    "start_time": "2022-11-23T08:07:17.395Z"
   },
   {
    "duration": 10,
    "start_time": "2022-11-23T08:07:17.413Z"
   },
   {
    "duration": 8,
    "start_time": "2022-11-23T08:07:17.424Z"
   },
   {
    "duration": 1135,
    "start_time": "2022-11-23T08:09:50.904Z"
   },
   {
    "duration": 77,
    "start_time": "2022-11-23T08:09:52.041Z"
   },
   {
    "duration": 16,
    "start_time": "2022-11-23T08:09:52.120Z"
   },
   {
    "duration": 20,
    "start_time": "2022-11-23T08:09:52.138Z"
   },
   {
    "duration": 31,
    "start_time": "2022-11-23T08:09:52.160Z"
   },
   {
    "duration": 4,
    "start_time": "2022-11-23T08:09:52.192Z"
   },
   {
    "duration": 44,
    "start_time": "2022-11-23T08:09:52.197Z"
   },
   {
    "duration": 29,
    "start_time": "2022-11-23T08:09:52.243Z"
   },
   {
    "duration": 25,
    "start_time": "2022-11-23T08:09:52.274Z"
   },
   {
    "duration": 31,
    "start_time": "2022-11-23T08:09:52.301Z"
   },
   {
    "duration": 22,
    "start_time": "2022-11-23T08:09:52.334Z"
   },
   {
    "duration": 42,
    "start_time": "2022-11-23T08:09:52.357Z"
   },
   {
    "duration": 48,
    "start_time": "2022-11-23T08:09:52.401Z"
   },
   {
    "duration": 59,
    "start_time": "2022-11-23T08:09:52.450Z"
   },
   {
    "duration": 28,
    "start_time": "2022-11-23T08:09:52.510Z"
   },
   {
    "duration": 27,
    "start_time": "2022-11-23T08:09:52.540Z"
   },
   {
    "duration": 44,
    "start_time": "2022-11-23T08:09:52.569Z"
   },
   {
    "duration": 33,
    "start_time": "2022-11-23T08:09:52.615Z"
   },
   {
    "duration": 42,
    "start_time": "2022-11-23T08:09:52.650Z"
   },
   {
    "duration": 331,
    "start_time": "2022-11-23T08:09:52.694Z"
   },
   {
    "duration": 5,
    "start_time": "2022-11-23T08:09:53.027Z"
   },
   {
    "duration": 190,
    "start_time": "2022-11-23T08:09:53.034Z"
   },
   {
    "duration": 15,
    "start_time": "2022-11-23T08:09:53.226Z"
   },
   {
    "duration": 36,
    "start_time": "2022-11-23T08:09:53.243Z"
   },
   {
    "duration": 243,
    "start_time": "2022-11-23T08:09:53.281Z"
   },
   {
    "duration": 9,
    "start_time": "2022-11-23T08:09:53.525Z"
   },
   {
    "duration": 122,
    "start_time": "2022-11-23T08:09:53.535Z"
   },
   {
    "duration": 4,
    "start_time": "2022-11-23T08:09:53.661Z"
   },
   {
    "duration": 39,
    "start_time": "2022-11-23T08:09:53.667Z"
   },
   {
    "duration": 30,
    "start_time": "2022-11-23T08:09:53.708Z"
   },
   {
    "duration": 73,
    "start_time": "2022-11-23T08:09:53.739Z"
   },
   {
    "duration": 14,
    "start_time": "2022-11-23T08:09:53.814Z"
   },
   {
    "duration": 309,
    "start_time": "2022-11-23T08:09:53.829Z"
   },
   {
    "duration": 11,
    "start_time": "2022-11-23T08:09:54.140Z"
   },
   {
    "duration": 482,
    "start_time": "2022-11-23T08:09:54.153Z"
   },
   {
    "duration": 19,
    "start_time": "2022-11-23T08:09:54.636Z"
   },
   {
    "duration": 19,
    "start_time": "2022-11-23T08:09:54.657Z"
   },
   {
    "duration": 247,
    "start_time": "2022-11-23T08:09:54.678Z"
   },
   {
    "duration": 150,
    "start_time": "2022-11-23T08:09:54.926Z"
   },
   {
    "duration": 4,
    "start_time": "2022-11-23T08:09:55.078Z"
   },
   {
    "duration": 9,
    "start_time": "2022-11-23T08:09:55.084Z"
   },
   {
    "duration": 85,
    "start_time": "2022-11-23T08:09:55.095Z"
   },
   {
    "duration": 14,
    "start_time": "2022-11-23T08:09:55.182Z"
   },
   {
    "duration": 208,
    "start_time": "2022-11-23T08:09:55.197Z"
   },
   {
    "duration": 180,
    "start_time": "2022-11-23T08:09:55.407Z"
   },
   {
    "duration": 193,
    "start_time": "2022-11-23T08:09:55.588Z"
   },
   {
    "duration": 502,
    "start_time": "2022-11-23T08:09:55.783Z"
   },
   {
    "duration": 35,
    "start_time": "2022-11-23T08:09:56.287Z"
   },
   {
    "duration": 24,
    "start_time": "2022-11-23T08:09:56.324Z"
   },
   {
    "duration": 532,
    "start_time": "2022-11-23T08:09:56.350Z"
   },
   {
    "duration": 10,
    "start_time": "2022-11-23T08:09:56.883Z"
   },
   {
    "duration": 382,
    "start_time": "2022-11-23T08:09:56.894Z"
   },
   {
    "duration": 8,
    "start_time": "2022-11-23T08:09:57.278Z"
   },
   {
    "duration": 8,
    "start_time": "2022-11-23T08:09:57.287Z"
   },
   {
    "duration": 11,
    "start_time": "2022-11-23T08:09:57.296Z"
   },
   {
    "duration": 11,
    "start_time": "2022-11-23T08:09:57.308Z"
   },
   {
    "duration": 4,
    "start_time": "2022-11-23T08:09:57.321Z"
   },
   {
    "duration": 10,
    "start_time": "2022-11-23T08:09:57.326Z"
   }
  ],
  "kernelspec": {
   "display_name": "Python 3 (ipykernel)",
   "language": "python",
   "name": "python3"
  },
  "language_info": {
   "codemirror_mode": {
    "name": "ipython",
    "version": 3
   },
   "file_extension": ".py",
   "mimetype": "text/x-python",
   "name": "python",
   "nbconvert_exporter": "python",
   "pygments_lexer": "ipython3",
   "version": "3.9.5"
  },
  "toc": {
   "base_numbering": 1,
   "nav_menu": {},
   "number_sections": false,
   "sideBar": true,
   "skip_h1_title": true,
   "title_cell": "Table of Contents",
   "title_sidebar": "Contents",
   "toc_cell": false,
   "toc_position": {
    "height": "calc(100% - 180px)",
    "left": "10px",
    "top": "150px",
    "width": "165px"
   },
   "toc_section_display": true,
   "toc_window_display": true
  }
 },
 "nbformat": 4,
 "nbformat_minor": 2
}
