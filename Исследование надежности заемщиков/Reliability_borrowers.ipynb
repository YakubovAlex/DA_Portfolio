{
 "cells": [
  {
   "cell_type": "markdown",
   "id": "02eb9bcf",
   "metadata": {
    "deletable": false,
    "editable": false,
    "id": "c81daeeb"
   },
   "source": [
    "# Исследование надежности заемщиков\n"
   ]
  },
  {
   "cell_type": "markdown",
   "id": "4e903aea",
   "metadata": {
    "deletable": false,
    "editable": false,
    "id": "827c20bf"
   },
   "source": [
    "Во второй части проекта вы выполните шаги 3 и 4. Их вручную проверит ревьюер.\n",
    "Чтобы вам не пришлось писать код заново для шагов 1 и 2, мы добавили авторские решения в ячейки с кодом. \n",
    "\n"
   ]
  },
  {
   "cell_type": "markdown",
   "id": "9bea0c06",
   "metadata": {
    "deletable": false,
    "editable": false,
    "id": "744d7639"
   },
   "source": [
    "## Откройте таблицу и изучите общую информацию о данных"
   ]
  },
  {
   "cell_type": "markdown",
   "id": "6a86d16f",
   "metadata": {
    "deletable": false,
    "editable": false,
    "id": "e7a14c31"
   },
   "source": [
    "**Задание 1. Импортируйте библиотеку pandas. Считайте данные из csv-файла в датафрейм и сохраните в переменную `data`. Путь к файлу:**\n",
    "\n",
    "`/datasets/data.csv`"
   ]
  },
  {
   "cell_type": "code",
   "execution_count": 1,
   "id": "1956b90f",
   "metadata": {
    "deletable": false,
    "id": "7bcf75c9"
   },
   "outputs": [],
   "source": [
    "import pandas as pd\n",
    "data = pd.read_csv('/datasets/data.csv')\n"
   ]
  },
  {
   "cell_type": "markdown",
   "id": "f49da7f8",
   "metadata": {
    "deletable": false,
    "editable": false,
    "id": "b8038fe3"
   },
   "source": [
    "**Задание 2. Выведите первые 20 строчек датафрейма `data` на экран.**"
   ]
  },
  {
   "cell_type": "code",
   "execution_count": 2,
   "id": "a1ae369f",
   "metadata": {
    "deletable": false,
    "id": "2a7cab99",
    "outputId": "1a8f3ef2-d323-4ec2-ddf7-89670b5944c4"
   },
   "outputs": [
    {
     "data": {
      "text/html": [
       "<div>\n",
       "<style scoped>\n",
       "    .dataframe tbody tr th:only-of-type {\n",
       "        vertical-align: middle;\n",
       "    }\n",
       "\n",
       "    .dataframe tbody tr th {\n",
       "        vertical-align: top;\n",
       "    }\n",
       "\n",
       "    .dataframe thead th {\n",
       "        text-align: right;\n",
       "    }\n",
       "</style>\n",
       "<table border=\"1\" class=\"dataframe\">\n",
       "  <thead>\n",
       "    <tr style=\"text-align: right;\">\n",
       "      <th></th>\n",
       "      <th>children</th>\n",
       "      <th>days_employed</th>\n",
       "      <th>dob_years</th>\n",
       "      <th>education</th>\n",
       "      <th>education_id</th>\n",
       "      <th>family_status</th>\n",
       "      <th>family_status_id</th>\n",
       "      <th>gender</th>\n",
       "      <th>income_type</th>\n",
       "      <th>debt</th>\n",
       "      <th>total_income</th>\n",
       "      <th>purpose</th>\n",
       "    </tr>\n",
       "  </thead>\n",
       "  <tbody>\n",
       "    <tr>\n",
       "      <th>0</th>\n",
       "      <td>1</td>\n",
       "      <td>-8437.673028</td>\n",
       "      <td>42</td>\n",
       "      <td>высшее</td>\n",
       "      <td>0</td>\n",
       "      <td>женат / замужем</td>\n",
       "      <td>0</td>\n",
       "      <td>F</td>\n",
       "      <td>сотрудник</td>\n",
       "      <td>0</td>\n",
       "      <td>253875.639453</td>\n",
       "      <td>покупка жилья</td>\n",
       "    </tr>\n",
       "    <tr>\n",
       "      <th>1</th>\n",
       "      <td>1</td>\n",
       "      <td>-4024.803754</td>\n",
       "      <td>36</td>\n",
       "      <td>среднее</td>\n",
       "      <td>1</td>\n",
       "      <td>женат / замужем</td>\n",
       "      <td>0</td>\n",
       "      <td>F</td>\n",
       "      <td>сотрудник</td>\n",
       "      <td>0</td>\n",
       "      <td>112080.014102</td>\n",
       "      <td>приобретение автомобиля</td>\n",
       "    </tr>\n",
       "    <tr>\n",
       "      <th>2</th>\n",
       "      <td>0</td>\n",
       "      <td>-5623.422610</td>\n",
       "      <td>33</td>\n",
       "      <td>Среднее</td>\n",
       "      <td>1</td>\n",
       "      <td>женат / замужем</td>\n",
       "      <td>0</td>\n",
       "      <td>M</td>\n",
       "      <td>сотрудник</td>\n",
       "      <td>0</td>\n",
       "      <td>145885.952297</td>\n",
       "      <td>покупка жилья</td>\n",
       "    </tr>\n",
       "    <tr>\n",
       "      <th>3</th>\n",
       "      <td>3</td>\n",
       "      <td>-4124.747207</td>\n",
       "      <td>32</td>\n",
       "      <td>среднее</td>\n",
       "      <td>1</td>\n",
       "      <td>женат / замужем</td>\n",
       "      <td>0</td>\n",
       "      <td>M</td>\n",
       "      <td>сотрудник</td>\n",
       "      <td>0</td>\n",
       "      <td>267628.550329</td>\n",
       "      <td>дополнительное образование</td>\n",
       "    </tr>\n",
       "    <tr>\n",
       "      <th>4</th>\n",
       "      <td>0</td>\n",
       "      <td>340266.072047</td>\n",
       "      <td>53</td>\n",
       "      <td>среднее</td>\n",
       "      <td>1</td>\n",
       "      <td>гражданский брак</td>\n",
       "      <td>1</td>\n",
       "      <td>F</td>\n",
       "      <td>пенсионер</td>\n",
       "      <td>0</td>\n",
       "      <td>158616.077870</td>\n",
       "      <td>сыграть свадьбу</td>\n",
       "    </tr>\n",
       "    <tr>\n",
       "      <th>5</th>\n",
       "      <td>0</td>\n",
       "      <td>-926.185831</td>\n",
       "      <td>27</td>\n",
       "      <td>высшее</td>\n",
       "      <td>0</td>\n",
       "      <td>гражданский брак</td>\n",
       "      <td>1</td>\n",
       "      <td>M</td>\n",
       "      <td>компаньон</td>\n",
       "      <td>0</td>\n",
       "      <td>255763.565419</td>\n",
       "      <td>покупка жилья</td>\n",
       "    </tr>\n",
       "    <tr>\n",
       "      <th>6</th>\n",
       "      <td>0</td>\n",
       "      <td>-2879.202052</td>\n",
       "      <td>43</td>\n",
       "      <td>высшее</td>\n",
       "      <td>0</td>\n",
       "      <td>женат / замужем</td>\n",
       "      <td>0</td>\n",
       "      <td>F</td>\n",
       "      <td>компаньон</td>\n",
       "      <td>0</td>\n",
       "      <td>240525.971920</td>\n",
       "      <td>операции с жильем</td>\n",
       "    </tr>\n",
       "    <tr>\n",
       "      <th>7</th>\n",
       "      <td>0</td>\n",
       "      <td>-152.779569</td>\n",
       "      <td>50</td>\n",
       "      <td>СРЕДНЕЕ</td>\n",
       "      <td>1</td>\n",
       "      <td>женат / замужем</td>\n",
       "      <td>0</td>\n",
       "      <td>M</td>\n",
       "      <td>сотрудник</td>\n",
       "      <td>0</td>\n",
       "      <td>135823.934197</td>\n",
       "      <td>образование</td>\n",
       "    </tr>\n",
       "    <tr>\n",
       "      <th>8</th>\n",
       "      <td>2</td>\n",
       "      <td>-6929.865299</td>\n",
       "      <td>35</td>\n",
       "      <td>ВЫСШЕЕ</td>\n",
       "      <td>0</td>\n",
       "      <td>гражданский брак</td>\n",
       "      <td>1</td>\n",
       "      <td>F</td>\n",
       "      <td>сотрудник</td>\n",
       "      <td>0</td>\n",
       "      <td>95856.832424</td>\n",
       "      <td>на проведение свадьбы</td>\n",
       "    </tr>\n",
       "    <tr>\n",
       "      <th>9</th>\n",
       "      <td>0</td>\n",
       "      <td>-2188.756445</td>\n",
       "      <td>41</td>\n",
       "      <td>среднее</td>\n",
       "      <td>1</td>\n",
       "      <td>женат / замужем</td>\n",
       "      <td>0</td>\n",
       "      <td>M</td>\n",
       "      <td>сотрудник</td>\n",
       "      <td>0</td>\n",
       "      <td>144425.938277</td>\n",
       "      <td>покупка жилья для семьи</td>\n",
       "    </tr>\n",
       "    <tr>\n",
       "      <th>10</th>\n",
       "      <td>2</td>\n",
       "      <td>-4171.483647</td>\n",
       "      <td>36</td>\n",
       "      <td>высшее</td>\n",
       "      <td>0</td>\n",
       "      <td>женат / замужем</td>\n",
       "      <td>0</td>\n",
       "      <td>M</td>\n",
       "      <td>компаньон</td>\n",
       "      <td>0</td>\n",
       "      <td>113943.491460</td>\n",
       "      <td>покупка недвижимости</td>\n",
       "    </tr>\n",
       "    <tr>\n",
       "      <th>11</th>\n",
       "      <td>0</td>\n",
       "      <td>-792.701887</td>\n",
       "      <td>40</td>\n",
       "      <td>среднее</td>\n",
       "      <td>1</td>\n",
       "      <td>женат / замужем</td>\n",
       "      <td>0</td>\n",
       "      <td>F</td>\n",
       "      <td>сотрудник</td>\n",
       "      <td>0</td>\n",
       "      <td>77069.234271</td>\n",
       "      <td>покупка коммерческой недвижимости</td>\n",
       "    </tr>\n",
       "    <tr>\n",
       "      <th>12</th>\n",
       "      <td>0</td>\n",
       "      <td>NaN</td>\n",
       "      <td>65</td>\n",
       "      <td>среднее</td>\n",
       "      <td>1</td>\n",
       "      <td>гражданский брак</td>\n",
       "      <td>1</td>\n",
       "      <td>M</td>\n",
       "      <td>пенсионер</td>\n",
       "      <td>0</td>\n",
       "      <td>NaN</td>\n",
       "      <td>сыграть свадьбу</td>\n",
       "    </tr>\n",
       "    <tr>\n",
       "      <th>13</th>\n",
       "      <td>0</td>\n",
       "      <td>-1846.641941</td>\n",
       "      <td>54</td>\n",
       "      <td>неоконченное высшее</td>\n",
       "      <td>2</td>\n",
       "      <td>женат / замужем</td>\n",
       "      <td>0</td>\n",
       "      <td>F</td>\n",
       "      <td>сотрудник</td>\n",
       "      <td>0</td>\n",
       "      <td>130458.228857</td>\n",
       "      <td>приобретение автомобиля</td>\n",
       "    </tr>\n",
       "    <tr>\n",
       "      <th>14</th>\n",
       "      <td>0</td>\n",
       "      <td>-1844.956182</td>\n",
       "      <td>56</td>\n",
       "      <td>высшее</td>\n",
       "      <td>0</td>\n",
       "      <td>гражданский брак</td>\n",
       "      <td>1</td>\n",
       "      <td>F</td>\n",
       "      <td>компаньон</td>\n",
       "      <td>1</td>\n",
       "      <td>165127.911772</td>\n",
       "      <td>покупка жилой недвижимости</td>\n",
       "    </tr>\n",
       "    <tr>\n",
       "      <th>15</th>\n",
       "      <td>1</td>\n",
       "      <td>-972.364419</td>\n",
       "      <td>26</td>\n",
       "      <td>среднее</td>\n",
       "      <td>1</td>\n",
       "      <td>женат / замужем</td>\n",
       "      <td>0</td>\n",
       "      <td>F</td>\n",
       "      <td>сотрудник</td>\n",
       "      <td>0</td>\n",
       "      <td>116820.904450</td>\n",
       "      <td>строительство собственной недвижимости</td>\n",
       "    </tr>\n",
       "    <tr>\n",
       "      <th>16</th>\n",
       "      <td>0</td>\n",
       "      <td>-1719.934226</td>\n",
       "      <td>35</td>\n",
       "      <td>среднее</td>\n",
       "      <td>1</td>\n",
       "      <td>женат / замужем</td>\n",
       "      <td>0</td>\n",
       "      <td>F</td>\n",
       "      <td>сотрудник</td>\n",
       "      <td>0</td>\n",
       "      <td>289202.704229</td>\n",
       "      <td>недвижимость</td>\n",
       "    </tr>\n",
       "    <tr>\n",
       "      <th>17</th>\n",
       "      <td>0</td>\n",
       "      <td>-2369.999720</td>\n",
       "      <td>33</td>\n",
       "      <td>высшее</td>\n",
       "      <td>0</td>\n",
       "      <td>гражданский брак</td>\n",
       "      <td>1</td>\n",
       "      <td>M</td>\n",
       "      <td>сотрудник</td>\n",
       "      <td>0</td>\n",
       "      <td>90410.586745</td>\n",
       "      <td>строительство недвижимости</td>\n",
       "    </tr>\n",
       "    <tr>\n",
       "      <th>18</th>\n",
       "      <td>0</td>\n",
       "      <td>400281.136913</td>\n",
       "      <td>53</td>\n",
       "      <td>среднее</td>\n",
       "      <td>1</td>\n",
       "      <td>вдовец / вдова</td>\n",
       "      <td>2</td>\n",
       "      <td>F</td>\n",
       "      <td>пенсионер</td>\n",
       "      <td>0</td>\n",
       "      <td>56823.777243</td>\n",
       "      <td>на покупку подержанного автомобиля</td>\n",
       "    </tr>\n",
       "    <tr>\n",
       "      <th>19</th>\n",
       "      <td>0</td>\n",
       "      <td>-10038.818549</td>\n",
       "      <td>48</td>\n",
       "      <td>СРЕДНЕЕ</td>\n",
       "      <td>1</td>\n",
       "      <td>в разводе</td>\n",
       "      <td>3</td>\n",
       "      <td>F</td>\n",
       "      <td>сотрудник</td>\n",
       "      <td>0</td>\n",
       "      <td>242831.107982</td>\n",
       "      <td>на покупку своего автомобиля</td>\n",
       "    </tr>\n",
       "  </tbody>\n",
       "</table>\n",
       "</div>"
      ],
      "text/plain": [
       "    children  days_employed  dob_years            education  education_id  \\\n",
       "0          1   -8437.673028         42               высшее             0   \n",
       "1          1   -4024.803754         36              среднее             1   \n",
       "2          0   -5623.422610         33              Среднее             1   \n",
       "3          3   -4124.747207         32              среднее             1   \n",
       "4          0  340266.072047         53              среднее             1   \n",
       "5          0    -926.185831         27               высшее             0   \n",
       "6          0   -2879.202052         43               высшее             0   \n",
       "7          0    -152.779569         50              СРЕДНЕЕ             1   \n",
       "8          2   -6929.865299         35               ВЫСШЕЕ             0   \n",
       "9          0   -2188.756445         41              среднее             1   \n",
       "10         2   -4171.483647         36               высшее             0   \n",
       "11         0    -792.701887         40              среднее             1   \n",
       "12         0            NaN         65              среднее             1   \n",
       "13         0   -1846.641941         54  неоконченное высшее             2   \n",
       "14         0   -1844.956182         56               высшее             0   \n",
       "15         1    -972.364419         26              среднее             1   \n",
       "16         0   -1719.934226         35              среднее             1   \n",
       "17         0   -2369.999720         33               высшее             0   \n",
       "18         0  400281.136913         53              среднее             1   \n",
       "19         0  -10038.818549         48              СРЕДНЕЕ             1   \n",
       "\n",
       "       family_status  family_status_id gender income_type  debt  \\\n",
       "0    женат / замужем                 0      F   сотрудник     0   \n",
       "1    женат / замужем                 0      F   сотрудник     0   \n",
       "2    женат / замужем                 0      M   сотрудник     0   \n",
       "3    женат / замужем                 0      M   сотрудник     0   \n",
       "4   гражданский брак                 1      F   пенсионер     0   \n",
       "5   гражданский брак                 1      M   компаньон     0   \n",
       "6    женат / замужем                 0      F   компаньон     0   \n",
       "7    женат / замужем                 0      M   сотрудник     0   \n",
       "8   гражданский брак                 1      F   сотрудник     0   \n",
       "9    женат / замужем                 0      M   сотрудник     0   \n",
       "10   женат / замужем                 0      M   компаньон     0   \n",
       "11   женат / замужем                 0      F   сотрудник     0   \n",
       "12  гражданский брак                 1      M   пенсионер     0   \n",
       "13   женат / замужем                 0      F   сотрудник     0   \n",
       "14  гражданский брак                 1      F   компаньон     1   \n",
       "15   женат / замужем                 0      F   сотрудник     0   \n",
       "16   женат / замужем                 0      F   сотрудник     0   \n",
       "17  гражданский брак                 1      M   сотрудник     0   \n",
       "18    вдовец / вдова                 2      F   пенсионер     0   \n",
       "19         в разводе                 3      F   сотрудник     0   \n",
       "\n",
       "     total_income                                 purpose  \n",
       "0   253875.639453                           покупка жилья  \n",
       "1   112080.014102                 приобретение автомобиля  \n",
       "2   145885.952297                           покупка жилья  \n",
       "3   267628.550329              дополнительное образование  \n",
       "4   158616.077870                         сыграть свадьбу  \n",
       "5   255763.565419                           покупка жилья  \n",
       "6   240525.971920                       операции с жильем  \n",
       "7   135823.934197                             образование  \n",
       "8    95856.832424                   на проведение свадьбы  \n",
       "9   144425.938277                 покупка жилья для семьи  \n",
       "10  113943.491460                    покупка недвижимости  \n",
       "11   77069.234271       покупка коммерческой недвижимости  \n",
       "12            NaN                         сыграть свадьбу  \n",
       "13  130458.228857                 приобретение автомобиля  \n",
       "14  165127.911772              покупка жилой недвижимости  \n",
       "15  116820.904450  строительство собственной недвижимости  \n",
       "16  289202.704229                            недвижимость  \n",
       "17   90410.586745              строительство недвижимости  \n",
       "18   56823.777243      на покупку подержанного автомобиля  \n",
       "19  242831.107982            на покупку своего автомобиля  "
      ]
     },
     "execution_count": 2,
     "metadata": {},
     "output_type": "execute_result"
    }
   ],
   "source": [
    "data.head(20)"
   ]
  },
  {
   "cell_type": "markdown",
   "id": "36ef59f5",
   "metadata": {
    "deletable": false,
    "editable": false,
    "id": "1c12e233"
   },
   "source": [
    "**Задание 3. Выведите основную информацию о датафрейме с помощью метода `info()`.**"
   ]
  },
  {
   "cell_type": "code",
   "execution_count": 3,
   "id": "5105e840",
   "metadata": {
    "deletable": false,
    "id": "2b757bca",
    "outputId": "15376089-8dad-46c9-b520-c05248d43158"
   },
   "outputs": [
    {
     "name": "stdout",
     "output_type": "stream",
     "text": [
      "<class 'pandas.core.frame.DataFrame'>\n",
      "RangeIndex: 21525 entries, 0 to 21524\n",
      "Data columns (total 12 columns):\n",
      " #   Column            Non-Null Count  Dtype  \n",
      "---  ------            --------------  -----  \n",
      " 0   children          21525 non-null  int64  \n",
      " 1   days_employed     19351 non-null  float64\n",
      " 2   dob_years         21525 non-null  int64  \n",
      " 3   education         21525 non-null  object \n",
      " 4   education_id      21525 non-null  int64  \n",
      " 5   family_status     21525 non-null  object \n",
      " 6   family_status_id  21525 non-null  int64  \n",
      " 7   gender            21525 non-null  object \n",
      " 8   income_type       21525 non-null  object \n",
      " 9   debt              21525 non-null  int64  \n",
      " 10  total_income      19351 non-null  float64\n",
      " 11  purpose           21525 non-null  object \n",
      "dtypes: float64(2), int64(5), object(5)\n",
      "memory usage: 2.0+ MB\n"
     ]
    }
   ],
   "source": [
    "data.info()"
   ]
  },
  {
   "cell_type": "markdown",
   "id": "b8fffc80",
   "metadata": {
    "deletable": false,
    "editable": false,
    "id": "333ec665"
   },
   "source": [
    "## Предобработка данных"
   ]
  },
  {
   "cell_type": "markdown",
   "id": "9a00b266",
   "metadata": {
    "deletable": false,
    "editable": false,
    "id": "02d92d53"
   },
   "source": [
    "### Удаление пропусков"
   ]
  },
  {
   "cell_type": "markdown",
   "id": "2eab7b68",
   "metadata": {
    "deletable": false,
    "editable": false,
    "id": "cd84967c"
   },
   "source": [
    "**Задание 4. Выведите количество пропущенных значений для каждого столбца. Используйте комбинацию двух методов.**"
   ]
  },
  {
   "cell_type": "code",
   "execution_count": 4,
   "id": "fccfe1df",
   "metadata": {
    "deletable": false,
    "id": "7f9b2309",
    "outputId": "81f4d817-781c-465c-ed15-91ce4446810d"
   },
   "outputs": [
    {
     "data": {
      "text/plain": [
       "children               0\n",
       "days_employed       2174\n",
       "dob_years              0\n",
       "education              0\n",
       "education_id           0\n",
       "family_status          0\n",
       "family_status_id       0\n",
       "gender                 0\n",
       "income_type            0\n",
       "debt                   0\n",
       "total_income        2174\n",
       "purpose                0\n",
       "dtype: int64"
      ]
     },
     "execution_count": 4,
     "metadata": {},
     "output_type": "execute_result"
    }
   ],
   "source": [
    "data.isna().sum()"
   ]
  },
  {
   "cell_type": "markdown",
   "id": "e5f4c2b3",
   "metadata": {
    "deletable": false,
    "editable": false,
    "id": "db86e27b"
   },
   "source": [
    "**Задание 5. В двух столбцах есть пропущенные значения. Один из них — `days_employed`. Пропуски в этом столбце вы обработаете на следующем этапе. Другой столбец с пропущенными значениями — `total_income` — хранит данные о доходах. На сумму дохода сильнее всего влияет тип занятости, поэтому заполнить пропуски в этом столбце нужно медианным значением по каждому типу из столбца `income_type`. Например, у человека с типом занятости `сотрудник` пропуск в столбце `total_income` должен быть заполнен медианным доходом среди всех записей с тем же типом.**"
   ]
  },
  {
   "cell_type": "code",
   "execution_count": 5,
   "id": "027dba81",
   "metadata": {
    "deletable": false,
    "id": "42006a93"
   },
   "outputs": [],
   "source": [
    "for t in data['income_type'].unique():\n",
    "    data.loc[(data['income_type'] == t) & (data['total_income'].isna()), 'total_income'] = \\\n",
    "    data.loc[(data['income_type'] == t), 'total_income'].median()"
   ]
  },
  {
   "cell_type": "markdown",
   "id": "5a2fc3a2",
   "metadata": {
    "deletable": false,
    "editable": false,
    "id": "89da5ece"
   },
   "source": [
    "### Обработка аномальных значений"
   ]
  },
  {
   "cell_type": "markdown",
   "id": "de57dc33",
   "metadata": {
    "deletable": false,
    "editable": false,
    "id": "57964554"
   },
   "source": [
    "**Задание 6. В данных могут встречаться артефакты (аномалии) — значения, которые не отражают действительность и появились по какой-то ошибке. таким артефактом будет отрицательное количество дней трудового стажа в столбце `days_employed`. Для реальных данных это нормально. Обработайте значения в этом столбце: замените все отрицательные значения положительными с помощью метода `abs()`.**"
   ]
  },
  {
   "cell_type": "code",
   "execution_count": 6,
   "id": "96a04479",
   "metadata": {
    "deletable": false,
    "id": "f6f055bf"
   },
   "outputs": [],
   "source": [
    "data['days_employed'] = data['days_employed'].abs()"
   ]
  },
  {
   "cell_type": "markdown",
   "id": "172e6ff4",
   "metadata": {
    "deletable": false,
    "editable": false,
    "id": "6107dd2f"
   },
   "source": [
    "**Задание 7. Для каждого типа занятости выведите медианное значение трудового стажа `days_employed` в днях.**"
   ]
  },
  {
   "cell_type": "code",
   "execution_count": 7,
   "id": "3c25673f",
   "metadata": {
    "deletable": false,
    "id": "85a5faf6",
    "outputId": "801ef80e-522b-4668-f34e-565af7432bcf"
   },
   "outputs": [
    {
     "data": {
      "text/plain": [
       "income_type\n",
       "безработный        366413.652744\n",
       "в декрете            3296.759962\n",
       "госслужащий          2689.368353\n",
       "компаньон            1547.382223\n",
       "пенсионер          365213.306266\n",
       "предприниматель       520.848083\n",
       "сотрудник            1574.202821\n",
       "студент               578.751554\n",
       "Name: days_employed, dtype: float64"
      ]
     },
     "execution_count": 7,
     "metadata": {},
     "output_type": "execute_result"
    }
   ],
   "source": [
    "data.groupby('income_type')['days_employed'].agg('median')"
   ]
  },
  {
   "cell_type": "markdown",
   "id": "ce34e88a",
   "metadata": {
    "deletable": false,
    "editable": false,
    "id": "38d1a030"
   },
   "source": [
    "У двух типов (безработные и пенсионеры) получатся аномально большие значения. Исправить такие значения сложно, поэтому оставьте их как есть. Тем более этот столбец не понадобится вам для исследования."
   ]
  },
  {
   "cell_type": "markdown",
   "id": "a14c24c5",
   "metadata": {
    "deletable": false,
    "editable": false,
    "id": "d8a9f147"
   },
   "source": [
    "**Задание 8. Выведите перечень уникальных значений столбца `children`.**"
   ]
  },
  {
   "cell_type": "code",
   "execution_count": 8,
   "id": "92e54e69",
   "metadata": {
    "deletable": false,
    "id": "ef5056eb",
    "outputId": "6975b15c-7f95-4697-d16d-a0c79b657b03"
   },
   "outputs": [
    {
     "data": {
      "text/plain": [
       "array([ 1,  0,  3,  2, -1,  4, 20,  5])"
      ]
     },
     "execution_count": 8,
     "metadata": {},
     "output_type": "execute_result"
    }
   ],
   "source": [
    "data['children'].unique()"
   ]
  },
  {
   "cell_type": "markdown",
   "id": "2d264104",
   "metadata": {
    "deletable": false,
    "editable": false,
    "id": "40b9ebf2"
   },
   "source": [
    "**Задание 9. В столбце `children` есть два аномальных значения. Удалите строки, в которых встречаются такие аномальные значения из датафрейма `data`.**"
   ]
  },
  {
   "cell_type": "code",
   "execution_count": 9,
   "id": "73d4a515",
   "metadata": {
    "deletable": false,
    "id": "3ff9801d"
   },
   "outputs": [],
   "source": [
    "data = data[(data['children'] != -1) & (data['children'] != 20)]"
   ]
  },
  {
   "cell_type": "markdown",
   "id": "04545a12",
   "metadata": {
    "deletable": false,
    "editable": false,
    "id": "bbc4d0ce"
   },
   "source": [
    "**Задание 10. Ещё раз выведите перечень уникальных значений столбца `children`, чтобы убедиться, что артефакты удалены.**"
   ]
  },
  {
   "cell_type": "code",
   "execution_count": 10,
   "id": "655bd97b",
   "metadata": {
    "deletable": false,
    "id": "ad4fa8b7",
    "outputId": "b2097101-d49d-44d9-901b-32a65c9463d1"
   },
   "outputs": [
    {
     "data": {
      "text/plain": [
       "array([1, 0, 3, 2, 4, 5])"
      ]
     },
     "execution_count": 10,
     "metadata": {},
     "output_type": "execute_result"
    }
   ],
   "source": [
    "data['children'].unique()"
   ]
  },
  {
   "cell_type": "markdown",
   "id": "cf12ebea",
   "metadata": {
    "deletable": false,
    "editable": false,
    "id": "75440b63"
   },
   "source": [
    "### Удаление пропусков (продолжение)"
   ]
  },
  {
   "cell_type": "markdown",
   "id": "5b24d9b6",
   "metadata": {
    "deletable": false,
    "editable": false,
    "id": "f4ea573f"
   },
   "source": [
    "**Задание 11. Заполните пропуски в столбце `days_employed` медианными значениями по каждого типа занятости `income_type`.**"
   ]
  },
  {
   "cell_type": "code",
   "execution_count": 11,
   "id": "fa9d4cdf",
   "metadata": {
    "deletable": false,
    "id": "af6b1a7e"
   },
   "outputs": [],
   "source": [
    "for t in data['income_type'].unique():\n",
    "    data.loc[(data['income_type'] == t) & (data['days_employed'].isna()), 'days_employed'] = \\\n",
    "    data.loc[(data['income_type'] == t), 'days_employed'].median()"
   ]
  },
  {
   "cell_type": "markdown",
   "id": "338c41de",
   "metadata": {
    "deletable": false,
    "editable": false,
    "id": "2753f40d"
   },
   "source": [
    "**Задание 12. Убедитесь, что все пропуски заполнены. Проверьте себя и ещё раз выведите количество пропущенных значений для каждого столбца с помощью двух методов.**"
   ]
  },
  {
   "cell_type": "code",
   "execution_count": 12,
   "id": "441c4642",
   "metadata": {
    "deletable": false,
    "id": "55f78bc2",
    "outputId": "8da1e4e1-358e-4e87-98c9-f261bce0a7b2"
   },
   "outputs": [
    {
     "data": {
      "text/plain": [
       "children            0\n",
       "days_employed       0\n",
       "dob_years           0\n",
       "education           0\n",
       "education_id        0\n",
       "family_status       0\n",
       "family_status_id    0\n",
       "gender              0\n",
       "income_type         0\n",
       "debt                0\n",
       "total_income        0\n",
       "purpose             0\n",
       "dtype: int64"
      ]
     },
     "execution_count": 12,
     "metadata": {},
     "output_type": "execute_result"
    }
   ],
   "source": [
    "data.isna().sum()"
   ]
  },
  {
   "cell_type": "markdown",
   "id": "ac9aa903",
   "metadata": {
    "deletable": false,
    "editable": false,
    "id": "ddc81e43"
   },
   "source": [
    "### Изменение типов данных"
   ]
  },
  {
   "cell_type": "markdown",
   "id": "5972b462",
   "metadata": {
    "deletable": false,
    "editable": false,
    "id": "42d19d24"
   },
   "source": [
    "**Задание 13. Замените вещественный тип данных в столбце `total_income` на целочисленный с помощью метода `astype()`.**"
   ]
  },
  {
   "cell_type": "code",
   "execution_count": 13,
   "id": "fd11279a",
   "metadata": {
    "deletable": false,
    "id": "920b65ad"
   },
   "outputs": [],
   "source": [
    "data['total_income'] = data['total_income'].astype(int)"
   ]
  },
  {
   "cell_type": "markdown",
   "id": "285aee10",
   "metadata": {
    "deletable": false,
    "editable": false,
    "id": "80c420ba"
   },
   "source": [
    "### Обработка дубликатов"
   ]
  },
  {
   "cell_type": "markdown",
   "id": "45d448a3",
   "metadata": {
    "deletable": false,
    "editable": false
   },
   "source": [
    "**Задание 14. Обработайте неявные дубликаты в столбце `education`. В этом столбце есть одни и те же значения, но записанные по-разному: с использованием заглавных и строчных букв. Приведите их к нижнему регистру. Проверьте остальные столбцы.**"
   ]
  },
  {
   "cell_type": "code",
   "execution_count": 14,
   "id": "ab3d606c",
   "metadata": {
    "deletable": false
   },
   "outputs": [],
   "source": [
    "data['education'] = data['education'].str.lower()"
   ]
  },
  {
   "cell_type": "markdown",
   "id": "248f2ba9",
   "metadata": {
    "deletable": false,
    "editable": false,
    "id": "dc587695"
   },
   "source": [
    "**Задание 15. Выведите на экран количество строк-дубликатов в данных. Если такие строки присутствуют, удалите их.**"
   ]
  },
  {
   "cell_type": "code",
   "execution_count": 15,
   "id": "3111cc44",
   "metadata": {
    "deletable": false,
    "id": "3ee445e4",
    "outputId": "9684deba-1934-42d1-99e1-cda61740f822"
   },
   "outputs": [
    {
     "data": {
      "text/plain": [
       "71"
      ]
     },
     "execution_count": 15,
     "metadata": {},
     "output_type": "execute_result"
    }
   ],
   "source": [
    "data.duplicated().sum()"
   ]
  },
  {
   "cell_type": "code",
   "execution_count": 16,
   "id": "a3c645ed",
   "metadata": {
    "deletable": false,
    "id": "8575fe05"
   },
   "outputs": [],
   "source": [
    "data = data.drop_duplicates()"
   ]
  },
  {
   "cell_type": "markdown",
   "id": "83bb5bf3",
   "metadata": {
    "deletable": false,
    "editable": false,
    "id": "9904cf55"
   },
   "source": [
    "### Категоризация данных"
   ]
  },
  {
   "cell_type": "markdown",
   "id": "e0472cc0",
   "metadata": {
    "deletable": false,
    "editable": false,
    "id": "72fcc8a2"
   },
   "source": [
    "**Задание 16. На основании диапазонов, указанных ниже, создайте в датафрейме `data` столбец `total_income_category` с категориями:**\n",
    "\n",
    "- 0–30000 — `'E'`;\n",
    "- 30001–50000 — `'D'`;\n",
    "- 50001–200000 — `'C'`;\n",
    "- 200001–1000000 — `'B'`;\n",
    "- 1000001 и выше — `'A'`.\n",
    "\n",
    "\n",
    "**Например, кредитополучателю с доходом 25000 нужно назначить категорию `'E'`, а клиенту, получающему 235000, — `'B'`. Используйте собственную функцию с именем `categorize_income()` и метод `apply()`.**"
   ]
  },
  {
   "cell_type": "code",
   "execution_count": 17,
   "id": "8b1f0dd8",
   "metadata": {
    "deletable": false,
    "id": "e1771346"
   },
   "outputs": [],
   "source": [
    "def categorize_income(income):\n",
    "    try:\n",
    "        if 0 <= income <= 30000:\n",
    "            return 'E'\n",
    "        elif 30001 <= income <= 50000:\n",
    "            return 'D'\n",
    "        elif 50001 <= income <= 200000:\n",
    "            return 'C'\n",
    "        elif 200001 <= income <= 1000000:\n",
    "            return 'B'\n",
    "        elif income >= 1000001:\n",
    "            return 'A'\n",
    "    except:\n",
    "        pass"
   ]
  },
  {
   "cell_type": "code",
   "execution_count": 18,
   "id": "c47bafab",
   "metadata": {
    "deletable": false,
    "id": "d5f3586d"
   },
   "outputs": [],
   "source": [
    "data['total_income_category'] = data['total_income'].apply(categorize_income)"
   ]
  },
  {
   "cell_type": "markdown",
   "id": "53336370",
   "metadata": {
    "deletable": false,
    "editable": false,
    "id": "dde49b5c"
   },
   "source": [
    "**Задание 17. Выведите на экран перечень уникальных целей взятия кредита из столбца `purpose`.**"
   ]
  },
  {
   "cell_type": "code",
   "execution_count": 19,
   "id": "5fca525a",
   "metadata": {
    "deletable": false,
    "id": "f67ce9b3",
    "outputId": "673c12d9-7d7e-4ae0-9812-c622c89dd244"
   },
   "outputs": [
    {
     "data": {
      "text/plain": [
       "array(['покупка жилья', 'приобретение автомобиля',\n",
       "       'дополнительное образование', 'сыграть свадьбу',\n",
       "       'операции с жильем', 'образование', 'на проведение свадьбы',\n",
       "       'покупка жилья для семьи', 'покупка недвижимости',\n",
       "       'покупка коммерческой недвижимости', 'покупка жилой недвижимости',\n",
       "       'строительство собственной недвижимости', 'недвижимость',\n",
       "       'строительство недвижимости', 'на покупку подержанного автомобиля',\n",
       "       'на покупку своего автомобиля',\n",
       "       'операции с коммерческой недвижимостью',\n",
       "       'строительство жилой недвижимости', 'жилье',\n",
       "       'операции со своей недвижимостью', 'автомобили',\n",
       "       'заняться образованием', 'сделка с подержанным автомобилем',\n",
       "       'получение образования', 'автомобиль', 'свадьба',\n",
       "       'получение дополнительного образования', 'покупка своего жилья',\n",
       "       'операции с недвижимостью', 'получение высшего образования',\n",
       "       'свой автомобиль', 'сделка с автомобилем',\n",
       "       'профильное образование', 'высшее образование',\n",
       "       'покупка жилья для сдачи', 'на покупку автомобиля', 'ремонт жилью',\n",
       "       'заняться высшим образованием'], dtype=object)"
      ]
     },
     "execution_count": 19,
     "metadata": {},
     "output_type": "execute_result"
    }
   ],
   "source": [
    "data['purpose'].unique()"
   ]
  },
  {
   "cell_type": "markdown",
   "id": "d5f15262",
   "metadata": {
    "deletable": false,
    "editable": false,
    "id": "85d0aef0"
   },
   "source": [
    "**Задание 18. Создайте функцию, которая на основании данных из столбца `purpose` сформирует новый столбец `purpose_category`, в который войдут следующие категории:**\n",
    "\n",
    "- `'операции с автомобилем'`,\n",
    "- `'операции с недвижимостью'`,\n",
    "- `'проведение свадьбы'`,\n",
    "- `'получение образования'`.\n",
    "\n",
    "**Например, если в столбце `purpose` находится подстрока `'на покупку автомобиля'`, то в столбце `purpose_category` должна появиться строка `'операции с автомобилем'`.**\n",
    "\n",
    "**Используйте собственную функцию с именем `categorize_purpose()` и метод `apply()`. Изучите данные в столбце `purpose` и определите, какие подстроки помогут вам правильно определить категорию.**"
   ]
  },
  {
   "cell_type": "code",
   "execution_count": 20,
   "id": "4751046a",
   "metadata": {
    "deletable": false,
    "id": "e149fab4"
   },
   "outputs": [],
   "source": [
    "def categorize_purpose(row):\n",
    "    try:\n",
    "        if 'автом' in row:\n",
    "            return 'операции с автомобилем'\n",
    "        elif 'жил' in row or 'недвиж' in row:\n",
    "            return 'операции с недвижимостью'\n",
    "        elif 'свад' in row:\n",
    "            return 'проведение свадьбы'\n",
    "        elif 'образов' in row:\n",
    "            return 'получение образования'\n",
    "    except:\n",
    "        return 'нет категории'"
   ]
  },
  {
   "cell_type": "code",
   "execution_count": 21,
   "id": "3b19fa8d",
   "metadata": {
    "deletable": false,
    "id": "bf36e69b"
   },
   "outputs": [],
   "source": [
    "data['purpose_category'] = data['purpose'].apply(categorize_purpose)"
   ]
  },
  {
   "cell_type": "markdown",
   "id": "fd2a4f84",
   "metadata": {
    "deletable": false,
    "editable": false,
    "id": "09b242bf"
   },
   "source": [
    "### Шаг 3. Исследуйте данные и ответьте на вопросы"
   ]
  },
  {
   "cell_type": "markdown",
   "id": "e84abf63",
   "metadata": {
    "deletable": false,
    "editable": false,
    "id": "c5d66278"
   },
   "source": [
    "#### 3.1 Есть ли зависимость между количеством детей и возвратом кредита в срок?"
   ]
  },
  {
   "cell_type": "code",
   "execution_count": 22,
   "id": "6c4e5606",
   "metadata": {
    "deletable": false,
    "id": "2cacfc4a"
   },
   "outputs": [],
   "source": [
    "#number_of_children_set = data.groupby('children')['debt'].sum() / \\\n",
    "#    data.groupby('children')['debt'].count() * 100\n",
    "#print(number_of_children_set)"
   ]
  },
  {
   "cell_type": "code",
   "execution_count": 23,
   "id": "99177125",
   "metadata": {},
   "outputs": [
    {
     "name": "stdout",
     "output_type": "stream",
     "text": [
      "          Без задолженности  С задолженностью  % должников\n",
      "children                                                  \n",
      "0                   13028.0            1063.0     7.543822\n",
      "1                    4364.0             444.0     9.234609\n",
      "2                    1858.0             194.0     9.454191\n",
      "3                     303.0              27.0     8.181818\n",
      "4                      37.0               4.0     9.756098\n",
      "5                       9.0               NaN          NaN\n"
     ]
    }
   ],
   "source": [
    "pivot_table_children = data.pivot_table(index='children', columns= 'debt', values='days_employed', aggfunc='count')\n",
    "pivot_table_children['ratio'] = pivot_table_children[1] / (pivot_table_children[1] + pivot_table_children[0]) * 100\n",
    "pivot_table_children.columns = ['Без задолженности','С задолженностью','% должников']\n",
    "print(pivot_table_children)"
   ]
  },
  {
   "cell_type": "markdown",
   "id": "1c632d58",
   "metadata": {
    "deletable": false,
    "id": "3a6b99ec"
   },
   "source": [
    "Клиенты без детей выплачивают кредит лучше, нежели с детьми."
   ]
  },
  {
   "cell_type": "markdown",
   "id": "3cc6e730",
   "metadata": {
    "deletable": false,
    "editable": false,
    "id": "97be82ca"
   },
   "source": [
    "#### 3.2 Есть ли зависимость между семейным положением и возвратом кредита в срок?"
   ]
  },
  {
   "cell_type": "code",
   "execution_count": 24,
   "id": "2feeba36",
   "metadata": {
    "deletable": false,
    "id": "dc3f7ee8"
   },
   "outputs": [
    {
     "name": "stdout",
     "output_type": "stream",
     "text": [
      "family_status\n",
      "Не женат / не замужем    9.763948\n",
      "в разводе                7.064760\n",
      "вдовец / вдова           6.624606\n",
      "гражданский брак         9.313014\n",
      "женат / замужем          7.560558\n",
      "Name: debt, dtype: float64\n"
     ]
    }
   ],
   "source": [
    "family_status_set = data.groupby('family_status')['debt'].sum() / \\\n",
    "      data.groupby('family_status')['debt'].count() * 100\n",
    "print(family_status_set)"
   ]
  },
  {
   "cell_type": "code",
   "execution_count": 25,
   "id": "f3406fcc",
   "metadata": {},
   "outputs": [
    {
     "name": "stdout",
     "output_type": "stream",
     "text": [
      "debt                       0    1      ratio\n",
      "family_status                               \n",
      "Не женат / не замужем   2523  273  10.820452\n",
      "в разводе               1105   84   7.601810\n",
      "вдовец / вдова           888   63   7.094595\n",
      "гражданский брак        3749  385  10.269405\n",
      "женат / замужем        11334  927   8.178931\n"
     ]
    }
   ],
   "source": [
    "family_status_pivot = data.pivot_table(index=['family_status'], columns=['debt'], values='total_income', aggfunc='count')\n",
    "family_status_pivot['ratio'] = family_status_pivot[1] / family_status_pivot[0] * 100\n",
    "print(family_status_pivot)"
   ]
  },
  {
   "cell_type": "markdown",
   "id": "79f00bf2",
   "metadata": {
    "deletable": false,
    "id": "1cef7837"
   },
   "source": [
    "**Вывод:** Семейное положение влияет на возвращаемость кредитов. Самые низкие значения у людей в разводе или вдовцов/вдов. Можно предположить, что возвращаемость кредита лучше при наличии супруга/супруги в семье."
   ]
  },
  {
   "cell_type": "markdown",
   "id": "0dbd832b",
   "metadata": {
    "deletable": false,
    "editable": false,
    "id": "1e8b2fca"
   },
   "source": [
    "#### 3.3 Есть ли зависимость между уровнем дохода и возвратом кредита в срок?"
   ]
  },
  {
   "cell_type": "code",
   "execution_count": 26,
   "id": "fa83ecaa",
   "metadata": {
    "deletable": false,
    "id": "cd7e3720"
   },
   "outputs": [
    {
     "data": {
      "text/html": [
       "<div>\n",
       "<style scoped>\n",
       "    .dataframe tbody tr th:only-of-type {\n",
       "        vertical-align: middle;\n",
       "    }\n",
       "\n",
       "    .dataframe tbody tr th {\n",
       "        vertical-align: top;\n",
       "    }\n",
       "\n",
       "    .dataframe thead th {\n",
       "        text-align: right;\n",
       "    }\n",
       "</style>\n",
       "<table border=\"1\" class=\"dataframe\">\n",
       "  <thead>\n",
       "    <tr style=\"text-align: right;\">\n",
       "      <th></th>\n",
       "      <th>Без задолженности</th>\n",
       "      <th>С задолженностью</th>\n",
       "      <th>% должников</th>\n",
       "    </tr>\n",
       "    <tr>\n",
       "      <th>total_income_category</th>\n",
       "      <th></th>\n",
       "      <th></th>\n",
       "      <th></th>\n",
       "    </tr>\n",
       "  </thead>\n",
       "  <tbody>\n",
       "    <tr>\n",
       "      <th>E</th>\n",
       "      <td>20</td>\n",
       "      <td>2</td>\n",
       "      <td>9.090909</td>\n",
       "    </tr>\n",
       "    <tr>\n",
       "      <th>C</th>\n",
       "      <td>14568</td>\n",
       "      <td>1353</td>\n",
       "      <td>8.498210</td>\n",
       "    </tr>\n",
       "    <tr>\n",
       "      <th>A</th>\n",
       "      <td>23</td>\n",
       "      <td>2</td>\n",
       "      <td>8.000000</td>\n",
       "    </tr>\n",
       "    <tr>\n",
       "      <th>B</th>\n",
       "      <td>4660</td>\n",
       "      <td>354</td>\n",
       "      <td>7.060231</td>\n",
       "    </tr>\n",
       "    <tr>\n",
       "      <th>D</th>\n",
       "      <td>328</td>\n",
       "      <td>21</td>\n",
       "      <td>6.017192</td>\n",
       "    </tr>\n",
       "  </tbody>\n",
       "</table>\n",
       "</div>"
      ],
      "text/plain": [
       "                       Без задолженности  С задолженностью  % должников\n",
       "total_income_category                                                  \n",
       "E                                     20                 2     9.090909\n",
       "C                                  14568              1353     8.498210\n",
       "A                                     23                 2     8.000000\n",
       "B                                   4660               354     7.060231\n",
       "D                                    328                21     6.017192"
      ]
     },
     "execution_count": 26,
     "metadata": {},
     "output_type": "execute_result"
    }
   ],
   "source": [
    "pivot_table_income = data.pivot_table(index='total_income_category', columns= 'debt', values='days_employed', aggfunc='count')\n",
    "pivot_table_income['ratio'] = pivot_table_income[1] / (pivot_table_income[1] + pivot_table_income[0]) * 100\n",
    "pivot_table_income.columns = ['Без задолженности','С задолженностью','% должников']\n",
    "pivot_table_income.sort_values(by = '% должников', ascending = False)"
   ]
  },
  {
   "cell_type": "markdown",
   "id": "82ad1197",
   "metadata": {
    "deletable": false,
    "id": "e8593def"
   },
   "source": [
    "**Вывод:** Имеется разница в возвращаемости кредитов людьми с разным уровнем дохода. Самый худший показатель - у людей c очень низкими доходами, категория Е. Люди, имеющие категорию D, имеют самый низкий % задолженностей."
   ]
  },
  {
   "cell_type": "markdown",
   "id": "24688110",
   "metadata": {
    "deletable": false,
    "editable": false,
    "id": "99ecbd1f"
   },
   "source": [
    "#### 3.4 Как разные цели кредита влияют на его возврат в срок?"
   ]
  },
  {
   "cell_type": "code",
   "execution_count": 27,
   "id": "b6729e49",
   "metadata": {
    "deletable": false,
    "id": "2b687290"
   },
   "outputs": [],
   "source": [
    "#credit_purpose_set = data.groupby('purpose_category')['debt'].sum() / \\\n",
    "#      data.groupby('purpose_category')['debt'].count() * 100\n",
    "#print(credit_purpose_set)"
   ]
  },
  {
   "cell_type": "code",
   "execution_count": 28,
   "id": "aed8fa88",
   "metadata": {},
   "outputs": [
    {
     "name": "stdout",
     "output_type": "stream",
     "text": [
      "                          Без задолженности  С задолженностью  % должников\n",
      "purpose_category                                                          \n",
      "операции с автомобилем                 3879               400     9.347978\n",
      "получение образования                  3619               369     9.252758\n",
      "проведение свадьбы                     2130               183     7.911803\n",
      "операции с недвижимостью               9971               780     7.255139\n"
     ]
    }
   ],
   "source": [
    "pivot_table_purpose = data.pivot_table(index='purpose_category', columns= 'debt', values='days_employed', aggfunc='count')\n",
    "pivot_table_purpose['ratio'] = pivot_table_purpose[1] / (pivot_table_purpose[1] + pivot_table_purpose[0]) * 100\n",
    "pivot_table_purpose.columns = ['Без задолженности','С задолженностью','% должников']\n",
    "print(pivot_table_purpose.sort_values(by = '% должников', ascending = False))"
   ]
  },
  {
   "cell_type": "markdown",
   "id": "880fc4d3",
   "metadata": {
    "deletable": false,
    "id": "b4bb2ce6"
   },
   "source": [
    "Вывод: Клиенты, взявшие кредит на покупку недвижимости и проведение свадьбы менее склонны иметь задолженность по выплатам перед банком."
   ]
  },
  {
   "cell_type": "markdown",
   "id": "cfaacdf2",
   "metadata": {
    "deletable": false,
    "editable": false,
    "id": "09c3ac4c"
   },
   "source": [
    "#### 3.5 Приведите возможные причины появления пропусков в исходных данных."
   ]
  },
  {
   "cell_type": "markdown",
   "id": "c456aafd",
   "metadata": {
    "deletable": false,
    "id": "9da2ceda"
   },
   "source": [
    "Пропуски имеются только в двух столбцах - в днях стажа и ежемесячном доходе, при чем одинаковое количество. Вероятно, что часть клиентов не работали и попросту не получали зарплату."
   ]
  },
  {
   "cell_type": "markdown",
   "id": "abfed6ee",
   "metadata": {
    "deletable": false,
    "editable": false,
    "id": "7b0487d6"
   },
   "source": [
    "#### 3.6 Объясните, почему заполнить пропуски медианным значением — лучшее решение для количественных переменных."
   ]
  },
  {
   "cell_type": "markdown",
   "id": "4575f695",
   "metadata": {
    "deletable": false,
    "id": "7ecf2b8e"
   },
   "source": [
    "Медиана более устойчивая характеристика, так как на нее не влияют случайные выбросы и шум. К тому же, если данные имеют нормальное распределение и их количество велико, то медиана будет равняться среднему значению."
   ]
  },
  {
   "cell_type": "markdown",
   "id": "e4b9b398",
   "metadata": {
    "deletable": false,
    "editable": false,
    "id": "6db5255a"
   },
   "source": [
    "### Шаг 4: общий вывод."
   ]
  },
  {
   "cell_type": "code",
   "execution_count": 29,
   "id": "8cd6436e",
   "metadata": {},
   "outputs": [
    {
     "data": {
      "text/plain": [
       "('Средняя просрочка по клиентской базе: 8.12', '%')"
      ]
     },
     "execution_count": 29,
     "metadata": {},
     "output_type": "execute_result"
    }
   ],
   "source": [
    "\"Средняя просрочка по клиентской базе: %.2f\" % ((data['debt'].sum()/len(data)*100)), '%'"
   ]
  },
  {
   "cell_type": "markdown",
   "id": "5bb2767f",
   "metadata": {
    "deletable": false,
    "id": "bad65432"
   },
   "source": [
    "Выводы по результатам исследования:\n",
    "Относительно средней величины задолженности по возврату кредитов по различным категориям клиентов имеют разброс около 2%.\n",
    "Несмотря на то, что в относительных величинах значение небольшое, для банка это может иметь существенное значение, так как суммы оборота кредитных средств в абсолютных величинах весьма внушительные.\n",
    "Рекомендации по результатам исследования:\n",
    "Проведенное исследование поможет банку оценить риски для категорий клиентов с отклонением значения задолженности в большую сторону. \n",
    "Чтобы компенсировать риски банк может применить защитные механизмы - повышенную ставку для рискованных категорий или услуги страхования от невыплаты.\n",
    "Также результаты исследования могут быть использованы службой маркетинга, например для корректировки целевой аудитории в рекламных компаниях."
   ]
  }
 ],
 "metadata": {
  "ExecuteTimeLog": [
   {
    "duration": 429,
    "start_time": "2022-09-16T15:31:26.433Z"
   },
   {
    "duration": 32,
    "start_time": "2022-09-16T15:31:26.864Z"
   },
   {
    "duration": 16,
    "start_time": "2022-09-16T15:31:26.897Z"
   },
   {
    "duration": 9,
    "start_time": "2022-09-16T15:31:26.914Z"
   },
   {
    "duration": 30,
    "start_time": "2022-09-16T15:31:26.925Z"
   },
   {
    "duration": 3,
    "start_time": "2022-09-16T15:31:26.957Z"
   },
   {
    "duration": 27,
    "start_time": "2022-09-16T15:31:26.961Z"
   },
   {
    "duration": 4,
    "start_time": "2022-09-16T15:31:26.990Z"
   },
   {
    "duration": 10,
    "start_time": "2022-09-16T15:31:26.996Z"
   },
   {
    "duration": 5,
    "start_time": "2022-09-16T15:31:27.007Z"
   },
   {
    "duration": 32,
    "start_time": "2022-09-16T15:31:27.013Z"
   },
   {
    "duration": 9,
    "start_time": "2022-09-16T15:31:27.046Z"
   },
   {
    "duration": 8,
    "start_time": "2022-09-16T15:31:27.082Z"
   },
   {
    "duration": 13,
    "start_time": "2022-09-16T15:31:27.093Z"
   },
   {
    "duration": 20,
    "start_time": "2022-09-16T15:31:27.107Z"
   },
   {
    "duration": 15,
    "start_time": "2022-09-16T15:31:27.128Z"
   },
   {
    "duration": 3,
    "start_time": "2022-09-16T15:31:27.145Z"
   },
   {
    "duration": 28,
    "start_time": "2022-09-16T15:31:27.150Z"
   },
   {
    "duration": 8,
    "start_time": "2022-09-16T15:31:27.179Z"
   },
   {
    "duration": 7,
    "start_time": "2022-09-16T15:31:27.189Z"
   },
   {
    "duration": 15,
    "start_time": "2022-09-16T15:31:27.197Z"
   },
   {
    "duration": 8,
    "start_time": "2022-09-16T15:31:27.214Z"
   },
   {
    "duration": 7,
    "start_time": "2022-09-16T15:31:27.223Z"
   },
   {
    "duration": 4,
    "start_time": "2022-09-16T15:31:27.232Z"
   },
   {
    "duration": 7,
    "start_time": "2022-09-16T15:31:27.238Z"
   },
   {
    "duration": 563,
    "start_time": "2022-09-23T09:37:51.079Z"
   },
   {
    "duration": 23,
    "start_time": "2022-09-23T09:37:51.645Z"
   },
   {
    "duration": 15,
    "start_time": "2022-09-23T09:37:51.670Z"
   },
   {
    "duration": 9,
    "start_time": "2022-09-23T09:37:51.687Z"
   },
   {
    "duration": 34,
    "start_time": "2022-09-23T09:37:51.698Z"
   },
   {
    "duration": 4,
    "start_time": "2022-09-23T09:37:51.733Z"
   },
   {
    "duration": 10,
    "start_time": "2022-09-23T09:37:51.738Z"
   },
   {
    "duration": 4,
    "start_time": "2022-09-23T09:37:51.750Z"
   },
   {
    "duration": 9,
    "start_time": "2022-09-23T09:37:51.755Z"
   },
   {
    "duration": 30,
    "start_time": "2022-09-23T09:37:51.766Z"
   },
   {
    "duration": 34,
    "start_time": "2022-09-23T09:37:51.798Z"
   },
   {
    "duration": 8,
    "start_time": "2022-09-23T09:37:51.834Z"
   },
   {
    "duration": 5,
    "start_time": "2022-09-23T09:37:51.844Z"
   },
   {
    "duration": 14,
    "start_time": "2022-09-23T09:37:51.850Z"
   },
   {
    "duration": 44,
    "start_time": "2022-09-23T09:37:51.865Z"
   },
   {
    "duration": 19,
    "start_time": "2022-09-23T09:37:51.911Z"
   },
   {
    "duration": 4,
    "start_time": "2022-09-23T09:37:51.932Z"
   },
   {
    "duration": 14,
    "start_time": "2022-09-23T09:37:51.938Z"
   },
   {
    "duration": 12,
    "start_time": "2022-09-23T09:37:51.954Z"
   },
   {
    "duration": 30,
    "start_time": "2022-09-23T09:37:51.967Z"
   },
   {
    "duration": 13,
    "start_time": "2022-09-23T09:37:51.998Z"
   },
   {
    "duration": 5,
    "start_time": "2022-09-23T09:37:52.013Z"
   },
   {
    "duration": 9,
    "start_time": "2022-09-23T09:37:52.019Z"
   },
   {
    "duration": 5,
    "start_time": "2022-09-23T09:37:52.030Z"
   },
   {
    "duration": 5,
    "start_time": "2022-09-23T09:37:52.036Z"
   },
   {
    "duration": 64,
    "start_time": "2022-09-23T09:38:46.189Z"
   },
   {
    "duration": 13,
    "start_time": "2022-09-23T09:39:13.685Z"
   },
   {
    "duration": 8,
    "start_time": "2022-09-23T09:43:06.786Z"
   },
   {
    "duration": 8,
    "start_time": "2022-09-23T09:45:10.119Z"
   },
   {
    "duration": 5,
    "start_time": "2022-09-23T09:45:15.984Z"
   },
   {
    "duration": 20,
    "start_time": "2022-09-23T09:46:43.383Z"
   },
   {
    "duration": 12,
    "start_time": "2022-09-23T09:51:34.831Z"
   },
   {
    "duration": 10,
    "start_time": "2022-09-23T09:51:43.599Z"
   },
   {
    "duration": 11,
    "start_time": "2022-09-23T09:53:25.347Z"
   },
   {
    "duration": 20,
    "start_time": "2022-09-23T09:53:27.311Z"
   },
   {
    "duration": 11,
    "start_time": "2022-09-23T09:54:01.981Z"
   },
   {
    "duration": 18,
    "start_time": "2022-09-23T09:54:36.865Z"
   },
   {
    "duration": 5,
    "start_time": "2022-09-23T10:04:28.433Z"
   },
   {
    "duration": 9,
    "start_time": "2022-09-23T10:07:19.633Z"
   },
   {
    "duration": 30,
    "start_time": "2022-09-23T10:10:22.514Z"
   },
   {
    "duration": 8,
    "start_time": "2022-09-23T10:11:55.472Z"
   },
   {
    "duration": 12,
    "start_time": "2022-09-23T10:12:00.318Z"
   },
   {
    "duration": 11,
    "start_time": "2022-09-23T10:12:05.738Z"
   },
   {
    "duration": 24,
    "start_time": "2022-09-23T10:13:05.362Z"
   },
   {
    "duration": 14,
    "start_time": "2022-09-23T10:29:02.621Z"
   },
   {
    "duration": 10,
    "start_time": "2022-09-23T10:33:16.604Z"
   },
   {
    "duration": 16,
    "start_time": "2022-09-23T10:33:30.509Z"
   },
   {
    "duration": 8,
    "start_time": "2022-09-23T10:35:23.576Z"
   },
   {
    "duration": 17,
    "start_time": "2022-09-23T10:35:29.267Z"
   },
   {
    "duration": 548,
    "start_time": "2022-09-23T13:41:02.560Z"
   },
   {
    "duration": 26,
    "start_time": "2022-09-23T13:41:03.110Z"
   },
   {
    "duration": 16,
    "start_time": "2022-09-23T13:41:03.137Z"
   },
   {
    "duration": 12,
    "start_time": "2022-09-23T13:41:03.155Z"
   },
   {
    "duration": 56,
    "start_time": "2022-09-23T13:41:03.169Z"
   },
   {
    "duration": 4,
    "start_time": "2022-09-23T13:41:03.227Z"
   },
   {
    "duration": 16,
    "start_time": "2022-09-23T13:41:03.232Z"
   },
   {
    "duration": 5,
    "start_time": "2022-09-23T13:41:03.249Z"
   },
   {
    "duration": 7,
    "start_time": "2022-09-23T13:41:03.256Z"
   },
   {
    "duration": 34,
    "start_time": "2022-09-23T13:41:03.265Z"
   },
   {
    "duration": 39,
    "start_time": "2022-09-23T13:41:03.301Z"
   },
   {
    "duration": 9,
    "start_time": "2022-09-23T13:41:03.342Z"
   },
   {
    "duration": 5,
    "start_time": "2022-09-23T13:41:03.353Z"
   },
   {
    "duration": 11,
    "start_time": "2022-09-23T13:41:03.360Z"
   },
   {
    "duration": 36,
    "start_time": "2022-09-23T13:41:03.373Z"
   },
   {
    "duration": 18,
    "start_time": "2022-09-23T13:41:03.411Z"
   },
   {
    "duration": 4,
    "start_time": "2022-09-23T13:41:03.431Z"
   },
   {
    "duration": 27,
    "start_time": "2022-09-23T13:41:03.436Z"
   },
   {
    "duration": 13,
    "start_time": "2022-09-23T13:41:03.464Z"
   },
   {
    "duration": 20,
    "start_time": "2022-09-23T13:41:03.479Z"
   },
   {
    "duration": 12,
    "start_time": "2022-09-23T13:41:03.501Z"
   },
   {
    "duration": 10,
    "start_time": "2022-09-23T13:41:03.514Z"
   },
   {
    "duration": 24,
    "start_time": "2022-09-23T13:41:03.526Z"
   },
   {
    "duration": 10,
    "start_time": "2022-09-23T13:41:03.552Z"
   },
   {
    "duration": 44,
    "start_time": "2022-09-23T13:41:03.564Z"
   },
   {
    "duration": 33,
    "start_time": "2022-09-23T13:41:03.610Z"
   },
   {
    "duration": 11,
    "start_time": "2022-09-23T13:41:03.644Z"
   },
   {
    "duration": 44,
    "start_time": "2022-09-23T13:41:03.656Z"
   },
   {
    "duration": 10,
    "start_time": "2022-09-23T13:41:03.702Z"
   },
   {
    "duration": 19,
    "start_time": "2022-09-23T13:41:03.713Z"
   },
   {
    "duration": 3,
    "start_time": "2022-09-26T09:39:59.727Z"
   },
   {
    "duration": 46,
    "start_time": "2022-09-26T09:41:13.051Z"
   },
   {
    "duration": 9,
    "start_time": "2022-09-26T09:41:20.165Z"
   },
   {
    "duration": 715,
    "start_time": "2022-09-26T09:41:29.753Z"
   },
   {
    "duration": 22,
    "start_time": "2022-09-26T09:41:30.470Z"
   },
   {
    "duration": 37,
    "start_time": "2022-09-26T09:41:30.493Z"
   },
   {
    "duration": 26,
    "start_time": "2022-09-26T09:41:30.532Z"
   },
   {
    "duration": 49,
    "start_time": "2022-09-26T09:41:30.559Z"
   },
   {
    "duration": 3,
    "start_time": "2022-09-26T09:41:30.609Z"
   },
   {
    "duration": 41,
    "start_time": "2022-09-26T09:41:30.614Z"
   },
   {
    "duration": 20,
    "start_time": "2022-09-26T09:41:30.656Z"
   },
   {
    "duration": 39,
    "start_time": "2022-09-26T09:41:30.677Z"
   },
   {
    "duration": 27,
    "start_time": "2022-09-26T09:41:30.720Z"
   },
   {
    "duration": 65,
    "start_time": "2022-09-26T09:41:30.749Z"
   },
   {
    "duration": 10,
    "start_time": "2022-09-26T09:41:30.815Z"
   },
   {
    "duration": 20,
    "start_time": "2022-09-26T09:41:30.827Z"
   },
   {
    "duration": 25,
    "start_time": "2022-09-26T09:41:30.849Z"
   },
   {
    "duration": 54,
    "start_time": "2022-09-26T09:41:30.876Z"
   },
   {
    "duration": 26,
    "start_time": "2022-09-26T09:41:30.931Z"
   },
   {
    "duration": 5,
    "start_time": "2022-09-26T09:41:30.959Z"
   },
   {
    "duration": 68,
    "start_time": "2022-09-26T09:41:30.966Z"
   },
   {
    "duration": 55,
    "start_time": "2022-09-26T09:41:31.035Z"
   },
   {
    "duration": 27,
    "start_time": "2022-09-26T09:41:31.092Z"
   },
   {
    "duration": 32,
    "start_time": "2022-09-26T09:41:31.121Z"
   },
   {
    "duration": 27,
    "start_time": "2022-09-26T09:41:31.154Z"
   },
   {
    "duration": 50,
    "start_time": "2022-09-26T09:41:31.183Z"
   },
   {
    "duration": 0,
    "start_time": "2022-09-26T09:41:31.235Z"
   },
   {
    "duration": 0,
    "start_time": "2022-09-26T09:41:31.236Z"
   },
   {
    "duration": 0,
    "start_time": "2022-09-26T09:41:31.237Z"
   },
   {
    "duration": 0,
    "start_time": "2022-09-26T09:41:31.238Z"
   },
   {
    "duration": 0,
    "start_time": "2022-09-26T09:41:31.239Z"
   },
   {
    "duration": 0,
    "start_time": "2022-09-26T09:41:31.239Z"
   },
   {
    "duration": 0,
    "start_time": "2022-09-26T09:41:31.240Z"
   },
   {
    "duration": 14,
    "start_time": "2022-09-26T09:41:38.807Z"
   },
   {
    "duration": 16,
    "start_time": "2022-09-26T10:11:33.673Z"
   },
   {
    "duration": 2,
    "start_time": "2022-09-26T10:53:12.065Z"
   },
   {
    "duration": 4,
    "start_time": "2022-09-26T10:54:24.908Z"
   },
   {
    "duration": 18,
    "start_time": "2022-09-26T10:54:55.711Z"
   },
   {
    "duration": 19,
    "start_time": "2022-09-26T11:02:41.080Z"
   },
   {
    "duration": 5,
    "start_time": "2022-09-26T11:14:25.234Z"
   },
   {
    "duration": 482,
    "start_time": "2023-07-18T07:20:26.948Z"
   },
   {
    "duration": 36,
    "start_time": "2023-07-18T07:20:27.441Z"
   },
   {
    "duration": 28,
    "start_time": "2023-07-18T07:20:27.479Z"
   },
   {
    "duration": 12,
    "start_time": "2023-07-18T07:20:27.509Z"
   },
   {
    "duration": 64,
    "start_time": "2023-07-18T07:20:27.523Z"
   },
   {
    "duration": 4,
    "start_time": "2023-07-18T07:20:27.590Z"
   },
   {
    "duration": 15,
    "start_time": "2023-07-18T07:20:27.595Z"
   },
   {
    "duration": 34,
    "start_time": "2023-07-18T07:20:27.612Z"
   },
   {
    "duration": 32,
    "start_time": "2023-07-18T07:20:27.652Z"
   },
   {
    "duration": 6,
    "start_time": "2023-07-18T07:20:27.686Z"
   },
   {
    "duration": 81,
    "start_time": "2023-07-18T07:20:27.694Z"
   },
   {
    "duration": 14,
    "start_time": "2023-07-18T07:20:27.779Z"
   },
   {
    "duration": 7,
    "start_time": "2023-07-18T07:20:27.794Z"
   },
   {
    "duration": 34,
    "start_time": "2023-07-18T07:20:27.804Z"
   },
   {
    "duration": 240,
    "start_time": "2023-07-18T07:20:27.844Z"
   },
   {
    "duration": 17,
    "start_time": "2023-07-18T07:20:28.086Z"
   },
   {
    "duration": 16,
    "start_time": "2023-07-18T07:20:28.105Z"
   },
   {
    "duration": 52,
    "start_time": "2023-07-18T07:20:28.122Z"
   },
   {
    "duration": 11,
    "start_time": "2023-07-18T07:20:28.176Z"
   },
   {
    "duration": 15,
    "start_time": "2023-07-18T07:20:28.188Z"
   },
   {
    "duration": 16,
    "start_time": "2023-07-18T07:20:28.205Z"
   },
   {
    "duration": 4,
    "start_time": "2023-07-18T07:20:28.223Z"
   },
   {
    "duration": 55,
    "start_time": "2023-07-18T07:20:28.229Z"
   },
   {
    "duration": 14,
    "start_time": "2023-07-18T07:20:28.286Z"
   },
   {
    "duration": 42,
    "start_time": "2023-07-18T07:20:28.302Z"
   },
   {
    "duration": 57,
    "start_time": "2023-07-18T07:20:28.346Z"
   },
   {
    "duration": 4,
    "start_time": "2023-07-18T07:20:28.405Z"
   },
   {
    "duration": 54,
    "start_time": "2023-07-18T07:20:28.411Z"
   },
   {
    "duration": 26,
    "start_time": "2023-07-18T07:20:28.468Z"
   }
  ],
  "colab": {
   "name": "dpp_template_part2.ipynb",
   "provenance": []
  },
  "kernelspec": {
   "display_name": "Python 3 (ipykernel)",
   "language": "python",
   "name": "python3"
  },
  "language_info": {
   "codemirror_mode": {
    "name": "ipython",
    "version": 3
   },
   "file_extension": ".py",
   "mimetype": "text/x-python",
   "name": "python",
   "nbconvert_exporter": "python",
   "pygments_lexer": "ipython3",
   "version": "3.9.5"
  },
  "toc": {
   "base_numbering": 1,
   "nav_menu": {},
   "number_sections": false,
   "sideBar": true,
   "skip_h1_title": true,
   "title_cell": "Table of Contents",
   "title_sidebar": "Contents",
   "toc_cell": false,
   "toc_position": {},
   "toc_section_display": true,
   "toc_window_display": true
  }
 },
 "nbformat": 4,
 "nbformat_minor": 5
}
