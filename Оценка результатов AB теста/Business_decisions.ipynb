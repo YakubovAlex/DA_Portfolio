{
 "cells": [
  {
   "cell_type": "markdown",
   "metadata": {},
   "source": [
    "Увеличение выручки интернет-магазина. Приоритизация гипотез и  анализ результатов А/В теста\n",
    "====================================================="
   ]
  },
  {
   "cell_type": "markdown",
   "metadata": {},
   "source": [
    "## Описание проекта"
   ]
  },
  {
   "cell_type": "markdown",
   "metadata": {},
   "source": [
    "Аналитическим отделом совместно с отделом маркетинга крупного интернет магазина подготовлен список гипотез для увеличения выручки.\n",
    "Требуется:\n",
    "- приоритизировать гипотезы\n",
    "- запустить A/B-тест \n",
    "- проанализировать результаты. "
   ]
  },
  {
   "cell_type": "markdown",
   "metadata": {},
   "source": [
    "## Содержание проекта\n",
    "### **Часть 1. Приоритизация гипотец**  \n",
    "### **Часть 2. Анализ A/B-теста**  \n"
   ]
  },
  {
   "cell_type": "markdown",
   "metadata": {},
   "source": [
    "## Часть 1. Приоритизация гипотец"
   ]
  },
  {
   "cell_type": "code",
   "execution_count": 1,
   "metadata": {},
   "outputs": [],
   "source": [
    "#импортируем библиотеки\n",
    "import pandas as pd\n",
    "import matplotlib.pyplot as plt\n",
    "import seaborn as sns\n",
    "import numpy as np\n",
    "import datetime as dt\n",
    "import scipy.stats as stats"
   ]
  },
  {
   "cell_type": "code",
   "execution_count": 2,
   "metadata": {},
   "outputs": [],
   "source": [
    "# считаем файл с данными\n",
    "hypothesis = pd.read_csv('/datasets/hypothesis.csv')"
   ]
  },
  {
   "cell_type": "code",
   "execution_count": 3,
   "metadata": {},
   "outputs": [],
   "source": [
    "# приведем названия колонок к нижнему регистру\n",
    "hypothesis.columns = hypothesis.columns.str.lower()\n"
   ]
  },
  {
   "cell_type": "code",
   "execution_count": 4,
   "metadata": {},
   "outputs": [
    {
     "data": {
      "text/html": [
       "<div>\n",
       "<style scoped>\n",
       "    .dataframe tbody tr th:only-of-type {\n",
       "        vertical-align: middle;\n",
       "    }\n",
       "\n",
       "    .dataframe tbody tr th {\n",
       "        vertical-align: top;\n",
       "    }\n",
       "\n",
       "    .dataframe thead th {\n",
       "        text-align: right;\n",
       "    }\n",
       "</style>\n",
       "<table border=\"1\" class=\"dataframe\">\n",
       "  <thead>\n",
       "    <tr style=\"text-align: right;\">\n",
       "      <th></th>\n",
       "      <th>hypothesis</th>\n",
       "      <th>reach</th>\n",
       "      <th>impact</th>\n",
       "      <th>confidence</th>\n",
       "      <th>efforts</th>\n",
       "    </tr>\n",
       "  </thead>\n",
       "  <tbody>\n",
       "    <tr>\n",
       "      <th>1</th>\n",
       "      <td>Добавить два новых канала привлечения трафика,...</td>\n",
       "      <td>3</td>\n",
       "      <td>10</td>\n",
       "      <td>8</td>\n",
       "      <td>6</td>\n",
       "    </tr>\n",
       "    <tr>\n",
       "      <th>2</th>\n",
       "      <td>Запустить собственную службу доставки, что сок...</td>\n",
       "      <td>2</td>\n",
       "      <td>5</td>\n",
       "      <td>4</td>\n",
       "      <td>10</td>\n",
       "    </tr>\n",
       "    <tr>\n",
       "      <th>3</th>\n",
       "      <td>Добавить блоки рекомендаций товаров на сайт ин...</td>\n",
       "      <td>8</td>\n",
       "      <td>3</td>\n",
       "      <td>7</td>\n",
       "      <td>3</td>\n",
       "    </tr>\n",
       "    <tr>\n",
       "      <th>4</th>\n",
       "      <td>Изменить структура категорий, что увеличит кон...</td>\n",
       "      <td>8</td>\n",
       "      <td>3</td>\n",
       "      <td>3</td>\n",
       "      <td>8</td>\n",
       "    </tr>\n",
       "    <tr>\n",
       "      <th>5</th>\n",
       "      <td>Изменить цвет фона главной страницы, чтобы уве...</td>\n",
       "      <td>3</td>\n",
       "      <td>1</td>\n",
       "      <td>1</td>\n",
       "      <td>1</td>\n",
       "    </tr>\n",
       "    <tr>\n",
       "      <th>6</th>\n",
       "      <td>Добавить страницу отзывов клиентов о магазине,...</td>\n",
       "      <td>3</td>\n",
       "      <td>2</td>\n",
       "      <td>2</td>\n",
       "      <td>3</td>\n",
       "    </tr>\n",
       "    <tr>\n",
       "      <th>7</th>\n",
       "      <td>Показать на главной странице баннеры с актуаль...</td>\n",
       "      <td>5</td>\n",
       "      <td>3</td>\n",
       "      <td>8</td>\n",
       "      <td>3</td>\n",
       "    </tr>\n",
       "    <tr>\n",
       "      <th>8</th>\n",
       "      <td>Добавить форму подписки на все основные страни...</td>\n",
       "      <td>10</td>\n",
       "      <td>7</td>\n",
       "      <td>8</td>\n",
       "      <td>5</td>\n",
       "    </tr>\n",
       "    <tr>\n",
       "      <th>9</th>\n",
       "      <td>Запустить акцию, дающую скидку на товар в день...</td>\n",
       "      <td>1</td>\n",
       "      <td>9</td>\n",
       "      <td>9</td>\n",
       "      <td>5</td>\n",
       "    </tr>\n",
       "  </tbody>\n",
       "</table>\n",
       "</div>"
      ],
      "text/plain": [
       "                                          hypothesis  reach  impact  \\\n",
       "1  Добавить два новых канала привлечения трафика,...      3      10   \n",
       "2  Запустить собственную службу доставки, что сок...      2       5   \n",
       "3  Добавить блоки рекомендаций товаров на сайт ин...      8       3   \n",
       "4  Изменить структура категорий, что увеличит кон...      8       3   \n",
       "5  Изменить цвет фона главной страницы, чтобы уве...      3       1   \n",
       "6  Добавить страницу отзывов клиентов о магазине,...      3       2   \n",
       "7  Показать на главной странице баннеры с актуаль...      5       3   \n",
       "8  Добавить форму подписки на все основные страни...     10       7   \n",
       "9  Запустить акцию, дающую скидку на товар в день...      1       9   \n",
       "\n",
       "   confidence  efforts  \n",
       "1           8        6  \n",
       "2           4       10  \n",
       "3           7        3  \n",
       "4           3        8  \n",
       "5           1        1  \n",
       "6           2        3  \n",
       "7           8        3  \n",
       "8           8        5  \n",
       "9           9        5  "
      ]
     },
     "execution_count": 4,
     "metadata": {},
     "output_type": "execute_result"
    }
   ],
   "source": [
    "#пронумеруем гипотезы с единицы, а не нуля\n",
    "hypothesis = hypothesis.rename(index = lambda x: x+1)\n",
    "hypothesis"
   ]
  },
  {
   "cell_type": "code",
   "execution_count": 5,
   "metadata": {},
   "outputs": [],
   "source": [
    "#снимем ограничение на количество выводимых символов в поле\n",
    "pd.set_option('max_colwidth', 200)"
   ]
  },
  {
   "cell_type": "code",
   "execution_count": 6,
   "metadata": {},
   "outputs": [
    {
     "data": {
      "text/html": [
       "<div>\n",
       "<style scoped>\n",
       "    .dataframe tbody tr th:only-of-type {\n",
       "        vertical-align: middle;\n",
       "    }\n",
       "\n",
       "    .dataframe tbody tr th {\n",
       "        vertical-align: top;\n",
       "    }\n",
       "\n",
       "    .dataframe thead th {\n",
       "        text-align: right;\n",
       "    }\n",
       "</style>\n",
       "<table border=\"1\" class=\"dataframe\">\n",
       "  <thead>\n",
       "    <tr style=\"text-align: right;\">\n",
       "      <th></th>\n",
       "      <th>hypothesis</th>\n",
       "      <th>ICE</th>\n",
       "    </tr>\n",
       "  </thead>\n",
       "  <tbody>\n",
       "    <tr>\n",
       "      <th>9</th>\n",
       "      <td>Запустить акцию, дающую скидку на товар в день рождения</td>\n",
       "      <td>16.20</td>\n",
       "    </tr>\n",
       "    <tr>\n",
       "      <th>1</th>\n",
       "      <td>Добавить два новых канала привлечения трафика, что позволит привлекать на 30% больше пользователей</td>\n",
       "      <td>13.33</td>\n",
       "    </tr>\n",
       "    <tr>\n",
       "      <th>8</th>\n",
       "      <td>Добавить форму подписки на все основные страницы, чтобы собрать базу клиентов для email-рассылок</td>\n",
       "      <td>11.20</td>\n",
       "    </tr>\n",
       "    <tr>\n",
       "      <th>7</th>\n",
       "      <td>Показать на главной странице баннеры с актуальными акциями и распродажами, чтобы увеличить конверсию</td>\n",
       "      <td>8.00</td>\n",
       "    </tr>\n",
       "    <tr>\n",
       "      <th>3</th>\n",
       "      <td>Добавить блоки рекомендаций товаров на сайт интернет магазина, чтобы повысить конверсию и средний чек заказа</td>\n",
       "      <td>7.00</td>\n",
       "    </tr>\n",
       "    <tr>\n",
       "      <th>2</th>\n",
       "      <td>Запустить собственную службу доставки, что сократит срок доставки заказов</td>\n",
       "      <td>2.00</td>\n",
       "    </tr>\n",
       "    <tr>\n",
       "      <th>6</th>\n",
       "      <td>Добавить страницу отзывов клиентов о магазине, что позволит увеличить количество заказов</td>\n",
       "      <td>1.33</td>\n",
       "    </tr>\n",
       "    <tr>\n",
       "      <th>4</th>\n",
       "      <td>Изменить структура категорий, что увеличит конверсию, т.к. пользователи быстрее найдут нужный товар</td>\n",
       "      <td>1.12</td>\n",
       "    </tr>\n",
       "    <tr>\n",
       "      <th>5</th>\n",
       "      <td>Изменить цвет фона главной страницы, чтобы увеличить вовлеченность пользователей</td>\n",
       "      <td>1.00</td>\n",
       "    </tr>\n",
       "  </tbody>\n",
       "</table>\n",
       "</div>"
      ],
      "text/plain": [
       "                                                                                                     hypothesis  \\\n",
       "9                                                       Запустить акцию, дающую скидку на товар в день рождения   \n",
       "1            Добавить два новых канала привлечения трафика, что позволит привлекать на 30% больше пользователей   \n",
       "8              Добавить форму подписки на все основные страницы, чтобы собрать базу клиентов для email-рассылок   \n",
       "7          Показать на главной странице баннеры с актуальными акциями и распродажами, чтобы увеличить конверсию   \n",
       "3  Добавить блоки рекомендаций товаров на сайт интернет магазина, чтобы повысить конверсию и средний чек заказа   \n",
       "2                                     Запустить собственную службу доставки, что сократит срок доставки заказов   \n",
       "6                      Добавить страницу отзывов клиентов о магазине, что позволит увеличить количество заказов   \n",
       "4           Изменить структура категорий, что увеличит конверсию, т.к. пользователи быстрее найдут нужный товар   \n",
       "5                              Изменить цвет фона главной страницы, чтобы увеличить вовлеченность пользователей   \n",
       "\n",
       "     ICE  \n",
       "9  16.20  \n",
       "1  13.33  \n",
       "8  11.20  \n",
       "7   8.00  \n",
       "3   7.00  \n",
       "2   2.00  \n",
       "6   1.33  \n",
       "4   1.12  \n",
       "5   1.00  "
      ]
     },
     "execution_count": 6,
     "metadata": {},
     "output_type": "execute_result"
    }
   ],
   "source": [
    "# применим фреймворк ICE для приоритизации гипотез. Отсортируем их по убыванию приоритета.\n",
    "hypothesis['ICE'] = (hypothesis['impact']*hypothesis['confidence']/hypothesis['efforts']).round(2)\n",
    "hypothesis[['hypothesis','ICE']].sort_values('ICE',ascending=False)"
   ]
  },
  {
   "cell_type": "code",
   "execution_count": 7,
   "metadata": {},
   "outputs": [
    {
     "data": {
      "text/html": [
       "<div>\n",
       "<style scoped>\n",
       "    .dataframe tbody tr th:only-of-type {\n",
       "        vertical-align: middle;\n",
       "    }\n",
       "\n",
       "    .dataframe tbody tr th {\n",
       "        vertical-align: top;\n",
       "    }\n",
       "\n",
       "    .dataframe thead th {\n",
       "        text-align: right;\n",
       "    }\n",
       "</style>\n",
       "<table border=\"1\" class=\"dataframe\">\n",
       "  <thead>\n",
       "    <tr style=\"text-align: right;\">\n",
       "      <th></th>\n",
       "      <th>hypothesis</th>\n",
       "      <th>RICE</th>\n",
       "    </tr>\n",
       "  </thead>\n",
       "  <tbody>\n",
       "    <tr>\n",
       "      <th>8</th>\n",
       "      <td>Добавить форму подписки на все основные страницы, чтобы собрать базу клиентов для email-рассылок</td>\n",
       "      <td>112.0</td>\n",
       "    </tr>\n",
       "    <tr>\n",
       "      <th>3</th>\n",
       "      <td>Добавить блоки рекомендаций товаров на сайт интернет магазина, чтобы повысить конверсию и средний чек заказа</td>\n",
       "      <td>56.0</td>\n",
       "    </tr>\n",
       "    <tr>\n",
       "      <th>1</th>\n",
       "      <td>Добавить два новых канала привлечения трафика, что позволит привлекать на 30% больше пользователей</td>\n",
       "      <td>40.0</td>\n",
       "    </tr>\n",
       "    <tr>\n",
       "      <th>7</th>\n",
       "      <td>Показать на главной странице баннеры с актуальными акциями и распродажами, чтобы увеличить конверсию</td>\n",
       "      <td>40.0</td>\n",
       "    </tr>\n",
       "    <tr>\n",
       "      <th>9</th>\n",
       "      <td>Запустить акцию, дающую скидку на товар в день рождения</td>\n",
       "      <td>16.2</td>\n",
       "    </tr>\n",
       "    <tr>\n",
       "      <th>4</th>\n",
       "      <td>Изменить структура категорий, что увеличит конверсию, т.к. пользователи быстрее найдут нужный товар</td>\n",
       "      <td>9.0</td>\n",
       "    </tr>\n",
       "    <tr>\n",
       "      <th>2</th>\n",
       "      <td>Запустить собственную службу доставки, что сократит срок доставки заказов</td>\n",
       "      <td>4.0</td>\n",
       "    </tr>\n",
       "    <tr>\n",
       "      <th>6</th>\n",
       "      <td>Добавить страницу отзывов клиентов о магазине, что позволит увеличить количество заказов</td>\n",
       "      <td>4.0</td>\n",
       "    </tr>\n",
       "    <tr>\n",
       "      <th>5</th>\n",
       "      <td>Изменить цвет фона главной страницы, чтобы увеличить вовлеченность пользователей</td>\n",
       "      <td>3.0</td>\n",
       "    </tr>\n",
       "  </tbody>\n",
       "</table>\n",
       "</div>"
      ],
      "text/plain": [
       "                                                                                                     hypothesis  \\\n",
       "8              Добавить форму подписки на все основные страницы, чтобы собрать базу клиентов для email-рассылок   \n",
       "3  Добавить блоки рекомендаций товаров на сайт интернет магазина, чтобы повысить конверсию и средний чек заказа   \n",
       "1            Добавить два новых канала привлечения трафика, что позволит привлекать на 30% больше пользователей   \n",
       "7          Показать на главной странице баннеры с актуальными акциями и распродажами, чтобы увеличить конверсию   \n",
       "9                                                       Запустить акцию, дающую скидку на товар в день рождения   \n",
       "4           Изменить структура категорий, что увеличит конверсию, т.к. пользователи быстрее найдут нужный товар   \n",
       "2                                     Запустить собственную службу доставки, что сократит срок доставки заказов   \n",
       "6                      Добавить страницу отзывов клиентов о магазине, что позволит увеличить количество заказов   \n",
       "5                              Изменить цвет фона главной страницы, чтобы увеличить вовлеченность пользователей   \n",
       "\n",
       "    RICE  \n",
       "8  112.0  \n",
       "3   56.0  \n",
       "1   40.0  \n",
       "7   40.0  \n",
       "9   16.2  \n",
       "4    9.0  \n",
       "2    4.0  \n",
       "6    4.0  \n",
       "5    3.0  "
      ]
     },
     "execution_count": 7,
     "metadata": {},
     "output_type": "execute_result"
    }
   ],
   "source": [
    "# применим фреймворк RICE для приоритизации гипотез. Отсортируем их по убыванию приоритета.\n",
    "hypothesis['RICE'] = hypothesis['reach']*hypothesis['impact']*hypothesis['confidence']/hypothesis['efforts']\n",
    "hypothesis[['hypothesis','RICE']].sort_values('RICE',ascending=False)"
   ]
  },
  {
   "cell_type": "markdown",
   "metadata": {},
   "source": [
    "#### Вывод\n",
    "Параметр охвата пользователей (Reach), присутствующий в методе RICE, изменил приоритетность, полученную по методу ICE.\n",
    "\n",
    "- Без учета охвата на первом месте идет акция со скидкой на ДР, но параметр Reach справедливо понизил приоритет этой акции, т.к. охват её минимальный (по сравнению с другими гипотезами увеличения выручки).\n",
    "- Также произошло и с гипотезой о добавлении двух новых каналов трафика.\n",
    "- При оценке методом RICE, на первом месте оказалась гипотеза 8 - \"Добавить форму подписки на все основные страницы...\", её оценка в 2 раза выше следующей гипотезы 3 - \"Добавить блоки рекомендаций...\". Что является результатом высоких показателей охвата пользователей - Reach, силы влияния на пользователей - Impact, уверенностью в оценках - Confidence и средним показателем трудозатрат - Efforts. В методе ICE охват пользователей - Reach не учитывается и гипотеза 8 - \"Добавить форму подписки на все основные страницы...\" оказалась только на 3 месте.\n",
    "\n",
    "Наиболее приоритетными будут гипотезы 8, 3, 1. "
   ]
  },
  {
   "cell_type": "markdown",
   "metadata": {},
   "source": [
    "## Часть 2. Анализ А/В-теста"
   ]
  },
  {
   "cell_type": "code",
   "execution_count": 8,
   "metadata": {},
   "outputs": [],
   "source": [
    "# считаем данные\n",
    "orders, visitors = (\n",
    "    pd.read_csv('/datasets/orders.csv'),\n",
    "    pd.read_csv('/datasets/visitors.csv')\n",
    ")"
   ]
  },
  {
   "cell_type": "code",
   "execution_count": 9,
   "metadata": {},
   "outputs": [],
   "source": [
    "# исследуем данные в двух датасетах с помощью функции\n",
    "def test_data(dataset):\n",
    "    print(f'Столбцов: {dataset.shape[1]}\\nCтрок: {dataset.shape[0]}')\n",
    "    print()\n",
    "    print('Типы данных в столбцах:')\n",
    "    print(dataset.dtypes)\n",
    "    print()\n",
    "    print('Количество пропусков:', dataset.isna().sum().sum())\n",
    "    print('Количество дубликатов:', dataset.duplicated().sum())\n",
    "    print('='*40)"
   ]
  },
  {
   "cell_type": "code",
   "execution_count": 10,
   "metadata": {},
   "outputs": [
    {
     "data": {
      "text/html": [
       "<div>\n",
       "<style scoped>\n",
       "    .dataframe tbody tr th:only-of-type {\n",
       "        vertical-align: middle;\n",
       "    }\n",
       "\n",
       "    .dataframe tbody tr th {\n",
       "        vertical-align: top;\n",
       "    }\n",
       "\n",
       "    .dataframe thead th {\n",
       "        text-align: right;\n",
       "    }\n",
       "</style>\n",
       "<table border=\"1\" class=\"dataframe\">\n",
       "  <thead>\n",
       "    <tr style=\"text-align: right;\">\n",
       "      <th></th>\n",
       "      <th>transactionId</th>\n",
       "      <th>visitorId</th>\n",
       "      <th>date</th>\n",
       "      <th>revenue</th>\n",
       "      <th>group</th>\n",
       "    </tr>\n",
       "  </thead>\n",
       "  <tbody>\n",
       "    <tr>\n",
       "      <th>0</th>\n",
       "      <td>3667963787</td>\n",
       "      <td>3312258926</td>\n",
       "      <td>2019-08-15</td>\n",
       "      <td>1650</td>\n",
       "      <td>B</td>\n",
       "    </tr>\n",
       "    <tr>\n",
       "      <th>1</th>\n",
       "      <td>2804400009</td>\n",
       "      <td>3642806036</td>\n",
       "      <td>2019-08-15</td>\n",
       "      <td>730</td>\n",
       "      <td>B</td>\n",
       "    </tr>\n",
       "    <tr>\n",
       "      <th>2</th>\n",
       "      <td>2961555356</td>\n",
       "      <td>4069496402</td>\n",
       "      <td>2019-08-15</td>\n",
       "      <td>400</td>\n",
       "      <td>A</td>\n",
       "    </tr>\n",
       "    <tr>\n",
       "      <th>3</th>\n",
       "      <td>3797467345</td>\n",
       "      <td>1196621759</td>\n",
       "      <td>2019-08-15</td>\n",
       "      <td>9759</td>\n",
       "      <td>B</td>\n",
       "    </tr>\n",
       "    <tr>\n",
       "      <th>4</th>\n",
       "      <td>2282983706</td>\n",
       "      <td>2322279887</td>\n",
       "      <td>2019-08-15</td>\n",
       "      <td>2308</td>\n",
       "      <td>B</td>\n",
       "    </tr>\n",
       "  </tbody>\n",
       "</table>\n",
       "</div>"
      ],
      "text/plain": [
       "   transactionId   visitorId        date  revenue group\n",
       "0     3667963787  3312258926  2019-08-15     1650     B\n",
       "1     2804400009  3642806036  2019-08-15      730     B\n",
       "2     2961555356  4069496402  2019-08-15      400     A\n",
       "3     3797467345  1196621759  2019-08-15     9759     B\n",
       "4     2282983706  2322279887  2019-08-15     2308     B"
      ]
     },
     "metadata": {},
     "output_type": "display_data"
    },
    {
     "name": "stdout",
     "output_type": "stream",
     "text": [
      "Столбцов: 5\n",
      "Cтрок: 1197\n",
      "\n",
      "Типы данных в столбцах:\n",
      "transactionId     int64\n",
      "visitorId         int64\n",
      "date             object\n",
      "revenue           int64\n",
      "group            object\n",
      "dtype: object\n",
      "\n",
      "Количество пропусков: 0\n",
      "Количество дубликатов: 0\n",
      "========================================\n"
     ]
    },
    {
     "data": {
      "text/html": [
       "<div>\n",
       "<style scoped>\n",
       "    .dataframe tbody tr th:only-of-type {\n",
       "        vertical-align: middle;\n",
       "    }\n",
       "\n",
       "    .dataframe tbody tr th {\n",
       "        vertical-align: top;\n",
       "    }\n",
       "\n",
       "    .dataframe thead th {\n",
       "        text-align: right;\n",
       "    }\n",
       "</style>\n",
       "<table border=\"1\" class=\"dataframe\">\n",
       "  <thead>\n",
       "    <tr style=\"text-align: right;\">\n",
       "      <th></th>\n",
       "      <th>date</th>\n",
       "      <th>group</th>\n",
       "      <th>visitors</th>\n",
       "    </tr>\n",
       "  </thead>\n",
       "  <tbody>\n",
       "    <tr>\n",
       "      <th>0</th>\n",
       "      <td>2019-08-01</td>\n",
       "      <td>A</td>\n",
       "      <td>719</td>\n",
       "    </tr>\n",
       "    <tr>\n",
       "      <th>1</th>\n",
       "      <td>2019-08-02</td>\n",
       "      <td>A</td>\n",
       "      <td>619</td>\n",
       "    </tr>\n",
       "    <tr>\n",
       "      <th>2</th>\n",
       "      <td>2019-08-03</td>\n",
       "      <td>A</td>\n",
       "      <td>507</td>\n",
       "    </tr>\n",
       "    <tr>\n",
       "      <th>3</th>\n",
       "      <td>2019-08-04</td>\n",
       "      <td>A</td>\n",
       "      <td>717</td>\n",
       "    </tr>\n",
       "    <tr>\n",
       "      <th>4</th>\n",
       "      <td>2019-08-05</td>\n",
       "      <td>A</td>\n",
       "      <td>756</td>\n",
       "    </tr>\n",
       "  </tbody>\n",
       "</table>\n",
       "</div>"
      ],
      "text/plain": [
       "         date group  visitors\n",
       "0  2019-08-01     A       719\n",
       "1  2019-08-02     A       619\n",
       "2  2019-08-03     A       507\n",
       "3  2019-08-04     A       717\n",
       "4  2019-08-05     A       756"
      ]
     },
     "metadata": {},
     "output_type": "display_data"
    },
    {
     "name": "stdout",
     "output_type": "stream",
     "text": [
      "Столбцов: 3\n",
      "Cтрок: 62\n",
      "\n",
      "Типы данных в столбцах:\n",
      "date        object\n",
      "group       object\n",
      "visitors     int64\n",
      "dtype: object\n",
      "\n",
      "Количество пропусков: 0\n",
      "Количество дубликатов: 0\n",
      "========================================\n"
     ]
    }
   ],
   "source": [
    "#выведем исследование на экран\n",
    "for file in orders, visitors:\n",
    "    display(file.head())\n",
    "    test_data(file)"
   ]
  },
  {
   "cell_type": "code",
   "execution_count": 11,
   "metadata": {},
   "outputs": [],
   "source": [
    "# преобразование данных о времени\n",
    "orders['date'] = orders['date'].map(lambda x: dt.datetime.strptime(x, '%Y-%m-%d'))\n",
    "visitors['date'] = visitors['date'].map(lambda x: dt.datetime.strptime(x, '%Y-%m-%d'))"
   ]
  },
  {
   "cell_type": "code",
   "execution_count": 12,
   "metadata": {},
   "outputs": [
    {
     "data": {
      "text/plain": [
       "58"
      ]
     },
     "execution_count": 12,
     "metadata": {},
     "output_type": "execute_result"
    }
   ],
   "source": [
    "# проверим пересечения в группах\n",
    "group_a = orders.query('group == \"A\"') \n",
    "group_b = orders.query('group == \"B\"')\n",
    "  \n",
    "# число пользователей, попавших в обе группы \n",
    "both_group = list(np.intersect1d(group_a['visitorId'], group_b['visitorId']))\n",
    "len(both_group)"
   ]
  },
  {
   "cell_type": "code",
   "execution_count": 13,
   "metadata": {},
   "outputs": [],
   "source": [
    "# исключим пользователей с пересечением в группах\n",
    "orders = orders.query('visitorId not in @both_group')"
   ]
  },
  {
   "cell_type": "markdown",
   "metadata": {},
   "source": [
    "#### Вывод:\n",
    "Загрузили данные, пропусков и дубликатов нет. 58 пользователей оказались в обоих группах, пересечения убраны. "
   ]
  },
  {
   "cell_type": "code",
   "execution_count": 14,
   "metadata": {},
   "outputs": [],
   "source": [
    "# датафрейм с уникальными парами значений date и group\n",
    "datesGroups = orders[['date', 'group']].drop_duplicates()"
   ]
  },
  {
   "cell_type": "code",
   "execution_count": 15,
   "metadata": {},
   "outputs": [],
   "source": [
    "# аггрегированные кумулятивные данные по выручке за каждый день по заказам\n",
    "ordersAggregated = datesGroups.apply(lambda x:\n",
    "orders[np.logical_and(orders['date'] <= x['date'],\n",
    "orders['group'] == x['group'])]\\\n",
    ".agg({'date' : 'max', 'group' : 'max', 'transactionId' : pd.Series.nunique, 'visitorId' : pd.Series.nunique,\n",
    "'revenue' : 'sum'}), axis=1).sort_values(by=['date', 'group'])"
   ]
  },
  {
   "cell_type": "code",
   "execution_count": 16,
   "metadata": {},
   "outputs": [
    {
     "data": {
      "text/html": [
       "<div>\n",
       "<style scoped>\n",
       "    .dataframe tbody tr th:only-of-type {\n",
       "        vertical-align: middle;\n",
       "    }\n",
       "\n",
       "    .dataframe tbody tr th {\n",
       "        vertical-align: top;\n",
       "    }\n",
       "\n",
       "    .dataframe thead th {\n",
       "        text-align: right;\n",
       "    }\n",
       "</style>\n",
       "<table border=\"1\" class=\"dataframe\">\n",
       "  <thead>\n",
       "    <tr style=\"text-align: right;\">\n",
       "      <th></th>\n",
       "      <th>date</th>\n",
       "      <th>group</th>\n",
       "      <th>transactionId</th>\n",
       "      <th>visitorId</th>\n",
       "      <th>revenue</th>\n",
       "    </tr>\n",
       "  </thead>\n",
       "  <tbody>\n",
       "    <tr>\n",
       "      <th>55</th>\n",
       "      <td>2019-08-01</td>\n",
       "      <td>A</td>\n",
       "      <td>23</td>\n",
       "      <td>19</td>\n",
       "      <td>142779</td>\n",
       "    </tr>\n",
       "    <tr>\n",
       "      <th>66</th>\n",
       "      <td>2019-08-01</td>\n",
       "      <td>B</td>\n",
       "      <td>17</td>\n",
       "      <td>17</td>\n",
       "      <td>59758</td>\n",
       "    </tr>\n",
       "    <tr>\n",
       "      <th>175</th>\n",
       "      <td>2019-08-02</td>\n",
       "      <td>A</td>\n",
       "      <td>42</td>\n",
       "      <td>36</td>\n",
       "      <td>234381</td>\n",
       "    </tr>\n",
       "    <tr>\n",
       "      <th>173</th>\n",
       "      <td>2019-08-02</td>\n",
       "      <td>B</td>\n",
       "      <td>40</td>\n",
       "      <td>39</td>\n",
       "      <td>221801</td>\n",
       "    </tr>\n",
       "    <tr>\n",
       "      <th>291</th>\n",
       "      <td>2019-08-03</td>\n",
       "      <td>A</td>\n",
       "      <td>66</td>\n",
       "      <td>60</td>\n",
       "      <td>346854</td>\n",
       "    </tr>\n",
       "  </tbody>\n",
       "</table>\n",
       "</div>"
      ],
      "text/plain": [
       "          date group  transactionId  visitorId  revenue\n",
       "55  2019-08-01     A             23         19   142779\n",
       "66  2019-08-01     B             17         17    59758\n",
       "175 2019-08-02     A             42         36   234381\n",
       "173 2019-08-02     B             40         39   221801\n",
       "291 2019-08-03     A             66         60   346854"
      ]
     },
     "execution_count": 16,
     "metadata": {},
     "output_type": "execute_result"
    }
   ],
   "source": [
    "# выведем на экран\n",
    "ordersAggregated.head()"
   ]
  },
  {
   "cell_type": "code",
   "execution_count": 17,
   "metadata": {},
   "outputs": [],
   "source": [
    "# аггрегированные кумулятивные данные за каждый день по пользователям\n",
    "visitorsAggregated = datesGroups.apply(lambda x:\n",
    "visitors[np.logical_and(visitors['date'] <= x['date'],\n",
    "visitors['group'] == x['group'])]\n",
    ".agg({'date' : 'max', 'group' : 'max', 'visitors' : 'sum'}), axis=1).sort_values(by=['date','group'])"
   ]
  },
  {
   "cell_type": "code",
   "execution_count": 18,
   "metadata": {},
   "outputs": [
    {
     "data": {
      "text/html": [
       "<div>\n",
       "<style scoped>\n",
       "    .dataframe tbody tr th:only-of-type {\n",
       "        vertical-align: middle;\n",
       "    }\n",
       "\n",
       "    .dataframe tbody tr th {\n",
       "        vertical-align: top;\n",
       "    }\n",
       "\n",
       "    .dataframe thead th {\n",
       "        text-align: right;\n",
       "    }\n",
       "</style>\n",
       "<table border=\"1\" class=\"dataframe\">\n",
       "  <thead>\n",
       "    <tr style=\"text-align: right;\">\n",
       "      <th></th>\n",
       "      <th>date</th>\n",
       "      <th>group</th>\n",
       "      <th>visitors</th>\n",
       "    </tr>\n",
       "  </thead>\n",
       "  <tbody>\n",
       "    <tr>\n",
       "      <th>55</th>\n",
       "      <td>2019-08-01</td>\n",
       "      <td>A</td>\n",
       "      <td>719</td>\n",
       "    </tr>\n",
       "    <tr>\n",
       "      <th>66</th>\n",
       "      <td>2019-08-01</td>\n",
       "      <td>B</td>\n",
       "      <td>713</td>\n",
       "    </tr>\n",
       "    <tr>\n",
       "      <th>175</th>\n",
       "      <td>2019-08-02</td>\n",
       "      <td>A</td>\n",
       "      <td>1338</td>\n",
       "    </tr>\n",
       "    <tr>\n",
       "      <th>173</th>\n",
       "      <td>2019-08-02</td>\n",
       "      <td>B</td>\n",
       "      <td>1294</td>\n",
       "    </tr>\n",
       "    <tr>\n",
       "      <th>291</th>\n",
       "      <td>2019-08-03</td>\n",
       "      <td>A</td>\n",
       "      <td>1845</td>\n",
       "    </tr>\n",
       "  </tbody>\n",
       "</table>\n",
       "</div>"
      ],
      "text/plain": [
       "          date group  visitors\n",
       "55  2019-08-01     A       719\n",
       "66  2019-08-01     B       713\n",
       "175 2019-08-02     A      1338\n",
       "173 2019-08-02     B      1294\n",
       "291 2019-08-03     A      1845"
      ]
     },
     "execution_count": 18,
     "metadata": {},
     "output_type": "execute_result"
    }
   ],
   "source": [
    "# выведем на экран\n",
    "visitorsAggregated.head()"
   ]
  },
  {
   "cell_type": "code",
   "execution_count": 19,
   "metadata": {},
   "outputs": [
    {
     "data": {
      "text/html": [
       "<div>\n",
       "<style scoped>\n",
       "    .dataframe tbody tr th:only-of-type {\n",
       "        vertical-align: middle;\n",
       "    }\n",
       "\n",
       "    .dataframe tbody tr th {\n",
       "        vertical-align: top;\n",
       "    }\n",
       "\n",
       "    .dataframe thead th {\n",
       "        text-align: right;\n",
       "    }\n",
       "</style>\n",
       "<table border=\"1\" class=\"dataframe\">\n",
       "  <thead>\n",
       "    <tr style=\"text-align: right;\">\n",
       "      <th></th>\n",
       "      <th>date</th>\n",
       "      <th>group</th>\n",
       "      <th>orders</th>\n",
       "      <th>buyers</th>\n",
       "      <th>revenue</th>\n",
       "      <th>visitors</th>\n",
       "    </tr>\n",
       "  </thead>\n",
       "  <tbody>\n",
       "    <tr>\n",
       "      <th>0</th>\n",
       "      <td>2019-08-01</td>\n",
       "      <td>A</td>\n",
       "      <td>23</td>\n",
       "      <td>19</td>\n",
       "      <td>142779</td>\n",
       "      <td>719</td>\n",
       "    </tr>\n",
       "    <tr>\n",
       "      <th>1</th>\n",
       "      <td>2019-08-01</td>\n",
       "      <td>B</td>\n",
       "      <td>17</td>\n",
       "      <td>17</td>\n",
       "      <td>59758</td>\n",
       "      <td>713</td>\n",
       "    </tr>\n",
       "    <tr>\n",
       "      <th>2</th>\n",
       "      <td>2019-08-02</td>\n",
       "      <td>A</td>\n",
       "      <td>42</td>\n",
       "      <td>36</td>\n",
       "      <td>234381</td>\n",
       "      <td>1338</td>\n",
       "    </tr>\n",
       "    <tr>\n",
       "      <th>3</th>\n",
       "      <td>2019-08-02</td>\n",
       "      <td>B</td>\n",
       "      <td>40</td>\n",
       "      <td>39</td>\n",
       "      <td>221801</td>\n",
       "      <td>1294</td>\n",
       "    </tr>\n",
       "    <tr>\n",
       "      <th>4</th>\n",
       "      <td>2019-08-03</td>\n",
       "      <td>A</td>\n",
       "      <td>66</td>\n",
       "      <td>60</td>\n",
       "      <td>346854</td>\n",
       "      <td>1845</td>\n",
       "    </tr>\n",
       "  </tbody>\n",
       "</table>\n",
       "</div>"
      ],
      "text/plain": [
       "        date group  orders  buyers  revenue  visitors\n",
       "0 2019-08-01     A      23      19   142779       719\n",
       "1 2019-08-01     B      17      17    59758       713\n",
       "2 2019-08-02     A      42      36   234381      1338\n",
       "3 2019-08-02     B      40      39   221801      1294\n",
       "4 2019-08-03     A      66      60   346854      1845"
      ]
     },
     "execution_count": 19,
     "metadata": {},
     "output_type": "execute_result"
    }
   ],
   "source": [
    "# объеденим агрегации\n",
    "cumulativeData = ordersAggregated.merge(visitorsAggregated, left_on = ['date', 'group'],\n",
    "right_on=['date', 'group'])\n",
    "\n",
    "# переименуем столбцы\n",
    "cumulativeData.columns = ['date', 'group', 'orders', 'buyers', 'revenue', 'visitors']\n",
    "\n",
    "# выведем на экран \n",
    "cumulativeData.head()"
   ]
  },
  {
   "cell_type": "markdown",
   "metadata": {},
   "source": [
    "Полученная таблица cumulativeData содержит в себе следующие данные:\n",
    "\n",
    "- date — дата;\n",
    "\n",
    "- group — группа A/B-теста (A или B);\n",
    "\n",
    "- orders — кумулятивное количество заказов на указанную дату в указанной группе;\n",
    "\n",
    "- buyers — кумулятивное количество пользователей, совершивших хотя бы один заказ, на указанную дату в указанной группе;\n",
    "\n",
    "- revenue — кумулятивная выручка на указанную дату в указанной группе (средний чек);\n",
    "\n",
    "- visitors — кумулятивное количество посетителей интернет-магазина на указанную дату в определённой группе."
   ]
  },
  {
   "cell_type": "markdown",
   "metadata": {},
   "source": [
    "#### Построим графики кумулятивной выручки по дням и группам A/B-тестирования"
   ]
  },
  {
   "cell_type": "code",
   "execution_count": 20,
   "metadata": {},
   "outputs": [],
   "source": [
    "# датафрейм с кумулятивным количеством заказов и кумулятивной выручкой по дням в группе А\n",
    "cumulativeRevenueA = cumulativeData[cumulativeData['group']=='A'][['date','revenue', 'orders']]\n",
    "\n",
    "# датафрейм с кумулятивным количеством заказов и кумулятивной выручкой по дням в группе B\n",
    "cumulativeRevenueB = cumulativeData[cumulativeData['group']=='B'][['date','revenue', 'orders']]"
   ]
  },
  {
   "cell_type": "code",
   "execution_count": 21,
   "metadata": {},
   "outputs": [
    {
     "data": {
      "image/png": "[encoded data removed]",
      "text/plain": [
       "<Figure size 720x432 with 1 Axes>"
      ]
     },
     "metadata": {
      "needs_background": "light"
     },
     "output_type": "display_data"
    }
   ],
   "source": [
    "plt.figure(figsize=(10,6))\n",
    "\n",
    "plt.plot(cumulativeRevenueA['date'], cumulativeRevenueA['revenue'], label='A')\n",
    "plt.plot(cumulativeRevenueB['date'], cumulativeRevenueB['revenue'], label='B')\n",
    "\n",
    "plt.ylabel('Выручка, млн')\n",
    "plt.xlabel('Дата')\n",
    "plt.title('Графики кумулятивной выручки по группам A/B')\n",
    "plt.legend()\n",
    "plt.grid()"
   ]
  },
  {
   "cell_type": "markdown",
   "metadata": {},
   "source": [
    "#### Вывод\n",
    "Выручка группы В явно выше группы А. График выручки группы А растет равномерно, группы В - в основном с равномерными участками роста, также присутствует резкий скачок выручки. Это может сигнализировать о росте числа заказов либо об увеличении стоимости заказов."
   ]
  },
  {
   "cell_type": "code",
   "execution_count": 22,
   "metadata": {},
   "outputs": [
    {
     "data": {
      "text/html": [
       "<div>\n",
       "<style scoped>\n",
       "    .dataframe tbody tr th:only-of-type {\n",
       "        vertical-align: middle;\n",
       "    }\n",
       "\n",
       "    .dataframe tbody tr th {\n",
       "        vertical-align: top;\n",
       "    }\n",
       "\n",
       "    .dataframe thead th {\n",
       "        text-align: right;\n",
       "    }\n",
       "</style>\n",
       "<table border=\"1\" class=\"dataframe\">\n",
       "  <thead>\n",
       "    <tr style=\"text-align: right;\">\n",
       "      <th></th>\n",
       "      <th>date</th>\n",
       "      <th>group</th>\n",
       "      <th>orders</th>\n",
       "      <th>buyers</th>\n",
       "      <th>revenue</th>\n",
       "      <th>visitors</th>\n",
       "      <th>mean</th>\n",
       "    </tr>\n",
       "  </thead>\n",
       "  <tbody>\n",
       "    <tr>\n",
       "      <th>0</th>\n",
       "      <td>2019-08-01</td>\n",
       "      <td>A</td>\n",
       "      <td>23</td>\n",
       "      <td>19</td>\n",
       "      <td>142779</td>\n",
       "      <td>719</td>\n",
       "      <td>6207.78</td>\n",
       "    </tr>\n",
       "    <tr>\n",
       "      <th>1</th>\n",
       "      <td>2019-08-01</td>\n",
       "      <td>B</td>\n",
       "      <td>17</td>\n",
       "      <td>17</td>\n",
       "      <td>59758</td>\n",
       "      <td>713</td>\n",
       "      <td>3515.18</td>\n",
       "    </tr>\n",
       "    <tr>\n",
       "      <th>2</th>\n",
       "      <td>2019-08-02</td>\n",
       "      <td>A</td>\n",
       "      <td>42</td>\n",
       "      <td>36</td>\n",
       "      <td>234381</td>\n",
       "      <td>1338</td>\n",
       "      <td>5580.50</td>\n",
       "    </tr>\n",
       "    <tr>\n",
       "      <th>3</th>\n",
       "      <td>2019-08-02</td>\n",
       "      <td>B</td>\n",
       "      <td>40</td>\n",
       "      <td>39</td>\n",
       "      <td>221801</td>\n",
       "      <td>1294</td>\n",
       "      <td>5545.02</td>\n",
       "    </tr>\n",
       "    <tr>\n",
       "      <th>4</th>\n",
       "      <td>2019-08-03</td>\n",
       "      <td>A</td>\n",
       "      <td>66</td>\n",
       "      <td>60</td>\n",
       "      <td>346854</td>\n",
       "      <td>1845</td>\n",
       "      <td>5255.36</td>\n",
       "    </tr>\n",
       "  </tbody>\n",
       "</table>\n",
       "</div>"
      ],
      "text/plain": [
       "        date group  orders  buyers  revenue  visitors     mean\n",
       "0 2019-08-01     A      23      19   142779       719  6207.78\n",
       "1 2019-08-01     B      17      17    59758       713  3515.18\n",
       "2 2019-08-02     A      42      36   234381      1338  5580.50\n",
       "3 2019-08-02     B      40      39   221801      1294  5545.02\n",
       "4 2019-08-03     A      66      60   346854      1845  5255.36"
      ]
     },
     "execution_count": 22,
     "metadata": {},
     "output_type": "execute_result"
    }
   ],
   "source": [
    "# посчитаем средний чек\n",
    "cumulativeData['mean'] = round(cumulativeData['revenue'] / cumulativeData['orders'], 2)\n",
    "# выведем на экран\n",
    "cumulativeData.head()"
   ]
  },
  {
   "cell_type": "markdown",
   "metadata": {},
   "source": [
    "#### Построим графики кумулятивного среднего чека по группам "
   ]
  },
  {
   "cell_type": "code",
   "execution_count": 23,
   "metadata": {},
   "outputs": [
    {
     "data": {
      "image/png": "[encoded data removed]",
      "text/plain": [
       "<Figure size 720x432 with 1 Axes>"
      ]
     },
     "metadata": {
      "needs_background": "light"
     },
     "output_type": "display_data"
    }
   ],
   "source": [
    "#разделим кумулятивную выручку на кумулятивное число заказов\n",
    "plt.figure(figsize=(10,6))\n",
    "\n",
    "plt.plot(cumulativeRevenueA['date'], cumulativeRevenueA['revenue']/cumulativeRevenueA['orders'], label='A')\n",
    "plt.plot(cumulativeRevenueB['date'], cumulativeRevenueB['revenue']/cumulativeRevenueB['orders'], label='B')\n",
    "plt.axis([dt.datetime(2019, 7, 31), dt.datetime(2019, 9, 1), 3000,12000])\n",
    "\n",
    "plt.title('График кумулятивного среднего чека по группам A/B')\n",
    "plt.ylabel('Средний чек')\n",
    "plt.xlabel('Дата')\n",
    "plt.legend()\n",
    "plt.grid()"
   ]
  },
  {
   "cell_type": "markdown",
   "metadata": {},
   "source": [
    "#### Вывод\n",
    "Средний чек стабилизируется от середины для группы A и резко вырастает и начинает падать для группы B. Группа B имеет нестабильный средний чек. Присутствует два относительно стабильных участка: примерно с 07 по 18 августа на уровне 6-7 тыс. А также после резкого скачка (возможно, что в группу B попали дорогие заказы) суммы среднего чека идет стабильный участок монотонного убывания примерно до уровня 9 тыс. "
   ]
  },
  {
   "cell_type": "markdown",
   "metadata": {},
   "source": [
    "#### График относительного изменения кумулятивного среднего чека группы B к группе A"
   ]
  },
  {
   "cell_type": "code",
   "execution_count": 24,
   "metadata": {},
   "outputs": [
    {
     "data": {
      "text/html": [
       "<div>\n",
       "<style scoped>\n",
       "    .dataframe tbody tr th:only-of-type {\n",
       "        vertical-align: middle;\n",
       "    }\n",
       "\n",
       "    .dataframe tbody tr th {\n",
       "        vertical-align: top;\n",
       "    }\n",
       "\n",
       "    .dataframe thead th {\n",
       "        text-align: right;\n",
       "    }\n",
       "</style>\n",
       "<table border=\"1\" class=\"dataframe\">\n",
       "  <thead>\n",
       "    <tr style=\"text-align: right;\">\n",
       "      <th></th>\n",
       "      <th>date</th>\n",
       "      <th>revenueA</th>\n",
       "      <th>ordersA</th>\n",
       "      <th>revenueB</th>\n",
       "      <th>ordersB</th>\n",
       "    </tr>\n",
       "  </thead>\n",
       "  <tbody>\n",
       "    <tr>\n",
       "      <th>0</th>\n",
       "      <td>2019-08-01</td>\n",
       "      <td>142779</td>\n",
       "      <td>23</td>\n",
       "      <td>59758</td>\n",
       "      <td>17</td>\n",
       "    </tr>\n",
       "    <tr>\n",
       "      <th>1</th>\n",
       "      <td>2019-08-02</td>\n",
       "      <td>234381</td>\n",
       "      <td>42</td>\n",
       "      <td>221801</td>\n",
       "      <td>40</td>\n",
       "    </tr>\n",
       "    <tr>\n",
       "      <th>2</th>\n",
       "      <td>2019-08-03</td>\n",
       "      <td>346854</td>\n",
       "      <td>66</td>\n",
       "      <td>288850</td>\n",
       "      <td>54</td>\n",
       "    </tr>\n",
       "    <tr>\n",
       "      <th>3</th>\n",
       "      <td>2019-08-04</td>\n",
       "      <td>388030</td>\n",
       "      <td>77</td>\n",
       "      <td>385740</td>\n",
       "      <td>68</td>\n",
       "    </tr>\n",
       "    <tr>\n",
       "      <th>4</th>\n",
       "      <td>2019-08-05</td>\n",
       "      <td>474413</td>\n",
       "      <td>99</td>\n",
       "      <td>475648</td>\n",
       "      <td>89</td>\n",
       "    </tr>\n",
       "  </tbody>\n",
       "</table>\n",
       "</div>"
      ],
      "text/plain": [
       "        date  revenueA  ordersA  revenueB  ordersB\n",
       "0 2019-08-01    142779       23     59758       17\n",
       "1 2019-08-02    234381       42    221801       40\n",
       "2 2019-08-03    346854       66    288850       54\n",
       "3 2019-08-04    388030       77    385740       68\n",
       "4 2019-08-05    474413       99    475648       89"
      ]
     },
     "execution_count": 24,
     "metadata": {},
     "output_type": "execute_result"
    }
   ],
   "source": [
    "# соберем данные о кумулятивной выручке двух групп в отдельный датасет и выведем на экран\n",
    "mergedCumulativeRevenue = cumulativeRevenueA.merge(cumulativeRevenueB,\\\n",
    "                                                   left_on ='date', right_on='date', how='left', suffixes=['A', 'B'])\n",
    "mergedCumulativeRevenue.head()"
   ]
  },
  {
   "cell_type": "code",
   "execution_count": 25,
   "metadata": {},
   "outputs": [
    {
     "name": "stderr",
     "output_type": "stream",
     "text": [
      "/opt/conda/lib/python3.9/site-packages/seaborn/_decorators.py:36: FutureWarning: Pass the following variables as keyword args: x, y. From version 0.12, the only valid positional argument will be `data`, and passing other arguments without an explicit keyword will result in an error or misinterpretation.\n",
      "  warnings.warn(\n"
     ]
    },
    {
     "data": {
      "image/png": "[encoded data removed]",
      "text/plain": [
       "<Figure size 1152x576 with 1 Axes>"
      ]
     },
     "metadata": {
      "needs_background": "light"
     },
     "output_type": "display_data"
    }
   ],
   "source": [
    "plt.figure(figsize=(16, 8))\n",
    "ax1 = sns.lineplot(mergedCumulativeRevenue['date'],\\\n",
    "                   (mergedCumulativeRevenue['revenueB']/mergedCumulativeRevenue['ordersB'])\n",
    "/(mergedCumulativeRevenue['revenueA']/mergedCumulativeRevenue['ordersA'])-1,\\\n",
    "                  palette=sns.color_palette('Set2', n_colors=1))\n",
    "ax1.set_title('График относительного изменения кумулятивного среднего чека группы B к группе A')\n",
    "plt.xlabel('Дата')\n",
    "plt.ylabel('Относительное изменение')\n",
    "plt.axhline(y=0, color='red', linestyle='--')\n",
    "plt.grid()\n",
    "plt.show();"
   ]
  },
  {
   "cell_type": "markdown",
   "metadata": {},
   "source": [
    "#### Вывод\n",
    "По соотношению средних чеков видно, что в группу B попали крупные заказы (резкий всплеск на графике). Группа B лучше группы А по данному показателю, на всем временном участке кроме периода 13 - 18 августа. "
   ]
  },
  {
   "cell_type": "markdown",
   "metadata": {},
   "source": [
    "#### Построим график кумулятивного среднего количества заказов на посетителя по группам"
   ]
  },
  {
   "cell_type": "code",
   "execution_count": 26,
   "metadata": {},
   "outputs": [
    {
     "data": {
      "image/png": "[encoded data removed]",
      "text/plain": [
       "<Figure size 720x432 with 1 Axes>"
      ]
     },
     "metadata": {
      "needs_background": "light"
     },
     "output_type": "display_data"
    }
   ],
   "source": [
    "# считаем кумулятивное среднее количество заказов на посетителя\n",
    "cumulativeData['cum_avg'] = cumulativeData['orders']/cumulativeData['visitors']\n",
    "\n",
    "# отделяем данные по группе A\n",
    "cumulativeDataA = cumulativeData[cumulativeData['group']=='A']\n",
    "\n",
    "# отделяем данные по группе B\n",
    "cumulativeDataB = cumulativeData[cumulativeData['group']=='B']\n",
    "\n",
    "plt.figure(figsize=(10,6))\n",
    "plt.plot(cumulativeDataA['date'], cumulativeDataA['cum_avg'], label='A')\n",
    "plt.plot(cumulativeDataB['date'], cumulativeDataB['cum_avg'], label='B')\n",
    "plt.axis([dt.datetime(2019, 7, 31), dt.datetime(2019, 9, 1), 0.02, 0.04])\n",
    "\n",
    "plt.title('График кумулятивного среднего количества заказов на посетителя по группам')\n",
    "plt.xlabel('Дата')\n",
    "plt.ylabel('Среднее количество заказов')\n",
    "plt.grid()\n",
    "plt.legend()\n",
    "plt.show()"
   ]
  },
  {
   "cell_type": "markdown",
   "metadata": {},
   "source": [
    "#### Вывод\n",
    "На группу A выпадает наибольшее значение (пик) кумулятивного среднего количества заказов на пользователя, скорее всего, было зафиксировано аномально-высокое количество посетителей, однако в действительности, уже после 5 августа значения у этой группы становятся стабильно хуже, чем у группы B\n",
    "Значения среднего у двух групп распределены неравномерно, однако к концу графика колебания все более \"сглаживаются\" и кривые сближаются. "
   ]
  },
  {
   "cell_type": "markdown",
   "metadata": {},
   "source": [
    "#### Построим график относительного изменения кумулятивного среднего количества заказов на посетителя группы B к группе A."
   ]
  },
  {
   "cell_type": "code",
   "execution_count": 27,
   "metadata": {},
   "outputs": [
    {
     "data": {
      "image/png": "[encoded data removed]",
      "text/plain": [
       "<Figure size 720x432 with 1 Axes>"
      ]
     },
     "metadata": {
      "needs_background": "light"
     },
     "output_type": "display_data"
    }
   ],
   "source": [
    "mergedCumulativeAVG = (cumulativeDataA[['date','cum_avg']]\n",
    "                               .merge(cumulativeDataB[['date','cum_avg']], \n",
    "                                      left_on='date', \n",
    "                                      right_on='date', \n",
    "                                      how='left', \n",
    "                                      suffixes=['A', 'B'])\n",
    "                              )\n",
    "\n",
    "plt.figure(figsize=(10,6))\n",
    "plt.plot(mergedCumulativeAVG['date'], (\n",
    "         mergedCumulativeAVG['cum_avgB']/mergedCumulativeAVG['cum_avgA'])-1)\n",
    "\n",
    "\n",
    "plt.axhline(y=0, color='red', linestyle='--')\n",
    "plt.axhline(y=0.15, color='green', linestyle='--')\n",
    "\n",
    "plt.xlabel('Дата')\n",
    "plt.ylabel('Отношение групп (В к А)')\n",
    "\n",
    "plt.axis([dt.datetime(2019, 7, 31), dt.datetime(2019, 9, 1), -0.3, 0.4])\n",
    "plt.title('Относительное изменение кумулятивного среднего количества заказов на посетителя группы B к группе A')\n",
    "plt.grid()"
   ]
  },
  {
   "cell_type": "markdown",
   "metadata": {},
   "source": [
    "#### Вывод\n",
    "В начале теста группа B проигрывала группе A, затем вырвалась вперёд. После рывка её кумулятивное среднее количество заказов на посетителя постепенно падает. Стоит проанализировать аномалии, возможно, они влияют на поведение графиков."
   ]
  },
  {
   "cell_type": "markdown",
   "metadata": {},
   "source": [
    "#### Построим точечный график количества заказов по пользователям."
   ]
  },
  {
   "cell_type": "code",
   "execution_count": 28,
   "metadata": {},
   "outputs": [
    {
     "data": {
      "text/html": [
       "<div>\n",
       "<style scoped>\n",
       "    .dataframe tbody tr th:only-of-type {\n",
       "        vertical-align: middle;\n",
       "    }\n",
       "\n",
       "    .dataframe tbody tr th {\n",
       "        vertical-align: top;\n",
       "    }\n",
       "\n",
       "    .dataframe thead th {\n",
       "        text-align: right;\n",
       "    }\n",
       "</style>\n",
       "<table border=\"1\" class=\"dataframe\">\n",
       "  <thead>\n",
       "    <tr style=\"text-align: right;\">\n",
       "      <th></th>\n",
       "      <th>visitorId</th>\n",
       "      <th>transactionId</th>\n",
       "    </tr>\n",
       "  </thead>\n",
       "  <tbody>\n",
       "    <tr>\n",
       "      <th>0</th>\n",
       "      <td>5114589</td>\n",
       "      <td>1</td>\n",
       "    </tr>\n",
       "    <tr>\n",
       "      <th>1</th>\n",
       "      <td>6958315</td>\n",
       "      <td>1</td>\n",
       "    </tr>\n",
       "    <tr>\n",
       "      <th>2</th>\n",
       "      <td>11685486</td>\n",
       "      <td>1</td>\n",
       "    </tr>\n",
       "    <tr>\n",
       "      <th>3</th>\n",
       "      <td>39475350</td>\n",
       "      <td>1</td>\n",
       "    </tr>\n",
       "    <tr>\n",
       "      <th>4</th>\n",
       "      <td>47206413</td>\n",
       "      <td>1</td>\n",
       "    </tr>\n",
       "  </tbody>\n",
       "</table>\n",
       "</div>"
      ],
      "text/plain": [
       "   visitorId  transactionId\n",
       "0    5114589              1\n",
       "1    6958315              1\n",
       "2   11685486              1\n",
       "3   39475350              1\n",
       "4   47206413              1"
      ]
     },
     "execution_count": 28,
     "metadata": {},
     "output_type": "execute_result"
    }
   ],
   "source": [
    "# рассчитаем количество заказов на каждого пользователя\n",
    "ordersByUsers = orders.drop(['group', 'revenue', 'date'], axis=1)\\\n",
    ".groupby('visitorId', as_index=False).agg({'transactionId' : pd.Series.nunique})\n",
    "# выведем на экран\n",
    "ordersByUsers.head()"
   ]
  },
  {
   "cell_type": "code",
   "execution_count": 29,
   "metadata": {},
   "outputs": [
    {
     "data": {
      "image/png": "[encoded data removed]",
      "text/plain": [
       "<Figure size 720x432 with 1 Axes>"
      ]
     },
     "metadata": {
      "needs_background": "light"
     },
     "output_type": "display_data"
    }
   ],
   "source": [
    "# график распределения количества заказов на каждого пользователя\n",
    "\n",
    "x_values = pd.Series(range(0, len(ordersByUsers)))\n",
    "\n",
    "plt.figure(figsize=(10, 6))\n",
    "ax = sns.scatterplot(x=x_values, y=ordersByUsers['transactionId'])\n",
    "plt.title('Распределение количества заказов на каждого пользователя')\n",
    "plt.xlabel('Пользователи')\n",
    "plt.ylabel('Количество заказов')\n",
    "plt.grid()\n",
    "plt.show();"
   ]
  },
  {
   "cell_type": "markdown",
   "metadata": {},
   "source": [
    "**Основная масса пользователей делает один заказ. Пользователей с 2-3 заказами гораздо меньше.**"
   ]
  },
  {
   "cell_type": "markdown",
   "metadata": {},
   "source": [
    "#### 95-й и 99-й перцентили количества заказов на пользователя\n"
   ]
  },
  {
   "cell_type": "code",
   "execution_count": 30,
   "metadata": {},
   "outputs": [
    {
     "data": {
      "text/plain": [
       "array([1., 2.])"
      ]
     },
     "execution_count": 30,
     "metadata": {},
     "output_type": "execute_result"
    }
   ],
   "source": [
    "percentile_for_transaction = np.percentile(ordersByUsers['transactionId'], [95,99])\n",
    "percentile_for_transaction"
   ]
  },
  {
   "cell_type": "markdown",
   "metadata": {},
   "source": [
    "#### Точечный график стоимостей заказов\n"
   ]
  },
  {
   "cell_type": "code",
   "execution_count": 31,
   "metadata": {},
   "outputs": [
    {
     "data": {
      "image/png": "[encoded data removed]",
      "text/plain": [
       "<Figure size 720x432 with 1 Axes>"
      ]
     },
     "metadata": {
      "needs_background": "light"
     },
     "output_type": "display_data"
    }
   ],
   "source": [
    "# построим график стоимостей заказов\n",
    "\n",
    "x_values = pd.Series(range(0, len(orders['revenue'])))\n",
    "\n",
    "plt.figure(figsize=(10, 6))\n",
    "ax = sns.scatterplot(x= x_values, y = orders['revenue'])\n",
    "plt.title('Распределение стоимостей заказов')\n",
    "plt.xlabel('Заказы')\n",
    "plt.ylabel('Стоимость заказов')\n",
    "plt.grid()\n",
    "plt.show();"
   ]
  },
  {
   "cell_type": "markdown",
   "metadata": {},
   "source": [
    "**Основная масса стоимостей заказов сосредоточена в одном диапазоне (около 50000 ед). Аномальные значения практически отсутствуют.**"
   ]
  },
  {
   "cell_type": "markdown",
   "metadata": {},
   "source": [
    "#### 95-й и 99-й перцентили стоимости заказов"
   ]
  },
  {
   "cell_type": "code",
   "execution_count": 32,
   "metadata": {},
   "outputs": [
    {
     "data": {
      "text/plain": [
       "array([26785., 53904.])"
      ]
     },
     "execution_count": 32,
     "metadata": {},
     "output_type": "execute_result"
    }
   ],
   "source": [
    "percentile_for_transaction_price = np.percentile(orders['revenue'], [95,99])\n",
    "percentile_for_transaction_price"
   ]
  },
  {
   "cell_type": "code",
   "execution_count": 33,
   "metadata": {},
   "outputs": [],
   "source": [
    "abnormal_order_limit = percentile_for_transaction[1]\n",
    "abnormal_revenue_limit = percentile_for_transaction_price[1]"
   ]
  },
  {
   "cell_type": "markdown",
   "metadata": {},
   "source": [
    "#### Выводы по перцентилям\n",
    "\n",
    "- Не более 1% пользователей делают более 2 заказов и не более 5 % - более 1 заказа. \n",
    "- Не более 1% заказов превышат сумму 53904 ден.ед и не более 5 % - 26785 ден.ед. \n",
    "\n",
    "**Примем за аномальных пользователей тех, которые совершили более двух заказов и на сумму более 54 тысяч рублей.**"
   ]
  },
  {
   "cell_type": "markdown",
   "metadata": {},
   "source": [
    "#### Посчитаем статистическую значимость различий в среднем количестве заказов на посетителя между группами по «сырым» данным. "
   ]
  },
  {
   "cell_type": "markdown",
   "metadata": {},
   "source": [
    "**Сформулируем гипотезы.**\n",
    "\n",
    "- Нулевая: Статистически значимых различий в среднем количестве заказов на посетителя между группами по сырым данным нет. \n",
    "- Альтернативная: Статистически значимые различия в среднем количестве заказов на посетителя между группами по сырым данным есть."
   ]
  },
  {
   "cell_type": "markdown",
   "metadata": {},
   "source": [
    "Зададим критический уровень статистической значимости alpha = 0,05.\n",
    "Проверяем гипотезы с помощью непараметрического теста Уилкоксона-Манна-Уитни"
   ]
  },
  {
   "cell_type": "code",
   "execution_count": 34,
   "metadata": {},
   "outputs": [],
   "source": [
    "# сгруппируем посетителей по дням и получим кумулятивные данные о посетителях по группе А \n",
    "visitorsADaily = visitors[visitors['group'] == 'A'][['date', 'visitors']]\n",
    "visitorsADaily.columns = ['date', 'visitorsPerDateA']\n",
    "\n",
    "visitorsACummulative = visitorsADaily.apply(\n",
    "    lambda x: visitorsADaily[visitorsADaily['date'] <= x['date']].agg(\n",
    "        {'date': 'max', 'visitorsPerDateA': 'sum'}\n",
    "    ),\n",
    "    axis=1,\n",
    ")\n",
    "\n",
    "visitorsACummulative.columns = ['date', 'visitorsCummulativeA']\n"
   ]
  },
  {
   "cell_type": "code",
   "execution_count": 35,
   "metadata": {},
   "outputs": [],
   "source": [
    "# сгруппируем посетителей по дням и получим кумулятивные данные о посетителях по группе В \n",
    "visitorsBDaily = visitors[visitors['group'] == 'B'][['date', 'visitors']]\n",
    "visitorsBDaily.columns = ['date', 'visitorsPerDateB']\n",
    "\n",
    "visitorsBCummulative = visitorsBDaily.apply(\n",
    "    lambda x: visitorsBDaily[visitorsBDaily['date'] <= x['date']].agg(\n",
    "        {'date': 'max', 'visitorsPerDateB': 'sum'}\n",
    "    ),\n",
    "    axis=1,\n",
    ")\n",
    "visitorsBCummulative.columns = ['date', 'visitorsCummulativeB']\n"
   ]
  },
  {
   "cell_type": "code",
   "execution_count": 36,
   "metadata": {},
   "outputs": [],
   "source": [
    "# сгруппируем количество заказов и выручку по дням и получим кумулятивные данные по группе А \n",
    "ordersADaily = (orders.query('group == \"A\"')\n",
    "                 .groupby('date', as_index=False)\n",
    "                 .agg({'transactionId': pd.Series.nunique, 'revenue': 'sum'}))\n",
    "ordersADaily.columns = ['date', 'ordersPerDateA', 'revenuePerDateA']\n",
    "\n",
    "ordersACummulative = ordersADaily.apply(\n",
    "    lambda x: ordersADaily[ordersADaily['date'] <= x['date']].agg(\n",
    "        {'date': 'max', 'ordersPerDateA': 'sum', 'revenuePerDateA': 'sum'}\n",
    "    ),\n",
    "    axis=1,\n",
    ").sort_values(by=['date'])\n",
    "\n",
    "ordersACummulative.columns = ['date','ordersCummulativeA','revenueCummulativeA']\n"
   ]
  },
  {
   "cell_type": "code",
   "execution_count": 37,
   "metadata": {},
   "outputs": [],
   "source": [
    "# сгруппируем количество заказов и выручку по дням и получим кумулятивные данные по группе B\n",
    "ordersBDaily = (orders.query('group == \"B\"')\n",
    "                 .groupby('date', as_index=False)\n",
    "                 .agg({'transactionId': pd.Series.nunique, 'revenue': 'sum'}))\n",
    "ordersBDaily.columns = ['date', 'ordersPerDateB', 'revenuePerDateB']\n",
    "\n",
    "ordersBCummulative = ordersBDaily.apply(\n",
    "    lambda x: ordersBDaily[ordersBDaily['date'] <= x['date']].agg(\n",
    "        {'date': 'max', 'ordersPerDateB': 'sum', 'revenuePerDateB': 'sum'}\n",
    "    ),\n",
    "    axis=1,\n",
    ").sort_values(by=['date'])\n",
    "ordersBCummulative.columns = ['date','ordersCummulativeB','revenueCummulativeB']"
   ]
  },
  {
   "cell_type": "markdown",
   "metadata": {},
   "source": [
    "Объединим данные в единую таблицу где:\n",
    "\n",
    "- date — дата;\n",
    "\n",
    "- ordersPerDateA — количество заказов в выбранную дату в группе A;\n",
    "\n",
    "- revenuePerDateA — суммарная выручка в выбранную дату в группе A;\n",
    "\n",
    "- ordersPerDateB — количество заказов в выбранную дату в группе B;\n",
    "\n",
    "- revenuePerDateB — суммарная выручка в выбранную дату в группе B;\n",
    "\n",
    "- ordersCummulativeA — суммарное число заказов до выбранной даты включительно в группе A;\n",
    "\n",
    "- revenueCummulativeA — суммарная выручка до выбранной даты включительно в группе A;\n",
    "\n",
    "- ordersCummulativeB — суммарное количество заказов до выбранной даты включительно в группе B;\n",
    "\n",
    "- revenueCummulativeB — суммарная выручка до выбранной даты включительно в группе B;\n",
    "\n",
    "- visitorsPerDateA — количество пользователей в выбранную дату в группе A;\n",
    "\n",
    "- visitorsPerDateB — количество пользователей в выбранную дату в группе B;\n",
    "\n",
    "- visitorsCummulativeA — количество пользователей до выбранной даты включительно в группе A;\n",
    "\n",
    "- visitorsCummulativeB — количество пользователей до выбранной даты включительно в группе B."
   ]
  },
  {
   "cell_type": "code",
   "execution_count": 38,
   "metadata": {},
   "outputs": [
    {
     "data": {
      "text/html": [
       "<div>\n",
       "<style scoped>\n",
       "    .dataframe tbody tr th:only-of-type {\n",
       "        vertical-align: middle;\n",
       "    }\n",
       "\n",
       "    .dataframe tbody tr th {\n",
       "        vertical-align: top;\n",
       "    }\n",
       "\n",
       "    .dataframe thead th {\n",
       "        text-align: right;\n",
       "    }\n",
       "</style>\n",
       "<table border=\"1\" class=\"dataframe\">\n",
       "  <thead>\n",
       "    <tr style=\"text-align: right;\">\n",
       "      <th></th>\n",
       "      <th>date</th>\n",
       "      <th>ordersPerDateA</th>\n",
       "      <th>revenuePerDateA</th>\n",
       "      <th>ordersPerDateB</th>\n",
       "      <th>revenuePerDateB</th>\n",
       "      <th>ordersCummulativeA</th>\n",
       "      <th>revenueCummulativeA</th>\n",
       "      <th>ordersCummulativeB</th>\n",
       "      <th>revenueCummulativeB</th>\n",
       "      <th>visitorsPerDateA</th>\n",
       "      <th>visitorsPerDateB</th>\n",
       "      <th>visitorsCummulativeA</th>\n",
       "      <th>visitorsCummulativeB</th>\n",
       "    </tr>\n",
       "  </thead>\n",
       "  <tbody>\n",
       "    <tr>\n",
       "      <th>0</th>\n",
       "      <td>2019-08-01</td>\n",
       "      <td>23</td>\n",
       "      <td>142779</td>\n",
       "      <td>17</td>\n",
       "      <td>59758</td>\n",
       "      <td>23</td>\n",
       "      <td>142779</td>\n",
       "      <td>17</td>\n",
       "      <td>59758</td>\n",
       "      <td>719</td>\n",
       "      <td>713</td>\n",
       "      <td>719</td>\n",
       "      <td>713</td>\n",
       "    </tr>\n",
       "    <tr>\n",
       "      <th>1</th>\n",
       "      <td>2019-08-02</td>\n",
       "      <td>19</td>\n",
       "      <td>91602</td>\n",
       "      <td>23</td>\n",
       "      <td>162043</td>\n",
       "      <td>42</td>\n",
       "      <td>234381</td>\n",
       "      <td>40</td>\n",
       "      <td>221801</td>\n",
       "      <td>619</td>\n",
       "      <td>581</td>\n",
       "      <td>1338</td>\n",
       "      <td>1294</td>\n",
       "    </tr>\n",
       "    <tr>\n",
       "      <th>2</th>\n",
       "      <td>2019-08-03</td>\n",
       "      <td>24</td>\n",
       "      <td>112473</td>\n",
       "      <td>14</td>\n",
       "      <td>67049</td>\n",
       "      <td>66</td>\n",
       "      <td>346854</td>\n",
       "      <td>54</td>\n",
       "      <td>288850</td>\n",
       "      <td>507</td>\n",
       "      <td>509</td>\n",
       "      <td>1845</td>\n",
       "      <td>1803</td>\n",
       "    </tr>\n",
       "    <tr>\n",
       "      <th>3</th>\n",
       "      <td>2019-08-04</td>\n",
       "      <td>11</td>\n",
       "      <td>41176</td>\n",
       "      <td>14</td>\n",
       "      <td>96890</td>\n",
       "      <td>77</td>\n",
       "      <td>388030</td>\n",
       "      <td>68</td>\n",
       "      <td>385740</td>\n",
       "      <td>717</td>\n",
       "      <td>770</td>\n",
       "      <td>2562</td>\n",
       "      <td>2573</td>\n",
       "    </tr>\n",
       "    <tr>\n",
       "      <th>4</th>\n",
       "      <td>2019-08-05</td>\n",
       "      <td>22</td>\n",
       "      <td>86383</td>\n",
       "      <td>21</td>\n",
       "      <td>89908</td>\n",
       "      <td>99</td>\n",
       "      <td>474413</td>\n",
       "      <td>89</td>\n",
       "      <td>475648</td>\n",
       "      <td>756</td>\n",
       "      <td>707</td>\n",
       "      <td>3318</td>\n",
       "      <td>3280</td>\n",
       "    </tr>\n",
       "  </tbody>\n",
       "</table>\n",
       "</div>"
      ],
      "text/plain": [
       "        date  ordersPerDateA  revenuePerDateA  ordersPerDateB  \\\n",
       "0 2019-08-01              23           142779              17   \n",
       "1 2019-08-02              19            91602              23   \n",
       "2 2019-08-03              24           112473              14   \n",
       "3 2019-08-04              11            41176              14   \n",
       "4 2019-08-05              22            86383              21   \n",
       "\n",
       "   revenuePerDateB  ordersCummulativeA  revenueCummulativeA  \\\n",
       "0            59758                  23               142779   \n",
       "1           162043                  42               234381   \n",
       "2            67049                  66               346854   \n",
       "3            96890                  77               388030   \n",
       "4            89908                  99               474413   \n",
       "\n",
       "   ordersCummulativeB  revenueCummulativeB  visitorsPerDateA  \\\n",
       "0                  17                59758               719   \n",
       "1                  40               221801               619   \n",
       "2                  54               288850               507   \n",
       "3                  68               385740               717   \n",
       "4                  89               475648               756   \n",
       "\n",
       "   visitorsPerDateB  visitorsCummulativeA  visitorsCummulativeB  \n",
       "0               713                   719                   713  \n",
       "1               581                  1338                  1294  \n",
       "2               509                  1845                  1803  \n",
       "3               770                  2562                  2573  \n",
       "4               707                  3318                  3280  "
      ]
     },
     "execution_count": 38,
     "metadata": {},
     "output_type": "execute_result"
    }
   ],
   "source": [
    "# объединим данные в единую таблицу\n",
    "total = (\n",
    "    ordersADaily.merge(\n",
    "        ordersBDaily, left_on='date', right_on='date', how='left'\n",
    "    )\n",
    "    .merge(ordersACummulative, left_on='date', right_on='date', how='left')\n",
    "    .merge(ordersBCummulative, left_on='date', right_on='date', how='left')\n",
    "    .merge(visitorsADaily, left_on='date', right_on='date', how='left')\n",
    "    .merge(visitorsBDaily, left_on='date', right_on='date', how='left')\n",
    "    .merge(visitorsACummulative, left_on='date', right_on='date', how='left')\n",
    "    .merge(visitorsBCummulative, left_on='date', right_on='date', how='left')\n",
    ")\n",
    "total.head()"
   ]
  },
  {
   "cell_type": "code",
   "execution_count": 39,
   "metadata": {},
   "outputs": [],
   "source": [
    "# сгруппируем заказы по пользователям для группы А\n",
    "ordersByUsersA = (\n",
    "    orders[orders['group'] == 'A']\n",
    "    .groupby('visitorId', as_index=False)\n",
    "    .agg({'transactionId': pd.Series.nunique})\n",
    ")\n",
    "ordersByUsersA.columns = ['userId', 'orders']\n",
    "\n",
    "# сгруппируем заказы по пользователям для группы В\n",
    "ordersByUsersB = (\n",
    "    orders[orders['group'] == 'B']\n",
    "    .groupby('visitorId', as_index=False)\n",
    "    .agg({'transactionId': pd.Series.nunique})\n",
    ")\n",
    "ordersByUsersB.columns = ['userId', 'orders'] "
   ]
  },
  {
   "cell_type": "code",
   "execution_count": 40,
   "metadata": {},
   "outputs": [],
   "source": [
    "# выделим всех пользователей и число заказов для каждого в тч 0\n",
    "sampleA = pd.concat(\n",
    "    [ordersByUsersA['orders'],\n",
    "     pd.Series(0, index=np.arange(total['visitorsPerDateA'].sum() - len(ordersByUsersA['orders'])\n",
    "                                 ), name='orders')\n",
    "    ],axis=0)\n",
    "\n",
    "sampleB = pd.concat(\n",
    "    [ordersByUsersB['orders'],\n",
    "     pd.Series(0, index=np.arange(total['visitorsPerDateB'].sum() - len(ordersByUsersB['orders'])\n",
    "                                 ), name='orders')\n",
    "    ],axis=0)\n"
   ]
  },
  {
   "cell_type": "code",
   "execution_count": 41,
   "metadata": {},
   "outputs": [
    {
     "name": "stdout",
     "output_type": "stream",
     "text": [
      "0.011\n",
      "0.160\n"
     ]
    }
   ],
   "source": [
    "# Выведем относительный прирост группы B\n",
    "print(\"{0:.3f}\".format(stats.mannwhitneyu(sampleA, sampleB)[1]))\n",
    "print(\"{0:.3f}\".format(sampleB.mean() / sampleA.mean() - 1))\n"
   ]
  },
  {
   "cell_type": "markdown",
   "metadata": {},
   "source": [
    "#### Вывод\n",
    "p-value меньше 0,05 поэтому нулевую гипотезу отвергаем - статистически значимые различия в среднем количестве заказов на посетителя между группами есть. Относительный прирост группы В к группе А равен 16%"
   ]
  },
  {
   "cell_type": "markdown",
   "metadata": {},
   "source": [
    "#### Cтатистическая значимость различий в среднем чеке заказа между группами по «сырым» данным"
   ]
  },
  {
   "cell_type": "markdown",
   "metadata": {},
   "source": [
    "**Сформулируем гипотезы.**\n",
    "\n",
    "- Нулевая: Статистически значимых различий в среднем чеке между группами по сырым данным нет. \n",
    "- Альтернативная: Статистически значимые различия в среднем чеке между группами по сырым данным есть."
   ]
  },
  {
   "cell_type": "markdown",
   "metadata": {},
   "source": [
    "Зададим критический уровень статистической значимости alpha = 0,05.\n",
    "Проверяем гипотезы с помощью непараметрического теста Уилкоксона-Манна-Уитни"
   ]
  },
  {
   "cell_type": "code",
   "execution_count": 42,
   "metadata": {},
   "outputs": [
    {
     "name": "stdout",
     "output_type": "stream",
     "text": [
      "0.829\n",
      "0.287\n"
     ]
    }
   ],
   "source": [
    "print('{0:.3f}'.format(stats.mannwhitneyu(orders[orders['group']=='A']['revenue'], orders[orders['group']=='B']['revenue'])[1]))\n",
    "print('{0:.3f}'.format(orders[orders['group']=='B']['revenue'].mean()/orders[orders['group']=='A']['revenue'].mean()-1)) "
   ]
  },
  {
   "cell_type": "markdown",
   "metadata": {},
   "source": [
    "#### Вывод\n",
    "p-value больше 0,05 не отвергаем нулевую гипотезу - статистически значимых различий в среднем чеке между группами нет. Относительное различие среднего чека между группами 28,7%"
   ]
  },
  {
   "cell_type": "markdown",
   "metadata": {},
   "source": [
    "#### Посчитаем статистическую значимость различий в среднем количестве заказов на посетителя между группами по «очищенным» данным. "
   ]
  },
  {
   "cell_type": "markdown",
   "metadata": {},
   "source": [
    "**Сформулируем гипотезы.**\n",
    "\n",
    "- Нулевая: Статистически значимых различий в среднем количестве заказов на посетителя между группами по очищенным данным нет. \n",
    "- Альтернативная: Статистически значимые различия в среднем количестве заказов на посетителя между группами по очищенным данным есть."
   ]
  },
  {
   "cell_type": "markdown",
   "metadata": {},
   "source": [
    "Зададим критический уровень статистической значимости alpha = 0,05.\n",
    "Проверяем гипотезы с помощью непараметрического теста Уилкоксона-Манна-Уитни"
   ]
  },
  {
   "cell_type": "markdown",
   "metadata": {},
   "source": [
    "Ранее мы определили границу количества аномальных заказов - 2, границу суммы аномальных заказов - 53904 ден.ед. Сделаем срезы пользователей с числом заказов больше ц — usersWithManyOrders и пользователей, совершивших заказы дороже 53904 — usersWithExpensiveOrders. Объединим их в таблице abnormalUsers"
   ]
  },
  {
   "cell_type": "code",
   "execution_count": 43,
   "metadata": {},
   "outputs": [
    {
     "data": {
      "text/plain": [
       "2.0"
      ]
     },
     "metadata": {},
     "output_type": "display_data"
    },
    {
     "data": {
      "text/plain": [
       "53904.0"
      ]
     },
     "execution_count": 43,
     "metadata": {},
     "output_type": "execute_result"
    }
   ],
   "source": [
    "display(abnormal_order_limit)\n",
    "abnormal_revenue_limit"
   ]
  },
  {
   "cell_type": "code",
   "execution_count": 44,
   "metadata": {},
   "outputs": [
    {
     "name": "stdout",
     "output_type": "stream",
     "text": [
      "1099    148427295\n",
      "33      249864742\n",
      "58      611059232\n",
      "949     887908475\n",
      "744     888512513\n",
      "dtype: int64\n",
      "16\n"
     ]
    }
   ],
   "source": [
    "usersWithManyOrders = pd.concat(\n",
    "    [ordersByUsersA[ordersByUsersA['orders'] > abnormal_order_limit]['userId'],\n",
    "     ordersByUsersB[ordersByUsersB['orders'] > abnormal_order_limit]['userId'],\n",
    "    ],axis=0)\n",
    "\n",
    "usersWithExpensiveOrders = orders[orders['revenue'] > abnormal_revenue_limit]['visitorId']\n",
    "\n",
    "abnormalUsers = (pd.concat([usersWithManyOrders, usersWithExpensiveOrders], axis=0)\n",
    "    .drop_duplicates()\n",
    "    .sort_values())\n",
    "\n",
    "print(abnormalUsers.head())\n",
    "print(abnormalUsers.shape[0])"
   ]
  },
  {
   "cell_type": "markdown",
   "metadata": {},
   "source": [
    "#### Вывод\n",
    "**Найдено 16 аномальных пользователей**"
   ]
  },
  {
   "cell_type": "code",
   "execution_count": 45,
   "metadata": {},
   "outputs": [
    {
     "name": "stdout",
     "output_type": "stream",
     "text": [
      "0.007\n",
      "0.189\n"
     ]
    }
   ],
   "source": [
    "sampleAFiltered = pd.concat(\n",
    "    [ordersByUsersA[np.logical_not(ordersByUsersA['userId'].isin(abnormalUsers))\n",
    "                   ]['orders'],\n",
    "     pd.Series(0, index=np.arange(total['visitorsPerDateA'].sum() - len(ordersByUsersA['orders'])),\n",
    "               name='orders')],axis=0)\n",
    "\n",
    "sampleBFiltered = pd.concat(\n",
    "    [ordersByUsersB[np.logical_not(ordersByUsersB['userId'].isin(abnormalUsers))\n",
    "                   ]['orders'],\n",
    "     pd.Series(0, index=np.arange(total['visitorsPerDateB'].sum() - len(ordersByUsersB['orders'])),\n",
    "               name='orders')],axis=0)\n",
    "# статистический критерий Манна-Уитни\n",
    "print('{0:.3f}'.format(stats.mannwhitneyu(sampleAFiltered, sampleBFiltered)[1]))\n",
    "print('{0:.3f}'.format(sampleBFiltered.mean()/sampleAFiltered.mean()-1))"
   ]
  },
  {
   "cell_type": "markdown",
   "metadata": {},
   "source": [
    "#### Вывод\n",
    "p-value меньше 0,05 - различия есть. Нулевую гипотезу отвергаем. Как и в случае с \"сырыми\" данными, в \"очищенных\" данных статистическая значимость достигнута, сегмент группы В лучше сегмента А. Относительный прирост среднего количества заказов группы В к группе А равен 18,9%. "
   ]
  },
  {
   "cell_type": "markdown",
   "metadata": {},
   "source": [
    "#### Cтатистическая значимость различий в среднем чеке заказа между группами по «очищенным» данным"
   ]
  },
  {
   "cell_type": "markdown",
   "metadata": {},
   "source": [
    "**Сформулируем гипотезы.**\n",
    "\n",
    "- Нулевая: Статистически значимых различий в среднем чеке между группами по очищенным данным нет. \n",
    "- Альтернативная: Статистически значимые различия в среднем чеке между группами по очищенным данным есть."
   ]
  },
  {
   "cell_type": "markdown",
   "metadata": {},
   "source": [
    "Зададим критический уровень статистической значимости alpha = 0,05.\n",
    "Проверяем гипотезы с помощью непараметрического теста Уилкоксона-Манна-Уитни"
   ]
  },
  {
   "cell_type": "code",
   "execution_count": 46,
   "metadata": {},
   "outputs": [
    {
     "name": "stdout",
     "output_type": "stream",
     "text": [
      "0.788\n",
      "-0.032\n"
     ]
    }
   ],
   "source": [
    "print('{0:.3f}'.format(\n",
    "    stats.mannwhitneyu(orders[\n",
    "        np.logical_and(orders['group'] == 'A',np.logical_not(orders['visitorId'].isin(abnormalUsers))\n",
    "                      )]['revenue'], \n",
    "                       orders[\n",
    "        np.logical_and(orders['group'] == 'B',np.logical_not(orders['visitorId'].isin(abnormalUsers))\n",
    "                      )]['revenue'])[1]))\n",
    "\n",
    "print(\"{0:.3f}\".format(orders[\n",
    "        np.logical_and(orders['group'] == 'B',np.logical_not(orders['visitorId'].isin(abnormalUsers))\n",
    "                      )]['revenue'].mean()\n",
    "        / orders[\n",
    "        np.logical_and(orders['group'] == 'A',np.logical_not(orders['visitorId'].isin(abnormalUsers))\n",
    "                      )]['revenue'].mean() - 1))"
   ]
  },
  {
   "cell_type": "markdown",
   "metadata": {},
   "source": [
    "#### Вывод\n",
    "Нулевую гипотезу не отвергаем. Анализ \"очищенных\" данных показывает, что в среднем чеке статистических значимых различий между группами нет. Относительное различие среднего чека между группами -3,2%"
   ]
  },
  {
   "cell_type": "markdown",
   "metadata": {},
   "source": [
    "### Решение по результатам теста\n",
    "\n",
    "- Графики кумулятивной выручки и кумулятиного среднего чека показали, что группа В эффективнее группы А, выручка выше и средний чек больше. Среднее количество заказов на посетителя по группе В так же выше. Мы предположили, что в данных есть выбросы.\n",
    "\n",
    "Статистическая значимость на \"сырых\" данных показала:\n",
    "\n",
    "- различия в в среднем количестве заказов на посетителя между группами есть,\n",
    "- в среднем чеке различий нет\n",
    " \n",
    "На основе \"очищенных\" данных выявлено:\n",
    "\n",
    "- различия в среднем количестве заказов на посетителя между группами есть,\n",
    "- в среднем чеке различий нет.\n",
    "\n",
    "**Можем сделать вывод, что результаты группы В превышают результаты группы А. Следует зафиксировать победу группы В и остановить тест.**"
   ]
  }
 ],
 "metadata": {
  "ExecuteTimeLog": [
   {
    "duration": 1294,
    "start_time": "2023-02-02T11:15:04.624Z"
   },
   {
    "duration": 125,
    "start_time": "2023-02-02T11:16:44.137Z"
   },
   {
    "duration": 1717,
    "start_time": "2023-02-02T18:47:19.660Z"
   },
   {
    "duration": 114,
    "start_time": "2023-02-02T18:47:21.384Z"
   },
   {
    "duration": 25,
    "start_time": "2023-02-02T18:51:37.353Z"
   },
   {
    "duration": 9,
    "start_time": "2023-02-02T18:52:13.346Z"
   },
   {
    "duration": 22,
    "start_time": "2023-02-02T18:53:34.914Z"
   },
   {
    "duration": 11,
    "start_time": "2023-02-02T18:54:46.507Z"
   },
   {
    "duration": 17,
    "start_time": "2023-02-02T18:58:06.697Z"
   },
   {
    "duration": 7,
    "start_time": "2023-02-02T18:58:19.298Z"
   },
   {
    "duration": 30,
    "start_time": "2023-02-02T18:58:19.310Z"
   },
   {
    "duration": 3,
    "start_time": "2023-02-02T18:58:19.342Z"
   },
   {
    "duration": 18,
    "start_time": "2023-02-02T18:58:19.347Z"
   },
   {
    "duration": 59,
    "start_time": "2023-02-02T18:58:19.367Z"
   },
   {
    "duration": 22,
    "start_time": "2023-02-02T18:58:19.429Z"
   },
   {
    "duration": 4,
    "start_time": "2023-02-02T19:03:47.713Z"
   },
   {
    "duration": 13,
    "start_time": "2023-02-02T19:03:51.427Z"
   },
   {
    "duration": 27,
    "start_time": "2023-02-02T19:04:22.664Z"
   },
   {
    "duration": 328,
    "start_time": "2023-02-02T19:19:48.692Z"
   },
   {
    "duration": 4,
    "start_time": "2023-02-02T19:21:50.748Z"
   },
   {
    "duration": 161,
    "start_time": "2023-02-02T19:22:53.729Z"
   },
   {
    "duration": 25,
    "start_time": "2023-02-02T19:23:01.431Z"
   },
   {
    "duration": 37,
    "start_time": "2023-02-02T19:24:00.361Z"
   },
   {
    "duration": 14,
    "start_time": "2023-02-02T19:26:15.213Z"
   },
   {
    "duration": 7,
    "start_time": "2023-02-02T19:26:17.209Z"
   },
   {
    "duration": 46,
    "start_time": "2023-02-03T04:05:46.905Z"
   },
   {
    "duration": 1287,
    "start_time": "2023-02-03T04:05:57.227Z"
   },
   {
    "duration": 61,
    "start_time": "2023-02-03T04:05:58.516Z"
   },
   {
    "duration": 3,
    "start_time": "2023-02-03T04:05:58.578Z"
   },
   {
    "duration": 15,
    "start_time": "2023-02-03T04:05:58.583Z"
   },
   {
    "duration": 3,
    "start_time": "2023-02-03T04:05:58.601Z"
   },
   {
    "duration": 15,
    "start_time": "2023-02-03T04:05:58.606Z"
   },
   {
    "duration": 10,
    "start_time": "2023-02-03T04:05:58.622Z"
   },
   {
    "duration": 127,
    "start_time": "2023-02-03T04:05:58.634Z"
   },
   {
    "duration": 3,
    "start_time": "2023-02-03T04:05:58.763Z"
   },
   {
    "duration": 25,
    "start_time": "2023-02-03T04:05:58.767Z"
   },
   {
    "duration": 11,
    "start_time": "2023-02-03T04:05:58.794Z"
   },
   {
    "duration": 11,
    "start_time": "2023-02-03T04:05:58.807Z"
   },
   {
    "duration": 6,
    "start_time": "2023-02-03T04:05:58.819Z"
   },
   {
    "duration": 8,
    "start_time": "2023-02-03T04:05:58.827Z"
   },
   {
    "duration": 180,
    "start_time": "2023-02-03T04:14:31.137Z"
   },
   {
    "duration": 8,
    "start_time": "2023-02-03T04:17:33.726Z"
   },
   {
    "duration": 130,
    "start_time": "2023-02-03T05:19:51.354Z"
   },
   {
    "duration": 7,
    "start_time": "2023-02-03T05:19:52.401Z"
   },
   {
    "duration": 12,
    "start_time": "2023-02-03T05:20:48.535Z"
   },
   {
    "duration": 67,
    "start_time": "2023-02-03T05:44:47.639Z"
   },
   {
    "duration": 12,
    "start_time": "2023-02-03T05:45:07.776Z"
   },
   {
    "duration": 12,
    "start_time": "2023-02-03T05:45:10.724Z"
   },
   {
    "duration": 16,
    "start_time": "2023-02-03T05:46:44.997Z"
   },
   {
    "duration": 13,
    "start_time": "2023-02-03T05:46:49.364Z"
   },
   {
    "duration": 7,
    "start_time": "2023-02-03T05:46:52.518Z"
   },
   {
    "duration": 289,
    "start_time": "2023-02-03T05:47:05.781Z"
   },
   {
    "duration": 12,
    "start_time": "2023-02-03T06:10:27.377Z"
   },
   {
    "duration": 219,
    "start_time": "2023-02-03T06:13:30.079Z"
   },
   {
    "duration": 11,
    "start_time": "2023-02-03T06:56:16.288Z"
   },
   {
    "duration": 791,
    "start_time": "2023-02-03T06:56:55.824Z"
   },
   {
    "duration": 356,
    "start_time": "2023-02-03T06:57:29.103Z"
   },
   {
    "duration": 344,
    "start_time": "2023-02-03T06:57:40.526Z"
   },
   {
    "duration": 349,
    "start_time": "2023-02-03T06:57:49.668Z"
   },
   {
    "duration": 215,
    "start_time": "2023-02-03T06:58:35.673Z"
   },
   {
    "duration": 410,
    "start_time": "2023-02-03T06:58:40.063Z"
   },
   {
    "duration": 244,
    "start_time": "2023-02-03T09:53:28.874Z"
   },
   {
    "duration": 245,
    "start_time": "2023-02-03T09:54:02.257Z"
   },
   {
    "duration": 224,
    "start_time": "2023-02-03T09:54:16.920Z"
   },
   {
    "duration": 214,
    "start_time": "2023-02-03T09:55:49.956Z"
   },
   {
    "duration": 15,
    "start_time": "2023-02-03T10:35:45.428Z"
   },
   {
    "duration": 236,
    "start_time": "2023-02-03T10:36:12.508Z"
   },
   {
    "duration": 17,
    "start_time": "2023-02-03T10:36:17.037Z"
   },
   {
    "duration": 909,
    "start_time": "2023-02-03T10:36:54.361Z"
   },
   {
    "duration": 332,
    "start_time": "2023-02-03T10:38:38.166Z"
   },
   {
    "duration": 141,
    "start_time": "2023-02-03T10:49:00.374Z"
   },
   {
    "duration": 175,
    "start_time": "2023-02-03T11:10:54.944Z"
   },
   {
    "duration": 5,
    "start_time": "2023-02-03T11:16:48.134Z"
   },
   {
    "duration": 159,
    "start_time": "2023-02-03T11:28:05.478Z"
   },
   {
    "duration": 4,
    "start_time": "2023-02-03T11:31:52.485Z"
   },
   {
    "duration": 5,
    "start_time": "2023-02-03T11:35:11.724Z"
   },
   {
    "duration": 1373,
    "start_time": "2023-02-05T17:51:19.649Z"
   },
   {
    "duration": 80,
    "start_time": "2023-02-05T17:51:21.024Z"
   },
   {
    "duration": 4,
    "start_time": "2023-02-05T17:51:21.106Z"
   },
   {
    "duration": 18,
    "start_time": "2023-02-05T17:51:21.112Z"
   },
   {
    "duration": 16,
    "start_time": "2023-02-05T17:51:21.132Z"
   },
   {
    "duration": 18,
    "start_time": "2023-02-05T17:51:21.150Z"
   },
   {
    "duration": 11,
    "start_time": "2023-02-05T17:51:21.170Z"
   },
   {
    "duration": 147,
    "start_time": "2023-02-05T17:51:21.182Z"
   },
   {
    "duration": 4,
    "start_time": "2023-02-05T17:51:21.331Z"
   },
   {
    "duration": 37,
    "start_time": "2023-02-05T17:51:21.336Z"
   },
   {
    "duration": 13,
    "start_time": "2023-02-05T17:51:21.374Z"
   },
   {
    "duration": 18,
    "start_time": "2023-02-05T17:51:21.389Z"
   },
   {
    "duration": 6,
    "start_time": "2023-02-05T17:51:21.409Z"
   },
   {
    "duration": 9,
    "start_time": "2023-02-05T17:51:21.418Z"
   },
   {
    "duration": 196,
    "start_time": "2023-02-05T17:51:21.428Z"
   },
   {
    "duration": 23,
    "start_time": "2023-02-05T17:51:21.626Z"
   },
   {
    "duration": 123,
    "start_time": "2023-02-05T17:51:21.651Z"
   },
   {
    "duration": 11,
    "start_time": "2023-02-05T17:51:21.776Z"
   },
   {
    "duration": 12,
    "start_time": "2023-02-05T17:51:21.789Z"
   },
   {
    "duration": 8,
    "start_time": "2023-02-05T17:51:21.803Z"
   },
   {
    "duration": 311,
    "start_time": "2023-02-05T17:51:21.812Z"
   },
   {
    "duration": 11,
    "start_time": "2023-02-05T17:51:22.125Z"
   },
   {
    "duration": 248,
    "start_time": "2023-02-05T17:51:22.147Z"
   },
   {
    "duration": 14,
    "start_time": "2023-02-05T17:51:22.397Z"
   },
   {
    "duration": 404,
    "start_time": "2023-02-05T17:51:22.413Z"
   },
   {
    "duration": 257,
    "start_time": "2023-02-05T17:51:22.819Z"
   },
   {
    "duration": 327,
    "start_time": "2023-02-05T17:51:23.078Z"
   },
   {
    "duration": 159,
    "start_time": "2023-02-05T17:51:23.407Z"
   },
   {
    "duration": 198,
    "start_time": "2023-02-05T17:51:23.568Z"
   },
   {
    "duration": 5,
    "start_time": "2023-02-05T17:51:23.768Z"
   },
   {
    "duration": 190,
    "start_time": "2023-02-05T17:51:23.774Z"
   },
   {
    "duration": 5,
    "start_time": "2023-02-05T17:51:23.966Z"
   },
   {
    "duration": 50,
    "start_time": "2023-02-05T19:49:18.965Z"
   },
   {
    "duration": 1395,
    "start_time": "2023-02-05T19:49:30.943Z"
   },
   {
    "duration": 80,
    "start_time": "2023-02-05T19:49:32.340Z"
   },
   {
    "duration": 3,
    "start_time": "2023-02-05T19:49:32.422Z"
   },
   {
    "duration": 15,
    "start_time": "2023-02-05T19:49:32.427Z"
   },
   {
    "duration": 3,
    "start_time": "2023-02-05T19:49:32.445Z"
   },
   {
    "duration": 15,
    "start_time": "2023-02-05T19:49:32.450Z"
   },
   {
    "duration": 10,
    "start_time": "2023-02-05T19:49:32.466Z"
   },
   {
    "duration": 129,
    "start_time": "2023-02-05T19:49:32.478Z"
   },
   {
    "duration": 4,
    "start_time": "2023-02-05T19:49:32.609Z"
   },
   {
    "duration": 26,
    "start_time": "2023-02-05T19:49:32.614Z"
   },
   {
    "duration": 13,
    "start_time": "2023-02-05T19:49:32.641Z"
   },
   {
    "duration": 11,
    "start_time": "2023-02-05T19:49:32.656Z"
   },
   {
    "duration": 8,
    "start_time": "2023-02-05T19:49:32.669Z"
   },
   {
    "duration": 5,
    "start_time": "2023-02-05T19:49:32.693Z"
   },
   {
    "duration": 193,
    "start_time": "2023-02-05T19:49:32.700Z"
   },
   {
    "duration": 8,
    "start_time": "2023-02-05T19:49:32.895Z"
   },
   {
    "duration": 132,
    "start_time": "2023-02-05T19:49:32.905Z"
   },
   {
    "duration": 12,
    "start_time": "2023-02-05T19:49:33.039Z"
   },
   {
    "duration": 13,
    "start_time": "2023-02-05T19:49:33.052Z"
   },
   {
    "duration": 9,
    "start_time": "2023-02-05T19:49:33.067Z"
   },
   {
    "duration": 285,
    "start_time": "2023-02-05T19:49:33.077Z"
   },
   {
    "duration": 10,
    "start_time": "2023-02-05T19:49:33.364Z"
   },
   {
    "duration": 229,
    "start_time": "2023-02-05T19:49:33.376Z"
   },
   {
    "duration": 11,
    "start_time": "2023-02-05T19:49:33.607Z"
   },
   {
    "duration": 457,
    "start_time": "2023-02-05T19:49:33.619Z"
   },
   {
    "duration": 270,
    "start_time": "2023-02-05T19:49:34.078Z"
   },
   {
    "duration": 321,
    "start_time": "2023-02-05T19:49:34.350Z"
   },
   {
    "duration": 111,
    "start_time": "2023-02-05T19:49:34.673Z"
   },
   {
    "duration": 166,
    "start_time": "2023-02-05T19:49:34.792Z"
   },
   {
    "duration": 5,
    "start_time": "2023-02-05T19:49:34.961Z"
   },
   {
    "duration": 179,
    "start_time": "2023-02-05T19:49:34.968Z"
   },
   {
    "duration": 5,
    "start_time": "2023-02-05T19:49:35.149Z"
   },
   {
    "duration": 125,
    "start_time": "2023-02-05T19:49:35.156Z"
   },
   {
    "duration": 161,
    "start_time": "2023-02-05T19:49:35.283Z"
   },
   {
    "duration": 3,
    "start_time": "2023-02-05T19:50:49.737Z"
   },
   {
    "duration": 33,
    "start_time": "2023-02-05T19:50:49.741Z"
   },
   {
    "duration": 4,
    "start_time": "2023-02-05T19:50:49.776Z"
   },
   {
    "duration": 13,
    "start_time": "2023-02-05T19:50:49.782Z"
   },
   {
    "duration": 7,
    "start_time": "2023-02-05T19:50:49.797Z"
   },
   {
    "duration": 13,
    "start_time": "2023-02-05T19:50:49.806Z"
   },
   {
    "duration": 11,
    "start_time": "2023-02-05T19:50:49.821Z"
   },
   {
    "duration": 46,
    "start_time": "2023-02-05T19:50:49.833Z"
   },
   {
    "duration": 3,
    "start_time": "2023-02-05T19:50:49.880Z"
   },
   {
    "duration": 23,
    "start_time": "2023-02-05T19:50:49.886Z"
   },
   {
    "duration": 12,
    "start_time": "2023-02-05T19:50:49.910Z"
   },
   {
    "duration": 12,
    "start_time": "2023-02-05T19:50:49.923Z"
   },
   {
    "duration": 8,
    "start_time": "2023-02-05T19:50:49.937Z"
   },
   {
    "duration": 9,
    "start_time": "2023-02-05T19:50:49.947Z"
   },
   {
    "duration": 203,
    "start_time": "2023-02-05T19:50:49.958Z"
   },
   {
    "duration": 7,
    "start_time": "2023-02-05T19:50:50.163Z"
   },
   {
    "duration": 129,
    "start_time": "2023-02-05T19:50:50.172Z"
   },
   {
    "duration": 9,
    "start_time": "2023-02-05T19:50:50.302Z"
   },
   {
    "duration": 14,
    "start_time": "2023-02-05T19:50:50.313Z"
   },
   {
    "duration": 10,
    "start_time": "2023-02-05T19:50:50.329Z"
   },
   {
    "duration": 205,
    "start_time": "2023-02-05T19:50:50.341Z"
   },
   {
    "duration": 11,
    "start_time": "2023-02-05T19:50:50.547Z"
   },
   {
    "duration": 208,
    "start_time": "2023-02-05T19:50:50.559Z"
   },
   {
    "duration": 11,
    "start_time": "2023-02-05T19:50:50.768Z"
   },
   {
    "duration": 328,
    "start_time": "2023-02-05T19:50:50.794Z"
   },
   {
    "duration": 244,
    "start_time": "2023-02-05T19:50:51.124Z"
   },
   {
    "duration": 352,
    "start_time": "2023-02-05T19:50:51.370Z"
   },
   {
    "duration": 126,
    "start_time": "2023-02-05T19:50:51.726Z"
   },
   {
    "duration": 190,
    "start_time": "2023-02-05T19:50:51.854Z"
   },
   {
    "duration": 5,
    "start_time": "2023-02-05T19:50:52.046Z"
   },
   {
    "duration": 198,
    "start_time": "2023-02-05T19:50:52.053Z"
   },
   {
    "duration": 6,
    "start_time": "2023-02-05T19:50:52.252Z"
   },
   {
    "duration": 65,
    "start_time": "2023-02-05T19:50:52.260Z"
   },
   {
    "duration": 59,
    "start_time": "2023-02-05T19:50:52.327Z"
   },
   {
    "duration": 64,
    "start_time": "2023-02-05T19:50:52.388Z"
   },
   {
    "duration": 68,
    "start_time": "2023-02-05T19:50:52.454Z"
   },
   {
    "duration": 40,
    "start_time": "2023-02-05T19:53:11.519Z"
   },
   {
    "duration": 123,
    "start_time": "2023-02-05T19:54:37.777Z"
   },
   {
    "duration": 73,
    "start_time": "2023-02-05T19:54:59.369Z"
   },
   {
    "duration": 7,
    "start_time": "2023-02-05T19:56:07.693Z"
   },
   {
    "duration": 23,
    "start_time": "2023-02-05T19:56:09.895Z"
   },
   {
    "duration": 11,
    "start_time": "2023-02-05T20:04:46.009Z"
   },
   {
    "duration": 9,
    "start_time": "2023-02-05T20:08:03.075Z"
   },
   {
    "duration": 3,
    "start_time": "2023-02-05T20:09:25.387Z"
   },
   {
    "duration": 30,
    "start_time": "2023-02-05T20:09:25.392Z"
   },
   {
    "duration": 3,
    "start_time": "2023-02-05T20:09:25.424Z"
   },
   {
    "duration": 12,
    "start_time": "2023-02-05T20:09:25.428Z"
   },
   {
    "duration": 4,
    "start_time": "2023-02-05T20:09:25.442Z"
   },
   {
    "duration": 14,
    "start_time": "2023-02-05T20:09:25.447Z"
   },
   {
    "duration": 16,
    "start_time": "2023-02-05T20:09:25.462Z"
   },
   {
    "duration": 54,
    "start_time": "2023-02-05T20:09:25.480Z"
   },
   {
    "duration": 3,
    "start_time": "2023-02-05T20:09:25.536Z"
   },
   {
    "duration": 22,
    "start_time": "2023-02-05T20:09:25.541Z"
   },
   {
    "duration": 16,
    "start_time": "2023-02-05T20:09:25.564Z"
   },
   {
    "duration": 10,
    "start_time": "2023-02-05T20:09:25.582Z"
   },
   {
    "duration": 5,
    "start_time": "2023-02-05T20:09:25.594Z"
   },
   {
    "duration": 7,
    "start_time": "2023-02-05T20:09:25.603Z"
   },
   {
    "duration": 180,
    "start_time": "2023-02-05T20:09:25.611Z"
   },
   {
    "duration": 8,
    "start_time": "2023-02-05T20:09:25.793Z"
   },
   {
    "duration": 123,
    "start_time": "2023-02-05T20:09:25.802Z"
   },
   {
    "duration": 10,
    "start_time": "2023-02-05T20:09:25.926Z"
   },
   {
    "duration": 13,
    "start_time": "2023-02-05T20:09:25.938Z"
   },
   {
    "duration": 7,
    "start_time": "2023-02-05T20:09:25.953Z"
   },
   {
    "duration": 221,
    "start_time": "2023-02-05T20:09:25.961Z"
   },
   {
    "duration": 17,
    "start_time": "2023-02-05T20:09:26.184Z"
   },
   {
    "duration": 228,
    "start_time": "2023-02-05T20:09:26.203Z"
   },
   {
    "duration": 13,
    "start_time": "2023-02-05T20:09:26.433Z"
   },
   {
    "duration": 389,
    "start_time": "2023-02-05T20:09:26.448Z"
   },
   {
    "duration": 301,
    "start_time": "2023-02-05T20:09:26.839Z"
   },
   {
    "duration": 289,
    "start_time": "2023-02-05T20:09:27.141Z"
   },
   {
    "duration": 123,
    "start_time": "2023-02-05T20:09:27.432Z"
   },
   {
    "duration": 177,
    "start_time": "2023-02-05T20:09:27.557Z"
   },
   {
    "duration": 5,
    "start_time": "2023-02-05T20:09:27.736Z"
   },
   {
    "duration": 164,
    "start_time": "2023-02-05T20:09:27.742Z"
   },
   {
    "duration": 4,
    "start_time": "2023-02-05T20:09:27.908Z"
   },
   {
    "duration": 47,
    "start_time": "2023-02-05T20:09:27.914Z"
   },
   {
    "duration": 62,
    "start_time": "2023-02-05T20:09:27.963Z"
   },
   {
    "duration": 68,
    "start_time": "2023-02-05T20:09:28.026Z"
   },
   {
    "duration": 61,
    "start_time": "2023-02-05T20:09:28.096Z"
   },
   {
    "duration": 41,
    "start_time": "2023-02-05T20:09:28.158Z"
   },
   {
    "duration": 169,
    "start_time": "2023-02-05T20:09:28.201Z"
   },
   {
    "duration": 8,
    "start_time": "2023-02-05T20:09:28.372Z"
   },
   {
    "duration": 77,
    "start_time": "2023-02-05T20:09:28.381Z"
   },
   {
    "duration": 12,
    "start_time": "2023-02-05T20:09:28.463Z"
   },
   {
    "duration": 28,
    "start_time": "2023-02-05T20:09:28.477Z"
   },
   {
    "duration": 10,
    "start_time": "2023-02-05T20:10:22.386Z"
   },
   {
    "duration": 9,
    "start_time": "2023-02-05T20:10:31.734Z"
   },
   {
    "duration": 4,
    "start_time": "2023-02-05T20:10:38.736Z"
   },
   {
    "duration": 26,
    "start_time": "2023-02-05T20:10:38.742Z"
   },
   {
    "duration": 3,
    "start_time": "2023-02-05T20:10:38.770Z"
   },
   {
    "duration": 11,
    "start_time": "2023-02-05T20:10:38.775Z"
   },
   {
    "duration": 3,
    "start_time": "2023-02-05T20:10:38.788Z"
   },
   {
    "duration": 12,
    "start_time": "2023-02-05T20:10:38.793Z"
   },
   {
    "duration": 11,
    "start_time": "2023-02-05T20:10:38.807Z"
   },
   {
    "duration": 44,
    "start_time": "2023-02-05T20:10:38.820Z"
   },
   {
    "duration": 4,
    "start_time": "2023-02-05T20:10:38.866Z"
   },
   {
    "duration": 24,
    "start_time": "2023-02-05T20:10:38.872Z"
   },
   {
    "duration": 13,
    "start_time": "2023-02-05T20:10:38.898Z"
   },
   {
    "duration": 10,
    "start_time": "2023-02-05T20:10:38.913Z"
   },
   {
    "duration": 4,
    "start_time": "2023-02-05T20:10:38.925Z"
   },
   {
    "duration": 5,
    "start_time": "2023-02-05T20:10:38.932Z"
   },
   {
    "duration": 208,
    "start_time": "2023-02-05T20:10:38.939Z"
   },
   {
    "duration": 7,
    "start_time": "2023-02-05T20:10:39.149Z"
   },
   {
    "duration": 123,
    "start_time": "2023-02-05T20:10:39.158Z"
   },
   {
    "duration": 16,
    "start_time": "2023-02-05T20:10:39.283Z"
   },
   {
    "duration": 13,
    "start_time": "2023-02-05T20:10:39.300Z"
   },
   {
    "duration": 25,
    "start_time": "2023-02-05T20:10:39.315Z"
   },
   {
    "duration": 214,
    "start_time": "2023-02-05T20:10:39.342Z"
   },
   {
    "duration": 11,
    "start_time": "2023-02-05T20:10:39.557Z"
   },
   {
    "duration": 229,
    "start_time": "2023-02-05T20:10:39.569Z"
   },
   {
    "duration": 11,
    "start_time": "2023-02-05T20:10:39.800Z"
   },
   {
    "duration": 326,
    "start_time": "2023-02-05T20:10:39.812Z"
   },
   {
    "duration": 226,
    "start_time": "2023-02-05T20:10:40.139Z"
   },
   {
    "duration": 351,
    "start_time": "2023-02-05T20:10:40.367Z"
   },
   {
    "duration": 125,
    "start_time": "2023-02-05T20:10:40.719Z"
   },
   {
    "duration": 174,
    "start_time": "2023-02-05T20:10:40.845Z"
   },
   {
    "duration": 5,
    "start_time": "2023-02-05T20:10:41.020Z"
   },
   {
    "duration": 179,
    "start_time": "2023-02-05T20:10:41.026Z"
   },
   {
    "duration": 4,
    "start_time": "2023-02-05T20:10:41.207Z"
   },
   {
    "duration": 13,
    "start_time": "2023-02-05T20:10:41.213Z"
   },
   {
    "duration": 0,
    "start_time": "2023-02-05T20:10:41.228Z"
   },
   {
    "duration": 0,
    "start_time": "2023-02-05T20:10:41.229Z"
   },
   {
    "duration": 0,
    "start_time": "2023-02-05T20:10:41.231Z"
   },
   {
    "duration": 0,
    "start_time": "2023-02-05T20:10:41.232Z"
   },
   {
    "duration": 0,
    "start_time": "2023-02-05T20:10:41.233Z"
   },
   {
    "duration": 0,
    "start_time": "2023-02-05T20:10:41.234Z"
   },
   {
    "duration": 0,
    "start_time": "2023-02-05T20:10:41.236Z"
   },
   {
    "duration": 0,
    "start_time": "2023-02-05T20:10:41.237Z"
   },
   {
    "duration": 0,
    "start_time": "2023-02-05T20:10:41.238Z"
   },
   {
    "duration": 0,
    "start_time": "2023-02-05T20:10:41.238Z"
   },
   {
    "duration": 9,
    "start_time": "2023-02-05T20:10:50.579Z"
   },
   {
    "duration": 2,
    "start_time": "2023-02-05T20:11:52.503Z"
   },
   {
    "duration": 3,
    "start_time": "2023-02-05T20:11:56.273Z"
   },
   {
    "duration": 28,
    "start_time": "2023-02-05T20:11:56.278Z"
   },
   {
    "duration": 3,
    "start_time": "2023-02-05T20:11:56.307Z"
   },
   {
    "duration": 17,
    "start_time": "2023-02-05T20:11:56.312Z"
   },
   {
    "duration": 7,
    "start_time": "2023-02-05T20:11:56.330Z"
   },
   {
    "duration": 15,
    "start_time": "2023-02-05T20:11:56.338Z"
   },
   {
    "duration": 32,
    "start_time": "2023-02-05T20:11:56.355Z"
   },
   {
    "duration": 50,
    "start_time": "2023-02-05T20:11:56.389Z"
   },
   {
    "duration": 4,
    "start_time": "2023-02-05T20:11:56.441Z"
   },
   {
    "duration": 121,
    "start_time": "2023-02-05T20:11:56.447Z"
   },
   {
    "duration": 11,
    "start_time": "2023-02-05T20:11:56.570Z"
   },
   {
    "duration": 17,
    "start_time": "2023-02-05T20:11:56.583Z"
   },
   {
    "duration": 5,
    "start_time": "2023-02-05T20:11:56.601Z"
   },
   {
    "duration": 6,
    "start_time": "2023-02-05T20:11:56.607Z"
   },
   {
    "duration": 187,
    "start_time": "2023-02-05T20:11:56.615Z"
   },
   {
    "duration": 8,
    "start_time": "2023-02-05T20:11:56.804Z"
   },
   {
    "duration": 124,
    "start_time": "2023-02-05T20:11:56.813Z"
   },
   {
    "duration": 9,
    "start_time": "2023-02-05T20:11:56.938Z"
   },
   {
    "duration": 12,
    "start_time": "2023-02-05T20:11:56.949Z"
   },
   {
    "duration": 9,
    "start_time": "2023-02-05T20:11:56.963Z"
   },
   {
    "duration": 211,
    "start_time": "2023-02-05T20:11:56.973Z"
   },
   {
    "duration": 12,
    "start_time": "2023-02-05T20:11:57.193Z"
   },
   {
    "duration": 224,
    "start_time": "2023-02-05T20:11:57.206Z"
   },
   {
    "duration": 11,
    "start_time": "2023-02-05T20:11:57.432Z"
   },
   {
    "duration": 356,
    "start_time": "2023-02-05T20:11:57.445Z"
   },
   {
    "duration": 226,
    "start_time": "2023-02-05T20:11:57.803Z"
   },
   {
    "duration": 292,
    "start_time": "2023-02-05T20:11:58.032Z"
   },
   {
    "duration": 172,
    "start_time": "2023-02-05T20:11:58.328Z"
   },
   {
    "duration": 175,
    "start_time": "2023-02-05T20:11:58.501Z"
   },
   {
    "duration": 5,
    "start_time": "2023-02-05T20:11:58.678Z"
   },
   {
    "duration": 157,
    "start_time": "2023-02-05T20:11:58.684Z"
   },
   {
    "duration": 5,
    "start_time": "2023-02-05T20:11:58.842Z"
   },
   {
    "duration": 5,
    "start_time": "2023-02-05T20:11:58.848Z"
   },
   {
    "duration": 63,
    "start_time": "2023-02-05T20:11:58.854Z"
   },
   {
    "duration": 47,
    "start_time": "2023-02-05T20:11:58.919Z"
   },
   {
    "duration": 58,
    "start_time": "2023-02-05T20:11:58.967Z"
   },
   {
    "duration": 54,
    "start_time": "2023-02-05T20:11:59.027Z"
   },
   {
    "duration": 36,
    "start_time": "2023-02-05T20:11:59.082Z"
   },
   {
    "duration": 140,
    "start_time": "2023-02-05T20:11:59.120Z"
   },
   {
    "duration": 6,
    "start_time": "2023-02-05T20:11:59.262Z"
   },
   {
    "duration": 37,
    "start_time": "2023-02-05T20:11:59.270Z"
   },
   {
    "duration": 10,
    "start_time": "2023-02-05T20:11:59.308Z"
   },
   {
    "duration": 12,
    "start_time": "2023-02-05T20:11:59.320Z"
   },
   {
    "duration": 3,
    "start_time": "2023-02-05T20:12:51.694Z"
   },
   {
    "duration": 3,
    "start_time": "2023-02-05T20:12:54.470Z"
   },
   {
    "duration": 29,
    "start_time": "2023-02-05T20:12:54.475Z"
   },
   {
    "duration": 3,
    "start_time": "2023-02-05T20:12:54.506Z"
   },
   {
    "duration": 11,
    "start_time": "2023-02-05T20:12:54.510Z"
   },
   {
    "duration": 4,
    "start_time": "2023-02-05T20:12:54.523Z"
   },
   {
    "duration": 14,
    "start_time": "2023-02-05T20:12:54.529Z"
   },
   {
    "duration": 14,
    "start_time": "2023-02-05T20:12:54.544Z"
   },
   {
    "duration": 45,
    "start_time": "2023-02-05T20:12:54.560Z"
   },
   {
    "duration": 3,
    "start_time": "2023-02-05T20:12:54.607Z"
   },
   {
    "duration": 22,
    "start_time": "2023-02-05T20:12:54.612Z"
   },
   {
    "duration": 12,
    "start_time": "2023-02-05T20:12:54.635Z"
   },
   {
    "duration": 23,
    "start_time": "2023-02-05T20:12:54.649Z"
   },
   {
    "duration": 14,
    "start_time": "2023-02-05T20:12:54.674Z"
   },
   {
    "duration": 11,
    "start_time": "2023-02-05T20:12:54.691Z"
   },
   {
    "duration": 171,
    "start_time": "2023-02-05T20:12:54.703Z"
   },
   {
    "duration": 7,
    "start_time": "2023-02-05T20:12:54.876Z"
   },
   {
    "duration": 127,
    "start_time": "2023-02-05T20:12:54.893Z"
   },
   {
    "duration": 7,
    "start_time": "2023-02-05T20:12:55.022Z"
   },
   {
    "duration": 26,
    "start_time": "2023-02-05T20:12:55.031Z"
   },
   {
    "duration": 13,
    "start_time": "2023-02-05T20:12:55.059Z"
   },
   {
    "duration": 204,
    "start_time": "2023-02-05T20:12:55.076Z"
   },
   {
    "duration": 12,
    "start_time": "2023-02-05T20:12:55.282Z"
   },
   {
    "duration": 240,
    "start_time": "2023-02-05T20:12:55.296Z"
   },
   {
    "duration": 10,
    "start_time": "2023-02-05T20:12:55.538Z"
   },
   {
    "duration": 357,
    "start_time": "2023-02-05T20:12:55.550Z"
   },
   {
    "duration": 298,
    "start_time": "2023-02-05T20:12:55.909Z"
   },
   {
    "duration": 300,
    "start_time": "2023-02-05T20:12:56.208Z"
   },
   {
    "duration": 127,
    "start_time": "2023-02-05T20:12:56.510Z"
   },
   {
    "duration": 169,
    "start_time": "2023-02-05T20:12:56.639Z"
   },
   {
    "duration": 5,
    "start_time": "2023-02-05T20:12:56.810Z"
   },
   {
    "duration": 180,
    "start_time": "2023-02-05T20:12:56.816Z"
   },
   {
    "duration": 4,
    "start_time": "2023-02-05T20:12:56.998Z"
   },
   {
    "duration": 6,
    "start_time": "2023-02-05T20:12:57.004Z"
   },
   {
    "duration": 47,
    "start_time": "2023-02-05T20:12:57.012Z"
   },
   {
    "duration": 62,
    "start_time": "2023-02-05T20:12:57.061Z"
   },
   {
    "duration": 56,
    "start_time": "2023-02-05T20:12:57.125Z"
   },
   {
    "duration": 69,
    "start_time": "2023-02-05T20:12:57.183Z"
   },
   {
    "duration": 49,
    "start_time": "2023-02-05T20:12:57.253Z"
   },
   {
    "duration": 138,
    "start_time": "2023-02-05T20:12:57.304Z"
   },
   {
    "duration": 6,
    "start_time": "2023-02-05T20:12:57.443Z"
   },
   {
    "duration": 22,
    "start_time": "2023-02-05T20:12:57.452Z"
   },
   {
    "duration": 29,
    "start_time": "2023-02-05T20:12:57.475Z"
   },
   {
    "duration": 5,
    "start_time": "2023-02-05T20:12:57.505Z"
   },
   {
    "duration": 9,
    "start_time": "2023-02-05T20:13:43.119Z"
   },
   {
    "duration": 12,
    "start_time": "2023-02-05T20:14:44.700Z"
   },
   {
    "duration": 14,
    "start_time": "2023-02-05T20:14:55.283Z"
   },
   {
    "duration": 11,
    "start_time": "2023-02-05T20:15:11.828Z"
   },
   {
    "duration": 28,
    "start_time": "2023-02-05T20:15:19.949Z"
   },
   {
    "duration": 14,
    "start_time": "2023-02-05T20:17:15.630Z"
   },
   {
    "duration": 1315,
    "start_time": "2023-02-06T04:15:41.099Z"
   },
   {
    "duration": 59,
    "start_time": "2023-02-06T04:15:42.417Z"
   },
   {
    "duration": 3,
    "start_time": "2023-02-06T04:15:42.478Z"
   },
   {
    "duration": 23,
    "start_time": "2023-02-06T04:15:42.484Z"
   },
   {
    "duration": 10,
    "start_time": "2023-02-06T04:15:42.508Z"
   },
   {
    "duration": 25,
    "start_time": "2023-02-06T04:15:42.520Z"
   },
   {
    "duration": 15,
    "start_time": "2023-02-06T04:15:42.546Z"
   },
   {
    "duration": 129,
    "start_time": "2023-02-06T04:15:42.563Z"
   },
   {
    "duration": 3,
    "start_time": "2023-02-06T04:15:42.694Z"
   },
   {
    "duration": 33,
    "start_time": "2023-02-06T04:15:42.699Z"
   },
   {
    "duration": 23,
    "start_time": "2023-02-06T04:15:42.734Z"
   },
   {
    "duration": 19,
    "start_time": "2023-02-06T04:15:42.759Z"
   },
   {
    "duration": 10,
    "start_time": "2023-02-06T04:15:42.780Z"
   },
   {
    "duration": 20,
    "start_time": "2023-02-06T04:15:42.792Z"
   },
   {
    "duration": 178,
    "start_time": "2023-02-06T04:15:42.814Z"
   },
   {
    "duration": 8,
    "start_time": "2023-02-06T04:15:42.994Z"
   },
   {
    "duration": 132,
    "start_time": "2023-02-06T04:15:43.003Z"
   },
   {
    "duration": 8,
    "start_time": "2023-02-06T04:15:43.137Z"
   },
   {
    "duration": 24,
    "start_time": "2023-02-06T04:15:43.147Z"
   },
   {
    "duration": 20,
    "start_time": "2023-02-06T04:15:43.173Z"
   },
   {
    "duration": 277,
    "start_time": "2023-02-06T04:15:43.195Z"
   },
   {
    "duration": 21,
    "start_time": "2023-02-06T04:15:43.474Z"
   },
   {
    "duration": 240,
    "start_time": "2023-02-06T04:15:43.497Z"
   },
   {
    "duration": 11,
    "start_time": "2023-02-06T04:15:43.739Z"
   },
   {
    "duration": 474,
    "start_time": "2023-02-06T04:15:43.752Z"
   },
   {
    "duration": 274,
    "start_time": "2023-02-06T04:15:44.228Z"
   },
   {
    "duration": 331,
    "start_time": "2023-02-06T04:15:44.504Z"
   },
   {
    "duration": 138,
    "start_time": "2023-02-06T04:15:44.840Z"
   },
   {
    "duration": 198,
    "start_time": "2023-02-06T04:15:44.980Z"
   },
   {
    "duration": 14,
    "start_time": "2023-02-06T04:15:45.180Z"
   },
   {
    "duration": 168,
    "start_time": "2023-02-06T04:15:45.196Z"
   },
   {
    "duration": 5,
    "start_time": "2023-02-06T04:15:45.366Z"
   },
   {
    "duration": 5,
    "start_time": "2023-02-06T04:15:45.373Z"
   },
   {
    "duration": 147,
    "start_time": "2023-02-06T04:15:45.380Z"
   },
   {
    "duration": 60,
    "start_time": "2023-02-06T04:15:45.529Z"
   },
   {
    "duration": 60,
    "start_time": "2023-02-06T04:15:45.591Z"
   },
   {
    "duration": 64,
    "start_time": "2023-02-06T04:15:45.653Z"
   },
   {
    "duration": 32,
    "start_time": "2023-02-06T04:15:45.719Z"
   },
   {
    "duration": 146,
    "start_time": "2023-02-06T04:15:45.753Z"
   },
   {
    "duration": 7,
    "start_time": "2023-02-06T04:15:45.901Z"
   },
   {
    "duration": 27,
    "start_time": "2023-02-06T04:15:45.909Z"
   },
   {
    "duration": 10,
    "start_time": "2023-02-06T04:15:45.938Z"
   },
   {
    "duration": 8,
    "start_time": "2023-02-06T04:15:45.949Z"
   },
   {
    "duration": 40,
    "start_time": "2023-02-06T04:15:45.958Z"
   },
   {
    "duration": 29,
    "start_time": "2023-02-06T04:15:45.999Z"
   },
   {
    "duration": 13,
    "start_time": "2023-02-06T04:15:46.029Z"
   },
   {
    "duration": 1626,
    "start_time": "2023-02-06T08:53:07.980Z"
   },
   {
    "duration": 61,
    "start_time": "2023-02-06T08:53:09.608Z"
   },
   {
    "duration": 3,
    "start_time": "2023-02-06T08:53:09.671Z"
   },
   {
    "duration": 29,
    "start_time": "2023-02-06T08:53:09.675Z"
   },
   {
    "duration": 5,
    "start_time": "2023-02-06T08:53:09.707Z"
   },
   {
    "duration": 17,
    "start_time": "2023-02-06T08:53:09.714Z"
   },
   {
    "duration": 14,
    "start_time": "2023-02-06T08:53:09.734Z"
   },
   {
    "duration": 130,
    "start_time": "2023-02-06T08:53:09.749Z"
   },
   {
    "duration": 3,
    "start_time": "2023-02-06T08:53:09.881Z"
   },
   {
    "duration": 27,
    "start_time": "2023-02-06T08:53:09.886Z"
   },
   {
    "duration": 15,
    "start_time": "2023-02-06T08:53:09.915Z"
   },
   {
    "duration": 12,
    "start_time": "2023-02-06T08:53:09.931Z"
   },
   {
    "duration": 6,
    "start_time": "2023-02-06T08:53:09.944Z"
   },
   {
    "duration": 6,
    "start_time": "2023-02-06T08:53:09.952Z"
   },
   {
    "duration": 194,
    "start_time": "2023-02-06T08:53:09.960Z"
   },
   {
    "duration": 8,
    "start_time": "2023-02-06T08:53:10.155Z"
   },
   {
    "duration": 162,
    "start_time": "2023-02-06T08:53:10.165Z"
   },
   {
    "duration": 9,
    "start_time": "2023-02-06T08:53:10.329Z"
   },
   {
    "duration": 19,
    "start_time": "2023-02-06T08:53:10.340Z"
   },
   {
    "duration": 16,
    "start_time": "2023-02-06T08:53:10.361Z"
   },
   {
    "duration": 378,
    "start_time": "2023-02-06T08:53:10.379Z"
   },
   {
    "duration": 12,
    "start_time": "2023-02-06T08:53:10.759Z"
   },
   {
    "duration": 251,
    "start_time": "2023-02-06T08:53:10.773Z"
   },
   {
    "duration": 12,
    "start_time": "2023-02-06T08:53:11.026Z"
   },
   {
    "duration": 392,
    "start_time": "2023-02-06T08:53:11.040Z"
   },
   {
    "duration": 236,
    "start_time": "2023-02-06T08:53:11.435Z"
   },
   {
    "duration": 296,
    "start_time": "2023-02-06T08:53:11.673Z"
   },
   {
    "duration": 166,
    "start_time": "2023-02-06T08:53:11.971Z"
   },
   {
    "duration": 188,
    "start_time": "2023-02-06T08:53:12.139Z"
   },
   {
    "duration": 5,
    "start_time": "2023-02-06T08:53:12.330Z"
   },
   {
    "duration": 191,
    "start_time": "2023-02-06T08:53:12.337Z"
   },
   {
    "duration": 6,
    "start_time": "2023-02-06T08:53:12.530Z"
   },
   {
    "duration": 5,
    "start_time": "2023-02-06T08:53:12.537Z"
   },
   {
    "duration": 136,
    "start_time": "2023-02-06T08:53:12.544Z"
   },
   {
    "duration": 62,
    "start_time": "2023-02-06T08:53:12.682Z"
   },
   {
    "duration": 58,
    "start_time": "2023-02-06T08:53:12.746Z"
   },
   {
    "duration": 72,
    "start_time": "2023-02-06T08:53:12.806Z"
   },
   {
    "duration": 30,
    "start_time": "2023-02-06T08:53:12.879Z"
   },
   {
    "duration": 166,
    "start_time": "2023-02-06T08:53:12.911Z"
   },
   {
    "duration": 6,
    "start_time": "2023-02-06T08:53:13.079Z"
   },
   {
    "duration": 27,
    "start_time": "2023-02-06T08:53:13.089Z"
   },
   {
    "duration": 59,
    "start_time": "2023-02-06T08:53:13.130Z"
   },
   {
    "duration": 0,
    "start_time": "2023-02-06T08:53:13.191Z"
   },
   {
    "duration": 0,
    "start_time": "2023-02-06T08:53:13.192Z"
   },
   {
    "duration": 0,
    "start_time": "2023-02-06T08:53:13.194Z"
   },
   {
    "duration": 0,
    "start_time": "2023-02-06T08:53:13.195Z"
   },
   {
    "duration": 0,
    "start_time": "2023-02-06T08:53:13.196Z"
   },
   {
    "duration": 297,
    "start_time": "2023-02-06T08:56:08.769Z"
   },
   {
    "duration": 4,
    "start_time": "2023-02-06T08:57:56.653Z"
   },
   {
    "duration": 34,
    "start_time": "2023-02-06T08:57:56.660Z"
   },
   {
    "duration": 3,
    "start_time": "2023-02-06T08:57:56.696Z"
   },
   {
    "duration": 21,
    "start_time": "2023-02-06T08:57:56.701Z"
   },
   {
    "duration": 4,
    "start_time": "2023-02-06T08:57:56.725Z"
   },
   {
    "duration": 14,
    "start_time": "2023-02-06T08:57:56.731Z"
   },
   {
    "duration": 17,
    "start_time": "2023-02-06T08:57:56.747Z"
   },
   {
    "duration": 43,
    "start_time": "2023-02-06T08:57:56.765Z"
   },
   {
    "duration": 4,
    "start_time": "2023-02-06T08:57:56.810Z"
   },
   {
    "duration": 29,
    "start_time": "2023-02-06T08:57:56.816Z"
   },
   {
    "duration": 13,
    "start_time": "2023-02-06T08:57:56.846Z"
   },
   {
    "duration": 13,
    "start_time": "2023-02-06T08:57:56.861Z"
   },
   {
    "duration": 6,
    "start_time": "2023-02-06T08:57:56.876Z"
   },
   {
    "duration": 6,
    "start_time": "2023-02-06T08:57:56.886Z"
   },
   {
    "duration": 224,
    "start_time": "2023-02-06T08:57:56.894Z"
   },
   {
    "duration": 12,
    "start_time": "2023-02-06T08:57:57.120Z"
   },
   {
    "duration": 165,
    "start_time": "2023-02-06T08:57:57.134Z"
   },
   {
    "duration": 10,
    "start_time": "2023-02-06T08:57:57.301Z"
   },
   {
    "duration": 87,
    "start_time": "2023-02-06T08:57:57.313Z"
   },
   {
    "duration": 33,
    "start_time": "2023-02-06T08:57:57.403Z"
   },
   {
    "duration": 229,
    "start_time": "2023-02-06T08:57:57.438Z"
   },
   {
    "duration": 10,
    "start_time": "2023-02-06T08:57:57.669Z"
   },
   {
    "duration": 276,
    "start_time": "2023-02-06T08:57:57.681Z"
   },
   {
    "duration": 15,
    "start_time": "2023-02-06T08:57:57.959Z"
   },
   {
    "duration": 419,
    "start_time": "2023-02-06T08:57:57.976Z"
   },
   {
    "duration": 243,
    "start_time": "2023-02-06T08:57:58.397Z"
   },
   {
    "duration": 328,
    "start_time": "2023-02-06T08:57:58.642Z"
   },
   {
    "duration": 127,
    "start_time": "2023-02-06T08:57:58.972Z"
   },
   {
    "duration": 237,
    "start_time": "2023-02-06T08:57:59.101Z"
   },
   {
    "duration": 6,
    "start_time": "2023-02-06T08:57:59.340Z"
   },
   {
    "duration": 190,
    "start_time": "2023-02-06T08:57:59.348Z"
   },
   {
    "duration": 6,
    "start_time": "2023-02-06T08:57:59.540Z"
   },
   {
    "duration": 5,
    "start_time": "2023-02-06T08:57:59.547Z"
   },
   {
    "duration": 53,
    "start_time": "2023-02-06T08:57:59.554Z"
   },
   {
    "duration": 48,
    "start_time": "2023-02-06T08:57:59.626Z"
   },
   {
    "duration": 76,
    "start_time": "2023-02-06T08:57:59.676Z"
   },
   {
    "duration": 59,
    "start_time": "2023-02-06T08:57:59.754Z"
   },
   {
    "duration": 31,
    "start_time": "2023-02-06T08:57:59.826Z"
   },
   {
    "duration": 171,
    "start_time": "2023-02-06T08:57:59.858Z"
   },
   {
    "duration": 7,
    "start_time": "2023-02-06T08:58:00.031Z"
   },
   {
    "duration": 38,
    "start_time": "2023-02-06T08:58:00.042Z"
   },
   {
    "duration": 14,
    "start_time": "2023-02-06T08:58:00.082Z"
   },
   {
    "duration": 31,
    "start_time": "2023-02-06T08:58:00.099Z"
   },
   {
    "duration": 22,
    "start_time": "2023-02-06T08:58:00.133Z"
   },
   {
    "duration": 43,
    "start_time": "2023-02-06T08:58:00.157Z"
   },
   {
    "duration": 38,
    "start_time": "2023-02-06T08:58:00.202Z"
   },
   {
    "duration": 1324,
    "start_time": "2023-02-06T11:06:22.334Z"
   },
   {
    "duration": 101,
    "start_time": "2023-02-06T11:06:23.660Z"
   },
   {
    "duration": 4,
    "start_time": "2023-02-06T11:06:23.763Z"
   },
   {
    "duration": 19,
    "start_time": "2023-02-06T11:06:23.770Z"
   },
   {
    "duration": 3,
    "start_time": "2023-02-06T11:06:23.791Z"
   },
   {
    "duration": 14,
    "start_time": "2023-02-06T11:06:23.795Z"
   },
   {
    "duration": 10,
    "start_time": "2023-02-06T11:06:23.810Z"
   },
   {
    "duration": 164,
    "start_time": "2023-02-06T11:06:23.822Z"
   },
   {
    "duration": 3,
    "start_time": "2023-02-06T11:06:23.988Z"
   },
   {
    "duration": 26,
    "start_time": "2023-02-06T11:06:23.993Z"
   },
   {
    "duration": 12,
    "start_time": "2023-02-06T11:06:24.020Z"
   },
   {
    "duration": 14,
    "start_time": "2023-02-06T11:06:24.033Z"
   },
   {
    "duration": 5,
    "start_time": "2023-02-06T11:06:24.049Z"
   },
   {
    "duration": 12,
    "start_time": "2023-02-06T11:06:24.056Z"
   },
   {
    "duration": 170,
    "start_time": "2023-02-06T11:06:24.070Z"
   },
   {
    "duration": 7,
    "start_time": "2023-02-06T11:06:24.241Z"
   },
   {
    "duration": 133,
    "start_time": "2023-02-06T11:06:24.250Z"
   },
   {
    "duration": 12,
    "start_time": "2023-02-06T11:06:24.385Z"
   },
   {
    "duration": 13,
    "start_time": "2023-02-06T11:06:24.399Z"
   },
   {
    "duration": 7,
    "start_time": "2023-02-06T11:06:24.414Z"
   },
   {
    "duration": 276,
    "start_time": "2023-02-06T11:06:24.423Z"
   },
   {
    "duration": 10,
    "start_time": "2023-02-06T11:06:24.701Z"
   },
   {
    "duration": 216,
    "start_time": "2023-02-06T11:06:24.713Z"
   },
   {
    "duration": 10,
    "start_time": "2023-02-06T11:06:24.930Z"
   },
   {
    "duration": 398,
    "start_time": "2023-02-06T11:06:24.942Z"
   },
   {
    "duration": 247,
    "start_time": "2023-02-06T11:06:25.342Z"
   },
   {
    "duration": 314,
    "start_time": "2023-02-06T11:06:25.591Z"
   },
   {
    "duration": 131,
    "start_time": "2023-02-06T11:06:25.909Z"
   },
   {
    "duration": 183,
    "start_time": "2023-02-06T11:06:26.041Z"
   },
   {
    "duration": 4,
    "start_time": "2023-02-06T11:06:26.226Z"
   },
   {
    "duration": 164,
    "start_time": "2023-02-06T11:06:26.232Z"
   },
   {
    "duration": 4,
    "start_time": "2023-02-06T11:06:26.398Z"
   },
   {
    "duration": 17,
    "start_time": "2023-02-06T11:06:26.403Z"
   },
   {
    "duration": 113,
    "start_time": "2023-02-06T11:06:26.422Z"
   },
   {
    "duration": 57,
    "start_time": "2023-02-06T11:06:26.536Z"
   },
   {
    "duration": 58,
    "start_time": "2023-02-06T11:06:26.595Z"
   },
   {
    "duration": 57,
    "start_time": "2023-02-06T11:06:26.655Z"
   },
   {
    "duration": 36,
    "start_time": "2023-02-06T11:06:26.713Z"
   },
   {
    "duration": 143,
    "start_time": "2023-02-06T11:06:26.751Z"
   },
   {
    "duration": 6,
    "start_time": "2023-02-06T11:06:26.896Z"
   },
   {
    "duration": 38,
    "start_time": "2023-02-06T11:06:26.903Z"
   },
   {
    "duration": 9,
    "start_time": "2023-02-06T11:06:26.943Z"
   },
   {
    "duration": 15,
    "start_time": "2023-02-06T11:06:26.953Z"
   },
   {
    "duration": 18,
    "start_time": "2023-02-06T11:06:26.969Z"
   },
   {
    "duration": 41,
    "start_time": "2023-02-06T11:06:26.989Z"
   },
   {
    "duration": 16,
    "start_time": "2023-02-06T11:06:27.032Z"
   },
   {
    "duration": 1229,
    "start_time": "2023-07-17T09:08:34.556Z"
   },
   {
    "duration": 69,
    "start_time": "2023-07-17T09:08:35.787Z"
   },
   {
    "duration": 3,
    "start_time": "2023-07-17T09:08:35.858Z"
   },
   {
    "duration": 19,
    "start_time": "2023-07-17T09:08:35.864Z"
   },
   {
    "duration": 12,
    "start_time": "2023-07-17T09:08:35.885Z"
   },
   {
    "duration": 33,
    "start_time": "2023-07-17T09:08:35.898Z"
   },
   {
    "duration": 19,
    "start_time": "2023-07-17T09:08:35.932Z"
   },
   {
    "duration": 161,
    "start_time": "2023-07-17T09:08:35.953Z"
   },
   {
    "duration": 4,
    "start_time": "2023-07-17T09:08:36.116Z"
   },
   {
    "duration": 115,
    "start_time": "2023-07-17T09:08:36.123Z"
   },
   {
    "duration": 14,
    "start_time": "2023-07-17T09:08:36.240Z"
   },
   {
    "duration": 40,
    "start_time": "2023-07-17T09:08:36.255Z"
   },
   {
    "duration": 15,
    "start_time": "2023-07-17T09:08:36.296Z"
   },
   {
    "duration": 9,
    "start_time": "2023-07-17T09:08:36.312Z"
   },
   {
    "duration": 217,
    "start_time": "2023-07-17T09:08:36.323Z"
   },
   {
    "duration": 8,
    "start_time": "2023-07-17T09:08:36.542Z"
   },
   {
    "duration": 135,
    "start_time": "2023-07-17T09:08:36.551Z"
   },
   {
    "duration": 8,
    "start_time": "2023-07-17T09:08:36.687Z"
   },
   {
    "duration": 43,
    "start_time": "2023-07-17T09:08:36.697Z"
   },
   {
    "duration": 39,
    "start_time": "2023-07-17T09:08:36.742Z"
   },
   {
    "duration": 311,
    "start_time": "2023-07-17T09:08:36.782Z"
   },
   {
    "duration": 12,
    "start_time": "2023-07-17T09:08:37.095Z"
   },
   {
    "duration": 250,
    "start_time": "2023-07-17T09:08:37.109Z"
   },
   {
    "duration": 13,
    "start_time": "2023-07-17T09:08:37.361Z"
   },
   {
    "duration": 337,
    "start_time": "2023-07-17T09:08:37.376Z"
   },
   {
    "duration": 250,
    "start_time": "2023-07-17T09:08:37.715Z"
   },
   {
    "duration": 313,
    "start_time": "2023-07-17T09:08:37.967Z"
   },
   {
    "duration": 137,
    "start_time": "2023-07-17T09:08:38.284Z"
   },
   {
    "duration": 190,
    "start_time": "2023-07-17T09:08:38.422Z"
   },
   {
    "duration": 4,
    "start_time": "2023-07-17T09:08:38.614Z"
   },
   {
    "duration": 183,
    "start_time": "2023-07-17T09:08:38.620Z"
   },
   {
    "duration": 4,
    "start_time": "2023-07-17T09:08:38.805Z"
   },
   {
    "duration": 9,
    "start_time": "2023-07-17T09:08:38.811Z"
   },
   {
    "duration": 142,
    "start_time": "2023-07-17T09:08:38.822Z"
   },
   {
    "duration": 55,
    "start_time": "2023-07-17T09:08:38.965Z"
   },
   {
    "duration": 81,
    "start_time": "2023-07-17T09:08:39.022Z"
   },
   {
    "duration": 72,
    "start_time": "2023-07-17T09:08:39.104Z"
   },
   {
    "duration": 29,
    "start_time": "2023-07-17T09:08:39.177Z"
   },
   {
    "duration": 156,
    "start_time": "2023-07-17T09:08:39.207Z"
   },
   {
    "duration": 6,
    "start_time": "2023-07-17T09:08:39.364Z"
   },
   {
    "duration": 72,
    "start_time": "2023-07-17T09:08:39.372Z"
   },
   {
    "duration": 31,
    "start_time": "2023-07-17T09:08:39.446Z"
   },
   {
    "duration": 27,
    "start_time": "2023-07-17T09:08:39.479Z"
   },
   {
    "duration": 40,
    "start_time": "2023-07-17T09:08:39.509Z"
   },
   {
    "duration": 35,
    "start_time": "2023-07-17T09:08:39.551Z"
   },
   {
    "duration": 15,
    "start_time": "2023-07-17T09:08:39.588Z"
   }
  ],
  "kernelspec": {
   "display_name": "Python 3 (ipykernel)",
   "language": "python",
   "name": "python3"
  },
  "language_info": {
   "codemirror_mode": {
    "name": "ipython",
    "version": 3
   },
   "file_extension": ".py",
   "mimetype": "text/x-python",
   "name": "python",
   "nbconvert_exporter": "python",
   "pygments_lexer": "ipython3",
   "version": "3.9.5"
  },
  "toc": {
   "base_numbering": 1,
   "nav_menu": {},
   "number_sections": false,
   "sideBar": true,
   "skip_h1_title": true,
   "title_cell": "Table of Contents",
   "title_sidebar": "Contents",
   "toc_cell": false,
   "toc_position": {
    "height": "calc(100% - 180px)",
    "left": "10px",
    "top": "150px",
    "width": "270.55px"
   },
   "toc_section_display": true,
   "toc_window_display": true
  }
 },
 "nbformat": 4,
 "nbformat_minor": 2
}
