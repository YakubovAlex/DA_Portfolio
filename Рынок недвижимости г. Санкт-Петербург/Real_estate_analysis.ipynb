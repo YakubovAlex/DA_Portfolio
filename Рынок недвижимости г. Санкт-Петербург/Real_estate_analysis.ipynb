{
 "cells": [
  {
   "cell_type": "markdown",
   "metadata": {},
   "source": [
    "# Исследование объявлений о продаже квартир\n",
    "\n",
    "В вашем распоряжении данные сервиса Яндекс.Недвижимость — архив объявлений о продаже квартир в Санкт-Петербурге и соседних населённых пунктов за несколько лет. Нужно научиться определять рыночную стоимость объектов недвижимости. Ваша задача — установить параметры. Это позволит построить автоматизированную систему: она отследит аномалии и мошенническую деятельность. \n",
    "\n",
    "По каждой квартире на продажу доступны два вида данных. Первые вписаны пользователем, вторые — получены автоматически на основе картографических данных. Например, расстояние до центра, аэропорта, ближайшего парка и водоёма. "
   ]
  },
  {
   "cell_type": "markdown",
   "metadata": {},
   "source": [
    "### Откройте файл с данными и изучите общую информацию. "
   ]
  },
  {
   "cell_type": "code",
   "execution_count": 1,
   "metadata": {},
   "outputs": [],
   "source": [
    "#импортируем библиотеки\n",
    "import matplotlib.pyplot as plt\n",
    "import pandas as pd\n",
    "import seaborn as sns"
   ]
  },
  {
   "cell_type": "code",
   "execution_count": 2,
   "metadata": {
    "scrolled": true
   },
   "outputs": [
    {
     "data": {
      "text/html": [
       "<div>\n",
       "<style scoped>\n",
       "    .dataframe tbody tr th:only-of-type {\n",
       "        vertical-align: middle;\n",
       "    }\n",
       "\n",
       "    .dataframe tbody tr th {\n",
       "        vertical-align: top;\n",
       "    }\n",
       "\n",
       "    .dataframe thead th {\n",
       "        text-align: right;\n",
       "    }\n",
       "</style>\n",
       "<table border=\"1\" class=\"dataframe\">\n",
       "  <thead>\n",
       "    <tr style=\"text-align: right;\">\n",
       "      <th></th>\n",
       "      <th>total_images</th>\n",
       "      <th>last_price</th>\n",
       "      <th>total_area</th>\n",
       "      <th>first_day_exposition</th>\n",
       "      <th>rooms</th>\n",
       "      <th>ceiling_height</th>\n",
       "      <th>floors_total</th>\n",
       "      <th>living_area</th>\n",
       "      <th>floor</th>\n",
       "      <th>is_apartment</th>\n",
       "      <th>...</th>\n",
       "      <th>kitchen_area</th>\n",
       "      <th>balcony</th>\n",
       "      <th>locality_name</th>\n",
       "      <th>airports_nearest</th>\n",
       "      <th>cityCenters_nearest</th>\n",
       "      <th>parks_around3000</th>\n",
       "      <th>parks_nearest</th>\n",
       "      <th>ponds_around3000</th>\n",
       "      <th>ponds_nearest</th>\n",
       "      <th>days_exposition</th>\n",
       "    </tr>\n",
       "  </thead>\n",
       "  <tbody>\n",
       "    <tr>\n",
       "      <th>0</th>\n",
       "      <td>20</td>\n",
       "      <td>13000000.0</td>\n",
       "      <td>108.0</td>\n",
       "      <td>2019-03-07T00:00:00</td>\n",
       "      <td>3</td>\n",
       "      <td>2.70</td>\n",
       "      <td>16.0</td>\n",
       "      <td>51.0</td>\n",
       "      <td>8</td>\n",
       "      <td>NaN</td>\n",
       "      <td>...</td>\n",
       "      <td>25.0</td>\n",
       "      <td>NaN</td>\n",
       "      <td>Санкт-Петербург</td>\n",
       "      <td>18863.0</td>\n",
       "      <td>16028.0</td>\n",
       "      <td>1.0</td>\n",
       "      <td>482.0</td>\n",
       "      <td>2.0</td>\n",
       "      <td>755.0</td>\n",
       "      <td>NaN</td>\n",
       "    </tr>\n",
       "    <tr>\n",
       "      <th>1</th>\n",
       "      <td>7</td>\n",
       "      <td>3350000.0</td>\n",
       "      <td>40.4</td>\n",
       "      <td>2018-12-04T00:00:00</td>\n",
       "      <td>1</td>\n",
       "      <td>NaN</td>\n",
       "      <td>11.0</td>\n",
       "      <td>18.6</td>\n",
       "      <td>1</td>\n",
       "      <td>NaN</td>\n",
       "      <td>...</td>\n",
       "      <td>11.0</td>\n",
       "      <td>2.0</td>\n",
       "      <td>посёлок Шушары</td>\n",
       "      <td>12817.0</td>\n",
       "      <td>18603.0</td>\n",
       "      <td>0.0</td>\n",
       "      <td>NaN</td>\n",
       "      <td>0.0</td>\n",
       "      <td>NaN</td>\n",
       "      <td>81.0</td>\n",
       "    </tr>\n",
       "    <tr>\n",
       "      <th>2</th>\n",
       "      <td>10</td>\n",
       "      <td>5196000.0</td>\n",
       "      <td>56.0</td>\n",
       "      <td>2015-08-20T00:00:00</td>\n",
       "      <td>2</td>\n",
       "      <td>NaN</td>\n",
       "      <td>5.0</td>\n",
       "      <td>34.3</td>\n",
       "      <td>4</td>\n",
       "      <td>NaN</td>\n",
       "      <td>...</td>\n",
       "      <td>8.3</td>\n",
       "      <td>0.0</td>\n",
       "      <td>Санкт-Петербург</td>\n",
       "      <td>21741.0</td>\n",
       "      <td>13933.0</td>\n",
       "      <td>1.0</td>\n",
       "      <td>90.0</td>\n",
       "      <td>2.0</td>\n",
       "      <td>574.0</td>\n",
       "      <td>558.0</td>\n",
       "    </tr>\n",
       "    <tr>\n",
       "      <th>3</th>\n",
       "      <td>0</td>\n",
       "      <td>64900000.0</td>\n",
       "      <td>159.0</td>\n",
       "      <td>2015-07-24T00:00:00</td>\n",
       "      <td>3</td>\n",
       "      <td>NaN</td>\n",
       "      <td>14.0</td>\n",
       "      <td>NaN</td>\n",
       "      <td>9</td>\n",
       "      <td>NaN</td>\n",
       "      <td>...</td>\n",
       "      <td>NaN</td>\n",
       "      <td>0.0</td>\n",
       "      <td>Санкт-Петербург</td>\n",
       "      <td>28098.0</td>\n",
       "      <td>6800.0</td>\n",
       "      <td>2.0</td>\n",
       "      <td>84.0</td>\n",
       "      <td>3.0</td>\n",
       "      <td>234.0</td>\n",
       "      <td>424.0</td>\n",
       "    </tr>\n",
       "    <tr>\n",
       "      <th>4</th>\n",
       "      <td>2</td>\n",
       "      <td>10000000.0</td>\n",
       "      <td>100.0</td>\n",
       "      <td>2018-06-19T00:00:00</td>\n",
       "      <td>2</td>\n",
       "      <td>3.03</td>\n",
       "      <td>14.0</td>\n",
       "      <td>32.0</td>\n",
       "      <td>13</td>\n",
       "      <td>NaN</td>\n",
       "      <td>...</td>\n",
       "      <td>41.0</td>\n",
       "      <td>NaN</td>\n",
       "      <td>Санкт-Петербург</td>\n",
       "      <td>31856.0</td>\n",
       "      <td>8098.0</td>\n",
       "      <td>2.0</td>\n",
       "      <td>112.0</td>\n",
       "      <td>1.0</td>\n",
       "      <td>48.0</td>\n",
       "      <td>121.0</td>\n",
       "    </tr>\n",
       "  </tbody>\n",
       "</table>\n",
       "<p>5 rows × 22 columns</p>\n",
       "</div>"
      ],
      "text/plain": [
       "   total_images  last_price  total_area first_day_exposition  rooms  \\\n",
       "0            20  13000000.0       108.0  2019-03-07T00:00:00      3   \n",
       "1             7   3350000.0        40.4  2018-12-04T00:00:00      1   \n",
       "2            10   5196000.0        56.0  2015-08-20T00:00:00      2   \n",
       "3             0  64900000.0       159.0  2015-07-24T00:00:00      3   \n",
       "4             2  10000000.0       100.0  2018-06-19T00:00:00      2   \n",
       "\n",
       "   ceiling_height  floors_total  living_area  floor is_apartment  ...  \\\n",
       "0            2.70          16.0         51.0      8          NaN  ...   \n",
       "1             NaN          11.0         18.6      1          NaN  ...   \n",
       "2             NaN           5.0         34.3      4          NaN  ...   \n",
       "3             NaN          14.0          NaN      9          NaN  ...   \n",
       "4            3.03          14.0         32.0     13          NaN  ...   \n",
       "\n",
       "   kitchen_area  balcony    locality_name  airports_nearest  \\\n",
       "0          25.0      NaN  Санкт-Петербург           18863.0   \n",
       "1          11.0      2.0   посёлок Шушары           12817.0   \n",
       "2           8.3      0.0  Санкт-Петербург           21741.0   \n",
       "3           NaN      0.0  Санкт-Петербург           28098.0   \n",
       "4          41.0      NaN  Санкт-Петербург           31856.0   \n",
       "\n",
       "  cityCenters_nearest  parks_around3000  parks_nearest  ponds_around3000  \\\n",
       "0             16028.0               1.0          482.0               2.0   \n",
       "1             18603.0               0.0            NaN               0.0   \n",
       "2             13933.0               1.0           90.0               2.0   \n",
       "3              6800.0               2.0           84.0               3.0   \n",
       "4              8098.0               2.0          112.0               1.0   \n",
       "\n",
       "   ponds_nearest  days_exposition  \n",
       "0          755.0              NaN  \n",
       "1            NaN             81.0  \n",
       "2          574.0            558.0  \n",
       "3          234.0            424.0  \n",
       "4           48.0            121.0  \n",
       "\n",
       "[5 rows x 22 columns]"
      ]
     },
     "execution_count": 2,
     "metadata": {},
     "output_type": "execute_result"
    }
   ],
   "source": [
    "#считываем файл с данными и выведем первые 5 строк \n",
    "data = pd.read_csv('/datasets/real_estate_data.csv', sep='\\t')\n",
    "data.head()"
   ]
  },
  {
   "cell_type": "code",
   "execution_count": 3,
   "metadata": {},
   "outputs": [
    {
     "name": "stdout",
     "output_type": "stream",
     "text": [
      "<class 'pandas.core.frame.DataFrame'>\n",
      "RangeIndex: 23699 entries, 0 to 23698\n",
      "Data columns (total 22 columns):\n",
      " #   Column                Non-Null Count  Dtype  \n",
      "---  ------                --------------  -----  \n",
      " 0   total_images          23699 non-null  int64  \n",
      " 1   last_price            23699 non-null  float64\n",
      " 2   total_area            23699 non-null  float64\n",
      " 3   first_day_exposition  23699 non-null  object \n",
      " 4   rooms                 23699 non-null  int64  \n",
      " 5   ceiling_height        14504 non-null  float64\n",
      " 6   floors_total          23613 non-null  float64\n",
      " 7   living_area           21796 non-null  float64\n",
      " 8   floor                 23699 non-null  int64  \n",
      " 9   is_apartment          2775 non-null   object \n",
      " 10  studio                23699 non-null  bool   \n",
      " 11  open_plan             23699 non-null  bool   \n",
      " 12  kitchen_area          21421 non-null  float64\n",
      " 13  balcony               12180 non-null  float64\n",
      " 14  locality_name         23650 non-null  object \n",
      " 15  airports_nearest      18157 non-null  float64\n",
      " 16  cityCenters_nearest   18180 non-null  float64\n",
      " 17  parks_around3000      18181 non-null  float64\n",
      " 18  parks_nearest         8079 non-null   float64\n",
      " 19  ponds_around3000      18181 non-null  float64\n",
      " 20  ponds_nearest         9110 non-null   float64\n",
      " 21  days_exposition       20518 non-null  float64\n",
      "dtypes: bool(2), float64(14), int64(3), object(3)\n",
      "memory usage: 3.7+ MB\n"
     ]
    }
   ],
   "source": [
    "# вывод информации о датафрейме методами info и describe (с транспонированием)\n",
    "data.info()"
   ]
  },
  {
   "cell_type": "code",
   "execution_count": 4,
   "metadata": {},
   "outputs": [
    {
     "data": {
      "text/html": [
       "<div>\n",
       "<style scoped>\n",
       "    .dataframe tbody tr th:only-of-type {\n",
       "        vertical-align: middle;\n",
       "    }\n",
       "\n",
       "    .dataframe tbody tr th {\n",
       "        vertical-align: top;\n",
       "    }\n",
       "\n",
       "    .dataframe thead th {\n",
       "        text-align: right;\n",
       "    }\n",
       "</style>\n",
       "<table border=\"1\" class=\"dataframe\">\n",
       "  <thead>\n",
       "    <tr style=\"text-align: right;\">\n",
       "      <th></th>\n",
       "      <th>count</th>\n",
       "      <th>mean</th>\n",
       "      <th>std</th>\n",
       "      <th>min</th>\n",
       "      <th>25%</th>\n",
       "      <th>50%</th>\n",
       "      <th>75%</th>\n",
       "      <th>max</th>\n",
       "    </tr>\n",
       "  </thead>\n",
       "  <tbody>\n",
       "    <tr>\n",
       "      <th>total_images</th>\n",
       "      <td>23699.0</td>\n",
       "      <td>9.858475e+00</td>\n",
       "      <td>5.682529e+00</td>\n",
       "      <td>0.0</td>\n",
       "      <td>6.00</td>\n",
       "      <td>9.00</td>\n",
       "      <td>14.0</td>\n",
       "      <td>50.0</td>\n",
       "    </tr>\n",
       "    <tr>\n",
       "      <th>last_price</th>\n",
       "      <td>23699.0</td>\n",
       "      <td>6.541549e+06</td>\n",
       "      <td>1.088701e+07</td>\n",
       "      <td>12190.0</td>\n",
       "      <td>3400000.00</td>\n",
       "      <td>4650000.00</td>\n",
       "      <td>6800000.0</td>\n",
       "      <td>763000000.0</td>\n",
       "    </tr>\n",
       "    <tr>\n",
       "      <th>total_area</th>\n",
       "      <td>23699.0</td>\n",
       "      <td>6.034865e+01</td>\n",
       "      <td>3.565408e+01</td>\n",
       "      <td>12.0</td>\n",
       "      <td>40.00</td>\n",
       "      <td>52.00</td>\n",
       "      <td>69.9</td>\n",
       "      <td>900.0</td>\n",
       "    </tr>\n",
       "    <tr>\n",
       "      <th>rooms</th>\n",
       "      <td>23699.0</td>\n",
       "      <td>2.070636e+00</td>\n",
       "      <td>1.078405e+00</td>\n",
       "      <td>0.0</td>\n",
       "      <td>1.00</td>\n",
       "      <td>2.00</td>\n",
       "      <td>3.0</td>\n",
       "      <td>19.0</td>\n",
       "    </tr>\n",
       "    <tr>\n",
       "      <th>ceiling_height</th>\n",
       "      <td>14504.0</td>\n",
       "      <td>2.771499e+00</td>\n",
       "      <td>1.261056e+00</td>\n",
       "      <td>1.0</td>\n",
       "      <td>2.52</td>\n",
       "      <td>2.65</td>\n",
       "      <td>2.8</td>\n",
       "      <td>100.0</td>\n",
       "    </tr>\n",
       "    <tr>\n",
       "      <th>floors_total</th>\n",
       "      <td>23613.0</td>\n",
       "      <td>1.067382e+01</td>\n",
       "      <td>6.597173e+00</td>\n",
       "      <td>1.0</td>\n",
       "      <td>5.00</td>\n",
       "      <td>9.00</td>\n",
       "      <td>16.0</td>\n",
       "      <td>60.0</td>\n",
       "    </tr>\n",
       "    <tr>\n",
       "      <th>living_area</th>\n",
       "      <td>21796.0</td>\n",
       "      <td>3.445785e+01</td>\n",
       "      <td>2.203045e+01</td>\n",
       "      <td>2.0</td>\n",
       "      <td>18.60</td>\n",
       "      <td>30.00</td>\n",
       "      <td>42.3</td>\n",
       "      <td>409.7</td>\n",
       "    </tr>\n",
       "    <tr>\n",
       "      <th>floor</th>\n",
       "      <td>23699.0</td>\n",
       "      <td>5.892358e+00</td>\n",
       "      <td>4.885249e+00</td>\n",
       "      <td>1.0</td>\n",
       "      <td>2.00</td>\n",
       "      <td>4.00</td>\n",
       "      <td>8.0</td>\n",
       "      <td>33.0</td>\n",
       "    </tr>\n",
       "    <tr>\n",
       "      <th>kitchen_area</th>\n",
       "      <td>21421.0</td>\n",
       "      <td>1.056981e+01</td>\n",
       "      <td>5.905438e+00</td>\n",
       "      <td>1.3</td>\n",
       "      <td>7.00</td>\n",
       "      <td>9.10</td>\n",
       "      <td>12.0</td>\n",
       "      <td>112.0</td>\n",
       "    </tr>\n",
       "    <tr>\n",
       "      <th>balcony</th>\n",
       "      <td>12180.0</td>\n",
       "      <td>1.150082e+00</td>\n",
       "      <td>1.071300e+00</td>\n",
       "      <td>0.0</td>\n",
       "      <td>0.00</td>\n",
       "      <td>1.00</td>\n",
       "      <td>2.0</td>\n",
       "      <td>5.0</td>\n",
       "    </tr>\n",
       "    <tr>\n",
       "      <th>airports_nearest</th>\n",
       "      <td>18157.0</td>\n",
       "      <td>2.879367e+04</td>\n",
       "      <td>1.263088e+04</td>\n",
       "      <td>0.0</td>\n",
       "      <td>18585.00</td>\n",
       "      <td>26726.00</td>\n",
       "      <td>37273.0</td>\n",
       "      <td>84869.0</td>\n",
       "    </tr>\n",
       "    <tr>\n",
       "      <th>cityCenters_nearest</th>\n",
       "      <td>18180.0</td>\n",
       "      <td>1.419128e+04</td>\n",
       "      <td>8.608386e+03</td>\n",
       "      <td>181.0</td>\n",
       "      <td>9238.00</td>\n",
       "      <td>13098.50</td>\n",
       "      <td>16293.0</td>\n",
       "      <td>65968.0</td>\n",
       "    </tr>\n",
       "    <tr>\n",
       "      <th>parks_around3000</th>\n",
       "      <td>18181.0</td>\n",
       "      <td>6.114075e-01</td>\n",
       "      <td>8.020736e-01</td>\n",
       "      <td>0.0</td>\n",
       "      <td>0.00</td>\n",
       "      <td>0.00</td>\n",
       "      <td>1.0</td>\n",
       "      <td>3.0</td>\n",
       "    </tr>\n",
       "    <tr>\n",
       "      <th>parks_nearest</th>\n",
       "      <td>8079.0</td>\n",
       "      <td>4.908046e+02</td>\n",
       "      <td>3.423180e+02</td>\n",
       "      <td>1.0</td>\n",
       "      <td>288.00</td>\n",
       "      <td>455.00</td>\n",
       "      <td>612.0</td>\n",
       "      <td>3190.0</td>\n",
       "    </tr>\n",
       "    <tr>\n",
       "      <th>ponds_around3000</th>\n",
       "      <td>18181.0</td>\n",
       "      <td>7.702547e-01</td>\n",
       "      <td>9.383456e-01</td>\n",
       "      <td>0.0</td>\n",
       "      <td>0.00</td>\n",
       "      <td>1.00</td>\n",
       "      <td>1.0</td>\n",
       "      <td>3.0</td>\n",
       "    </tr>\n",
       "    <tr>\n",
       "      <th>ponds_nearest</th>\n",
       "      <td>9110.0</td>\n",
       "      <td>5.179809e+02</td>\n",
       "      <td>2.777206e+02</td>\n",
       "      <td>13.0</td>\n",
       "      <td>294.00</td>\n",
       "      <td>502.00</td>\n",
       "      <td>729.0</td>\n",
       "      <td>1344.0</td>\n",
       "    </tr>\n",
       "    <tr>\n",
       "      <th>days_exposition</th>\n",
       "      <td>20518.0</td>\n",
       "      <td>1.808886e+02</td>\n",
       "      <td>2.197280e+02</td>\n",
       "      <td>1.0</td>\n",
       "      <td>45.00</td>\n",
       "      <td>95.00</td>\n",
       "      <td>232.0</td>\n",
       "      <td>1580.0</td>\n",
       "    </tr>\n",
       "  </tbody>\n",
       "</table>\n",
       "</div>"
      ],
      "text/plain": [
       "                       count          mean           std      min         25%  \\\n",
       "total_images         23699.0  9.858475e+00  5.682529e+00      0.0        6.00   \n",
       "last_price           23699.0  6.541549e+06  1.088701e+07  12190.0  3400000.00   \n",
       "total_area           23699.0  6.034865e+01  3.565408e+01     12.0       40.00   \n",
       "rooms                23699.0  2.070636e+00  1.078405e+00      0.0        1.00   \n",
       "ceiling_height       14504.0  2.771499e+00  1.261056e+00      1.0        2.52   \n",
       "floors_total         23613.0  1.067382e+01  6.597173e+00      1.0        5.00   \n",
       "living_area          21796.0  3.445785e+01  2.203045e+01      2.0       18.60   \n",
       "floor                23699.0  5.892358e+00  4.885249e+00      1.0        2.00   \n",
       "kitchen_area         21421.0  1.056981e+01  5.905438e+00      1.3        7.00   \n",
       "balcony              12180.0  1.150082e+00  1.071300e+00      0.0        0.00   \n",
       "airports_nearest     18157.0  2.879367e+04  1.263088e+04      0.0    18585.00   \n",
       "cityCenters_nearest  18180.0  1.419128e+04  8.608386e+03    181.0     9238.00   \n",
       "parks_around3000     18181.0  6.114075e-01  8.020736e-01      0.0        0.00   \n",
       "parks_nearest         8079.0  4.908046e+02  3.423180e+02      1.0      288.00   \n",
       "ponds_around3000     18181.0  7.702547e-01  9.383456e-01      0.0        0.00   \n",
       "ponds_nearest         9110.0  5.179809e+02  2.777206e+02     13.0      294.00   \n",
       "days_exposition      20518.0  1.808886e+02  2.197280e+02      1.0       45.00   \n",
       "\n",
       "                            50%        75%          max  \n",
       "total_images               9.00       14.0         50.0  \n",
       "last_price           4650000.00  6800000.0  763000000.0  \n",
       "total_area                52.00       69.9        900.0  \n",
       "rooms                      2.00        3.0         19.0  \n",
       "ceiling_height             2.65        2.8        100.0  \n",
       "floors_total               9.00       16.0         60.0  \n",
       "living_area               30.00       42.3        409.7  \n",
       "floor                      4.00        8.0         33.0  \n",
       "kitchen_area               9.10       12.0        112.0  \n",
       "balcony                    1.00        2.0          5.0  \n",
       "airports_nearest       26726.00    37273.0      84869.0  \n",
       "cityCenters_nearest    13098.50    16293.0      65968.0  \n",
       "parks_around3000           0.00        1.0          3.0  \n",
       "parks_nearest            455.00      612.0       3190.0  \n",
       "ponds_around3000           1.00        1.0          3.0  \n",
       "ponds_nearest            502.00      729.0       1344.0  \n",
       "days_exposition           95.00      232.0       1580.0  "
      ]
     },
     "execution_count": 4,
     "metadata": {},
     "output_type": "execute_result"
    }
   ],
   "source": [
    "data.describe().T"
   ]
  },
  {
   "cell_type": "code",
   "execution_count": 5,
   "metadata": {},
   "outputs": [
    {
     "data": {
      "text/plain": [
       "array([[<AxesSubplot:title={'center':'total_images'}>,\n",
       "        <AxesSubplot:title={'center':'last_price'}>,\n",
       "        <AxesSubplot:title={'center':'total_area'}>,\n",
       "        <AxesSubplot:title={'center':'rooms'}>],\n",
       "       [<AxesSubplot:title={'center':'ceiling_height'}>,\n",
       "        <AxesSubplot:title={'center':'floors_total'}>,\n",
       "        <AxesSubplot:title={'center':'living_area'}>,\n",
       "        <AxesSubplot:title={'center':'floor'}>],\n",
       "       [<AxesSubplot:title={'center':'kitchen_area'}>,\n",
       "        <AxesSubplot:title={'center':'balcony'}>,\n",
       "        <AxesSubplot:title={'center':'airports_nearest'}>,\n",
       "        <AxesSubplot:title={'center':'cityCenters_nearest'}>],\n",
       "       [<AxesSubplot:title={'center':'parks_around3000'}>,\n",
       "        <AxesSubplot:title={'center':'parks_nearest'}>,\n",
       "        <AxesSubplot:title={'center':'ponds_around3000'}>,\n",
       "        <AxesSubplot:title={'center':'ponds_nearest'}>],\n",
       "       [<AxesSubplot:title={'center':'days_exposition'}>, <AxesSubplot:>,\n",
       "        <AxesSubplot:>, <AxesSubplot:>]], dtype=object)"
      ]
     },
     "execution_count": 5,
     "metadata": {},
     "output_type": "execute_result"
    },
    {
     "data": {
      "image/png": "[encoded data removed]",
      "text/plain": [
       "<Figure size 1080x1440 with 20 Axes>"
      ]
     },
     "metadata": {
      "needs_background": "light"
     },
     "output_type": "display_data"
    }
   ],
   "source": [
    "#построим гистограммы для всех числовых столбцов датафрейма\n",
    "data.hist(figsize=(15, 20))"
   ]
  },
  {
   "cell_type": "markdown",
   "metadata": {},
   "source": [
    "Вывод: \n",
    "При первичном ознакомлении с массивом данных видим, что таблица имеет размер 22 столбца х 23699 строк. Значения представлены в 4 типах данных: int64, float64, object и bool. Количество значений в столбцах различается - в данных имеются пропуски, и их относительное количество различается в зависимости от столбца."
   ]
  },
  {
   "cell_type": "markdown",
   "metadata": {},
   "source": [
    "### Предобработка данных"
   ]
  },
  {
   "cell_type": "code",
   "execution_count": 6,
   "metadata": {},
   "outputs": [
    {
     "data": {
      "text/plain": [
       "Index(['total_images', 'last_price', 'total_area', 'first_day_exposition',\n",
       "       'rooms', 'ceiling_height', 'floors_total', 'living_area', 'floor',\n",
       "       'is_apartment', 'studio', 'open_plan', 'kitchen_area', 'balcony',\n",
       "       'locality_name', 'airports_nearest', 'cityCenters_nearest',\n",
       "       'parks_around3000', 'parks_nearest', 'ponds_around3000',\n",
       "       'ponds_nearest', 'days_exposition'],\n",
       "      dtype='object')"
      ]
     },
     "execution_count": 6,
     "metadata": {},
     "output_type": "execute_result"
    }
   ],
   "source": [
    "#выведем названия столбцов\n",
    "data.columns"
   ]
  },
  {
   "cell_type": "code",
   "execution_count": 7,
   "metadata": {},
   "outputs": [],
   "source": [
    "#переименуем столбцы cityCenters_nearest, parks_around3000, ponds_around3000\n",
    "data.rename(columns={'cityCenters_nearest':'city_сenters_nearest',\n",
    "                  'parks_around3000':'parks_around_3000',\n",
    "                  'ponds_around3000':'ponds_around_3000'},\n",
    "          inplace=True)"
   ]
  },
  {
   "cell_type": "code",
   "execution_count": 8,
   "metadata": {},
   "outputs": [
    {
     "data": {
      "text/plain": [
       "0"
      ]
     },
     "execution_count": 8,
     "metadata": {},
     "output_type": "execute_result"
    }
   ],
   "source": [
    "#проверим на наличие дубликатов в таблице\n",
    "data.duplicated().sum()"
   ]
  },
  {
   "cell_type": "markdown",
   "metadata": {},
   "source": [
    "Дубликаты отсутствуют"
   ]
  },
  {
   "cell_type": "code",
   "execution_count": 9,
   "metadata": {},
   "outputs": [
    {
     "data": {
      "text/plain": [
       "total_images                0\n",
       "last_price                  0\n",
       "total_area                  0\n",
       "first_day_exposition        0\n",
       "rooms                       0\n",
       "ceiling_height           9195\n",
       "floors_total               86\n",
       "living_area              1903\n",
       "floor                       0\n",
       "is_apartment            20924\n",
       "studio                      0\n",
       "open_plan                   0\n",
       "kitchen_area             2278\n",
       "balcony                 11519\n",
       "locality_name              49\n",
       "airports_nearest         5542\n",
       "city_сenters_nearest     5519\n",
       "parks_around_3000        5518\n",
       "parks_nearest           15620\n",
       "ponds_around_3000        5518\n",
       "ponds_nearest           14589\n",
       "days_exposition          3181\n",
       "dtype: int64"
      ]
     },
     "execution_count": 9,
     "metadata": {},
     "output_type": "execute_result"
    }
   ],
   "source": [
    "#найдем количество пропусков по столбцам\n",
    "data.isna().sum()"
   ]
  },
  {
   "cell_type": "markdown",
   "metadata": {},
   "source": [
    "Методом последовательных приближений начинаем обрабатывать пропуски в данных. Сразу обращаем внимание на столбец locality_name   - название населенного пункта отсутствует всего в 49 строках из 23699. Причина, скорее всего, техническая (ошибки синхронизации, выгрузки). Так как населённый пункт важен для исследования - удалим эти строки. "
   ]
  },
  {
   "cell_type": "code",
   "execution_count": 10,
   "metadata": {},
   "outputs": [
    {
     "data": {
      "text/plain": [
       "23650"
      ]
     },
     "execution_count": 10,
     "metadata": {},
     "output_type": "execute_result"
    }
   ],
   "source": [
    "#удаление строк, где значения в столбце locality_name равно NaN\n",
    "data = data.dropna(subset=['locality_name'])\n",
    "#и убедимся, что удалились именно 49 строк\n",
    "data.shape[0]"
   ]
  },
  {
   "cell_type": "markdown",
   "metadata": {},
   "source": [
    "Помимо наименьшего числа пропусков, обращает на себя внимание столбец is_apartment с наибольшим количеством пропусков (20924 строк из 23699). При составлении объявлений продавцы, скорее всего, не заполняют этот параметр. Проверим какое значение является наиболее частым в этом столбце, а также тип данных.     "
   ]
  },
  {
   "cell_type": "code",
   "execution_count": 11,
   "metadata": {},
   "outputs": [
    {
     "data": {
      "text/plain": [
       "is_apartment\n",
       "False    2710\n",
       "True       50\n",
       "Name: is_apartment, dtype: int64"
      ]
     },
     "execution_count": 11,
     "metadata": {},
     "output_type": "execute_result"
    }
   ],
   "source": [
    "data.groupby('is_apartment')['is_apartment'].count()"
   ]
  },
  {
   "cell_type": "code",
   "execution_count": 12,
   "metadata": {},
   "outputs": [
    {
     "data": {
      "text/plain": [
       "dtype('O')"
      ]
     },
     "execution_count": 12,
     "metadata": {},
     "output_type": "execute_result"
    }
   ],
   "source": [
    "data['is_apartment'].dtype"
   ]
  },
  {
   "cell_type": "markdown",
   "metadata": {},
   "source": [
    "Заменим строковый тип данных для значений столбца is_apartment на bool. Заполним пропуски значением False, так как оно встречается на два порядка чаще, чем True"
   ]
  },
  {
   "cell_type": "code",
   "execution_count": 13,
   "metadata": {},
   "outputs": [],
   "source": [
    "data['is_apartment'] = data['is_apartment'].fillna(False)\n",
    "data['is_apartment'] = data['is_apartment'].astype('bool')"
   ]
  },
  {
   "cell_type": "markdown",
   "metadata": {},
   "source": [
    "Еще раз проверим пропуски по столбцам"
   ]
  },
  {
   "cell_type": "code",
   "execution_count": 14,
   "metadata": {},
   "outputs": [
    {
     "data": {
      "text/plain": [
       "total_images                0\n",
       "last_price                  0\n",
       "total_area                  0\n",
       "first_day_exposition        0\n",
       "rooms                       0\n",
       "ceiling_height           9160\n",
       "floors_total               85\n",
       "living_area              1898\n",
       "floor                       0\n",
       "is_apartment                0\n",
       "studio                      0\n",
       "open_plan                   0\n",
       "kitchen_area             2269\n",
       "balcony                 11513\n",
       "locality_name               0\n",
       "airports_nearest         5534\n",
       "city_сenters_nearest     5511\n",
       "parks_around_3000        5510\n",
       "parks_nearest           15586\n",
       "ponds_around_3000        5510\n",
       "ponds_nearest           14565\n",
       "days_exposition          3180\n",
       "dtype: int64"
      ]
     },
     "execution_count": 14,
     "metadata": {},
     "output_type": "execute_result"
    }
   ],
   "source": [
    "data.isna().sum()"
   ]
  },
  {
   "cell_type": "markdown",
   "metadata": {},
   "source": [
    "Рассмотрим столбец balcony. Почти половина строк имеет пропуск. Возможно продавцы заполнили только основные параметры в объявлении, пропустив второстепенные. Главный расчет - заинтересовать покупателя основными параметрами жилья, качественными фото. Остальное же - можно озвучить на словах или потенциальный покупатель сам посмотрит при просмотре квартиры то, что важно конкретно для него. Заменим пропуски значение 0 и проверим тип данных.        "
   ]
  },
  {
   "cell_type": "code",
   "execution_count": 15,
   "metadata": {},
   "outputs": [
    {
     "data": {
      "text/plain": [
       "dtype('float64')"
      ]
     },
     "execution_count": 15,
     "metadata": {},
     "output_type": "execute_result"
    }
   ],
   "source": [
    "data['balcony'] = data['balcony'].fillna(0)\n",
    "data['balcony'].dtype"
   ]
  },
  {
   "cell_type": "markdown",
   "metadata": {},
   "source": [
    "Заменим вещественный тип на целочисленный"
   ]
  },
  {
   "cell_type": "code",
   "execution_count": 16,
   "metadata": {},
   "outputs": [],
   "source": [
    "data['balcony'] = data['balcony'].astype(int)"
   ]
  },
  {
   "cell_type": "code",
   "execution_count": 17,
   "metadata": {},
   "outputs": [
    {
     "data": {
      "text/plain": [
       "total_images                0\n",
       "last_price                  0\n",
       "total_area                  0\n",
       "first_day_exposition        0\n",
       "rooms                       0\n",
       "ceiling_height           9160\n",
       "floors_total               85\n",
       "living_area              1898\n",
       "floor                       0\n",
       "is_apartment                0\n",
       "studio                      0\n",
       "open_plan                   0\n",
       "kitchen_area             2269\n",
       "balcony                     0\n",
       "locality_name               0\n",
       "airports_nearest         5534\n",
       "city_сenters_nearest     5511\n",
       "parks_around_3000        5510\n",
       "parks_nearest           15586\n",
       "ponds_around_3000        5510\n",
       "ponds_nearest           14565\n",
       "days_exposition          3180\n",
       "dtype: int64"
      ]
     },
     "execution_count": 17,
     "metadata": {},
     "output_type": "execute_result"
    }
   ],
   "source": [
    "data.isna().sum()"
   ]
  },
  {
   "cell_type": "markdown",
   "metadata": {},
   "source": [
    "Рассмотрим столбец days_exposition. Пропуски в данном столбце означают что объявление актуально и не снято с публикации. На мой взгляд их лучше убрать, так как они могут исказить нашу статистику. "
   ]
  },
  {
   "cell_type": "code",
   "execution_count": 18,
   "metadata": {},
   "outputs": [],
   "source": [
    "#data = data.dropna(subset=['days_exposition'])"
   ]
  },
  {
   "cell_type": "code",
   "execution_count": 19,
   "metadata": {},
   "outputs": [
    {
     "data": {
      "text/plain": [
       "0"
      ]
     },
     "execution_count": 19,
     "metadata": {},
     "output_type": "execute_result"
    }
   ],
   "source": [
    "# код добавлен после ревью\n",
    "data['days_exposition'] = data['days_exposition'].fillna(-1)\n",
    "data['days_exposition'].isna().sum()"
   ]
  },
  {
   "cell_type": "markdown",
   "metadata": {},
   "source": [
    "Проверим тип данных. "
   ]
  },
  {
   "cell_type": "code",
   "execution_count": 20,
   "metadata": {},
   "outputs": [
    {
     "data": {
      "text/plain": [
       "dtype('float64')"
      ]
     },
     "execution_count": 20,
     "metadata": {},
     "output_type": "execute_result"
    }
   ],
   "source": [
    "data['days_exposition'].dtype"
   ]
  },
  {
   "cell_type": "markdown",
   "metadata": {},
   "source": [
    "Заменим вещественный тип на целочисленный - нас интересует целое количество дней без дробной части."
   ]
  },
  {
   "cell_type": "code",
   "execution_count": 21,
   "metadata": {},
   "outputs": [],
   "source": [
    "data['days_exposition'] = data['days_exposition'].astype(int)"
   ]
  },
  {
   "cell_type": "markdown",
   "metadata": {},
   "source": [
    "Проверим типы данных и пропуски на данном этапе обработки датасета"
   ]
  },
  {
   "cell_type": "code",
   "execution_count": 22,
   "metadata": {},
   "outputs": [
    {
     "name": "stdout",
     "output_type": "stream",
     "text": [
      "<class 'pandas.core.frame.DataFrame'>\n",
      "Int64Index: 23650 entries, 0 to 23698\n",
      "Data columns (total 22 columns):\n",
      " #   Column                Non-Null Count  Dtype  \n",
      "---  ------                --------------  -----  \n",
      " 0   total_images          23650 non-null  int64  \n",
      " 1   last_price            23650 non-null  float64\n",
      " 2   total_area            23650 non-null  float64\n",
      " 3   first_day_exposition  23650 non-null  object \n",
      " 4   rooms                 23650 non-null  int64  \n",
      " 5   ceiling_height        14490 non-null  float64\n",
      " 6   floors_total          23565 non-null  float64\n",
      " 7   living_area           21752 non-null  float64\n",
      " 8   floor                 23650 non-null  int64  \n",
      " 9   is_apartment          23650 non-null  bool   \n",
      " 10  studio                23650 non-null  bool   \n",
      " 11  open_plan             23650 non-null  bool   \n",
      " 12  kitchen_area          21381 non-null  float64\n",
      " 13  balcony               23650 non-null  int64  \n",
      " 14  locality_name         23650 non-null  object \n",
      " 15  airports_nearest      18116 non-null  float64\n",
      " 16  city_сenters_nearest  18139 non-null  float64\n",
      " 17  parks_around_3000     18140 non-null  float64\n",
      " 18  parks_nearest         8064 non-null   float64\n",
      " 19  ponds_around_3000     18140 non-null  float64\n",
      " 20  ponds_nearest         9085 non-null   float64\n",
      " 21  days_exposition       23650 non-null  int64  \n",
      "dtypes: bool(3), float64(12), int64(5), object(2)\n",
      "memory usage: 3.7+ MB\n"
     ]
    },
    {
     "data": {
      "text/plain": [
       "total_images                0\n",
       "last_price                  0\n",
       "total_area                  0\n",
       "first_day_exposition        0\n",
       "rooms                       0\n",
       "ceiling_height           9160\n",
       "floors_total               85\n",
       "living_area              1898\n",
       "floor                       0\n",
       "is_apartment                0\n",
       "studio                      0\n",
       "open_plan                   0\n",
       "kitchen_area             2269\n",
       "balcony                     0\n",
       "locality_name               0\n",
       "airports_nearest         5534\n",
       "city_сenters_nearest     5511\n",
       "parks_around_3000        5510\n",
       "parks_nearest           15586\n",
       "ponds_around_3000        5510\n",
       "ponds_nearest           14565\n",
       "days_exposition             0\n",
       "dtype: int64"
      ]
     },
     "execution_count": 22,
     "metadata": {},
     "output_type": "execute_result"
    }
   ],
   "source": [
    "data.info()\n",
    "data.isna().sum()"
   ]
  },
  {
   "cell_type": "markdown",
   "metadata": {},
   "source": [
    "Изменим тип данных столбца first_day_exposition со строкового на datetime."
   ]
  },
  {
   "cell_type": "code",
   "execution_count": 23,
   "metadata": {},
   "outputs": [],
   "source": [
    "data['first_day_exposition'] = pd.to_datetime(\n",
    "    data['first_day_exposition'], format='%Y-%m-%dT%H:%M:%S')"
   ]
  },
  {
   "cell_type": "code",
   "execution_count": 24,
   "metadata": {},
   "outputs": [
    {
     "data": {
      "text/plain": [
       "total_images                0\n",
       "last_price                  0\n",
       "total_area                  0\n",
       "first_day_exposition        0\n",
       "rooms                       0\n",
       "ceiling_height           9160\n",
       "floors_total               85\n",
       "living_area              1898\n",
       "floor                       0\n",
       "is_apartment                0\n",
       "studio                      0\n",
       "open_plan                   0\n",
       "kitchen_area             2269\n",
       "balcony                     0\n",
       "locality_name               0\n",
       "airports_nearest         5534\n",
       "city_сenters_nearest     5511\n",
       "parks_around_3000        5510\n",
       "parks_nearest           15586\n",
       "ponds_around_3000        5510\n",
       "ponds_nearest           14565\n",
       "days_exposition             0\n",
       "dtype: int64"
      ]
     },
     "execution_count": 24,
     "metadata": {},
     "output_type": "execute_result"
    }
   ],
   "source": [
    "data.isna().sum()"
   ]
  },
  {
   "cell_type": "markdown",
   "metadata": {},
   "source": [
    "Последовательно обработаем оставшиеся столбцы.\n",
    "В столбце floors_total заменим пропуски значениями из столбца floor. В данном столбце пропусков нет - \n",
    "значит этаж, где находится квартира, известен во всех объявлениях. Как минимум, столько этажей точно есть в данном доме. "
   ]
  },
  {
   "cell_type": "code",
   "execution_count": 25,
   "metadata": {},
   "outputs": [],
   "source": [
    "#data['floors_total'] = data['floors_total'].fillna(data['floor'])"
   ]
  },
  {
   "cell_type": "code",
   "execution_count": 26,
   "metadata": {},
   "outputs": [
    {
     "data": {
      "text/plain": [
       "0"
      ]
     },
     "execution_count": 26,
     "metadata": {},
     "output_type": "execute_result"
    }
   ],
   "source": [
    "data = data.dropna(subset=['floors_total'])\n",
    "data['floors_total'].isna().sum()"
   ]
  },
  {
   "cell_type": "markdown",
   "metadata": {},
   "source": [
    "В столбце ceiling_height более 8 тысячи строк с пропущенными данными. Рассмотрим этот столбец подробнее."
   ]
  },
  {
   "cell_type": "code",
   "execution_count": 27,
   "metadata": {},
   "outputs": [
    {
     "data": {
      "text/plain": [
       "count    14481.000000\n",
       "mean         2.771283\n",
       "std          1.261983\n",
       "min          1.000000\n",
       "25%          2.510000\n",
       "50%          2.650000\n",
       "75%          2.800000\n",
       "max        100.000000\n",
       "Name: ceiling_height, dtype: float64"
      ]
     },
     "execution_count": 27,
     "metadata": {},
     "output_type": "execute_result"
    }
   ],
   "source": [
    "data['ceiling_height'].describe()"
   ]
  },
  {
   "cell_type": "markdown",
   "metadata": {},
   "source": [
    "Описание столбца вызывает вопросы. Минимальный потолок не может быть 1 м, максимальный - 100 м. \n",
    "Заменим значения менее 2,5 метров на медиану. "
   ]
  },
  {
   "cell_type": "code",
   "execution_count": 28,
   "metadata": {},
   "outputs": [],
   "source": [
    "data.loc[(data['ceiling_height'] < 2.5), 'ceiling_height'] = data['ceiling_height'].median()\n"
   ]
  },
  {
   "cell_type": "markdown",
   "metadata": {},
   "source": [
    "Примем максимальную высоту потолка 8 метров - в дорогих или нестандартных квартирах. "
   ]
  },
  {
   "cell_type": "code",
   "execution_count": 29,
   "metadata": {},
   "outputs": [
    {
     "data": {
      "text/html": [
       "<div>\n",
       "<style scoped>\n",
       "    .dataframe tbody tr th:only-of-type {\n",
       "        vertical-align: middle;\n",
       "    }\n",
       "\n",
       "    .dataframe tbody tr th {\n",
       "        vertical-align: top;\n",
       "    }\n",
       "\n",
       "    .dataframe thead th {\n",
       "        text-align: right;\n",
       "    }\n",
       "</style>\n",
       "<table border=\"1\" class=\"dataframe\">\n",
       "  <thead>\n",
       "    <tr style=\"text-align: right;\">\n",
       "      <th></th>\n",
       "      <th>total_images</th>\n",
       "      <th>last_price</th>\n",
       "      <th>total_area</th>\n",
       "      <th>first_day_exposition</th>\n",
       "      <th>rooms</th>\n",
       "      <th>ceiling_height</th>\n",
       "      <th>floors_total</th>\n",
       "      <th>living_area</th>\n",
       "      <th>floor</th>\n",
       "      <th>is_apartment</th>\n",
       "      <th>...</th>\n",
       "      <th>kitchen_area</th>\n",
       "      <th>balcony</th>\n",
       "      <th>locality_name</th>\n",
       "      <th>airports_nearest</th>\n",
       "      <th>city_сenters_nearest</th>\n",
       "      <th>parks_around_3000</th>\n",
       "      <th>parks_nearest</th>\n",
       "      <th>ponds_around_3000</th>\n",
       "      <th>ponds_nearest</th>\n",
       "      <th>days_exposition</th>\n",
       "    </tr>\n",
       "  </thead>\n",
       "  <tbody>\n",
       "    <tr>\n",
       "      <th>355</th>\n",
       "      <td>17</td>\n",
       "      <td>3600000.0</td>\n",
       "      <td>55.2</td>\n",
       "      <td>2018-07-12</td>\n",
       "      <td>2</td>\n",
       "      <td>25.0</td>\n",
       "      <td>5.0</td>\n",
       "      <td>32.0</td>\n",
       "      <td>2</td>\n",
       "      <td>False</td>\n",
       "      <td>...</td>\n",
       "      <td>NaN</td>\n",
       "      <td>2</td>\n",
       "      <td>Гатчина</td>\n",
       "      <td>NaN</td>\n",
       "      <td>NaN</td>\n",
       "      <td>NaN</td>\n",
       "      <td>NaN</td>\n",
       "      <td>NaN</td>\n",
       "      <td>NaN</td>\n",
       "      <td>259</td>\n",
       "    </tr>\n",
       "    <tr>\n",
       "      <th>3148</th>\n",
       "      <td>14</td>\n",
       "      <td>2900000.0</td>\n",
       "      <td>75.0</td>\n",
       "      <td>2018-11-12</td>\n",
       "      <td>3</td>\n",
       "      <td>32.0</td>\n",
       "      <td>3.0</td>\n",
       "      <td>53.0</td>\n",
       "      <td>2</td>\n",
       "      <td>False</td>\n",
       "      <td>...</td>\n",
       "      <td>8.0</td>\n",
       "      <td>0</td>\n",
       "      <td>Волхов</td>\n",
       "      <td>NaN</td>\n",
       "      <td>NaN</td>\n",
       "      <td>NaN</td>\n",
       "      <td>NaN</td>\n",
       "      <td>NaN</td>\n",
       "      <td>NaN</td>\n",
       "      <td>-1</td>\n",
       "    </tr>\n",
       "    <tr>\n",
       "      <th>4643</th>\n",
       "      <td>0</td>\n",
       "      <td>4300000.0</td>\n",
       "      <td>45.0</td>\n",
       "      <td>2018-02-01</td>\n",
       "      <td>2</td>\n",
       "      <td>25.0</td>\n",
       "      <td>9.0</td>\n",
       "      <td>30.0</td>\n",
       "      <td>2</td>\n",
       "      <td>False</td>\n",
       "      <td>...</td>\n",
       "      <td>7.0</td>\n",
       "      <td>1</td>\n",
       "      <td>Санкт-Петербург</td>\n",
       "      <td>12016.0</td>\n",
       "      <td>13256.0</td>\n",
       "      <td>1.0</td>\n",
       "      <td>658.0</td>\n",
       "      <td>1.0</td>\n",
       "      <td>331.0</td>\n",
       "      <td>181</td>\n",
       "    </tr>\n",
       "    <tr>\n",
       "      <th>4876</th>\n",
       "      <td>7</td>\n",
       "      <td>3000000.0</td>\n",
       "      <td>25.0</td>\n",
       "      <td>2017-09-27</td>\n",
       "      <td>0</td>\n",
       "      <td>27.0</td>\n",
       "      <td>25.0</td>\n",
       "      <td>17.0</td>\n",
       "      <td>17</td>\n",
       "      <td>False</td>\n",
       "      <td>...</td>\n",
       "      <td>NaN</td>\n",
       "      <td>2</td>\n",
       "      <td>посёлок Мурино</td>\n",
       "      <td>NaN</td>\n",
       "      <td>NaN</td>\n",
       "      <td>NaN</td>\n",
       "      <td>NaN</td>\n",
       "      <td>NaN</td>\n",
       "      <td>NaN</td>\n",
       "      <td>28</td>\n",
       "    </tr>\n",
       "    <tr>\n",
       "      <th>5076</th>\n",
       "      <td>0</td>\n",
       "      <td>3850000.0</td>\n",
       "      <td>30.5</td>\n",
       "      <td>2018-10-03</td>\n",
       "      <td>1</td>\n",
       "      <td>24.0</td>\n",
       "      <td>5.0</td>\n",
       "      <td>19.5</td>\n",
       "      <td>1</td>\n",
       "      <td>True</td>\n",
       "      <td>...</td>\n",
       "      <td>5.5</td>\n",
       "      <td>0</td>\n",
       "      <td>Санкт-Петербург</td>\n",
       "      <td>29686.0</td>\n",
       "      <td>8389.0</td>\n",
       "      <td>3.0</td>\n",
       "      <td>397.0</td>\n",
       "      <td>1.0</td>\n",
       "      <td>578.0</td>\n",
       "      <td>7</td>\n",
       "    </tr>\n",
       "    <tr>\n",
       "      <th>5246</th>\n",
       "      <td>0</td>\n",
       "      <td>2500000.0</td>\n",
       "      <td>54.0</td>\n",
       "      <td>2017-10-13</td>\n",
       "      <td>2</td>\n",
       "      <td>27.0</td>\n",
       "      <td>5.0</td>\n",
       "      <td>30.0</td>\n",
       "      <td>3</td>\n",
       "      <td>False</td>\n",
       "      <td>...</td>\n",
       "      <td>9.0</td>\n",
       "      <td>2</td>\n",
       "      <td>деревня Мины</td>\n",
       "      <td>NaN</td>\n",
       "      <td>NaN</td>\n",
       "      <td>NaN</td>\n",
       "      <td>NaN</td>\n",
       "      <td>NaN</td>\n",
       "      <td>NaN</td>\n",
       "      <td>540</td>\n",
       "    </tr>\n",
       "    <tr>\n",
       "      <th>5669</th>\n",
       "      <td>4</td>\n",
       "      <td>4400000.0</td>\n",
       "      <td>50.0</td>\n",
       "      <td>2017-08-08</td>\n",
       "      <td>2</td>\n",
       "      <td>26.0</td>\n",
       "      <td>9.0</td>\n",
       "      <td>21.3</td>\n",
       "      <td>3</td>\n",
       "      <td>False</td>\n",
       "      <td>...</td>\n",
       "      <td>7.0</td>\n",
       "      <td>2</td>\n",
       "      <td>Санкт-Петербург</td>\n",
       "      <td>28981.0</td>\n",
       "      <td>10912.0</td>\n",
       "      <td>1.0</td>\n",
       "      <td>305.0</td>\n",
       "      <td>0.0</td>\n",
       "      <td>NaN</td>\n",
       "      <td>267</td>\n",
       "    </tr>\n",
       "    <tr>\n",
       "      <th>5807</th>\n",
       "      <td>17</td>\n",
       "      <td>8150000.0</td>\n",
       "      <td>80.0</td>\n",
       "      <td>2019-01-09</td>\n",
       "      <td>2</td>\n",
       "      <td>27.0</td>\n",
       "      <td>36.0</td>\n",
       "      <td>41.0</td>\n",
       "      <td>13</td>\n",
       "      <td>False</td>\n",
       "      <td>...</td>\n",
       "      <td>12.0</td>\n",
       "      <td>5</td>\n",
       "      <td>Санкт-Петербург</td>\n",
       "      <td>18732.0</td>\n",
       "      <td>20444.0</td>\n",
       "      <td>0.0</td>\n",
       "      <td>NaN</td>\n",
       "      <td>3.0</td>\n",
       "      <td>80.0</td>\n",
       "      <td>38</td>\n",
       "    </tr>\n",
       "    <tr>\n",
       "      <th>5863</th>\n",
       "      <td>20</td>\n",
       "      <td>5650000.0</td>\n",
       "      <td>45.0</td>\n",
       "      <td>2018-08-15</td>\n",
       "      <td>1</td>\n",
       "      <td>8.3</td>\n",
       "      <td>16.0</td>\n",
       "      <td>19.3</td>\n",
       "      <td>14</td>\n",
       "      <td>False</td>\n",
       "      <td>...</td>\n",
       "      <td>8.3</td>\n",
       "      <td>1</td>\n",
       "      <td>Санкт-Петербург</td>\n",
       "      <td>13069.0</td>\n",
       "      <td>10763.0</td>\n",
       "      <td>0.0</td>\n",
       "      <td>NaN</td>\n",
       "      <td>1.0</td>\n",
       "      <td>613.0</td>\n",
       "      <td>14</td>\n",
       "    </tr>\n",
       "    <tr>\n",
       "      <th>6246</th>\n",
       "      <td>6</td>\n",
       "      <td>3300000.0</td>\n",
       "      <td>44.4</td>\n",
       "      <td>2019-03-25</td>\n",
       "      <td>2</td>\n",
       "      <td>25.0</td>\n",
       "      <td>5.0</td>\n",
       "      <td>31.3</td>\n",
       "      <td>5</td>\n",
       "      <td>False</td>\n",
       "      <td>...</td>\n",
       "      <td>5.7</td>\n",
       "      <td>0</td>\n",
       "      <td>Кронштадт</td>\n",
       "      <td>68923.0</td>\n",
       "      <td>50649.0</td>\n",
       "      <td>1.0</td>\n",
       "      <td>417.0</td>\n",
       "      <td>2.0</td>\n",
       "      <td>73.0</td>\n",
       "      <td>-1</td>\n",
       "    </tr>\n",
       "    <tr>\n",
       "      <th>9379</th>\n",
       "      <td>5</td>\n",
       "      <td>3950000.0</td>\n",
       "      <td>42.0</td>\n",
       "      <td>2017-03-26</td>\n",
       "      <td>3</td>\n",
       "      <td>25.0</td>\n",
       "      <td>5.0</td>\n",
       "      <td>30.0</td>\n",
       "      <td>2</td>\n",
       "      <td>False</td>\n",
       "      <td>...</td>\n",
       "      <td>5.2</td>\n",
       "      <td>0</td>\n",
       "      <td>Санкт-Петербург</td>\n",
       "      <td>11647.0</td>\n",
       "      <td>13581.0</td>\n",
       "      <td>0.0</td>\n",
       "      <td>NaN</td>\n",
       "      <td>0.0</td>\n",
       "      <td>NaN</td>\n",
       "      <td>-1</td>\n",
       "    </tr>\n",
       "    <tr>\n",
       "      <th>10773</th>\n",
       "      <td>8</td>\n",
       "      <td>3800000.0</td>\n",
       "      <td>58.0</td>\n",
       "      <td>2017-10-13</td>\n",
       "      <td>2</td>\n",
       "      <td>27.0</td>\n",
       "      <td>10.0</td>\n",
       "      <td>30.1</td>\n",
       "      <td>3</td>\n",
       "      <td>False</td>\n",
       "      <td>...</td>\n",
       "      <td>8.1</td>\n",
       "      <td>2</td>\n",
       "      <td>посёлок Мурино</td>\n",
       "      <td>NaN</td>\n",
       "      <td>NaN</td>\n",
       "      <td>NaN</td>\n",
       "      <td>NaN</td>\n",
       "      <td>NaN</td>\n",
       "      <td>NaN</td>\n",
       "      <td>71</td>\n",
       "    </tr>\n",
       "    <tr>\n",
       "      <th>11285</th>\n",
       "      <td>0</td>\n",
       "      <td>1950000.0</td>\n",
       "      <td>37.0</td>\n",
       "      <td>2019-03-20</td>\n",
       "      <td>1</td>\n",
       "      <td>25.0</td>\n",
       "      <td>5.0</td>\n",
       "      <td>17.0</td>\n",
       "      <td>4</td>\n",
       "      <td>False</td>\n",
       "      <td>...</td>\n",
       "      <td>9.0</td>\n",
       "      <td>2</td>\n",
       "      <td>Луга</td>\n",
       "      <td>NaN</td>\n",
       "      <td>NaN</td>\n",
       "      <td>NaN</td>\n",
       "      <td>NaN</td>\n",
       "      <td>NaN</td>\n",
       "      <td>NaN</td>\n",
       "      <td>18</td>\n",
       "    </tr>\n",
       "    <tr>\n",
       "      <th>14382</th>\n",
       "      <td>9</td>\n",
       "      <td>1700000.0</td>\n",
       "      <td>35.0</td>\n",
       "      <td>2015-12-04</td>\n",
       "      <td>1</td>\n",
       "      <td>25.0</td>\n",
       "      <td>5.0</td>\n",
       "      <td>20.0</td>\n",
       "      <td>2</td>\n",
       "      <td>False</td>\n",
       "      <td>...</td>\n",
       "      <td>8.0</td>\n",
       "      <td>1</td>\n",
       "      <td>поселок Новый Свет</td>\n",
       "      <td>NaN</td>\n",
       "      <td>NaN</td>\n",
       "      <td>NaN</td>\n",
       "      <td>NaN</td>\n",
       "      <td>NaN</td>\n",
       "      <td>NaN</td>\n",
       "      <td>206</td>\n",
       "    </tr>\n",
       "    <tr>\n",
       "      <th>15061</th>\n",
       "      <td>19</td>\n",
       "      <td>5600000.0</td>\n",
       "      <td>56.4</td>\n",
       "      <td>2018-05-11</td>\n",
       "      <td>2</td>\n",
       "      <td>14.0</td>\n",
       "      <td>14.0</td>\n",
       "      <td>32.4</td>\n",
       "      <td>5</td>\n",
       "      <td>False</td>\n",
       "      <td>...</td>\n",
       "      <td>9.1</td>\n",
       "      <td>2</td>\n",
       "      <td>Санкт-Петербург</td>\n",
       "      <td>14814.0</td>\n",
       "      <td>13610.0</td>\n",
       "      <td>0.0</td>\n",
       "      <td>NaN</td>\n",
       "      <td>0.0</td>\n",
       "      <td>NaN</td>\n",
       "      <td>315</td>\n",
       "    </tr>\n",
       "    <tr>\n",
       "      <th>17496</th>\n",
       "      <td>15</td>\n",
       "      <td>6700000.0</td>\n",
       "      <td>92.9</td>\n",
       "      <td>2019-02-19</td>\n",
       "      <td>3</td>\n",
       "      <td>20.0</td>\n",
       "      <td>17.0</td>\n",
       "      <td>53.2</td>\n",
       "      <td>14</td>\n",
       "      <td>False</td>\n",
       "      <td>...</td>\n",
       "      <td>12.0</td>\n",
       "      <td>5</td>\n",
       "      <td>Санкт-Петербург</td>\n",
       "      <td>16295.0</td>\n",
       "      <td>15092.0</td>\n",
       "      <td>1.0</td>\n",
       "      <td>967.0</td>\n",
       "      <td>0.0</td>\n",
       "      <td>NaN</td>\n",
       "      <td>-1</td>\n",
       "    </tr>\n",
       "    <tr>\n",
       "      <th>17857</th>\n",
       "      <td>1</td>\n",
       "      <td>3900000.0</td>\n",
       "      <td>56.0</td>\n",
       "      <td>2017-12-22</td>\n",
       "      <td>3</td>\n",
       "      <td>27.0</td>\n",
       "      <td>5.0</td>\n",
       "      <td>33.0</td>\n",
       "      <td>4</td>\n",
       "      <td>False</td>\n",
       "      <td>...</td>\n",
       "      <td>NaN</td>\n",
       "      <td>0</td>\n",
       "      <td>Санкт-Петербург</td>\n",
       "      <td>41030.0</td>\n",
       "      <td>15543.0</td>\n",
       "      <td>0.0</td>\n",
       "      <td>NaN</td>\n",
       "      <td>0.0</td>\n",
       "      <td>NaN</td>\n",
       "      <td>73</td>\n",
       "    </tr>\n",
       "    <tr>\n",
       "      <th>18545</th>\n",
       "      <td>6</td>\n",
       "      <td>3750000.0</td>\n",
       "      <td>43.0</td>\n",
       "      <td>2019-03-18</td>\n",
       "      <td>2</td>\n",
       "      <td>25.0</td>\n",
       "      <td>5.0</td>\n",
       "      <td>29.0</td>\n",
       "      <td>3</td>\n",
       "      <td>False</td>\n",
       "      <td>...</td>\n",
       "      <td>NaN</td>\n",
       "      <td>0</td>\n",
       "      <td>Санкт-Петербург</td>\n",
       "      <td>27054.0</td>\n",
       "      <td>8033.0</td>\n",
       "      <td>1.0</td>\n",
       "      <td>540.0</td>\n",
       "      <td>0.0</td>\n",
       "      <td>NaN</td>\n",
       "      <td>12</td>\n",
       "    </tr>\n",
       "    <tr>\n",
       "      <th>20478</th>\n",
       "      <td>11</td>\n",
       "      <td>8000000.0</td>\n",
       "      <td>45.0</td>\n",
       "      <td>2017-07-18</td>\n",
       "      <td>1</td>\n",
       "      <td>27.0</td>\n",
       "      <td>4.0</td>\n",
       "      <td>22.0</td>\n",
       "      <td>2</td>\n",
       "      <td>False</td>\n",
       "      <td>...</td>\n",
       "      <td>10.0</td>\n",
       "      <td>1</td>\n",
       "      <td>Санкт-Петербург</td>\n",
       "      <td>18975.0</td>\n",
       "      <td>3246.0</td>\n",
       "      <td>0.0</td>\n",
       "      <td>NaN</td>\n",
       "      <td>3.0</td>\n",
       "      <td>449.0</td>\n",
       "      <td>429</td>\n",
       "    </tr>\n",
       "    <tr>\n",
       "      <th>20507</th>\n",
       "      <td>12</td>\n",
       "      <td>5950000.0</td>\n",
       "      <td>60.0</td>\n",
       "      <td>2018-02-19</td>\n",
       "      <td>2</td>\n",
       "      <td>22.6</td>\n",
       "      <td>14.0</td>\n",
       "      <td>35.0</td>\n",
       "      <td>11</td>\n",
       "      <td>False</td>\n",
       "      <td>...</td>\n",
       "      <td>13.0</td>\n",
       "      <td>1</td>\n",
       "      <td>Санкт-Петербург</td>\n",
       "      <td>27028.0</td>\n",
       "      <td>12570.0</td>\n",
       "      <td>0.0</td>\n",
       "      <td>NaN</td>\n",
       "      <td>0.0</td>\n",
       "      <td>NaN</td>\n",
       "      <td>40</td>\n",
       "    </tr>\n",
       "    <tr>\n",
       "      <th>21377</th>\n",
       "      <td>19</td>\n",
       "      <td>4900000.0</td>\n",
       "      <td>42.0</td>\n",
       "      <td>2017-04-18</td>\n",
       "      <td>1</td>\n",
       "      <td>27.5</td>\n",
       "      <td>24.0</td>\n",
       "      <td>37.7</td>\n",
       "      <td>19</td>\n",
       "      <td>False</td>\n",
       "      <td>...</td>\n",
       "      <td>11.0</td>\n",
       "      <td>2</td>\n",
       "      <td>Санкт-Петербург</td>\n",
       "      <td>42742.0</td>\n",
       "      <td>9760.0</td>\n",
       "      <td>0.0</td>\n",
       "      <td>NaN</td>\n",
       "      <td>0.0</td>\n",
       "      <td>NaN</td>\n",
       "      <td>61</td>\n",
       "    </tr>\n",
       "    <tr>\n",
       "      <th>21824</th>\n",
       "      <td>20</td>\n",
       "      <td>2450000.0</td>\n",
       "      <td>44.0</td>\n",
       "      <td>2019-02-12</td>\n",
       "      <td>2</td>\n",
       "      <td>27.0</td>\n",
       "      <td>2.0</td>\n",
       "      <td>38.0</td>\n",
       "      <td>2</td>\n",
       "      <td>False</td>\n",
       "      <td>...</td>\n",
       "      <td>8.6</td>\n",
       "      <td>2</td>\n",
       "      <td>городской поселок Большая Ижора</td>\n",
       "      <td>NaN</td>\n",
       "      <td>NaN</td>\n",
       "      <td>NaN</td>\n",
       "      <td>NaN</td>\n",
       "      <td>NaN</td>\n",
       "      <td>NaN</td>\n",
       "      <td>-1</td>\n",
       "    </tr>\n",
       "    <tr>\n",
       "      <th>22309</th>\n",
       "      <td>20</td>\n",
       "      <td>5300000.0</td>\n",
       "      <td>45.0</td>\n",
       "      <td>2017-09-30</td>\n",
       "      <td>1</td>\n",
       "      <td>10.3</td>\n",
       "      <td>16.0</td>\n",
       "      <td>15.5</td>\n",
       "      <td>15</td>\n",
       "      <td>False</td>\n",
       "      <td>...</td>\n",
       "      <td>NaN</td>\n",
       "      <td>0</td>\n",
       "      <td>Санкт-Петербург</td>\n",
       "      <td>36353.0</td>\n",
       "      <td>11936.0</td>\n",
       "      <td>2.0</td>\n",
       "      <td>440.0</td>\n",
       "      <td>2.0</td>\n",
       "      <td>450.0</td>\n",
       "      <td>136</td>\n",
       "    </tr>\n",
       "    <tr>\n",
       "      <th>22336</th>\n",
       "      <td>19</td>\n",
       "      <td>9999000.0</td>\n",
       "      <td>92.4</td>\n",
       "      <td>2019-04-05</td>\n",
       "      <td>2</td>\n",
       "      <td>32.0</td>\n",
       "      <td>6.0</td>\n",
       "      <td>55.5</td>\n",
       "      <td>5</td>\n",
       "      <td>False</td>\n",
       "      <td>...</td>\n",
       "      <td>16.5</td>\n",
       "      <td>4</td>\n",
       "      <td>Санкт-Петербург</td>\n",
       "      <td>18838.0</td>\n",
       "      <td>3506.0</td>\n",
       "      <td>0.0</td>\n",
       "      <td>NaN</td>\n",
       "      <td>3.0</td>\n",
       "      <td>511.0</td>\n",
       "      <td>-1</td>\n",
       "    </tr>\n",
       "    <tr>\n",
       "      <th>22869</th>\n",
       "      <td>0</td>\n",
       "      <td>15000000.0</td>\n",
       "      <td>25.0</td>\n",
       "      <td>2018-07-25</td>\n",
       "      <td>1</td>\n",
       "      <td>100.0</td>\n",
       "      <td>5.0</td>\n",
       "      <td>14.0</td>\n",
       "      <td>5</td>\n",
       "      <td>True</td>\n",
       "      <td>...</td>\n",
       "      <td>11.0</td>\n",
       "      <td>5</td>\n",
       "      <td>Санкт-Петербург</td>\n",
       "      <td>34963.0</td>\n",
       "      <td>8283.0</td>\n",
       "      <td>1.0</td>\n",
       "      <td>223.0</td>\n",
       "      <td>3.0</td>\n",
       "      <td>30.0</td>\n",
       "      <td>19</td>\n",
       "    </tr>\n",
       "    <tr>\n",
       "      <th>22938</th>\n",
       "      <td>14</td>\n",
       "      <td>4000000.0</td>\n",
       "      <td>98.0</td>\n",
       "      <td>2018-03-15</td>\n",
       "      <td>4</td>\n",
       "      <td>27.0</td>\n",
       "      <td>2.0</td>\n",
       "      <td>73.0</td>\n",
       "      <td>2</td>\n",
       "      <td>True</td>\n",
       "      <td>...</td>\n",
       "      <td>9.0</td>\n",
       "      <td>1</td>\n",
       "      <td>деревня Нижняя</td>\n",
       "      <td>NaN</td>\n",
       "      <td>NaN</td>\n",
       "      <td>NaN</td>\n",
       "      <td>NaN</td>\n",
       "      <td>NaN</td>\n",
       "      <td>NaN</td>\n",
       "      <td>27</td>\n",
       "    </tr>\n",
       "  </tbody>\n",
       "</table>\n",
       "<p>26 rows × 22 columns</p>\n",
       "</div>"
      ],
      "text/plain": [
       "       total_images  last_price  total_area first_day_exposition  rooms  \\\n",
       "355              17   3600000.0        55.2           2018-07-12      2   \n",
       "3148             14   2900000.0        75.0           2018-11-12      3   \n",
       "4643              0   4300000.0        45.0           2018-02-01      2   \n",
       "4876              7   3000000.0        25.0           2017-09-27      0   \n",
       "5076              0   3850000.0        30.5           2018-10-03      1   \n",
       "5246              0   2500000.0        54.0           2017-10-13      2   \n",
       "5669              4   4400000.0        50.0           2017-08-08      2   \n",
       "5807             17   8150000.0        80.0           2019-01-09      2   \n",
       "5863             20   5650000.0        45.0           2018-08-15      1   \n",
       "6246              6   3300000.0        44.4           2019-03-25      2   \n",
       "9379              5   3950000.0        42.0           2017-03-26      3   \n",
       "10773             8   3800000.0        58.0           2017-10-13      2   \n",
       "11285             0   1950000.0        37.0           2019-03-20      1   \n",
       "14382             9   1700000.0        35.0           2015-12-04      1   \n",
       "15061            19   5600000.0        56.4           2018-05-11      2   \n",
       "17496            15   6700000.0        92.9           2019-02-19      3   \n",
       "17857             1   3900000.0        56.0           2017-12-22      3   \n",
       "18545             6   3750000.0        43.0           2019-03-18      2   \n",
       "20478            11   8000000.0        45.0           2017-07-18      1   \n",
       "20507            12   5950000.0        60.0           2018-02-19      2   \n",
       "21377            19   4900000.0        42.0           2017-04-18      1   \n",
       "21824            20   2450000.0        44.0           2019-02-12      2   \n",
       "22309            20   5300000.0        45.0           2017-09-30      1   \n",
       "22336            19   9999000.0        92.4           2019-04-05      2   \n",
       "22869             0  15000000.0        25.0           2018-07-25      1   \n",
       "22938            14   4000000.0        98.0           2018-03-15      4   \n",
       "\n",
       "       ceiling_height  floors_total  living_area  floor  is_apartment  ...  \\\n",
       "355              25.0           5.0         32.0      2         False  ...   \n",
       "3148             32.0           3.0         53.0      2         False  ...   \n",
       "4643             25.0           9.0         30.0      2         False  ...   \n",
       "4876             27.0          25.0         17.0     17         False  ...   \n",
       "5076             24.0           5.0         19.5      1          True  ...   \n",
       "5246             27.0           5.0         30.0      3         False  ...   \n",
       "5669             26.0           9.0         21.3      3         False  ...   \n",
       "5807             27.0          36.0         41.0     13         False  ...   \n",
       "5863              8.3          16.0         19.3     14         False  ...   \n",
       "6246             25.0           5.0         31.3      5         False  ...   \n",
       "9379             25.0           5.0         30.0      2         False  ...   \n",
       "10773            27.0          10.0         30.1      3         False  ...   \n",
       "11285            25.0           5.0         17.0      4         False  ...   \n",
       "14382            25.0           5.0         20.0      2         False  ...   \n",
       "15061            14.0          14.0         32.4      5         False  ...   \n",
       "17496            20.0          17.0         53.2     14         False  ...   \n",
       "17857            27.0           5.0         33.0      4         False  ...   \n",
       "18545            25.0           5.0         29.0      3         False  ...   \n",
       "20478            27.0           4.0         22.0      2         False  ...   \n",
       "20507            22.6          14.0         35.0     11         False  ...   \n",
       "21377            27.5          24.0         37.7     19         False  ...   \n",
       "21824            27.0           2.0         38.0      2         False  ...   \n",
       "22309            10.3          16.0         15.5     15         False  ...   \n",
       "22336            32.0           6.0         55.5      5         False  ...   \n",
       "22869           100.0           5.0         14.0      5          True  ...   \n",
       "22938            27.0           2.0         73.0      2          True  ...   \n",
       "\n",
       "       kitchen_area  balcony                    locality_name  \\\n",
       "355             NaN        2                          Гатчина   \n",
       "3148            8.0        0                           Волхов   \n",
       "4643            7.0        1                  Санкт-Петербург   \n",
       "4876            NaN        2                   посёлок Мурино   \n",
       "5076            5.5        0                  Санкт-Петербург   \n",
       "5246            9.0        2                     деревня Мины   \n",
       "5669            7.0        2                  Санкт-Петербург   \n",
       "5807           12.0        5                  Санкт-Петербург   \n",
       "5863            8.3        1                  Санкт-Петербург   \n",
       "6246            5.7        0                        Кронштадт   \n",
       "9379            5.2        0                  Санкт-Петербург   \n",
       "10773           8.1        2                   посёлок Мурино   \n",
       "11285           9.0        2                             Луга   \n",
       "14382           8.0        1               поселок Новый Свет   \n",
       "15061           9.1        2                  Санкт-Петербург   \n",
       "17496          12.0        5                  Санкт-Петербург   \n",
       "17857           NaN        0                  Санкт-Петербург   \n",
       "18545           NaN        0                  Санкт-Петербург   \n",
       "20478          10.0        1                  Санкт-Петербург   \n",
       "20507          13.0        1                  Санкт-Петербург   \n",
       "21377          11.0        2                  Санкт-Петербург   \n",
       "21824           8.6        2  городской поселок Большая Ижора   \n",
       "22309           NaN        0                  Санкт-Петербург   \n",
       "22336          16.5        4                  Санкт-Петербург   \n",
       "22869          11.0        5                  Санкт-Петербург   \n",
       "22938           9.0        1                   деревня Нижняя   \n",
       "\n",
       "       airports_nearest city_сenters_nearest  parks_around_3000  \\\n",
       "355                 NaN                  NaN                NaN   \n",
       "3148                NaN                  NaN                NaN   \n",
       "4643            12016.0              13256.0                1.0   \n",
       "4876                NaN                  NaN                NaN   \n",
       "5076            29686.0               8389.0                3.0   \n",
       "5246                NaN                  NaN                NaN   \n",
       "5669            28981.0              10912.0                1.0   \n",
       "5807            18732.0              20444.0                0.0   \n",
       "5863            13069.0              10763.0                0.0   \n",
       "6246            68923.0              50649.0                1.0   \n",
       "9379            11647.0              13581.0                0.0   \n",
       "10773               NaN                  NaN                NaN   \n",
       "11285               NaN                  NaN                NaN   \n",
       "14382               NaN                  NaN                NaN   \n",
       "15061           14814.0              13610.0                0.0   \n",
       "17496           16295.0              15092.0                1.0   \n",
       "17857           41030.0              15543.0                0.0   \n",
       "18545           27054.0               8033.0                1.0   \n",
       "20478           18975.0               3246.0                0.0   \n",
       "20507           27028.0              12570.0                0.0   \n",
       "21377           42742.0               9760.0                0.0   \n",
       "21824               NaN                  NaN                NaN   \n",
       "22309           36353.0              11936.0                2.0   \n",
       "22336           18838.0               3506.0                0.0   \n",
       "22869           34963.0               8283.0                1.0   \n",
       "22938               NaN                  NaN                NaN   \n",
       "\n",
       "       parks_nearest  ponds_around_3000  ponds_nearest  days_exposition  \n",
       "355              NaN                NaN            NaN              259  \n",
       "3148             NaN                NaN            NaN               -1  \n",
       "4643           658.0                1.0          331.0              181  \n",
       "4876             NaN                NaN            NaN               28  \n",
       "5076           397.0                1.0          578.0                7  \n",
       "5246             NaN                NaN            NaN              540  \n",
       "5669           305.0                0.0            NaN              267  \n",
       "5807             NaN                3.0           80.0               38  \n",
       "5863             NaN                1.0          613.0               14  \n",
       "6246           417.0                2.0           73.0               -1  \n",
       "9379             NaN                0.0            NaN               -1  \n",
       "10773            NaN                NaN            NaN               71  \n",
       "11285            NaN                NaN            NaN               18  \n",
       "14382            NaN                NaN            NaN              206  \n",
       "15061            NaN                0.0            NaN              315  \n",
       "17496          967.0                0.0            NaN               -1  \n",
       "17857            NaN                0.0            NaN               73  \n",
       "18545          540.0                0.0            NaN               12  \n",
       "20478            NaN                3.0          449.0              429  \n",
       "20507            NaN                0.0            NaN               40  \n",
       "21377            NaN                0.0            NaN               61  \n",
       "21824            NaN                NaN            NaN               -1  \n",
       "22309          440.0                2.0          450.0              136  \n",
       "22336            NaN                3.0          511.0               -1  \n",
       "22869          223.0                3.0           30.0               19  \n",
       "22938            NaN                NaN            NaN               27  \n",
       "\n",
       "[26 rows x 22 columns]"
      ]
     },
     "execution_count": 29,
     "metadata": {},
     "output_type": "execute_result"
    }
   ],
   "source": [
    "data.query('ceiling_height > 8')"
   ]
  },
  {
   "cell_type": "markdown",
   "metadata": {},
   "source": [
    "Очевидно, потолок выше 20 метров это аномалия. Продавцы неверно заполнили данные и ошиблись в порядке (не там поставили десятичную точку). Разделим эти данные на 10. "
   ]
  },
  {
   "cell_type": "code",
   "execution_count": 30,
   "metadata": {},
   "outputs": [],
   "source": [
    "data.loc[(data['ceiling_height'] > 20), 'ceiling_height'] = data['ceiling_height']/10"
   ]
  },
  {
   "cell_type": "markdown",
   "metadata": {},
   "source": [
    "Пропущенным значениям и значениям выше 8 метров присвоим медиану. Проверим остались ли пропущенные данные."
   ]
  },
  {
   "cell_type": "code",
   "execution_count": 31,
   "metadata": {},
   "outputs": [
    {
     "data": {
      "text/plain": [
       "0"
      ]
     },
     "execution_count": 31,
     "metadata": {},
     "output_type": "execute_result"
    }
   ],
   "source": [
    "data.loc[(data['ceiling_height'] > 8), 'ceiling_height'] = data['ceiling_height'].median()\n",
    "data['ceiling_height'] = data['ceiling_height'].fillna(data['ceiling_height'].median())\n",
    "data['ceiling_height'].isna().sum()"
   ]
  },
  {
   "cell_type": "markdown",
   "metadata": {},
   "source": [
    "Пропуски в столбце kitchen_area заполним медианным значением в группах в зависимости от количества комнат. Проверим пропущенные данные."
   ]
  },
  {
   "cell_type": "code",
   "execution_count": 32,
   "metadata": {},
   "outputs": [
    {
     "data": {
      "text/plain": [
       "194"
      ]
     },
     "execution_count": 32,
     "metadata": {},
     "output_type": "execute_result"
    }
   ],
   "source": [
    "data['kitchen_area'] = data['kitchen_area'].fillna(data.groupby('rooms')['kitchen_area'].transform(func='median'))\n",
    "data['kitchen_area'].isna().sum()"
   ]
  },
  {
   "cell_type": "markdown",
   "metadata": {},
   "source": [
    "Проверим сколько комнат в квартирах в которых не заполнена площадь кухни. Возможно это студии, в которых отсутствует отдельная кухня. "
   ]
  },
  {
   "cell_type": "code",
   "execution_count": 33,
   "metadata": {},
   "outputs": [
    {
     "data": {
      "text/plain": [
       "rooms\n",
       "0    194\n",
       "Name: total_images, dtype: int64"
      ]
     },
     "execution_count": 33,
     "metadata": {},
     "output_type": "execute_result"
    }
   ],
   "source": [
    "data[data['kitchen_area'].isna()==True].groupby('rooms')['total_images'].count()"
   ]
  },
  {
   "cell_type": "markdown",
   "metadata": {},
   "source": [
    "Количество комнат ноль - значит студия. Заменим эти пропуски на 0."
   ]
  },
  {
   "cell_type": "code",
   "execution_count": 34,
   "metadata": {},
   "outputs": [],
   "source": [
    "data['kitchen_area'] = data['kitchen_area'].fillna(0)"
   ]
  },
  {
   "cell_type": "markdown",
   "metadata": {},
   "source": [
    "Пропуски в столбце living_area: проведем группировку данным по количеству комнат и определим долю жилой площади от общей площади в каждой группе.  "
   ]
  },
  {
   "cell_type": "code",
   "execution_count": 35,
   "metadata": {},
   "outputs": [
    {
     "data": {
      "text/html": [
       "<div>\n",
       "<style scoped>\n",
       "    .dataframe tbody tr th:only-of-type {\n",
       "        vertical-align: middle;\n",
       "    }\n",
       "\n",
       "    .dataframe tbody tr th {\n",
       "        vertical-align: top;\n",
       "    }\n",
       "\n",
       "    .dataframe thead th {\n",
       "        text-align: right;\n",
       "    }\n",
       "</style>\n",
       "<table border=\"1\" class=\"dataframe\">\n",
       "  <thead>\n",
       "    <tr style=\"text-align: right;\">\n",
       "      <th></th>\n",
       "      <th>Доля жилой площади</th>\n",
       "    </tr>\n",
       "    <tr>\n",
       "      <th>rooms</th>\n",
       "      <th></th>\n",
       "    </tr>\n",
       "  </thead>\n",
       "  <tbody>\n",
       "    <tr>\n",
       "      <th>0</th>\n",
       "      <td>0.690316</td>\n",
       "    </tr>\n",
       "    <tr>\n",
       "      <th>1</th>\n",
       "      <td>0.480874</td>\n",
       "    </tr>\n",
       "    <tr>\n",
       "      <th>2</th>\n",
       "      <td>0.575472</td>\n",
       "    </tr>\n",
       "    <tr>\n",
       "      <th>3</th>\n",
       "      <td>0.618132</td>\n",
       "    </tr>\n",
       "    <tr>\n",
       "      <th>4</th>\n",
       "      <td>0.640987</td>\n",
       "    </tr>\n",
       "  </tbody>\n",
       "</table>\n",
       "</div>"
      ],
      "text/plain": [
       "       Доля жилой площади\n",
       "rooms                    \n",
       "0                0.690316\n",
       "1                0.480874\n",
       "2                0.575472\n",
       "3                0.618132\n",
       "4                0.640987"
      ]
     },
     "execution_count": 35,
     "metadata": {},
     "output_type": "execute_result"
    }
   ],
   "source": [
    "living_area_percent = (pd.DataFrame(data.groupby('rooms')['living_area'].median()\n",
    "                                  /data.groupby('rooms')['total_area'].median()))\n",
    "living_area_percent.columns = ['Доля жилой площади']\n",
    "living_area_percent.head()"
   ]
  },
  {
   "cell_type": "markdown",
   "metadata": {},
   "source": [
    "Объединим полученную таблицу с основной."
   ]
  },
  {
   "cell_type": "code",
   "execution_count": 36,
   "metadata": {},
   "outputs": [],
   "source": [
    "data = data.merge(living_area_percent, on='rooms', how='left')"
   ]
  },
  {
   "cell_type": "markdown",
   "metadata": {},
   "source": [
    "Заполним пропуски значением общей площади умноженной на долю из новой таблицы с округлением до десятых."
   ]
  },
  {
   "cell_type": "code",
   "execution_count": 37,
   "metadata": {},
   "outputs": [],
   "source": [
    "data['living_area'] = data['living_area'].fillna(data['total_area']*data['Доля жилой площади']).round(1)"
   ]
  },
  {
   "cell_type": "markdown",
   "metadata": {},
   "source": [
    "Пропуски в колонках parks_around_3000 и ponds_around_3000 заменим на 0, эти параметры второстепенны. Если это нужно заполнить самому продавцу вручную - посчитать это непросто, даже если хорошо знаешь свой район. Плюс увеличится время заполнения объявления. Сайт объявлений, если посчитает нужным, может реализовать функционал автоматического заполнения этих столбцов.\n",
    "Изменим тип данных на целочисленный."
   ]
  },
  {
   "cell_type": "code",
   "execution_count": 38,
   "metadata": {},
   "outputs": [],
   "source": [
    "data[['parks_around_3000', 'ponds_around_3000']] = data[['parks_around_3000', 'ponds_around_3000']].fillna(0)\n",
    "data[['parks_around_3000', 'ponds_around_3000']] = data[['parks_around_3000', 'ponds_around_3000']].astype(int)"
   ]
  },
  {
   "cell_type": "markdown",
   "metadata": {},
   "source": [
    "Данные по расстоянию до водоема, парка, аэропорта, центра города оставим с пропусками. Причина аналогична: продавцу долго заполнять все второстепенные параметры, а сидеть с картой и замерять расстояние до всех этих точек будут точно не все пользователи. Проще реализовать автозаполнение (если оно целесообразно), чем добиваться ручного заполнения. Пропусков много, также в датасете много населенных пунктов, расположенных в области. Усредненные значения и медианы здесь не помогут - можем не угадать и в обьявлении появятся данные, которые не соответствуют действительности."
   ]
  },
  {
   "cell_type": "markdown",
   "metadata": {},
   "source": [
    "Перейдем к устранению оставшихся аномалий (все столбцы) в данных и неявным дубликатам (столбец с названием населенного пункта). "
   ]
  },
  {
   "cell_type": "markdown",
   "metadata": {},
   "source": [
    "Дополним датафрейм столбцом с видом населенного пункта, букву \"ё\" заменим на \"е\""
   ]
  },
  {
   "cell_type": "code",
   "execution_count": 39,
   "metadata": {},
   "outputs": [],
   "source": [
    "def type_locality(row):\n",
    "    if 'Санкт-Петербург' in row:\n",
    "        return 'город'\n",
    "    if 'поселок' or 'посёлок' in row:\n",
    "        return 'поселок'\n",
    "    elif 'село' in row:\n",
    "        return 'село'\n",
    "    elif 'деревня' in row:\n",
    "        return 'деревня'\n",
    "    elif 'товарищество' in row:\n",
    "        return 'товарищество'\n",
    "    else:\n",
    "        return 'город'\n",
    "data = data.apply(lambda x: x.replace({'ё':'е'}, regex=True))    \n",
    "data['type_locality'] = data['locality_name'].apply(type_locality)"
   ]
  },
  {
   "cell_type": "markdown",
   "metadata": {},
   "source": [
    "Преобразуем столбец locality_name и оставим только название населенного пункта. Проверим дубликаты."
   ]
  },
  {
   "cell_type": "code",
   "execution_count": 40,
   "metadata": {},
   "outputs": [
    {
     "data": {
      "text/plain": [
       "0"
      ]
     },
     "execution_count": 40,
     "metadata": {},
     "output_type": "execute_result"
    }
   ],
   "source": [
    "data = data.apply(lambda x: x.replace({'поселок при железнодорожной станции ':''}, regex=True))\n",
    "data = data.apply(lambda x: x.replace({'поселок городского типа имени ':''}, regex=True))\n",
    "data = data.apply(lambda x: x.replace({'поселок городского типа ':''}, regex=True))\n",
    "data = data.apply(lambda x: x.replace({'городской поселок ':''}, regex=True))\n",
    "data = data.apply(lambda x: x.replace({'поселок при железнодорожной станции ':''}, regex=True))\n",
    "data = data.apply(lambda x: x.replace({'коттеджный поселок ':''}, regex=True))\n",
    "data = data.apply(lambda x: x.replace({'поселок станции ':''}, regex=True))\n",
    "data = data.apply(lambda x: x.replace({'поселок ':''}, regex=True))\n",
    "data = data.apply(lambda x: x.replace({'село ':''}, regex=True))\n",
    "data = data.apply(lambda x: x.replace({'деревня ':''}, regex=True))\n",
    "data = data.apply(lambda x: x.replace({'садовое товарищество ':''}, regex=True))\n",
    "data = data.apply(lambda x: x.replace({'садоводческое некоммерческое товарищество ':''}, regex=True))\n",
    "data = data.apply(lambda x: x.replace({'садовое товарищество ':''}, regex=True))\n",
    "\n",
    "data.duplicated().sum()"
   ]
  },
  {
   "cell_type": "markdown",
   "metadata": {},
   "source": [
    "Проверим столбцы last_price на предмет аномальных данных."
   ]
  },
  {
   "cell_type": "code",
   "execution_count": 41,
   "metadata": {},
   "outputs": [
    {
     "data": {
      "text/plain": [
       "count    2.356500e+04\n",
       "mean     6.540058e+06\n",
       "std      1.091093e+07\n",
       "min      1.219000e+04\n",
       "25%      3.400000e+06\n",
       "50%      4.646000e+06\n",
       "75%      6.790000e+06\n",
       "max      7.630000e+08\n",
       "Name: last_price, dtype: float64"
      ]
     },
     "execution_count": 41,
     "metadata": {},
     "output_type": "execute_result"
    }
   ],
   "source": [
    "data['last_price'].describe()"
   ]
  },
  {
   "cell_type": "markdown",
   "metadata": {},
   "source": [
    "Вызывают вопросы минимум и максимум. Изучим эти строки."
   ]
  },
  {
   "cell_type": "code",
   "execution_count": 42,
   "metadata": {},
   "outputs": [
    {
     "data": {
      "text/html": [
       "<div>\n",
       "<style scoped>\n",
       "    .dataframe tbody tr th:only-of-type {\n",
       "        vertical-align: middle;\n",
       "    }\n",
       "\n",
       "    .dataframe tbody tr th {\n",
       "        vertical-align: top;\n",
       "    }\n",
       "\n",
       "    .dataframe thead th {\n",
       "        text-align: right;\n",
       "    }\n",
       "</style>\n",
       "<table border=\"1\" class=\"dataframe\">\n",
       "  <thead>\n",
       "    <tr style=\"text-align: right;\">\n",
       "      <th></th>\n",
       "      <th>total_images</th>\n",
       "      <th>last_price</th>\n",
       "      <th>total_area</th>\n",
       "      <th>first_day_exposition</th>\n",
       "      <th>rooms</th>\n",
       "      <th>ceiling_height</th>\n",
       "      <th>floors_total</th>\n",
       "      <th>living_area</th>\n",
       "      <th>floor</th>\n",
       "      <th>is_apartment</th>\n",
       "      <th>...</th>\n",
       "      <th>locality_name</th>\n",
       "      <th>airports_nearest</th>\n",
       "      <th>city_сenters_nearest</th>\n",
       "      <th>parks_around_3000</th>\n",
       "      <th>parks_nearest</th>\n",
       "      <th>ponds_around_3000</th>\n",
       "      <th>ponds_nearest</th>\n",
       "      <th>days_exposition</th>\n",
       "      <th>Доля жилой площади</th>\n",
       "      <th>type_locality</th>\n",
       "    </tr>\n",
       "  </thead>\n",
       "  <tbody>\n",
       "    <tr>\n",
       "      <th>8750</th>\n",
       "      <td>7</td>\n",
       "      <td>12190.0</td>\n",
       "      <td>109.0</td>\n",
       "      <td>2019-03-20</td>\n",
       "      <td>2</td>\n",
       "      <td>2.75</td>\n",
       "      <td>25.0</td>\n",
       "      <td>32.0</td>\n",
       "      <td>25</td>\n",
       "      <td>False</td>\n",
       "      <td>...</td>\n",
       "      <td>Санкт-Петербург</td>\n",
       "      <td>36421.0</td>\n",
       "      <td>9176.0</td>\n",
       "      <td>1</td>\n",
       "      <td>805.0</td>\n",
       "      <td>0</td>\n",
       "      <td>NaN</td>\n",
       "      <td>8</td>\n",
       "      <td>0.575472</td>\n",
       "      <td>город</td>\n",
       "    </tr>\n",
       "  </tbody>\n",
       "</table>\n",
       "<p>1 rows × 24 columns</p>\n",
       "</div>"
      ],
      "text/plain": [
       "      total_images  last_price  total_area first_day_exposition  rooms  \\\n",
       "8750             7     12190.0       109.0           2019-03-20      2   \n",
       "\n",
       "      ceiling_height  floors_total  living_area  floor  is_apartment  ...  \\\n",
       "8750            2.75          25.0         32.0     25         False  ...   \n",
       "\n",
       "        locality_name  airports_nearest  city_сenters_nearest  \\\n",
       "8750  Санкт-Петербург           36421.0                9176.0   \n",
       "\n",
       "      parks_around_3000 parks_nearest  ponds_around_3000  ponds_nearest  \\\n",
       "8750                  1         805.0                  0            NaN   \n",
       "\n",
       "      days_exposition  Доля жилой площади  type_locality  \n",
       "8750                8            0.575472          город  \n",
       "\n",
       "[1 rows x 24 columns]"
      ]
     },
     "execution_count": 42,
     "metadata": {},
     "output_type": "execute_result"
    }
   ],
   "source": [
    "data.query('last_price<13000')"
   ]
  },
  {
   "cell_type": "markdown",
   "metadata": {},
   "source": [
    "Здесь явно ошибка, и имелось в виду 12 млн. Квартира в новостройке площадью 109 метров столько примерно столько."
   ]
  },
  {
   "cell_type": "code",
   "execution_count": 43,
   "metadata": {},
   "outputs": [],
   "source": [
    "data.loc[7599, 'last_price'] = data.loc[7599, 'last_price']*1000"
   ]
  },
  {
   "cell_type": "code",
   "execution_count": 44,
   "metadata": {},
   "outputs": [
    {
     "data": {
      "text/html": [
       "<div>\n",
       "<style scoped>\n",
       "    .dataframe tbody tr th:only-of-type {\n",
       "        vertical-align: middle;\n",
       "    }\n",
       "\n",
       "    .dataframe tbody tr th {\n",
       "        vertical-align: top;\n",
       "    }\n",
       "\n",
       "    .dataframe thead th {\n",
       "        text-align: right;\n",
       "    }\n",
       "</style>\n",
       "<table border=\"1\" class=\"dataframe\">\n",
       "  <thead>\n",
       "    <tr style=\"text-align: right;\">\n",
       "      <th></th>\n",
       "      <th>total_images</th>\n",
       "      <th>last_price</th>\n",
       "      <th>total_area</th>\n",
       "      <th>first_day_exposition</th>\n",
       "      <th>rooms</th>\n",
       "      <th>ceiling_height</th>\n",
       "      <th>floors_total</th>\n",
       "      <th>living_area</th>\n",
       "      <th>floor</th>\n",
       "      <th>is_apartment</th>\n",
       "      <th>...</th>\n",
       "      <th>locality_name</th>\n",
       "      <th>airports_nearest</th>\n",
       "      <th>city_сenters_nearest</th>\n",
       "      <th>parks_around_3000</th>\n",
       "      <th>parks_nearest</th>\n",
       "      <th>ponds_around_3000</th>\n",
       "      <th>ponds_nearest</th>\n",
       "      <th>days_exposition</th>\n",
       "      <th>Доля жилой площади</th>\n",
       "      <th>type_locality</th>\n",
       "    </tr>\n",
       "  </thead>\n",
       "  <tbody>\n",
       "    <tr>\n",
       "      <th>7599</th>\n",
       "      <td>15</td>\n",
       "      <td>5.350000e+09</td>\n",
       "      <td>77.0</td>\n",
       "      <td>2017-11-19</td>\n",
       "      <td>3</td>\n",
       "      <td>2.65</td>\n",
       "      <td>6.0</td>\n",
       "      <td>46.0</td>\n",
       "      <td>6</td>\n",
       "      <td>False</td>\n",
       "      <td>...</td>\n",
       "      <td>Гатчина</td>\n",
       "      <td>NaN</td>\n",
       "      <td>NaN</td>\n",
       "      <td>0</td>\n",
       "      <td>NaN</td>\n",
       "      <td>0</td>\n",
       "      <td>NaN</td>\n",
       "      <td>60</td>\n",
       "      <td>0.618132</td>\n",
       "      <td>поселок</td>\n",
       "    </tr>\n",
       "    <tr>\n",
       "      <th>12897</th>\n",
       "      <td>19</td>\n",
       "      <td>7.630000e+08</td>\n",
       "      <td>400.0</td>\n",
       "      <td>2017-09-30</td>\n",
       "      <td>7</td>\n",
       "      <td>2.65</td>\n",
       "      <td>10.0</td>\n",
       "      <td>250.0</td>\n",
       "      <td>10</td>\n",
       "      <td>False</td>\n",
       "      <td>...</td>\n",
       "      <td>Санкт-Петербург</td>\n",
       "      <td>25108.0</td>\n",
       "      <td>3956.0</td>\n",
       "      <td>1</td>\n",
       "      <td>530.0</td>\n",
       "      <td>3</td>\n",
       "      <td>756.0</td>\n",
       "      <td>33</td>\n",
       "      <td>0.677570</td>\n",
       "      <td>город</td>\n",
       "    </tr>\n",
       "  </tbody>\n",
       "</table>\n",
       "<p>2 rows × 24 columns</p>\n",
       "</div>"
      ],
      "text/plain": [
       "       total_images    last_price  total_area first_day_exposition  rooms  \\\n",
       "7599             15  5.350000e+09        77.0           2017-11-19      3   \n",
       "12897            19  7.630000e+08       400.0           2017-09-30      7   \n",
       "\n",
       "       ceiling_height  floors_total  living_area  floor  is_apartment  ...  \\\n",
       "7599             2.65           6.0         46.0      6         False  ...   \n",
       "12897            2.65          10.0        250.0     10         False  ...   \n",
       "\n",
       "         locality_name  airports_nearest  city_сenters_nearest  \\\n",
       "7599           Гатчина               NaN                   NaN   \n",
       "12897  Санкт-Петербург           25108.0                3956.0   \n",
       "\n",
       "       parks_around_3000 parks_nearest  ponds_around_3000  ponds_nearest  \\\n",
       "7599                   0           NaN                  0            NaN   \n",
       "12897                  1         530.0                  3          756.0   \n",
       "\n",
       "       days_exposition  Доля жилой площади  type_locality  \n",
       "7599                60            0.618132        поселок  \n",
       "12897               33            0.677570          город  \n",
       "\n",
       "[2 rows x 24 columns]"
      ]
     },
     "execution_count": 44,
     "metadata": {},
     "output_type": "execute_result"
    }
   ],
   "source": [
    "data.query('last_price>762000000')"
   ]
  },
  {
   "cell_type": "markdown",
   "metadata": {},
   "source": [
    "Это значение похоже на правду - элитное жилье."
   ]
  },
  {
   "cell_type": "markdown",
   "metadata": {},
   "source": [
    "Вывод:\n",
    "\n",
    "При предварительной обработке данных были внесены следующие изменения: \n",
    "- названия столбцов приведены к единому стилю\n",
    "- удалены или заменены пропущенные значения в различных столбцах датасета, часть пропусков осталась неизменной (ввиду отсутствия логичной замены)\n",
    "- исследованы типы данных значений столбцов, в некоторых столбцах тип данных был преобразован на более подходящий\n",
    "- устранены неявные дубликаты в столбце с названием населенного пункта\n",
    "- изменены редкие и выбивающиеся значения в некоторых столбцах\n"
   ]
  },
  {
   "cell_type": "markdown",
   "metadata": {},
   "source": [
    "### Посчитайте и добавьте в таблицу новые столбцы"
   ]
  },
  {
   "cell_type": "code",
   "execution_count": 45,
   "metadata": {},
   "outputs": [],
   "source": [
    "# цена за 1 квадратный метр\n",
    "data['1m2_price'] = data['last_price'] / data['total_area']"
   ]
  },
  {
   "cell_type": "code",
   "execution_count": 46,
   "metadata": {},
   "outputs": [],
   "source": [
    "# день недели, месяц и год публикации объявления\n",
    "data['weekday'] = data['first_day_exposition'].dt.weekday\n",
    "data['month'] = data['first_day_exposition'].dt.month\n",
    "data['year'] = data['first_day_exposition'].dt.year"
   ]
  },
  {
   "cell_type": "code",
   "execution_count": 47,
   "metadata": {},
   "outputs": [
    {
     "data": {
      "text/html": [
       "<div>\n",
       "<style scoped>\n",
       "    .dataframe tbody tr th:only-of-type {\n",
       "        vertical-align: middle;\n",
       "    }\n",
       "\n",
       "    .dataframe tbody tr th {\n",
       "        vertical-align: top;\n",
       "    }\n",
       "\n",
       "    .dataframe thead th {\n",
       "        text-align: right;\n",
       "    }\n",
       "</style>\n",
       "<table border=\"1\" class=\"dataframe\">\n",
       "  <thead>\n",
       "    <tr style=\"text-align: right;\">\n",
       "      <th></th>\n",
       "      <th>total_images</th>\n",
       "      <th>last_price</th>\n",
       "      <th>total_area</th>\n",
       "      <th>first_day_exposition</th>\n",
       "      <th>rooms</th>\n",
       "      <th>ceiling_height</th>\n",
       "      <th>floors_total</th>\n",
       "      <th>living_area</th>\n",
       "      <th>floor</th>\n",
       "      <th>is_apartment</th>\n",
       "      <th>...</th>\n",
       "      <th>ponds_around_3000</th>\n",
       "      <th>ponds_nearest</th>\n",
       "      <th>days_exposition</th>\n",
       "      <th>Доля жилой площади</th>\n",
       "      <th>type_locality</th>\n",
       "      <th>1m2_price</th>\n",
       "      <th>weekday</th>\n",
       "      <th>month</th>\n",
       "      <th>year</th>\n",
       "      <th>floor_type</th>\n",
       "    </tr>\n",
       "  </thead>\n",
       "  <tbody>\n",
       "    <tr>\n",
       "      <th>0</th>\n",
       "      <td>20</td>\n",
       "      <td>13000000.0</td>\n",
       "      <td>108.0</td>\n",
       "      <td>2019-03-07</td>\n",
       "      <td>3</td>\n",
       "      <td>2.70</td>\n",
       "      <td>16.0</td>\n",
       "      <td>51.0</td>\n",
       "      <td>8</td>\n",
       "      <td>False</td>\n",
       "      <td>...</td>\n",
       "      <td>2</td>\n",
       "      <td>755.0</td>\n",
       "      <td>-1</td>\n",
       "      <td>0.618132</td>\n",
       "      <td>город</td>\n",
       "      <td>120370.370370</td>\n",
       "      <td>3</td>\n",
       "      <td>3</td>\n",
       "      <td>2019</td>\n",
       "      <td>другой</td>\n",
       "    </tr>\n",
       "    <tr>\n",
       "      <th>1</th>\n",
       "      <td>7</td>\n",
       "      <td>3350000.0</td>\n",
       "      <td>40.4</td>\n",
       "      <td>2018-12-04</td>\n",
       "      <td>1</td>\n",
       "      <td>2.65</td>\n",
       "      <td>11.0</td>\n",
       "      <td>18.6</td>\n",
       "      <td>1</td>\n",
       "      <td>False</td>\n",
       "      <td>...</td>\n",
       "      <td>0</td>\n",
       "      <td>NaN</td>\n",
       "      <td>81</td>\n",
       "      <td>0.480874</td>\n",
       "      <td>поселок</td>\n",
       "      <td>82920.792079</td>\n",
       "      <td>1</td>\n",
       "      <td>12</td>\n",
       "      <td>2018</td>\n",
       "      <td>первый</td>\n",
       "    </tr>\n",
       "    <tr>\n",
       "      <th>2</th>\n",
       "      <td>10</td>\n",
       "      <td>5196000.0</td>\n",
       "      <td>56.0</td>\n",
       "      <td>2015-08-20</td>\n",
       "      <td>2</td>\n",
       "      <td>2.65</td>\n",
       "      <td>5.0</td>\n",
       "      <td>34.3</td>\n",
       "      <td>4</td>\n",
       "      <td>False</td>\n",
       "      <td>...</td>\n",
       "      <td>2</td>\n",
       "      <td>574.0</td>\n",
       "      <td>558</td>\n",
       "      <td>0.575472</td>\n",
       "      <td>город</td>\n",
       "      <td>92785.714286</td>\n",
       "      <td>3</td>\n",
       "      <td>8</td>\n",
       "      <td>2015</td>\n",
       "      <td>другой</td>\n",
       "    </tr>\n",
       "    <tr>\n",
       "      <th>3</th>\n",
       "      <td>0</td>\n",
       "      <td>64900000.0</td>\n",
       "      <td>159.0</td>\n",
       "      <td>2015-07-24</td>\n",
       "      <td>3</td>\n",
       "      <td>2.65</td>\n",
       "      <td>14.0</td>\n",
       "      <td>98.3</td>\n",
       "      <td>9</td>\n",
       "      <td>False</td>\n",
       "      <td>...</td>\n",
       "      <td>3</td>\n",
       "      <td>234.0</td>\n",
       "      <td>424</td>\n",
       "      <td>0.618132</td>\n",
       "      <td>город</td>\n",
       "      <td>408176.100629</td>\n",
       "      <td>4</td>\n",
       "      <td>7</td>\n",
       "      <td>2015</td>\n",
       "      <td>другой</td>\n",
       "    </tr>\n",
       "    <tr>\n",
       "      <th>4</th>\n",
       "      <td>2</td>\n",
       "      <td>10000000.0</td>\n",
       "      <td>100.0</td>\n",
       "      <td>2018-06-19</td>\n",
       "      <td>2</td>\n",
       "      <td>3.03</td>\n",
       "      <td>14.0</td>\n",
       "      <td>32.0</td>\n",
       "      <td>13</td>\n",
       "      <td>False</td>\n",
       "      <td>...</td>\n",
       "      <td>1</td>\n",
       "      <td>48.0</td>\n",
       "      <td>121</td>\n",
       "      <td>0.575472</td>\n",
       "      <td>город</td>\n",
       "      <td>100000.000000</td>\n",
       "      <td>1</td>\n",
       "      <td>6</td>\n",
       "      <td>2018</td>\n",
       "      <td>другой</td>\n",
       "    </tr>\n",
       "  </tbody>\n",
       "</table>\n",
       "<p>5 rows × 29 columns</p>\n",
       "</div>"
      ],
      "text/plain": [
       "   total_images  last_price  total_area first_day_exposition  rooms  \\\n",
       "0            20  13000000.0       108.0           2019-03-07      3   \n",
       "1             7   3350000.0        40.4           2018-12-04      1   \n",
       "2            10   5196000.0        56.0           2015-08-20      2   \n",
       "3             0  64900000.0       159.0           2015-07-24      3   \n",
       "4             2  10000000.0       100.0           2018-06-19      2   \n",
       "\n",
       "   ceiling_height  floors_total  living_area  floor  is_apartment  ...  \\\n",
       "0            2.70          16.0         51.0      8         False  ...   \n",
       "1            2.65          11.0         18.6      1         False  ...   \n",
       "2            2.65           5.0         34.3      4         False  ...   \n",
       "3            2.65          14.0         98.3      9         False  ...   \n",
       "4            3.03          14.0         32.0     13         False  ...   \n",
       "\n",
       "   ponds_around_3000  ponds_nearest  days_exposition  Доля жилой площади  \\\n",
       "0                  2          755.0               -1            0.618132   \n",
       "1                  0            NaN               81            0.480874   \n",
       "2                  2          574.0              558            0.575472   \n",
       "3                  3          234.0              424            0.618132   \n",
       "4                  1           48.0              121            0.575472   \n",
       "\n",
       "  type_locality      1m2_price  weekday  month  year  floor_type  \n",
       "0         город  120370.370370        3      3  2019      другой  \n",
       "1       поселок   82920.792079        1     12  2018      первый  \n",
       "2         город   92785.714286        3      8  2015      другой  \n",
       "3         город  408176.100629        4      7  2015      другой  \n",
       "4         город  100000.000000        1      6  2018      другой  \n",
       "\n",
       "[5 rows x 29 columns]"
      ]
     },
     "execution_count": 47,
     "metadata": {},
     "output_type": "execute_result"
    }
   ],
   "source": [
    "# тип этажа квартиры\n",
    "def floor_category(number):\n",
    "    floor = number['floor']\n",
    "    floors_total = number['floors_total']\n",
    "    if floor == 1:\n",
    "        return 'первый'\n",
    "    elif floor == floors_total:\n",
    "        return 'последний'\n",
    "    else:\n",
    "        return 'другой'\n",
    "\n",
    "data['floor_type'] = data.apply(floor_category, axis=1)\n",
    "data.head()"
   ]
  },
  {
   "cell_type": "code",
   "execution_count": 48,
   "metadata": {},
   "outputs": [],
   "source": [
    "# расстояние до центра в км\n",
    "data['km_to_city_center']=data['city_сenters_nearest']/1000"
   ]
  },
  {
   "cell_type": "markdown",
   "metadata": {},
   "source": [
    "В новом столбце нужно убрать пропуски, чтобы изменить тип на целочисленный. Заполним произвольным значением -1"
   ]
  },
  {
   "cell_type": "code",
   "execution_count": 49,
   "metadata": {},
   "outputs": [],
   "source": [
    "data['km_to_city_center']=data['km_to_city_center'].fillna(-1)\n",
    "data['km_to_city_center']=data['km_to_city_center'].astype('int')"
   ]
  },
  {
   "cell_type": "markdown",
   "metadata": {},
   "source": [
    "Вывод: Столбцы добавлены."
   ]
  },
  {
   "cell_type": "markdown",
   "metadata": {},
   "source": [
    "### Проведите исследовательский анализ данных"
   ]
  },
  {
   "cell_type": "markdown",
   "metadata": {},
   "source": [
    "Исследуем характеристики площади в нашем обработанном датафрейме: общей, жилой и кухонной."
   ]
  },
  {
   "cell_type": "code",
   "execution_count": 50,
   "metadata": {},
   "outputs": [
    {
     "data": {
      "text/plain": [
       "count    23565.000000\n",
       "mean        60.322824\n",
       "std         35.657060\n",
       "min         12.000000\n",
       "25%         40.000000\n",
       "50%         52.000000\n",
       "75%         69.700000\n",
       "max        900.000000\n",
       "Name: total_area, dtype: float64"
      ]
     },
     "execution_count": 50,
     "metadata": {},
     "output_type": "execute_result"
    }
   ],
   "source": [
    "data['total_area'].describe()"
   ]
  },
  {
   "cell_type": "code",
   "execution_count": 51,
   "metadata": {},
   "outputs": [
    {
     "data": {
      "text/plain": [
       "Text(0.5, 0, 'Площадь')"
      ]
     },
     "execution_count": 51,
     "metadata": {},
     "output_type": "execute_result"
    },
    {
     "data": {
      "image/png": "[encoded data removed]",
      "text/plain": [
       "<Figure size 1008x432 with 1 Axes>"
      ]
     },
     "metadata": {
      "needs_background": "light"
     },
     "output_type": "display_data"
    }
   ],
   "source": [
    "data['total_area'].hist(bins=100,legend=True,figsize=(14, 6))\n",
    "plt.title(\"Распределение квартир по площади\")\n",
    "plt.ylabel(\"Количество\")\n",
    "plt.xlabel(\"Площадь\")"
   ]
  },
  {
   "cell_type": "markdown",
   "metadata": {},
   "source": [
    "Основная масса квартир приходится на площадь до 100 м. От 100 до 200 м² - значения имеют уже другой порядок, но различимы визуально на гистограмме. После 200 м² - практически сливаются с осью x. \n",
    "Среднее значение и медиана отличаются незначительно. В статистике представлены квартиры от 12 до 900 м². Самое большое число объявлений - квартиры площадью 40-45 м². "
   ]
  },
  {
   "cell_type": "code",
   "execution_count": 52,
   "metadata": {},
   "outputs": [
    {
     "data": {
      "text/plain": [
       "count    23565.000000\n",
       "mean        34.637102\n",
       "std         22.770791\n",
       "min          2.000000\n",
       "25%         18.700000\n",
       "50%         30.000000\n",
       "75%         42.300000\n",
       "max        427.500000\n",
       "Name: living_area, dtype: float64"
      ]
     },
     "execution_count": 52,
     "metadata": {},
     "output_type": "execute_result"
    }
   ],
   "source": [
    "data['living_area'].describe()"
   ]
  },
  {
   "cell_type": "code",
   "execution_count": 53,
   "metadata": {},
   "outputs": [
    {
     "data": {
      "text/plain": [
       "Text(0.5, 0, 'Жил.площадь')"
      ]
     },
     "execution_count": 53,
     "metadata": {},
     "output_type": "execute_result"
    },
    {
     "data": {
      "image/png": "[encoded data removed]",
      "text/plain": [
       "<Figure size 1008x432 with 1 Axes>"
      ]
     },
     "metadata": {
      "needs_background": "light"
     },
     "output_type": "display_data"
    }
   ],
   "source": [
    "data['living_area'].hist(bins=100,legend=True,figsize=(14, 6))\n",
    "plt.title(\"Распределение квартир по площади\")\n",
    "plt.ylabel(\"Количество\")\n",
    "plt.xlabel(\"Жил.площадь\")"
   ]
  },
  {
   "cell_type": "markdown",
   "metadata": {},
   "source": [
    "Внешне гистограммы и таблицы похожи - логично предположить взаимосвязь между общей площадью и жилой. Отличие в том, что явных экстремума два, а не один. Возможно, здесь есть искажения из-за объявлений на квартиры-студии. "
   ]
  },
  {
   "cell_type": "code",
   "execution_count": 54,
   "metadata": {},
   "outputs": [
    {
     "data": {
      "text/plain": [
       "count    23565.000000\n",
       "mean        10.368305\n",
       "std          5.721133\n",
       "min          0.000000\n",
       "25%          7.200000\n",
       "50%          9.000000\n",
       "75%         11.500000\n",
       "max        112.000000\n",
       "Name: kitchen_area, dtype: float64"
      ]
     },
     "execution_count": 54,
     "metadata": {},
     "output_type": "execute_result"
    }
   ],
   "source": [
    "data['kitchen_area'].describe()"
   ]
  },
  {
   "cell_type": "code",
   "execution_count": 55,
   "metadata": {},
   "outputs": [
    {
     "data": {
      "text/plain": [
       "Text(0.5, 0, 'Площадь кухни')"
      ]
     },
     "execution_count": 55,
     "metadata": {},
     "output_type": "execute_result"
    },
    {
     "data": {
      "image/png": "[encoded data removed]",
      "text/plain": [
       "<Figure size 1008x432 with 1 Axes>"
      ]
     },
     "metadata": {
      "needs_background": "light"
     },
     "output_type": "display_data"
    }
   ],
   "source": [
    "data['kitchen_area'].hist(bins=100,legend=True,figsize=(14, 6))\n",
    "plt.title(\"Распределение квартир по площади кухни\")\n",
    "plt.ylabel(\"Количество\")\n",
    "plt.xlabel(\"Площадь кухни\")"
   ]
  },
  {
   "cell_type": "markdown",
   "metadata": {},
   "source": [
    "По данной гистограмме также есть явное сходство. Экстремумы и спад к нулевой оси с увеличением метража. Отличие есть - доля объявлений с нулевой площадью кухни (квартиры студии). "
   ]
  },
  {
   "cell_type": "markdown",
   "metadata": {},
   "source": [
    "Проанализируем столбец с ценой объекта. "
   ]
  },
  {
   "cell_type": "code",
   "execution_count": 56,
   "metadata": {},
   "outputs": [
    {
     "data": {
      "text/plain": [
       "count    2.356500e+04\n",
       "mean     6.766863e+06\n",
       "std      3.647876e+07\n",
       "min      1.219000e+04\n",
       "25%      3.400000e+06\n",
       "50%      4.646000e+06\n",
       "75%      6.790000e+06\n",
       "max      5.350000e+09\n",
       "Name: last_price, dtype: float64"
      ]
     },
     "execution_count": 56,
     "metadata": {},
     "output_type": "execute_result"
    }
   ],
   "source": [
    "data['last_price'].describe()"
   ]
  },
  {
   "cell_type": "code",
   "execution_count": 57,
   "metadata": {},
   "outputs": [
    {
     "data": {
      "text/plain": [
       "Text(0.5, 0, 'Цена')"
      ]
     },
     "execution_count": 57,
     "metadata": {},
     "output_type": "execute_result"
    },
    {
     "data": {
      "image/png": "[encoded data removed]",
      "text/plain": [
       "<Figure size 1008x432 with 1 Axes>"
      ]
     },
     "metadata": {
      "needs_background": "light"
     },
     "output_type": "display_data"
    }
   ],
   "source": [
    "data['last_price'].hist(bins=100,legend=True,figsize=(14, 6))\n",
    "plt.title(\"Распределение квартир по цене\")\n",
    "plt.ylabel(\"Количество\")\n",
    "plt.xlabel(\"Цена\")"
   ]
  },
  {
   "cell_type": "markdown",
   "metadata": {},
   "source": [
    "График малоинформативен из-за большого разброса цен, значения отличаются на порядки. В одном датасете присутствуют продажи как жилья для \"среднего класса\", так и продажи элитного жилья. \n",
    "Построим отдельную гистограмму для объявлений с ценой до 10 млн."
   ]
  },
  {
   "cell_type": "code",
   "execution_count": 58,
   "metadata": {},
   "outputs": [
    {
     "data": {
      "text/plain": [
       "Text(0.5, 0, 'Цена 10 млн')"
      ]
     },
     "execution_count": 58,
     "metadata": {},
     "output_type": "execute_result"
    },
    {
     "data": {
      "image/png": "[encoded data removed]",
      "text/plain": [
       "<Figure size 1008x432 with 1 Axes>"
      ]
     },
     "metadata": {
      "needs_background": "light"
     },
     "output_type": "display_data"
    }
   ],
   "source": [
    "data.query('last_price < 10_000_000')['last_price'].hist(figsize=(14, 6))\n",
    "plt.title(\"Распределение цен на квартиры до 12 млн\")\n",
    "plt.ylabel(\"Количество\")\n",
    "plt.xlabel(\"Цена 10 млн\")"
   ]
  },
  {
   "cell_type": "markdown",
   "metadata": {},
   "source": [
    "Проверим наиболее часто встречающиеся значения."
   ]
  },
  {
   "cell_type": "code",
   "execution_count": 59,
   "metadata": {},
   "outputs": [
    {
     "data": {
      "text/plain": [
       "4500000.0    341\n",
       "3500000.0    289\n",
       "4300000.0    260\n",
       "4000000.0    260\n",
       "4200000.0    258\n",
       "3600000.0    256\n",
       "3300000.0    243\n",
       "3800000.0    240\n",
       "3200000.0    237\n",
       "3700000.0    233\n",
       "Name: last_price, dtype: int64"
      ]
     },
     "execution_count": 59,
     "metadata": {},
     "output_type": "execute_result"
    }
   ],
   "source": [
    "data['last_price'].value_counts().head(10)"
   ]
  },
  {
   "cell_type": "markdown",
   "metadata": {},
   "source": [
    "Наиболее часто встречающиеся цены на квартиры находятся в диапазоне 3 млн 200 тыс - 4 млн 500 тыс."
   ]
  },
  {
   "cell_type": "markdown",
   "metadata": {},
   "source": [
    "Рассмотрим последний из основных параметров - число комнат в квартире. Используем диаграмму размаха."
   ]
  },
  {
   "cell_type": "code",
   "execution_count": 60,
   "metadata": {},
   "outputs": [
    {
     "data": {
      "text/plain": [
       "count    23565.000000\n",
       "mean         2.070656\n",
       "std          1.078591\n",
       "min          0.000000\n",
       "25%          1.000000\n",
       "50%          2.000000\n",
       "75%          3.000000\n",
       "max         19.000000\n",
       "Name: rooms, dtype: float64"
      ]
     },
     "execution_count": 60,
     "metadata": {},
     "output_type": "execute_result"
    }
   ],
   "source": [
    "data['rooms'].describe()"
   ]
  },
  {
   "cell_type": "code",
   "execution_count": 61,
   "metadata": {},
   "outputs": [
    {
     "data": {
      "text/plain": [
       "Text(0, 0.5, 'Комнаты')"
      ]
     },
     "execution_count": 61,
     "metadata": {},
     "output_type": "execute_result"
    },
    {
     "data": {
      "image/png": "[encoded data removed]",
      "text/plain": [
       "<Figure size 1008x432 with 1 Axes>"
      ]
     },
     "metadata": {
      "needs_background": "light"
     },
     "output_type": "display_data"
    }
   ],
   "source": [
    "data.boxplot(column='rooms',figsize=(14,6))\n",
    "plt.title(\"Распределение по количеству комнат\")\n",
    "plt.ylabel(\"Комнаты\")"
   ]
  },
  {
   "cell_type": "markdown",
   "metadata": {},
   "source": [
    "Гистограмма подтверждает действительность, на которую большинство обычных людей ориентируется и без аналитики. Большинство квартир - от 1 до 3 комнат. Самые популярные - однушки. От 7 комнат - выбросы, жилье доступное единичным покупателям, а не основной массе."
   ]
  },
  {
   "cell_type": "markdown",
   "metadata": {},
   "source": [
    "Последовательно разберем второстепенные параметры объявлений: высота потолков, этаж квартиры, его тип и общее количество в доме, расстояния до центра, аэропорта и парка."
   ]
  },
  {
   "cell_type": "code",
   "execution_count": 62,
   "metadata": {},
   "outputs": [
    {
     "data": {
      "text/plain": [
       "Text(0, 0.5, 'Количество квартир')"
      ]
     },
     "execution_count": 62,
     "metadata": {},
     "output_type": "execute_result"
    },
    {
     "data": {
      "image/png": "[encoded data removed]",
      "text/plain": [
       "<Figure size 1008x432 with 1 Axes>"
      ]
     },
     "metadata": {
      "needs_background": "light"
     },
     "output_type": "display_data"
    }
   ],
   "source": [
    "data['ceiling_height'].hist(bins=7,figsize=(14,6))\n",
    "plt.title(\"Распределение по высоте потолков\")\n",
    "plt.xlabel(\"Потолок\")\n",
    "plt.ylabel(\"Количество квартир\")"
   ]
  },
  {
   "cell_type": "code",
   "execution_count": 63,
   "metadata": {},
   "outputs": [
    {
     "data": {
      "text/plain": [
       "2.65    9836\n",
       "2.50    3522\n",
       "2.60    1646\n",
       "2.70    1579\n",
       "3.00    1108\n",
       "2.80     988\n",
       "2.55     980\n",
       "2.75     907\n",
       "3.20     278\n",
       "3.10     203\n",
       "Name: ceiling_height, dtype: int64"
      ]
     },
     "execution_count": 63,
     "metadata": {},
     "output_type": "execute_result"
    }
   ],
   "source": [
    "data['ceiling_height'].value_counts().head(10)"
   ]
  },
  {
   "cell_type": "code",
   "execution_count": 64,
   "metadata": {},
   "outputs": [
    {
     "data": {
      "text/plain": [
       "Text(0, 0.5, 'Количество квартир')"
      ]
     },
     "execution_count": 64,
     "metadata": {},
     "output_type": "execute_result"
    },
    {
     "data": {
      "image/png": "[encoded data removed]",
      "text/plain": [
       "<Figure size 1008x432 with 1 Axes>"
      ]
     },
     "metadata": {
      "needs_background": "light"
     },
     "output_type": "display_data"
    }
   ],
   "source": [
    "#отмасштабируем гистограмму\n",
    "data.query('ceiling_height < 3.5')['ceiling_height'].hist(bins=7,figsize=(14,6))\n",
    "plt.title(\"Распределение по высоте потолков\")\n",
    "plt.xlabel(\"Потолок\")\n",
    "plt.ylabel(\"Количество квартир\")"
   ]
  },
  {
   "cell_type": "markdown",
   "metadata": {},
   "source": [
    "Наиболее частая высота потолка - 2.65 метров. Самое большое число объявлений в диапазоне 2.5 - 2.7 м."
   ]
  },
  {
   "cell_type": "code",
   "execution_count": 65,
   "metadata": {},
   "outputs": [
    {
     "data": {
      "text/plain": [
       "count    23565.000000\n",
       "mean         5.878124\n",
       "std          4.871485\n",
       "min          1.000000\n",
       "25%          2.000000\n",
       "50%          4.000000\n",
       "75%          8.000000\n",
       "max         33.000000\n",
       "Name: floor, dtype: float64"
      ]
     },
     "execution_count": 65,
     "metadata": {},
     "output_type": "execute_result"
    }
   ],
   "source": [
    "data['floor'].describe()"
   ]
  },
  {
   "cell_type": "code",
   "execution_count": 66,
   "metadata": {},
   "outputs": [
    {
     "data": {
      "text/plain": [
       "2     3351\n",
       "3     3061\n",
       "1     2909\n",
       "4     2793\n",
       "5     2612\n",
       "6     1293\n",
       "7     1211\n",
       "8     1075\n",
       "9     1045\n",
       "10     684\n",
       "Name: floor, dtype: int64"
      ]
     },
     "execution_count": 66,
     "metadata": {},
     "output_type": "execute_result"
    }
   ],
   "source": [
    "data['floor'].value_counts().head(10)"
   ]
  },
  {
   "cell_type": "code",
   "execution_count": 67,
   "metadata": {},
   "outputs": [
    {
     "data": {
      "text/plain": [
       "Text(0, 0.5, 'Этаж')"
      ]
     },
     "execution_count": 67,
     "metadata": {},
     "output_type": "execute_result"
    },
    {
     "data": {
      "image/png": "[encoded data removed]",
      "text/plain": [
       "<Figure size 1008x432 with 1 Axes>"
      ]
     },
     "metadata": {
      "needs_background": "light"
     },
     "output_type": "display_data"
    }
   ],
   "source": [
    "data.boxplot(column='floor',figsize=(14,6))\n",
    "plt.title(\"Распределение по этажу\")\n",
    "plt.ylabel(\"Этаж\")"
   ]
  },
  {
   "cell_type": "markdown",
   "metadata": {},
   "source": [
    "Окружающая нас действительность подтверждается и на этой гистограмме. Квартира, расположенная выше 17 этажа - явно элитное и дорогое (редкое) жилье. Находится скорее всего в небоскребе или элитном ЖК. \n",
    "Медиана - 4, среднее - 6, большинство окружающих нас типовых домов - 5-ти или 9-этажки, метод value_counts подтверждает относительно равномерное распределение объявлений с 1 по 5 этаж."
   ]
  },
  {
   "cell_type": "code",
   "execution_count": 68,
   "metadata": {},
   "outputs": [
    {
     "data": {
      "text/plain": [
       "floor_type\n",
       "другой       4848500.0\n",
       "первый       3900000.0\n",
       "последний    4300000.0\n",
       "Name: last_price, dtype: float64"
      ]
     },
     "execution_count": 68,
     "metadata": {},
     "output_type": "execute_result"
    }
   ],
   "source": [
    "data.groupby('floor_type')['last_price'].median()"
   ]
  },
  {
   "cell_type": "markdown",
   "metadata": {},
   "source": [
    "Группировка данных показывает нам, что на первом этаже - квартиры наименьшей стоимости. На последнем этаже - дороже. На промежуточных этажах - наибольшая стоимость квартир."
   ]
  },
  {
   "cell_type": "code",
   "execution_count": 69,
   "metadata": {},
   "outputs": [
    {
     "data": {
      "text/plain": [
       "Text(0.5, 0, 'Этажей в доме')"
      ]
     },
     "execution_count": 69,
     "metadata": {},
     "output_type": "execute_result"
    },
    {
     "data": {
      "image/png": "[encoded data removed]",
      "text/plain": [
       "<Figure size 1008x432 with 1 Axes>"
      ]
     },
     "metadata": {
      "needs_background": "light"
     },
     "output_type": "display_data"
    }
   ],
   "source": [
    "data['floors_total'].hist(bins=100,legend=True,figsize=(14, 6))\n",
    "plt.title(\"Распределение по общему количеству этаже в доме\")\n",
    "plt.ylabel(\"Количество\")\n",
    "plt.xlabel('Этажей в доме')"
   ]
  },
  {
   "cell_type": "markdown",
   "metadata": {},
   "source": [
    "И снова график подтверждает нам, что нас в основном окружают 5-ти и 9-ти этажные дома. В них - экстремумы на гистограмме. Также еще видны большие количества объявлений в 12-ти и 17-ти этажных домах, скорее всего, современные новостройки спальных районов."
   ]
  },
  {
   "cell_type": "code",
   "execution_count": 70,
   "metadata": {},
   "outputs": [
    {
     "data": {
      "text/plain": [
       "<AxesSubplot:>"
      ]
     },
     "execution_count": 70,
     "metadata": {},
     "output_type": "execute_result"
    },
    {
     "data": {
      "image/png": "[encoded data removed]",
      "text/plain": [
       "<Figure size 1008x432 with 1 Axes>"
      ]
     },
     "metadata": {
      "needs_background": "light"
     },
     "output_type": "display_data"
    }
   ],
   "source": [
    "data['city_сenters_nearest'].hist(bins=100,legend=True,figsize=(14, 6))"
   ]
  },
  {
   "cell_type": "code",
   "execution_count": 71,
   "metadata": {},
   "outputs": [
    {
     "data": {
      "text/plain": [
       "<AxesSubplot:>"
      ]
     },
     "execution_count": 71,
     "metadata": {},
     "output_type": "execute_result"
    },
    {
     "data": {
      "image/png": "[encoded data removed]",
      "text/plain": [
       "<Figure size 1008x432 with 1 Axes>"
      ]
     },
     "metadata": {
      "needs_background": "light"
     },
     "output_type": "display_data"
    }
   ],
   "source": [
    "data['airports_nearest'].hist(bins=100,legend=True,figsize=(14, 6))"
   ]
  },
  {
   "cell_type": "code",
   "execution_count": 72,
   "metadata": {},
   "outputs": [
    {
     "data": {
      "text/plain": [
       "<AxesSubplot:>"
      ]
     },
     "execution_count": 72,
     "metadata": {},
     "output_type": "execute_result"
    },
    {
     "data": {
      "image/png": "[encoded data removed]",
      "text/plain": [
       "<Figure size 1008x432 with 1 Axes>"
      ]
     },
     "metadata": {
      "needs_background": "light"
     },
     "output_type": "display_data"
    }
   ],
   "source": [
    "data['parks_nearest'].hist(bins=100,legend=True,figsize=(14, 6))\n"
   ]
  },
  {
   "cell_type": "markdown",
   "metadata": {},
   "source": [
    "Гистограммы по столбцам удаленности от центра, аэропорта или парка не информативны, так как не все продавцы заполнили информацию."
   ]
  },
  {
   "cell_type": "code",
   "execution_count": 73,
   "metadata": {},
   "outputs": [
    {
     "data": {
      "text/plain": [
       "Text(0.5, 0, 'День недели')"
      ]
     },
     "execution_count": 73,
     "metadata": {},
     "output_type": "execute_result"
    },
    {
     "data": {
      "image/png": "[encoded data removed]",
      "text/plain": [
       "<Figure size 1008x432 with 1 Axes>"
      ]
     },
     "metadata": {
      "needs_background": "light"
     },
     "output_type": "display_data"
    }
   ],
   "source": [
    "data['weekday'].hist(bins=100,legend=True,figsize=(14, 6))\n",
    "plt.title(\"Распределение по дням недели\")\n",
    "plt.ylabel(\"Количество\")\n",
    "plt.xlabel('День недели')"
   ]
  },
  {
   "cell_type": "markdown",
   "metadata": {},
   "source": [
    "По выходным объявлений размещено меньше, чем в будние дни. "
   ]
  },
  {
   "cell_type": "code",
   "execution_count": 74,
   "metadata": {},
   "outputs": [
    {
     "data": {
      "text/plain": [
       "Text(0.5, 0, 'День недели')"
      ]
     },
     "execution_count": 74,
     "metadata": {},
     "output_type": "execute_result"
    },
    {
     "data": {
      "image/png": "[encoded data removed]",
      "text/plain": [
       "<Figure size 1008x432 with 1 Axes>"
      ]
     },
     "metadata": {
      "needs_background": "light"
     },
     "output_type": "display_data"
    }
   ],
   "source": [
    "data['month'].hist(bins=100,legend=True,figsize=(14, 6))\n",
    "plt.title(\"Распределение по дням недели\")\n",
    "plt.ylabel(\"Количество\")\n",
    "plt.xlabel('День недели')"
   ]
  },
  {
   "cell_type": "markdown",
   "metadata": {},
   "source": [
    "Аутсайдеры по количеству объявлений - январь, май, декабрь. Январь и май - рекордсмены по количеству выходных, декабрь - у большинства людей подготовка к НГ. Соответственно, количество объявлений меньше."
   ]
  },
  {
   "cell_type": "markdown",
   "metadata": {},
   "source": [
    "Изучим, как быстро продавались квартиры (столбец days_exposition). "
   ]
  },
  {
   "cell_type": "code",
   "execution_count": 75,
   "metadata": {},
   "outputs": [
    {
     "data": {
      "text/plain": [
       "count    23565.000000\n",
       "mean       156.285551\n",
       "std        213.616127\n",
       "min         -1.000000\n",
       "25%         22.000000\n",
       "50%         73.000000\n",
       "75%        198.000000\n",
       "max       1580.000000\n",
       "Name: days_exposition, dtype: float64"
      ]
     },
     "execution_count": 75,
     "metadata": {},
     "output_type": "execute_result"
    }
   ],
   "source": [
    "data['days_exposition'].describe()"
   ]
  },
  {
   "cell_type": "markdown",
   "metadata": {},
   "source": [
    "Среднее значение почти в 2 раза больше медианы, и посмотрим на выбросы. Построим \"ящик с усами\"."
   ]
  },
  {
   "cell_type": "code",
   "execution_count": 76,
   "metadata": {},
   "outputs": [
    {
     "data": {
      "text/plain": [
       "Text(0, 0.5, 'Количество дней')"
      ]
     },
     "execution_count": 76,
     "metadata": {},
     "output_type": "execute_result"
    },
    {
     "data": {
      "image/png": "[encoded data removed]",
      "text/plain": [
       "<Figure size 432x288 with 1 Axes>"
      ]
     },
     "metadata": {
      "needs_background": "light"
     },
     "output_type": "display_data"
    }
   ],
   "source": [
    "data.boxplot(column='days_exposition')\n",
    "plt.title(\"Срок продажи\")\n",
    "plt.ylabel(\"Количество дней\")"
   ]
  },
  {
   "cell_type": "code",
   "execution_count": 77,
   "metadata": {},
   "outputs": [
    {
     "data": {
      "text/plain": [
       "Text(0, 0.5, 'Количество дней')"
      ]
     },
     "execution_count": 77,
     "metadata": {},
     "output_type": "execute_result"
    },
    {
     "data": {
      "image/png": "[encoded data removed]",
      "text/plain": [
       "<Figure size 432x288 with 1 Axes>"
      ]
     },
     "metadata": {
      "needs_background": "light"
     },
     "output_type": "display_data"
    }
   ],
   "source": [
    "data.boxplot(column='days_exposition')\n",
    "plt.ylim(44, 232)\n",
    "plt.title(\"Срок продажи\")\n",
    "plt.ylabel(\"Количество дней\")"
   ]
  },
  {
   "cell_type": "markdown",
   "metadata": {},
   "source": [
    "По графику видно, что выше 500 дней присутствуют выбросы. Построим гистограмму с фильтром по значениям меньше 500 дней"
   ]
  },
  {
   "cell_type": "code",
   "execution_count": 78,
   "metadata": {},
   "outputs": [
    {
     "data": {
      "text/plain": [
       "Text(0, 0.5, 'Количество квартир')"
      ]
     },
     "execution_count": 78,
     "metadata": {},
     "output_type": "execute_result"
    },
    {
     "data": {
      "image/png": "[encoded data removed]",
      "text/plain": [
       "<Figure size 1008x432 with 1 Axes>"
      ]
     },
     "metadata": {
      "needs_background": "light"
     },
     "output_type": "display_data"
    }
   ],
   "source": [
    "#отцепим от гистограммы заглушки - days_exposition=-1\n",
    "data.query('0 < days_exposition < 500')['days_exposition'].hist(bins=50,figsize=(14,6))\n",
    "plt.title(\"Срок продажи до 500 дней\")\n",
    "plt.xlabel(\"Количество дней\")\n",
    "plt.ylabel(\"Количество квартир\")"
   ]
  },
  {
   "cell_type": "code",
   "execution_count": 79,
   "metadata": {},
   "outputs": [
    {
     "data": {
      "text/plain": [
       "count    21823.000000\n",
       "mean       108.321496\n",
       "std        118.977160\n",
       "min         -1.000000\n",
       "25%         19.000000\n",
       "50%         62.000000\n",
       "75%        159.000000\n",
       "max        499.000000\n",
       "Name: days_exposition, dtype: float64"
      ]
     },
     "execution_count": 79,
     "metadata": {},
     "output_type": "execute_result"
    }
   ],
   "source": [
    "data.query('days_exposition < 500')['days_exposition'].describe()"
   ]
  },
  {
   "cell_type": "markdown",
   "metadata": {},
   "source": [
    "В датасете представлены квартиры c большим разбросом по сроку продажи. Минимальный срок продажи - 1 день. Максимальный - более 4 лет. Если исключить выбросы - медиана снижается на треть. На гистограмме видно, что самый распространеный срок продажи - 45 дней. Период продажи от 44 до 181 дней считается нормой. До 44 дней - очень быстрым, а более 181 дней - долгим. "
   ]
  },
  {
   "cell_type": "markdown",
   "metadata": {},
   "source": [
    "Зависимость цены от других параметров проверим с помощью тепловой карты."
   ]
  },
  {
   "cell_type": "markdown",
   "metadata": {},
   "source": [
    "Построим диаграмму рассеяния и посчитает коэффициент корреляции цены с общей площади."
   ]
  },
  {
   "cell_type": "code",
   "execution_count": 81,
   "metadata": {},
   "outputs": [
    {
     "data": {
      "text/plain": [
       "0.1984087222492047"
      ]
     },
     "execution_count": 81,
     "metadata": {},
     "output_type": "execute_result"
    }
   ],
   "source": [
    "data['last_price'].corr(data['total_area'])"
   ]
  },
  {
   "cell_type": "code",
   "execution_count": 82,
   "metadata": {},
   "outputs": [
    {
     "data": {
      "text/plain": [
       "Text(0, 0.5, 'Цена 10 млн.')"
      ]
     },
     "execution_count": 82,
     "metadata": {},
     "output_type": "execute_result"
    },
    {
     "data": {
      "image/png": "[encoded data removed]",
      "text/plain": [
       "<Figure size 1008x432 with 1 Axes>"
      ]
     },
     "metadata": {
      "needs_background": "light"
     },
     "output_type": "display_data"
    }
   ],
   "source": [
    "data.plot(x='total_area', y='last_price', kind='scatter', grid=True, alpha=0.3,figsize=(14,6))\n",
    "plt.title(\"Зависимость цены от площади квартиры\")\n",
    "plt.xlabel(\"Площадь м²\")\n",
    "plt.ylabel(\"Цена 10 млн.\")"
   ]
  },
  {
   "cell_type": "markdown",
   "metadata": {},
   "source": [
    "Коэффициент Пирсона 0.65 говорит о том цена довольно сильно зависит от площади квартиры."
   ]
  },
  {
   "cell_type": "code",
   "execution_count": 83,
   "metadata": {},
   "outputs": [
    {
     "data": {
      "text/plain": [
       "0.9469688506225966"
      ]
     },
     "execution_count": 83,
     "metadata": {},
     "output_type": "execute_result"
    }
   ],
   "source": [
    "#проверим зависимость жилой и общей площади\n",
    "data['total_area'].corr(data['living_area'])"
   ]
  },
  {
   "cell_type": "markdown",
   "metadata": {},
   "source": [
    "Коэффициент корреляции total_area и living_area близок к 1, что максимально логично. Соответственно, цена почти в такой же степени прямо зависит от жилой площади квартиры. "
   ]
  },
  {
   "cell_type": "code",
   "execution_count": 84,
   "metadata": {},
   "outputs": [
    {
     "data": {
      "text/plain": [
       "Text(0, 0.5, 'Цена 10 млн.')"
      ]
     },
     "execution_count": 84,
     "metadata": {},
     "output_type": "execute_result"
    },
    {
     "data": {
      "image/png": "[encoded data removed]",
      "text/plain": [
       "<Figure size 1008x432 with 1 Axes>"
      ]
     },
     "metadata": {
      "needs_background": "light"
     },
     "output_type": "display_data"
    }
   ],
   "source": [
    "data.plot(x='rooms', y='last_price', kind='scatter', grid=True, alpha=0.3,figsize=(14,6))\n",
    "plt.title(\"Зависимость цены от количества комнат\")\n",
    "plt.xlabel(\"Комнаты\")\n",
    "plt.ylabel(\"Цена 10 млн.\")"
   ]
  },
  {
   "cell_type": "code",
   "execution_count": 85,
   "metadata": {},
   "outputs": [
    {
     "data": {
      "text/plain": [
       "0.11398902288657295"
      ]
     },
     "execution_count": 85,
     "metadata": {},
     "output_type": "execute_result"
    }
   ],
   "source": [
    "data['last_price'].corr(data['rooms'])"
   ]
  },
  {
   "cell_type": "markdown",
   "metadata": {},
   "source": [
    "От количества комнат зависимость цены фактически отсутствует. "
   ]
  },
  {
   "cell_type": "code",
   "execution_count": 86,
   "metadata": {},
   "outputs": [
    {
     "data": {
      "text/plain": [
       "0.14016399302045787"
      ]
     },
     "execution_count": 86,
     "metadata": {},
     "output_type": "execute_result"
    }
   ],
   "source": [
    "data['last_price'].corr(data['kitchen_area'])"
   ]
  },
  {
   "cell_type": "code",
   "execution_count": 87,
   "metadata": {},
   "outputs": [
    {
     "data": {
      "text/plain": [
       "Text(0, 0.5, 'Цена 10 млн.')"
      ]
     },
     "execution_count": 87,
     "metadata": {},
     "output_type": "execute_result"
    },
    {
     "data": {
      "image/png": "[encoded data removed]",
      "text/plain": [
       "<Figure size 1008x432 with 1 Axes>"
      ]
     },
     "metadata": {
      "needs_background": "light"
     },
     "output_type": "display_data"
    }
   ],
   "source": [
    "data.plot(x='kitchen_area', y='last_price', kind='scatter', grid=True, alpha=0.3,figsize=(14,6))\n",
    "plt.title(\"Зависимость цены от площади кухни\")\n",
    "plt.xlabel(\"Площадь кухни\")\n",
    "plt.ylabel(\"Цена 10 млн.\")"
   ]
  },
  {
   "cell_type": "markdown",
   "metadata": {},
   "source": [
    "Площадь кухни на цену также практически не влияет."
   ]
  },
  {
   "cell_type": "code",
   "execution_count": 88,
   "metadata": {},
   "outputs": [
    {
     "data": {
      "text/plain": [
       "floor_type\n",
       "другой       4848500.0\n",
       "первый       3900000.0\n",
       "последний    4300000.0\n",
       "Name: last_price, dtype: float64"
      ]
     },
     "execution_count": 88,
     "metadata": {},
     "output_type": "execute_result"
    }
   ],
   "source": [
    "data.groupby('floor_type')['last_price'].median()"
   ]
  },
  {
   "cell_type": "markdown",
   "metadata": {},
   "source": [
    "Группировка данных показывает нам, что на первом этаже - квартиры наименьшей стоимости. На последнем этаже - дороже. На промежуточных этажах - наибольшая стоимость квартир. Всего три категории этажей - график не нужен."
   ]
  },
  {
   "cell_type": "code",
   "execution_count": 89,
   "metadata": {},
   "outputs": [
    {
     "data": {
      "text/plain": [
       "weekday\n",
       "0    4650000.0\n",
       "1    4720000.0\n",
       "2    4700000.0\n",
       "3    4650000.0\n",
       "4    4550000.0\n",
       "5    4550000.0\n",
       "6    4530000.0\n",
       "Name: last_price, dtype: float64"
      ]
     },
     "execution_count": 89,
     "metadata": {},
     "output_type": "execute_result"
    }
   ],
   "source": [
    "data.groupby('weekday')['last_price'].median()"
   ]
  },
  {
   "cell_type": "code",
   "execution_count": 90,
   "metadata": {},
   "outputs": [
    {
     "data": {
      "text/plain": [
       "<AxesSubplot:>"
      ]
     },
     "execution_count": 90,
     "metadata": {},
     "output_type": "execute_result"
    },
    {
     "data": {
      "image/png": "[encoded data removed]",
      "text/plain": [
       "<Figure size 864x720 with 2 Axes>"
      ]
     },
     "metadata": {
      "needs_background": "light"
     },
     "output_type": "display_data"
    }
   ],
   "source": [
    "df_corr = (data[['last_price','weekday','month','year'\n",
    "           ]])\n",
    "\n",
    "plt.figure(figsize=(12,10))\n",
    "sns.heatmap(df_corr.corr(), xticklabels=df_corr.corr().columns,\\\n",
    "            yticklabels=df_corr.corr().columns, cmap='RdYlGn', center=0, annot=True)"
   ]
  },
  {
   "cell_type": "markdown",
   "metadata": {},
   "source": [
    "Интуитивно понятно, что цена квартиры не может коррелировать с днем недели, месяцем, годом размещения объявления. Тут может влиять много внешних факторов. Упал рынок недвижимости или вырос, на это может влиять гос. политика: внутренняя и внешняя, эпидемиологическая обстановка, демография и так далее. Как показать отсутствие зависимости без тепловой карты мне пока не хватает знаний. "
   ]
  },
  {
   "cell_type": "markdown",
   "metadata": {},
   "source": [
    "Посчитаем среднюю цену одного квадратного метра в 10 населённых пунктах с наибольшим числом объявлений. "
   ]
  },
  {
   "cell_type": "code",
   "execution_count": 91,
   "metadata": {},
   "outputs": [
    {
     "data": {
      "text/html": [
       "<div>\n",
       "<style scoped>\n",
       "    .dataframe tbody tr th:only-of-type {\n",
       "        vertical-align: middle;\n",
       "    }\n",
       "\n",
       "    .dataframe tbody tr th {\n",
       "        vertical-align: top;\n",
       "    }\n",
       "\n",
       "    .dataframe thead th {\n",
       "        text-align: right;\n",
       "    }\n",
       "</style>\n",
       "<table border=\"1\" class=\"dataframe\">\n",
       "  <thead>\n",
       "    <tr style=\"text-align: right;\">\n",
       "      <th></th>\n",
       "      <th>locality_name</th>\n",
       "      <th>ad_count</th>\n",
       "      <th>meter_mean</th>\n",
       "    </tr>\n",
       "  </thead>\n",
       "  <tbody>\n",
       "    <tr>\n",
       "      <th>223</th>\n",
       "      <td>Санкт-Петербург</td>\n",
       "      <td>15651</td>\n",
       "      <td>114869</td>\n",
       "    </tr>\n",
       "    <tr>\n",
       "      <th>146</th>\n",
       "      <td>Мурино</td>\n",
       "      <td>586</td>\n",
       "      <td>86041</td>\n",
       "    </tr>\n",
       "    <tr>\n",
       "      <th>105</th>\n",
       "      <td>Кудрово</td>\n",
       "      <td>470</td>\n",
       "      <td>95261</td>\n",
       "    </tr>\n",
       "    <tr>\n",
       "      <th>298</th>\n",
       "      <td>Шушары</td>\n",
       "      <td>439</td>\n",
       "      <td>78551</td>\n",
       "    </tr>\n",
       "    <tr>\n",
       "      <th>34</th>\n",
       "      <td>Всеволожск</td>\n",
       "      <td>398</td>\n",
       "      <td>68654</td>\n",
       "    </tr>\n",
       "    <tr>\n",
       "      <th>202</th>\n",
       "      <td>Пушкин</td>\n",
       "      <td>369</td>\n",
       "      <td>103126</td>\n",
       "    </tr>\n",
       "    <tr>\n",
       "      <th>88</th>\n",
       "      <td>Колпино</td>\n",
       "      <td>338</td>\n",
       "      <td>75425</td>\n",
       "    </tr>\n",
       "    <tr>\n",
       "      <th>170</th>\n",
       "      <td>Парголово</td>\n",
       "      <td>327</td>\n",
       "      <td>90176</td>\n",
       "    </tr>\n",
       "    <tr>\n",
       "      <th>42</th>\n",
       "      <td>Гатчина</td>\n",
       "      <td>307</td>\n",
       "      <td>294841</td>\n",
       "    </tr>\n",
       "    <tr>\n",
       "      <th>35</th>\n",
       "      <td>Выборг</td>\n",
       "      <td>237</td>\n",
       "      <td>58142</td>\n",
       "    </tr>\n",
       "  </tbody>\n",
       "</table>\n",
       "</div>"
      ],
      "text/plain": [
       "       locality_name  ad_count  meter_mean\n",
       "223  Санкт-Петербург     15651      114869\n",
       "146           Мурино       586       86041\n",
       "105          Кудрово       470       95261\n",
       "298           Шушары       439       78551\n",
       "34        Всеволожск       398       68654\n",
       "202           Пушкин       369      103126\n",
       "88           Колпино       338       75425\n",
       "170        Парголово       327       90176\n",
       "42           Гатчина       307      294841\n",
       "35            Выборг       237       58142"
      ]
     },
     "execution_count": 91,
     "metadata": {},
     "output_type": "execute_result"
    }
   ],
   "source": [
    "great_locality = data.pivot_table(index = ['locality_name'], values = '1m2_price', aggfunc = ['count', 'mean'])\n",
    "great_locality.columns = ['ad_count', 'meter_mean']\n",
    "great_locality = great_locality.reset_index(drop=False)\n",
    "great_locality['meter_mean'] = round(great_locality['meter_mean']).astype(int)\n",
    "great_locality.sort_values(by='ad_count', ascending=False).head(10)"
   ]
  },
  {
   "cell_type": "code",
   "execution_count": 92,
   "metadata": {},
   "outputs": [
    {
     "data": {
      "image/png": "[encoded data removed]",
      "text/plain": [
       "<Figure size 576x432 with 1 Axes>"
      ]
     },
     "metadata": {
      "needs_background": "light"
     },
     "output_type": "display_data"
    }
   ],
   "source": [
    "locality_plot = great_locality.sort_values(by='ad_count').tail(10)\n",
    "locality_plot.sort_values(by='meter_mean').plot(x='locality_name', y='meter_mean', kind='barh', figsize=(8,6), legend=False)\n",
    "plt.xlabel('Средняя цена 1м2')\n",
    "plt.ylabel('Населенный пункт')\n",
    "plt.title('Стоимость недвижимости в 10 крупнейших населённых пунктах по количеству объявлений\\n')\n",
    "plt.show()\n"
   ]
  },
  {
   "cell_type": "markdown",
   "metadata": {},
   "source": [
    "Для Санкт-Петербурга рассмотрим зависимость средней цены метра в зависимости от удалённости от центра."
   ]
  },
  {
   "cell_type": "code",
   "execution_count": 93,
   "metadata": {},
   "outputs": [
    {
     "data": {
      "text/plain": [
       "<AxesSubplot:xlabel='km_to_city_center'>"
      ]
     },
     "execution_count": 93,
     "metadata": {},
     "output_type": "execute_result"
    },
    {
     "data": {
      "image/png": "[encoded data removed]",
      "text/plain": [
       "<Figure size 864x360 with 1 Axes>"
      ]
     },
     "metadata": {
      "needs_background": "light"
     },
     "output_type": "display_data"
    }
   ],
   "source": [
    "spb_db = data.loc[data['locality_name'] == 'Санкт-Петербург']\n",
    "spb_distance = spb_db.pivot_table(index = ['km_to_city_center'], values = '1m2_price', aggfunc = 'mean')\n",
    "spb_distance.sort_values(by='km_to_city_center', ascending=True).plot(grid=True, figsize=(12, 5), style='o-')"
   ]
  },
  {
   "cell_type": "markdown",
   "metadata": {},
   "source": [
    "По графику видно зависимость снижения цены квадратного метра в зависимости от удалённости от центра. На графике присутствуют два пика, которые скорее всего являются выбросом."
   ]
  },
  {
   "cell_type": "markdown",
   "metadata": {},
   "source": [
    "### Общий вывод"
   ]
  },
  {
   "cell_type": "markdown",
   "metadata": {},
   "source": [
    "В процессе выполнения проекта изучили данные о продаже квартир в Санкт-Петербурге и Ленинградской области.\n",
    "При предварительной обработке данных в исследуемом датасете были удалены и заменены пропуски данных. Исследованы и преобразованы типы данных и неявные дубликаты.\n",
    "По каждой части обработки данных представлен промежуточный вывод."
   ]
  }
 ],
 "metadata": {
  "ExecuteTimeLog": [
   {
    "duration": 1135,
    "start_time": "2022-11-07T10:15:40.482Z"
   },
   {
    "duration": 108,
    "start_time": "2022-11-07T10:16:10.984Z"
   },
   {
    "duration": 93,
    "start_time": "2022-11-07T10:23:29.937Z"
   },
   {
    "duration": 2,
    "start_time": "2022-11-07T10:23:45.463Z"
   },
   {
    "duration": 55,
    "start_time": "2022-11-07T10:23:45.467Z"
   },
   {
    "duration": 23,
    "start_time": "2022-11-07T10:24:19.743Z"
   },
   {
    "duration": 2,
    "start_time": "2022-11-07T10:24:57.053Z"
   },
   {
    "duration": 23,
    "start_time": "2022-11-07T10:25:09.024Z"
   },
   {
    "duration": 721,
    "start_time": "2022-11-08T02:46:32.936Z"
   },
   {
    "duration": 323,
    "start_time": "2022-11-08T02:46:42.710Z"
   },
   {
    "duration": 14,
    "start_time": "2022-11-08T03:22:56.534Z"
   },
   {
    "duration": 67,
    "start_time": "2022-11-08T03:23:07.898Z"
   },
   {
    "duration": 1741,
    "start_time": "2022-11-08T03:53:10.814Z"
   },
   {
    "duration": 1691,
    "start_time": "2022-11-08T03:58:06.642Z"
   },
   {
    "duration": 105,
    "start_time": "2022-11-08T07:04:33.046Z"
   },
   {
    "duration": 65,
    "start_time": "2022-11-08T07:19:12.173Z"
   },
   {
    "duration": 4,
    "start_time": "2022-11-08T07:19:17.659Z"
   },
   {
    "duration": 4,
    "start_time": "2022-11-08T09:11:50.591Z"
   },
   {
    "duration": 9,
    "start_time": "2022-11-08T09:16:25.300Z"
   },
   {
    "duration": 22,
    "start_time": "2022-11-08T09:16:32.768Z"
   },
   {
    "duration": 9,
    "start_time": "2022-11-08T09:17:36.478Z"
   },
   {
    "duration": 14,
    "start_time": "2022-11-08T09:39:58.786Z"
   },
   {
    "duration": 9,
    "start_time": "2022-11-08T09:40:56.268Z"
   },
   {
    "duration": 689,
    "start_time": "2022-11-08T09:41:10.438Z"
   },
   {
    "duration": 6,
    "start_time": "2022-11-08T09:44:30.180Z"
   },
   {
    "duration": 7,
    "start_time": "2022-11-08T09:45:00.434Z"
   },
   {
    "duration": 3,
    "start_time": "2022-11-08T09:45:06.518Z"
   },
   {
    "duration": 106,
    "start_time": "2022-11-08T09:45:06.523Z"
   },
   {
    "duration": 13,
    "start_time": "2022-11-08T09:45:06.630Z"
   },
   {
    "duration": 98,
    "start_time": "2022-11-08T09:45:06.644Z"
   },
   {
    "duration": 1704,
    "start_time": "2022-11-08T09:45:06.744Z"
   },
   {
    "duration": 4,
    "start_time": "2022-11-08T09:45:08.450Z"
   },
   {
    "duration": 11,
    "start_time": "2022-11-08T09:45:08.455Z"
   },
   {
    "duration": 28,
    "start_time": "2022-11-08T09:45:08.467Z"
   },
   {
    "duration": 8,
    "start_time": "2022-11-08T09:45:08.496Z"
   },
   {
    "duration": 9,
    "start_time": "2022-11-08T09:45:13.660Z"
   },
   {
    "duration": 42,
    "start_time": "2022-11-08T10:55:52.513Z"
   },
   {
    "duration": 8,
    "start_time": "2022-11-08T11:09:41.929Z"
   },
   {
    "duration": 10,
    "start_time": "2022-11-08T11:11:22.387Z"
   },
   {
    "duration": 7,
    "start_time": "2022-11-08T11:12:00.567Z"
   },
   {
    "duration": 8,
    "start_time": "2022-11-08T11:12:10.397Z"
   },
   {
    "duration": 4,
    "start_time": "2022-11-08T11:12:36.268Z"
   },
   {
    "duration": 6,
    "start_time": "2022-11-08T11:15:41.367Z"
   },
   {
    "duration": 5,
    "start_time": "2022-11-08T11:16:03.698Z"
   },
   {
    "duration": 3,
    "start_time": "2022-11-08T11:16:25.710Z"
   },
   {
    "duration": 4,
    "start_time": "2022-11-08T11:16:29.767Z"
   },
   {
    "duration": 8,
    "start_time": "2022-11-08T11:16:58.725Z"
   },
   {
    "duration": 5,
    "start_time": "2022-11-08T11:17:09.988Z"
   },
   {
    "duration": 8,
    "start_time": "2022-11-08T11:17:57.047Z"
   },
   {
    "duration": 44,
    "start_time": "2022-11-08T11:33:04.407Z"
   },
   {
    "duration": 5,
    "start_time": "2022-11-08T11:41:49.558Z"
   },
   {
    "duration": 6,
    "start_time": "2022-11-08T11:43:03.962Z"
   },
   {
    "duration": 5,
    "start_time": "2022-11-08T11:43:22.332Z"
   },
   {
    "duration": 5,
    "start_time": "2022-11-08T11:43:23.847Z"
   },
   {
    "duration": 5,
    "start_time": "2022-11-08T11:43:34.256Z"
   },
   {
    "duration": 4,
    "start_time": "2022-11-08T11:44:06.437Z"
   },
   {
    "duration": 5,
    "start_time": "2022-11-08T11:44:13.707Z"
   },
   {
    "duration": 3,
    "start_time": "2022-11-08T11:44:18.897Z"
   },
   {
    "duration": 10,
    "start_time": "2022-11-08T11:46:35.676Z"
   },
   {
    "duration": 4,
    "start_time": "2022-11-08T11:55:34.708Z"
   },
   {
    "duration": 15,
    "start_time": "2022-11-08T11:56:17.959Z"
   },
   {
    "duration": 11,
    "start_time": "2022-11-08T11:56:26.886Z"
   },
   {
    "duration": 63,
    "start_time": "2022-11-09T13:56:37.452Z"
   },
   {
    "duration": 836,
    "start_time": "2022-11-09T13:56:45.081Z"
   },
   {
    "duration": 177,
    "start_time": "2022-11-09T13:56:45.919Z"
   },
   {
    "duration": 17,
    "start_time": "2022-11-09T13:56:46.097Z"
   },
   {
    "duration": 95,
    "start_time": "2022-11-09T13:56:46.116Z"
   },
   {
    "duration": 2320,
    "start_time": "2022-11-09T13:56:46.214Z"
   },
   {
    "duration": 4,
    "start_time": "2022-11-09T13:56:48.536Z"
   },
   {
    "duration": 13,
    "start_time": "2022-11-09T13:56:48.542Z"
   },
   {
    "duration": 35,
    "start_time": "2022-11-09T13:56:48.557Z"
   },
   {
    "duration": 11,
    "start_time": "2022-11-09T13:56:48.600Z"
   },
   {
    "duration": 14,
    "start_time": "2022-11-09T13:56:48.612Z"
   },
   {
    "duration": 9,
    "start_time": "2022-11-09T13:56:48.628Z"
   },
   {
    "duration": 12,
    "start_time": "2022-11-09T13:56:48.639Z"
   },
   {
    "duration": 8,
    "start_time": "2022-11-09T13:56:48.653Z"
   },
   {
    "duration": 11,
    "start_time": "2022-11-09T13:56:48.687Z"
   },
   {
    "duration": 7,
    "start_time": "2022-11-09T13:56:48.700Z"
   },
   {
    "duration": 7,
    "start_time": "2022-11-09T13:56:48.708Z"
   },
   {
    "duration": 12,
    "start_time": "2022-11-09T13:56:48.717Z"
   },
   {
    "duration": 9,
    "start_time": "2022-11-09T13:56:54.806Z"
   },
   {
    "duration": 4,
    "start_time": "2022-11-09T13:58:30.475Z"
   },
   {
    "duration": 4,
    "start_time": "2022-11-09T13:59:25.638Z"
   },
   {
    "duration": 26,
    "start_time": "2022-11-09T13:59:46.607Z"
   },
   {
    "duration": 14,
    "start_time": "2022-11-09T13:59:52.723Z"
   },
   {
    "duration": 5,
    "start_time": "2022-11-09T14:00:10.560Z"
   },
   {
    "duration": 14,
    "start_time": "2022-11-09T14:00:11.094Z"
   },
   {
    "duration": 27,
    "start_time": "2022-11-09T14:07:11.239Z"
   },
   {
    "duration": 28,
    "start_time": "2022-11-09T14:10:45.507Z"
   },
   {
    "duration": 8,
    "start_time": "2022-11-09T14:44:29.330Z"
   },
   {
    "duration": 34,
    "start_time": "2022-11-09T14:44:39.030Z"
   },
   {
    "duration": 22,
    "start_time": "2022-11-09T14:45:53.504Z"
   },
   {
    "duration": 13,
    "start_time": "2022-11-09T14:53:28.149Z"
   },
   {
    "duration": 8,
    "start_time": "2022-11-09T14:53:56.259Z"
   },
   {
    "duration": 44,
    "start_time": "2022-11-09T19:43:43.946Z"
   },
   {
    "duration": 729,
    "start_time": "2022-11-09T19:44:01.029Z"
   },
   {
    "duration": 175,
    "start_time": "2022-11-09T19:44:01.761Z"
   },
   {
    "duration": 14,
    "start_time": "2022-11-09T19:44:01.938Z"
   },
   {
    "duration": 73,
    "start_time": "2022-11-09T19:44:01.954Z"
   },
   {
    "duration": 1873,
    "start_time": "2022-11-09T19:44:02.029Z"
   },
   {
    "duration": 3,
    "start_time": "2022-11-09T19:44:03.904Z"
   },
   {
    "duration": 7,
    "start_time": "2022-11-09T19:44:03.909Z"
   },
   {
    "duration": 27,
    "start_time": "2022-11-09T19:44:03.918Z"
   },
   {
    "duration": 8,
    "start_time": "2022-11-09T19:44:03.946Z"
   },
   {
    "duration": 12,
    "start_time": "2022-11-09T19:44:03.956Z"
   },
   {
    "duration": 6,
    "start_time": "2022-11-09T19:44:03.970Z"
   },
   {
    "duration": 5,
    "start_time": "2022-11-09T19:44:03.978Z"
   },
   {
    "duration": 8,
    "start_time": "2022-11-09T19:44:03.984Z"
   },
   {
    "duration": 8,
    "start_time": "2022-11-09T19:44:03.994Z"
   },
   {
    "duration": 3,
    "start_time": "2022-11-09T19:44:04.004Z"
   },
   {
    "duration": 8,
    "start_time": "2022-11-09T19:44:04.008Z"
   },
   {
    "duration": 9,
    "start_time": "2022-11-09T19:44:04.018Z"
   },
   {
    "duration": 6,
    "start_time": "2022-11-09T19:44:04.028Z"
   },
   {
    "duration": 7,
    "start_time": "2022-11-09T19:44:04.036Z"
   },
   {
    "duration": 5,
    "start_time": "2022-11-09T19:44:04.045Z"
   },
   {
    "duration": 23,
    "start_time": "2022-11-09T19:44:04.051Z"
   },
   {
    "duration": 10,
    "start_time": "2022-11-09T19:44:04.076Z"
   },
   {
    "duration": 10,
    "start_time": "2022-11-09T19:44:04.088Z"
   },
   {
    "duration": 6,
    "start_time": "2022-11-09T19:44:08.587Z"
   },
   {
    "duration": 3,
    "start_time": "2022-11-09T19:47:39.871Z"
   },
   {
    "duration": 36,
    "start_time": "2022-11-09T19:49:52.152Z"
   },
   {
    "duration": 9,
    "start_time": "2022-11-09T19:49:57.993Z"
   },
   {
    "duration": 17,
    "start_time": "2022-11-09T20:14:32.343Z"
   },
   {
    "duration": 19,
    "start_time": "2022-11-09T20:19:26.572Z"
   },
   {
    "duration": 47,
    "start_time": "2022-11-09T20:19:35.541Z"
   },
   {
    "duration": 41,
    "start_time": "2022-11-09T20:24:50.552Z"
   },
   {
    "duration": 5,
    "start_time": "2022-11-09T20:27:14.710Z"
   },
   {
    "duration": 11,
    "start_time": "2022-11-09T20:30:05.702Z"
   },
   {
    "duration": 7,
    "start_time": "2022-11-09T20:30:13.604Z"
   },
   {
    "duration": 5,
    "start_time": "2022-11-09T20:30:50.984Z"
   },
   {
    "duration": 9,
    "start_time": "2022-11-09T20:31:19.088Z"
   },
   {
    "duration": 52,
    "start_time": "2022-11-10T13:55:40.216Z"
   },
   {
    "duration": 6,
    "start_time": "2022-11-10T13:55:43.655Z"
   },
   {
    "duration": 879,
    "start_time": "2022-11-10T13:55:48.497Z"
   },
   {
    "duration": 365,
    "start_time": "2022-11-10T13:55:49.379Z"
   },
   {
    "duration": 18,
    "start_time": "2022-11-10T13:55:49.746Z"
   },
   {
    "duration": 92,
    "start_time": "2022-11-10T13:55:49.766Z"
   },
   {
    "duration": 2133,
    "start_time": "2022-11-10T13:55:49.861Z"
   },
   {
    "duration": 4,
    "start_time": "2022-11-10T13:55:51.996Z"
   },
   {
    "duration": 7,
    "start_time": "2022-11-10T13:55:52.002Z"
   },
   {
    "duration": 64,
    "start_time": "2022-11-10T13:55:52.010Z"
   },
   {
    "duration": 8,
    "start_time": "2022-11-10T13:55:52.076Z"
   },
   {
    "duration": 26,
    "start_time": "2022-11-10T13:55:52.086Z"
   },
   {
    "duration": 24,
    "start_time": "2022-11-10T13:55:52.114Z"
   },
   {
    "duration": 18,
    "start_time": "2022-11-10T13:55:52.140Z"
   },
   {
    "duration": 17,
    "start_time": "2022-11-10T13:55:52.160Z"
   },
   {
    "duration": 29,
    "start_time": "2022-11-10T13:55:52.180Z"
   },
   {
    "duration": 28,
    "start_time": "2022-11-10T13:55:52.211Z"
   },
   {
    "duration": 36,
    "start_time": "2022-11-10T13:55:52.241Z"
   },
   {
    "duration": 29,
    "start_time": "2022-11-10T13:55:52.279Z"
   },
   {
    "duration": 8,
    "start_time": "2022-11-10T13:55:52.310Z"
   },
   {
    "duration": 4,
    "start_time": "2022-11-10T13:55:52.319Z"
   },
   {
    "duration": 6,
    "start_time": "2022-11-10T13:55:52.325Z"
   },
   {
    "duration": 21,
    "start_time": "2022-11-10T13:55:52.333Z"
   },
   {
    "duration": 8,
    "start_time": "2022-11-10T13:55:52.355Z"
   },
   {
    "duration": 13,
    "start_time": "2022-11-10T13:55:52.364Z"
   },
   {
    "duration": 3,
    "start_time": "2022-11-10T13:55:52.379Z"
   },
   {
    "duration": 13,
    "start_time": "2022-11-10T13:55:52.383Z"
   },
   {
    "duration": 29,
    "start_time": "2022-11-10T13:55:52.398Z"
   },
   {
    "duration": 44,
    "start_time": "2022-11-10T13:55:52.429Z"
   },
   {
    "duration": 5,
    "start_time": "2022-11-10T13:55:52.475Z"
   },
   {
    "duration": 10,
    "start_time": "2022-11-10T13:55:52.482Z"
   },
   {
    "duration": 7,
    "start_time": "2022-11-10T13:56:59.778Z"
   },
   {
    "duration": 9,
    "start_time": "2022-11-10T14:28:44.522Z"
   },
   {
    "duration": 10,
    "start_time": "2022-11-10T14:32:06.769Z"
   },
   {
    "duration": 5,
    "start_time": "2022-11-10T14:35:08.087Z"
   },
   {
    "duration": 9,
    "start_time": "2022-11-10T14:35:16.054Z"
   },
   {
    "duration": 7,
    "start_time": "2022-11-10T14:35:39.333Z"
   },
   {
    "duration": 10,
    "start_time": "2022-11-10T14:36:13.713Z"
   },
   {
    "duration": 13,
    "start_time": "2022-11-10T14:42:59.183Z"
   },
   {
    "duration": 12,
    "start_time": "2022-11-10T14:43:12.588Z"
   },
   {
    "duration": 11,
    "start_time": "2022-11-10T14:43:27.061Z"
   },
   {
    "duration": 36,
    "start_time": "2022-11-10T14:56:52.662Z"
   },
   {
    "duration": 15,
    "start_time": "2022-11-10T14:57:02.907Z"
   },
   {
    "duration": 1137,
    "start_time": "2022-11-10T15:01:17.243Z"
   },
   {
    "duration": 1056,
    "start_time": "2022-11-10T15:01:31.780Z"
   },
   {
    "duration": 4,
    "start_time": "2022-11-10T15:01:58.194Z"
   },
   {
    "duration": 28,
    "start_time": "2022-11-10T15:02:07.627Z"
   },
   {
    "duration": 9,
    "start_time": "2022-11-10T15:04:24.125Z"
   },
   {
    "duration": 12,
    "start_time": "2022-11-10T15:04:45.262Z"
   },
   {
    "duration": 9,
    "start_time": "2022-11-10T15:05:00.293Z"
   },
   {
    "duration": 10,
    "start_time": "2022-11-10T15:12:36.518Z"
   },
   {
    "duration": 9,
    "start_time": "2022-11-10T15:12:57.621Z"
   },
   {
    "duration": 767,
    "start_time": "2022-11-10T18:16:47.142Z"
   },
   {
    "duration": 353,
    "start_time": "2022-11-10T18:16:47.910Z"
   },
   {
    "duration": 15,
    "start_time": "2022-11-10T18:16:48.264Z"
   },
   {
    "duration": 78,
    "start_time": "2022-11-10T18:16:48.281Z"
   },
   {
    "duration": 1968,
    "start_time": "2022-11-10T18:16:48.361Z"
   },
   {
    "duration": 5,
    "start_time": "2022-11-10T18:16:50.331Z"
   },
   {
    "duration": 28,
    "start_time": "2022-11-10T18:16:50.337Z"
   },
   {
    "duration": 42,
    "start_time": "2022-11-10T18:16:50.367Z"
   },
   {
    "duration": 11,
    "start_time": "2022-11-10T18:16:50.411Z"
   },
   {
    "duration": 10,
    "start_time": "2022-11-10T18:16:50.424Z"
   },
   {
    "duration": 18,
    "start_time": "2022-11-10T18:16:50.436Z"
   },
   {
    "duration": 28,
    "start_time": "2022-11-10T18:16:50.455Z"
   },
   {
    "duration": 16,
    "start_time": "2022-11-10T18:16:50.485Z"
   },
   {
    "duration": 40,
    "start_time": "2022-11-10T18:16:50.502Z"
   },
   {
    "duration": 4,
    "start_time": "2022-11-10T18:16:50.543Z"
   },
   {
    "duration": 8,
    "start_time": "2022-11-10T18:16:50.549Z"
   },
   {
    "duration": 11,
    "start_time": "2022-11-10T18:16:50.559Z"
   },
   {
    "duration": 7,
    "start_time": "2022-11-10T18:16:50.571Z"
   },
   {
    "duration": 5,
    "start_time": "2022-11-10T18:16:50.579Z"
   },
   {
    "duration": 10,
    "start_time": "2022-11-10T18:16:50.585Z"
   },
   {
    "duration": 36,
    "start_time": "2022-11-10T18:16:50.597Z"
   },
   {
    "duration": 8,
    "start_time": "2022-11-10T18:16:50.635Z"
   },
   {
    "duration": 28,
    "start_time": "2022-11-10T18:16:50.644Z"
   },
   {
    "duration": 4,
    "start_time": "2022-11-10T18:16:50.673Z"
   },
   {
    "duration": 11,
    "start_time": "2022-11-10T18:16:50.678Z"
   },
   {
    "duration": 8,
    "start_time": "2022-11-10T18:16:50.691Z"
   },
   {
    "duration": 63,
    "start_time": "2022-11-10T18:16:50.701Z"
   },
   {
    "duration": 6,
    "start_time": "2022-11-10T18:16:50.767Z"
   },
   {
    "duration": 19,
    "start_time": "2022-11-10T18:16:50.775Z"
   },
   {
    "duration": 8,
    "start_time": "2022-11-10T18:16:50.796Z"
   },
   {
    "duration": 8,
    "start_time": "2022-11-10T18:16:50.805Z"
   },
   {
    "duration": 19,
    "start_time": "2022-11-10T18:16:50.814Z"
   },
   {
    "duration": 10,
    "start_time": "2022-11-10T18:16:50.835Z"
   },
   {
    "duration": 13,
    "start_time": "2022-11-10T18:16:50.847Z"
   },
   {
    "duration": 6,
    "start_time": "2022-11-10T18:16:50.861Z"
   },
   {
    "duration": 10,
    "start_time": "2022-11-10T18:17:02.060Z"
   },
   {
    "duration": 966,
    "start_time": "2022-11-11T04:46:49.649Z"
   },
   {
    "duration": 196,
    "start_time": "2022-11-11T04:46:50.617Z"
   },
   {
    "duration": 19,
    "start_time": "2022-11-11T04:46:50.815Z"
   },
   {
    "duration": 93,
    "start_time": "2022-11-11T04:46:50.836Z"
   },
   {
    "duration": 2370,
    "start_time": "2022-11-11T04:46:50.931Z"
   },
   {
    "duration": 5,
    "start_time": "2022-11-11T04:46:53.303Z"
   },
   {
    "duration": 24,
    "start_time": "2022-11-11T04:46:53.310Z"
   },
   {
    "duration": 48,
    "start_time": "2022-11-11T04:46:53.336Z"
   },
   {
    "duration": 10,
    "start_time": "2022-11-11T04:46:53.386Z"
   },
   {
    "duration": 11,
    "start_time": "2022-11-11T04:46:53.399Z"
   },
   {
    "duration": 14,
    "start_time": "2022-11-11T04:46:53.412Z"
   },
   {
    "duration": 40,
    "start_time": "2022-11-11T04:46:53.428Z"
   },
   {
    "duration": 24,
    "start_time": "2022-11-11T04:46:53.470Z"
   },
   {
    "duration": 19,
    "start_time": "2022-11-11T04:46:53.496Z"
   },
   {
    "duration": 8,
    "start_time": "2022-11-11T04:46:53.517Z"
   },
   {
    "duration": 17,
    "start_time": "2022-11-11T04:46:53.527Z"
   },
   {
    "duration": 22,
    "start_time": "2022-11-11T04:46:53.546Z"
   },
   {
    "duration": 9,
    "start_time": "2022-11-11T04:46:53.570Z"
   },
   {
    "duration": 5,
    "start_time": "2022-11-11T04:46:53.581Z"
   },
   {
    "duration": 11,
    "start_time": "2022-11-11T04:46:53.588Z"
   },
   {
    "duration": 25,
    "start_time": "2022-11-11T04:46:53.602Z"
   },
   {
    "duration": 12,
    "start_time": "2022-11-11T04:46:53.652Z"
   },
   {
    "duration": 26,
    "start_time": "2022-11-11T04:46:53.665Z"
   },
   {
    "duration": 6,
    "start_time": "2022-11-11T04:46:53.693Z"
   },
   {
    "duration": 13,
    "start_time": "2022-11-11T04:46:53.701Z"
   },
   {
    "duration": 7,
    "start_time": "2022-11-11T04:46:53.716Z"
   },
   {
    "duration": 52,
    "start_time": "2022-11-11T04:46:53.751Z"
   },
   {
    "duration": 6,
    "start_time": "2022-11-11T04:46:53.807Z"
   },
   {
    "duration": 38,
    "start_time": "2022-11-11T04:46:53.815Z"
   },
   {
    "duration": 8,
    "start_time": "2022-11-11T04:46:53.855Z"
   },
   {
    "duration": 15,
    "start_time": "2022-11-11T04:46:53.866Z"
   },
   {
    "duration": 8,
    "start_time": "2022-11-11T04:46:53.883Z"
   },
   {
    "duration": 21,
    "start_time": "2022-11-11T04:46:53.893Z"
   },
   {
    "duration": 38,
    "start_time": "2022-11-11T04:46:53.916Z"
   },
   {
    "duration": 6,
    "start_time": "2022-11-11T04:46:53.956Z"
   },
   {
    "duration": 14,
    "start_time": "2022-11-11T04:46:54.715Z"
   },
   {
    "duration": 4,
    "start_time": "2022-11-11T05:32:53.083Z"
   },
   {
    "duration": 168,
    "start_time": "2022-11-11T05:32:53.089Z"
   },
   {
    "duration": 29,
    "start_time": "2022-11-11T05:32:53.260Z"
   },
   {
    "duration": 103,
    "start_time": "2022-11-11T05:32:53.292Z"
   },
   {
    "duration": 2328,
    "start_time": "2022-11-11T05:32:53.398Z"
   },
   {
    "duration": 5,
    "start_time": "2022-11-11T05:32:55.729Z"
   },
   {
    "duration": 15,
    "start_time": "2022-11-11T05:32:55.736Z"
   },
   {
    "duration": 41,
    "start_time": "2022-11-11T05:32:55.754Z"
   },
   {
    "duration": 14,
    "start_time": "2022-11-11T05:32:55.797Z"
   },
   {
    "duration": 37,
    "start_time": "2022-11-11T05:32:55.813Z"
   },
   {
    "duration": 12,
    "start_time": "2022-11-11T05:32:55.854Z"
   },
   {
    "duration": 22,
    "start_time": "2022-11-11T05:32:55.868Z"
   },
   {
    "duration": 11,
    "start_time": "2022-11-11T05:32:55.892Z"
   },
   {
    "duration": 16,
    "start_time": "2022-11-11T05:32:55.905Z"
   },
   {
    "duration": 6,
    "start_time": "2022-11-11T05:32:55.923Z"
   },
   {
    "duration": 23,
    "start_time": "2022-11-11T05:32:55.931Z"
   },
   {
    "duration": 18,
    "start_time": "2022-11-11T05:32:55.957Z"
   },
   {
    "duration": 11,
    "start_time": "2022-11-11T05:32:55.978Z"
   },
   {
    "duration": 6,
    "start_time": "2022-11-11T05:32:55.991Z"
   },
   {
    "duration": 10,
    "start_time": "2022-11-11T05:32:55.999Z"
   },
   {
    "duration": 56,
    "start_time": "2022-11-11T05:32:56.011Z"
   },
   {
    "duration": 11,
    "start_time": "2022-11-11T05:32:56.069Z"
   },
   {
    "duration": 19,
    "start_time": "2022-11-11T05:32:56.082Z"
   },
   {
    "duration": 6,
    "start_time": "2022-11-11T05:32:56.103Z"
   },
   {
    "duration": 41,
    "start_time": "2022-11-11T05:32:56.111Z"
   },
   {
    "duration": 5,
    "start_time": "2022-11-11T05:32:56.155Z"
   },
   {
    "duration": 92,
    "start_time": "2022-11-11T05:32:56.163Z"
   },
   {
    "duration": 7,
    "start_time": "2022-11-11T05:32:56.257Z"
   },
   {
    "duration": 23,
    "start_time": "2022-11-11T05:32:56.268Z"
   },
   {
    "duration": 9,
    "start_time": "2022-11-11T05:32:56.293Z"
   },
   {
    "duration": 14,
    "start_time": "2022-11-11T05:32:56.304Z"
   },
   {
    "duration": 4,
    "start_time": "2022-11-11T05:32:56.321Z"
   },
   {
    "duration": 17,
    "start_time": "2022-11-11T05:32:56.350Z"
   },
   {
    "duration": 33,
    "start_time": "2022-11-11T05:32:56.369Z"
   },
   {
    "duration": 6,
    "start_time": "2022-11-11T05:32:56.405Z"
   },
   {
    "duration": 20,
    "start_time": "2022-11-11T05:32:56.413Z"
   },
   {
    "duration": 12,
    "start_time": "2022-11-11T06:10:55.347Z"
   },
   {
    "duration": 8,
    "start_time": "2022-11-11T06:25:53.799Z"
   },
   {
    "duration": 8,
    "start_time": "2022-11-11T06:26:40.576Z"
   },
   {
    "duration": 8,
    "start_time": "2022-11-11T06:54:11.791Z"
   },
   {
    "duration": 29,
    "start_time": "2022-11-11T06:54:41.677Z"
   },
   {
    "duration": 9,
    "start_time": "2022-11-11T06:55:54.505Z"
   },
   {
    "duration": 39,
    "start_time": "2022-11-11T06:56:00.878Z"
   },
   {
    "duration": 826,
    "start_time": "2022-11-11T07:02:27.599Z"
   },
   {
    "duration": 30,
    "start_time": "2022-11-11T07:23:04.018Z"
   },
   {
    "duration": 77,
    "start_time": "2022-11-11T07:23:36.983Z"
   },
   {
    "duration": 668,
    "start_time": "2022-11-11T07:23:45.132Z"
   },
   {
    "duration": 33,
    "start_time": "2022-11-11T07:23:49.816Z"
   },
   {
    "duration": 11,
    "start_time": "2022-11-11T07:35:26.385Z"
   },
   {
    "duration": 10,
    "start_time": "2022-11-11T07:35:49.977Z"
   },
   {
    "duration": 12,
    "start_time": "2022-11-11T07:37:09.897Z"
   },
   {
    "duration": 65,
    "start_time": "2022-11-11T07:43:08.320Z"
   },
   {
    "duration": 32,
    "start_time": "2022-11-11T07:43:39.877Z"
   },
   {
    "duration": 31,
    "start_time": "2022-11-11T07:43:57.591Z"
   },
   {
    "duration": 40,
    "start_time": "2022-11-11T07:44:08.978Z"
   },
   {
    "duration": 7,
    "start_time": "2022-11-11T07:47:45.443Z"
   },
   {
    "duration": 5,
    "start_time": "2022-11-11T07:47:50.487Z"
   },
   {
    "duration": 39,
    "start_time": "2022-11-11T10:02:55.667Z"
   },
   {
    "duration": 18,
    "start_time": "2022-11-11T10:11:00.665Z"
   },
   {
    "duration": 34,
    "start_time": "2022-11-11T10:11:32.731Z"
   },
   {
    "duration": 105,
    "start_time": "2022-11-11T10:17:38.209Z"
   },
   {
    "duration": 307,
    "start_time": "2022-11-11T10:17:57.869Z"
   },
   {
    "duration": 1932,
    "start_time": "2022-11-11T10:34:50.943Z"
   },
   {
    "duration": 2587,
    "start_time": "2022-11-11T10:35:11.651Z"
   },
   {
    "duration": 21,
    "start_time": "2022-11-11T10:35:35.824Z"
   },
   {
    "duration": 5,
    "start_time": "2022-11-11T10:36:58.423Z"
   },
   {
    "duration": 40,
    "start_time": "2022-11-11T10:37:14.381Z"
   },
   {
    "duration": 7,
    "start_time": "2022-11-11T10:39:26.625Z"
   },
   {
    "duration": 7,
    "start_time": "2022-11-11T10:39:36.281Z"
   },
   {
    "duration": 5,
    "start_time": "2022-11-11T10:41:09.001Z"
   },
   {
    "duration": 31,
    "start_time": "2022-11-11T10:41:16.902Z"
   },
   {
    "duration": 815,
    "start_time": "2022-11-12T19:26:50.353Z"
   },
   {
    "duration": 253,
    "start_time": "2022-11-12T19:26:51.170Z"
   },
   {
    "duration": 21,
    "start_time": "2022-11-12T19:26:51.425Z"
   },
   {
    "duration": 100,
    "start_time": "2022-11-12T19:26:51.449Z"
   },
   {
    "duration": 2171,
    "start_time": "2022-11-12T19:26:51.550Z"
   },
   {
    "duration": 4,
    "start_time": "2022-11-12T19:26:53.724Z"
   },
   {
    "duration": 7,
    "start_time": "2022-11-12T19:26:53.730Z"
   },
   {
    "duration": 36,
    "start_time": "2022-11-12T19:26:53.740Z"
   },
   {
    "duration": 12,
    "start_time": "2022-11-12T19:26:53.777Z"
   },
   {
    "duration": 11,
    "start_time": "2022-11-12T19:26:53.791Z"
   },
   {
    "duration": 8,
    "start_time": "2022-11-12T19:26:53.803Z"
   },
   {
    "duration": 6,
    "start_time": "2022-11-12T19:26:53.813Z"
   },
   {
    "duration": 7,
    "start_time": "2022-11-12T19:26:53.821Z"
   },
   {
    "duration": 49,
    "start_time": "2022-11-12T19:26:53.830Z"
   },
   {
    "duration": 5,
    "start_time": "2022-11-12T19:26:53.881Z"
   },
   {
    "duration": 7,
    "start_time": "2022-11-12T19:26:53.887Z"
   },
   {
    "duration": 10,
    "start_time": "2022-11-12T19:26:53.896Z"
   },
   {
    "duration": 8,
    "start_time": "2022-11-12T19:26:53.908Z"
   },
   {
    "duration": 4,
    "start_time": "2022-11-12T19:26:53.918Z"
   },
   {
    "duration": 19,
    "start_time": "2022-11-12T19:26:53.924Z"
   },
   {
    "duration": 61,
    "start_time": "2022-11-12T19:26:53.945Z"
   },
   {
    "duration": 12,
    "start_time": "2022-11-12T19:26:54.008Z"
   },
   {
    "duration": 29,
    "start_time": "2022-11-12T19:26:54.023Z"
   },
   {
    "duration": 13,
    "start_time": "2022-11-12T19:26:54.054Z"
   },
   {
    "duration": 15,
    "start_time": "2022-11-12T19:26:54.069Z"
   },
   {
    "duration": 11,
    "start_time": "2022-11-12T19:26:54.086Z"
   },
   {
    "duration": 69,
    "start_time": "2022-11-12T19:26:54.099Z"
   },
   {
    "duration": 11,
    "start_time": "2022-11-12T19:26:54.171Z"
   },
   {
    "duration": 17,
    "start_time": "2022-11-12T19:26:54.183Z"
   },
   {
    "duration": 8,
    "start_time": "2022-11-12T19:26:54.202Z"
   },
   {
    "duration": 11,
    "start_time": "2022-11-12T19:26:54.213Z"
   },
   {
    "duration": 6,
    "start_time": "2022-11-12T19:26:54.226Z"
   },
   {
    "duration": 19,
    "start_time": "2022-11-12T19:26:54.234Z"
   },
   {
    "duration": 30,
    "start_time": "2022-11-12T19:26:54.278Z"
   },
   {
    "duration": 5,
    "start_time": "2022-11-12T19:26:54.311Z"
   },
   {
    "duration": 12,
    "start_time": "2022-11-12T19:26:54.318Z"
   },
   {
    "duration": 50,
    "start_time": "2022-11-12T19:26:54.332Z"
   },
   {
    "duration": 566,
    "start_time": "2022-11-12T19:26:54.383Z"
   },
   {
    "duration": 9,
    "start_time": "2022-11-12T19:26:54.951Z"
   },
   {
    "duration": 37,
    "start_time": "2022-11-12T19:26:54.961Z"
   },
   {
    "duration": 4,
    "start_time": "2022-11-12T19:26:55.000Z"
   },
   {
    "duration": 36,
    "start_time": "2022-11-12T19:26:55.006Z"
   },
   {
    "duration": 4,
    "start_time": "2022-11-12T19:26:55.044Z"
   },
   {
    "duration": 40,
    "start_time": "2022-11-12T19:26:55.050Z"
   },
   {
    "duration": 293,
    "start_time": "2022-11-12T19:26:55.091Z"
   },
   {
    "duration": 5,
    "start_time": "2022-11-12T19:26:55.386Z"
   },
   {
    "duration": 6,
    "start_time": "2022-11-12T19:26:55.394Z"
   },
   {
    "duration": 11,
    "start_time": "2022-11-12T19:27:25.020Z"
   },
   {
    "duration": 281,
    "start_time": "2022-11-12T19:27:27.347Z"
   },
   {
    "duration": 419,
    "start_time": "2022-11-12T19:28:02.580Z"
   },
   {
    "duration": 307,
    "start_time": "2022-11-12T19:28:21.665Z"
   },
   {
    "duration": 751,
    "start_time": "2022-11-13T07:33:10.351Z"
   },
   {
    "duration": 322,
    "start_time": "2022-11-13T07:33:11.104Z"
   },
   {
    "duration": 16,
    "start_time": "2022-11-13T07:33:11.428Z"
   },
   {
    "duration": 68,
    "start_time": "2022-11-13T07:33:11.446Z"
   },
   {
    "duration": 1953,
    "start_time": "2022-11-13T07:33:11.516Z"
   },
   {
    "duration": 4,
    "start_time": "2022-11-13T07:33:13.470Z"
   },
   {
    "duration": 16,
    "start_time": "2022-11-13T07:33:13.475Z"
   },
   {
    "duration": 45,
    "start_time": "2022-11-13T07:33:13.493Z"
   },
   {
    "duration": 8,
    "start_time": "2022-11-13T07:33:13.540Z"
   },
   {
    "duration": 30,
    "start_time": "2022-11-13T07:33:13.551Z"
   },
   {
    "duration": 24,
    "start_time": "2022-11-13T07:33:13.582Z"
   },
   {
    "duration": 15,
    "start_time": "2022-11-13T07:33:13.608Z"
   },
   {
    "duration": 21,
    "start_time": "2022-11-13T07:33:13.625Z"
   },
   {
    "duration": 20,
    "start_time": "2022-11-13T07:33:13.648Z"
   },
   {
    "duration": 17,
    "start_time": "2022-11-13T07:33:13.670Z"
   },
   {
    "duration": 27,
    "start_time": "2022-11-13T07:33:13.689Z"
   },
   {
    "duration": 39,
    "start_time": "2022-11-13T07:33:13.717Z"
   },
   {
    "duration": 26,
    "start_time": "2022-11-13T07:33:13.757Z"
   },
   {
    "duration": 4,
    "start_time": "2022-11-13T07:33:13.785Z"
   },
   {
    "duration": 26,
    "start_time": "2022-11-13T07:33:13.791Z"
   },
   {
    "duration": 61,
    "start_time": "2022-11-13T07:33:13.819Z"
   },
   {
    "duration": 10,
    "start_time": "2022-11-13T07:33:13.882Z"
   },
   {
    "duration": 30,
    "start_time": "2022-11-13T07:33:13.894Z"
   },
   {
    "duration": 4,
    "start_time": "2022-11-13T07:33:13.926Z"
   },
   {
    "duration": 19,
    "start_time": "2022-11-13T07:33:13.932Z"
   },
   {
    "duration": 13,
    "start_time": "2022-11-13T07:33:13.952Z"
   },
   {
    "duration": 56,
    "start_time": "2022-11-13T07:33:13.967Z"
   },
   {
    "duration": 29,
    "start_time": "2022-11-13T07:33:14.026Z"
   },
   {
    "duration": 38,
    "start_time": "2022-11-13T07:33:14.056Z"
   },
   {
    "duration": 25,
    "start_time": "2022-11-13T07:33:14.096Z"
   },
   {
    "duration": 43,
    "start_time": "2022-11-13T07:33:14.123Z"
   },
   {
    "duration": 37,
    "start_time": "2022-11-13T07:33:14.168Z"
   },
   {
    "duration": 41,
    "start_time": "2022-11-13T07:33:14.206Z"
   },
   {
    "duration": 38,
    "start_time": "2022-11-13T07:33:14.249Z"
   },
   {
    "duration": 38,
    "start_time": "2022-11-13T07:33:14.289Z"
   },
   {
    "duration": 35,
    "start_time": "2022-11-13T07:33:14.329Z"
   },
   {
    "duration": 53,
    "start_time": "2022-11-13T07:33:14.365Z"
   },
   {
    "duration": 597,
    "start_time": "2022-11-13T07:33:14.420Z"
   },
   {
    "duration": 9,
    "start_time": "2022-11-13T07:33:15.018Z"
   },
   {
    "duration": 57,
    "start_time": "2022-11-13T07:33:15.028Z"
   },
   {
    "duration": 16,
    "start_time": "2022-11-13T07:33:15.087Z"
   },
   {
    "duration": 77,
    "start_time": "2022-11-13T07:33:15.106Z"
   },
   {
    "duration": 35,
    "start_time": "2022-11-13T07:33:15.184Z"
   },
   {
    "duration": 54,
    "start_time": "2022-11-13T07:33:15.221Z"
   },
   {
    "duration": 325,
    "start_time": "2022-11-13T07:33:15.276Z"
   },
   {
    "duration": 5,
    "start_time": "2022-11-13T07:33:15.602Z"
   },
   {
    "duration": 31,
    "start_time": "2022-11-13T07:33:15.608Z"
   },
   {
    "duration": 294,
    "start_time": "2022-11-13T08:43:02.132Z"
   },
   {
    "duration": 9,
    "start_time": "2022-11-13T08:43:43.539Z"
   },
   {
    "duration": 744,
    "start_time": "2022-11-13T08:48:33.980Z"
   },
   {
    "duration": 739,
    "start_time": "2022-11-13T08:48:51.031Z"
   },
   {
    "duration": 347,
    "start_time": "2022-11-13T08:49:08.816Z"
   },
   {
    "duration": 350,
    "start_time": "2022-11-13T08:49:34.295Z"
   },
   {
    "duration": 294,
    "start_time": "2022-11-13T08:49:40.671Z"
   },
   {
    "duration": 275,
    "start_time": "2022-11-13T08:50:05.878Z"
   },
   {
    "duration": 319,
    "start_time": "2022-11-13T08:50:19.883Z"
   },
   {
    "duration": 9,
    "start_time": "2022-11-13T09:01:18.145Z"
   },
   {
    "duration": 294,
    "start_time": "2022-11-13T09:02:33.073Z"
   },
   {
    "duration": 9,
    "start_time": "2022-11-13T09:07:39.856Z"
   },
   {
    "duration": 444,
    "start_time": "2022-11-13T09:10:21.641Z"
   },
   {
    "duration": 164,
    "start_time": "2022-11-13T09:16:06.607Z"
   },
   {
    "duration": 156,
    "start_time": "2022-11-13T09:29:32.500Z"
   },
   {
    "duration": 7,
    "start_time": "2022-11-13T09:32:10.488Z"
   },
   {
    "duration": 8,
    "start_time": "2022-11-13T09:38:10.911Z"
   },
   {
    "duration": 151,
    "start_time": "2022-11-13T09:40:01.842Z"
   },
   {
    "duration": 8,
    "start_time": "2022-11-13T10:16:02.865Z"
   },
   {
    "duration": 168,
    "start_time": "2022-11-13T10:16:11.017Z"
   },
   {
    "duration": 7,
    "start_time": "2022-11-13T10:20:04.765Z"
   },
   {
    "duration": 180,
    "start_time": "2022-11-13T10:22:00.598Z"
   },
   {
    "duration": 183,
    "start_time": "2022-11-13T10:41:51.623Z"
   },
   {
    "duration": 141,
    "start_time": "2022-11-13T11:19:12.028Z"
   },
   {
    "duration": 8,
    "start_time": "2022-11-13T11:21:45.733Z"
   },
   {
    "duration": 7,
    "start_time": "2022-11-13T11:23:59.292Z"
   },
   {
    "duration": 6,
    "start_time": "2022-11-13T11:24:08.412Z"
   },
   {
    "duration": 7,
    "start_time": "2022-11-13T13:23:03.429Z"
   },
   {
    "duration": 8,
    "start_time": "2022-11-13T13:23:11.156Z"
   },
   {
    "duration": 3,
    "start_time": "2022-11-13T13:32:03.994Z"
   },
   {
    "duration": 136,
    "start_time": "2022-11-13T13:32:03.999Z"
   },
   {
    "duration": 14,
    "start_time": "2022-11-13T13:32:04.137Z"
   },
   {
    "duration": 69,
    "start_time": "2022-11-13T13:32:04.153Z"
   },
   {
    "duration": 2074,
    "start_time": "2022-11-13T13:32:04.224Z"
   },
   {
    "duration": 4,
    "start_time": "2022-11-13T13:32:06.300Z"
   },
   {
    "duration": 5,
    "start_time": "2022-11-13T13:32:06.305Z"
   },
   {
    "duration": 34,
    "start_time": "2022-11-13T13:32:06.312Z"
   },
   {
    "duration": 9,
    "start_time": "2022-11-13T13:32:06.348Z"
   },
   {
    "duration": 12,
    "start_time": "2022-11-13T13:32:06.359Z"
   },
   {
    "duration": 9,
    "start_time": "2022-11-13T13:32:06.372Z"
   },
   {
    "duration": 5,
    "start_time": "2022-11-13T13:32:06.383Z"
   },
   {
    "duration": 7,
    "start_time": "2022-11-13T13:32:06.389Z"
   },
   {
    "duration": 8,
    "start_time": "2022-11-13T13:32:06.399Z"
   },
   {
    "duration": 39,
    "start_time": "2022-11-13T13:32:06.408Z"
   },
   {
    "duration": 5,
    "start_time": "2022-11-13T13:32:06.449Z"
   },
   {
    "duration": 14,
    "start_time": "2022-11-13T13:32:06.456Z"
   },
   {
    "duration": 8,
    "start_time": "2022-11-13T13:32:06.472Z"
   },
   {
    "duration": 4,
    "start_time": "2022-11-13T13:32:06.482Z"
   },
   {
    "duration": 5,
    "start_time": "2022-11-13T13:32:06.488Z"
   },
   {
    "duration": 56,
    "start_time": "2022-11-13T13:32:06.495Z"
   },
   {
    "duration": 8,
    "start_time": "2022-11-13T13:32:06.553Z"
   },
   {
    "duration": 11,
    "start_time": "2022-11-13T13:32:06.562Z"
   },
   {
    "duration": 4,
    "start_time": "2022-11-13T13:32:06.574Z"
   },
   {
    "duration": 10,
    "start_time": "2022-11-13T13:32:06.579Z"
   },
   {
    "duration": 4,
    "start_time": "2022-11-13T13:32:06.591Z"
   },
   {
    "duration": 69,
    "start_time": "2022-11-13T13:32:06.597Z"
   },
   {
    "duration": 10,
    "start_time": "2022-11-13T13:32:06.668Z"
   },
   {
    "duration": 9,
    "start_time": "2022-11-13T13:32:06.679Z"
   },
   {
    "duration": 8,
    "start_time": "2022-11-13T13:32:06.689Z"
   },
   {
    "duration": 9,
    "start_time": "2022-11-13T13:32:06.699Z"
   },
   {
    "duration": 3,
    "start_time": "2022-11-13T13:32:06.710Z"
   },
   {
    "duration": 20,
    "start_time": "2022-11-13T13:32:06.745Z"
   },
   {
    "duration": 10,
    "start_time": "2022-11-13T13:32:06.766Z"
   },
   {
    "duration": 5,
    "start_time": "2022-11-13T13:32:06.778Z"
   },
   {
    "duration": 12,
    "start_time": "2022-11-13T13:32:06.784Z"
   },
   {
    "duration": 53,
    "start_time": "2022-11-13T13:32:06.798Z"
   },
   {
    "duration": 555,
    "start_time": "2022-11-13T13:32:06.853Z"
   },
   {
    "duration": 8,
    "start_time": "2022-11-13T13:32:07.410Z"
   },
   {
    "duration": 40,
    "start_time": "2022-11-13T13:32:07.420Z"
   },
   {
    "duration": 5,
    "start_time": "2022-11-13T13:32:07.466Z"
   },
   {
    "duration": 27,
    "start_time": "2022-11-13T13:32:07.473Z"
   },
   {
    "duration": 4,
    "start_time": "2022-11-13T13:32:07.502Z"
   },
   {
    "duration": 13,
    "start_time": "2022-11-13T13:32:07.507Z"
   },
   {
    "duration": 286,
    "start_time": "2022-11-13T13:32:07.521Z"
   },
   {
    "duration": 5,
    "start_time": "2022-11-13T13:32:07.809Z"
   },
   {
    "duration": 16,
    "start_time": "2022-11-13T13:32:07.815Z"
   },
   {
    "duration": 22,
    "start_time": "2022-11-13T13:32:07.832Z"
   },
   {
    "duration": 346,
    "start_time": "2022-11-13T13:32:07.856Z"
   },
   {
    "duration": 9,
    "start_time": "2022-11-13T13:32:08.204Z"
   },
   {
    "duration": 335,
    "start_time": "2022-11-13T13:32:08.215Z"
   },
   {
    "duration": 9,
    "start_time": "2022-11-13T13:32:08.552Z"
   },
   {
    "duration": 476,
    "start_time": "2022-11-13T13:32:08.563Z"
   },
   {
    "duration": 9,
    "start_time": "2022-11-13T13:32:09.046Z"
   },
   {
    "duration": 327,
    "start_time": "2022-11-13T13:32:09.057Z"
   },
   {
    "duration": 164,
    "start_time": "2022-11-13T13:32:09.386Z"
   },
   {
    "duration": 6,
    "start_time": "2022-11-13T13:32:09.552Z"
   },
   {
    "duration": 11,
    "start_time": "2022-11-13T13:32:09.559Z"
   },
   {
    "duration": 161,
    "start_time": "2022-11-13T13:32:09.571Z"
   },
   {
    "duration": 179,
    "start_time": "2022-11-13T13:32:09.734Z"
   },
   {
    "duration": 6,
    "start_time": "2022-11-13T13:32:09.914Z"
   },
   {
    "duration": 202,
    "start_time": "2022-11-13T13:32:09.921Z"
   },
   {
    "duration": 23,
    "start_time": "2022-11-13T13:32:10.125Z"
   },
   {
    "duration": 6,
    "start_time": "2022-11-13T13:32:10.150Z"
   },
   {
    "duration": 159,
    "start_time": "2022-11-13T13:32:10.158Z"
   },
   {
    "duration": 148,
    "start_time": "2022-11-13T13:33:15.579Z"
   },
   {
    "duration": 45,
    "start_time": "2022-11-13T13:34:49.131Z"
   },
   {
    "duration": 729,
    "start_time": "2022-11-13T13:36:54.126Z"
   },
   {
    "duration": 761,
    "start_time": "2022-11-13T13:37:08.629Z"
   },
   {
    "duration": 132,
    "start_time": "2022-11-13T13:37:53.132Z"
   },
   {
    "duration": 322,
    "start_time": "2022-11-13T13:38:13.659Z"
   },
   {
    "duration": 7,
    "start_time": "2022-11-13T13:38:21.566Z"
   },
   {
    "duration": 196,
    "start_time": "2022-11-13T13:38:39.990Z"
   },
   {
    "duration": 318,
    "start_time": "2022-11-13T13:39:17.205Z"
   },
   {
    "duration": 712,
    "start_time": "2022-11-13T13:50:48.997Z"
   },
   {
    "duration": 267,
    "start_time": "2022-11-13T13:51:24.912Z"
   },
   {
    "duration": 736,
    "start_time": "2022-11-13T13:52:56.693Z"
   },
   {
    "duration": 391,
    "start_time": "2022-11-13T13:53:30.331Z"
   },
   {
    "duration": 285,
    "start_time": "2022-11-13T13:53:33.174Z"
   },
   {
    "duration": 309,
    "start_time": "2022-11-13T13:53:36.174Z"
   },
   {
    "duration": 84,
    "start_time": "2022-11-13T13:57:23.482Z"
   },
   {
    "duration": 14,
    "start_time": "2022-11-13T13:57:53.091Z"
   },
   {
    "duration": 312,
    "start_time": "2022-11-13T13:59:13.448Z"
   },
   {
    "duration": 291,
    "start_time": "2022-11-13T14:05:55.122Z"
   },
   {
    "duration": 138,
    "start_time": "2022-11-13T14:55:48.649Z"
   },
   {
    "duration": 389,
    "start_time": "2022-11-13T14:56:41.761Z"
   },
   {
    "duration": 160,
    "start_time": "2022-11-13T14:57:13.852Z"
   },
   {
    "duration": 132,
    "start_time": "2022-11-13T14:57:35.670Z"
   },
   {
    "duration": 137,
    "start_time": "2022-11-13T14:58:05.383Z"
   },
   {
    "duration": 162,
    "start_time": "2022-11-13T14:59:07.718Z"
   },
   {
    "duration": 129,
    "start_time": "2022-11-13T15:01:46.813Z"
   },
   {
    "duration": 201,
    "start_time": "2022-11-13T15:01:57.649Z"
   },
   {
    "duration": 125,
    "start_time": "2022-11-13T15:08:10.373Z"
   },
   {
    "duration": 10,
    "start_time": "2022-11-13T15:09:22.981Z"
   },
   {
    "duration": 8,
    "start_time": "2022-11-13T15:18:46.308Z"
   },
   {
    "duration": 216,
    "start_time": "2022-11-13T15:18:54.612Z"
   },
   {
    "duration": 8,
    "start_time": "2022-11-13T15:19:36.452Z"
   },
   {
    "duration": 14,
    "start_time": "2022-11-13T15:19:43.199Z"
   },
   {
    "duration": 858,
    "start_time": "2022-11-13T18:29:40.399Z"
   },
   {
    "duration": 180,
    "start_time": "2022-11-13T18:29:41.259Z"
   },
   {
    "duration": 19,
    "start_time": "2022-11-13T18:29:41.441Z"
   },
   {
    "duration": 84,
    "start_time": "2022-11-13T18:29:41.462Z"
   },
   {
    "duration": 2190,
    "start_time": "2022-11-13T18:29:41.548Z"
   },
   {
    "duration": 5,
    "start_time": "2022-11-13T18:29:43.739Z"
   },
   {
    "duration": 12,
    "start_time": "2022-11-13T18:29:43.745Z"
   },
   {
    "duration": 30,
    "start_time": "2022-11-13T18:29:43.759Z"
   },
   {
    "duration": 10,
    "start_time": "2022-11-13T18:29:43.791Z"
   },
   {
    "duration": 11,
    "start_time": "2022-11-13T18:29:43.803Z"
   },
   {
    "duration": 8,
    "start_time": "2022-11-13T18:29:43.815Z"
   },
   {
    "duration": 4,
    "start_time": "2022-11-13T18:29:43.824Z"
   },
   {
    "duration": 7,
    "start_time": "2022-11-13T18:29:43.830Z"
   },
   {
    "duration": 40,
    "start_time": "2022-11-13T18:29:43.839Z"
   },
   {
    "duration": 5,
    "start_time": "2022-11-13T18:29:43.881Z"
   },
   {
    "duration": 4,
    "start_time": "2022-11-13T18:29:43.888Z"
   },
   {
    "duration": 9,
    "start_time": "2022-11-13T18:29:43.894Z"
   },
   {
    "duration": 7,
    "start_time": "2022-11-13T18:29:43.905Z"
   },
   {
    "duration": 4,
    "start_time": "2022-11-13T18:29:43.914Z"
   },
   {
    "duration": 7,
    "start_time": "2022-11-13T18:29:43.920Z"
   },
   {
    "duration": 62,
    "start_time": "2022-11-13T18:29:43.929Z"
   },
   {
    "duration": 12,
    "start_time": "2022-11-13T18:29:43.992Z"
   },
   {
    "duration": 20,
    "start_time": "2022-11-13T18:29:44.006Z"
   },
   {
    "duration": 10,
    "start_time": "2022-11-13T18:29:44.028Z"
   },
   {
    "duration": 16,
    "start_time": "2022-11-13T18:29:44.040Z"
   },
   {
    "duration": 26,
    "start_time": "2022-11-13T18:29:44.058Z"
   },
   {
    "duration": 66,
    "start_time": "2022-11-13T18:29:44.086Z"
   },
   {
    "duration": 8,
    "start_time": "2022-11-13T18:29:44.177Z"
   },
   {
    "duration": 12,
    "start_time": "2022-11-13T18:29:44.187Z"
   },
   {
    "duration": 8,
    "start_time": "2022-11-13T18:29:44.201Z"
   },
   {
    "duration": 7,
    "start_time": "2022-11-13T18:29:44.211Z"
   },
   {
    "duration": 5,
    "start_time": "2022-11-13T18:29:44.219Z"
   },
   {
    "duration": 14,
    "start_time": "2022-11-13T18:29:44.226Z"
   },
   {
    "duration": 15,
    "start_time": "2022-11-13T18:29:44.277Z"
   },
   {
    "duration": 6,
    "start_time": "2022-11-13T18:29:44.294Z"
   },
   {
    "duration": 12,
    "start_time": "2022-11-13T18:29:44.302Z"
   },
   {
    "duration": 69,
    "start_time": "2022-11-13T18:29:44.316Z"
   },
   {
    "duration": 542,
    "start_time": "2022-11-13T18:29:44.387Z"
   },
   {
    "duration": 11,
    "start_time": "2022-11-13T18:29:44.931Z"
   },
   {
    "duration": 46,
    "start_time": "2022-11-13T18:29:44.944Z"
   },
   {
    "duration": 4,
    "start_time": "2022-11-13T18:29:44.992Z"
   },
   {
    "duration": 40,
    "start_time": "2022-11-13T18:29:44.997Z"
   },
   {
    "duration": 4,
    "start_time": "2022-11-13T18:29:45.040Z"
   },
   {
    "duration": 31,
    "start_time": "2022-11-13T18:29:45.047Z"
   },
   {
    "duration": 283,
    "start_time": "2022-11-13T18:29:45.080Z"
   },
   {
    "duration": 4,
    "start_time": "2022-11-13T18:29:45.364Z"
   },
   {
    "duration": 5,
    "start_time": "2022-11-13T18:29:45.377Z"
   },
   {
    "duration": 11,
    "start_time": "2022-11-13T18:29:45.384Z"
   },
   {
    "duration": 347,
    "start_time": "2022-11-13T18:29:45.397Z"
   },
   {
    "duration": 8,
    "start_time": "2022-11-13T18:29:45.746Z"
   },
   {
    "duration": 445,
    "start_time": "2022-11-13T18:29:45.756Z"
   },
   {
    "duration": 9,
    "start_time": "2022-11-13T18:29:46.203Z"
   },
   {
    "duration": 364,
    "start_time": "2022-11-13T18:29:46.214Z"
   },
   {
    "duration": 10,
    "start_time": "2022-11-13T18:29:46.580Z"
   },
   {
    "duration": 358,
    "start_time": "2022-11-13T18:29:46.591Z"
   },
   {
    "duration": 187,
    "start_time": "2022-11-13T18:29:46.950Z"
   },
   {
    "duration": 6,
    "start_time": "2022-11-13T18:29:47.139Z"
   },
   {
    "duration": 9,
    "start_time": "2022-11-13T18:29:47.147Z"
   },
   {
    "duration": 182,
    "start_time": "2022-11-13T18:29:47.158Z"
   },
   {
    "duration": 197,
    "start_time": "2022-11-13T18:29:47.341Z"
   },
   {
    "duration": 6,
    "start_time": "2022-11-13T18:29:47.539Z"
   },
   {
    "duration": 196,
    "start_time": "2022-11-13T18:29:47.547Z"
   },
   {
    "duration": 10,
    "start_time": "2022-11-13T18:29:47.744Z"
   },
   {
    "duration": 22,
    "start_time": "2022-11-13T18:29:47.756Z"
   },
   {
    "duration": 157,
    "start_time": "2022-11-13T18:29:47.780Z"
   },
   {
    "duration": 9,
    "start_time": "2022-11-13T18:29:47.939Z"
   },
   {
    "duration": 437,
    "start_time": "2022-11-13T18:29:47.950Z"
   },
   {
    "duration": 321,
    "start_time": "2022-11-13T18:29:48.389Z"
   },
   {
    "duration": 327,
    "start_time": "2022-11-13T18:29:48.711Z"
   },
   {
    "duration": 397,
    "start_time": "2022-11-13T18:29:49.040Z"
   },
   {
    "duration": 359,
    "start_time": "2022-11-13T18:29:49.438Z"
   },
   {
    "duration": 323,
    "start_time": "2022-11-13T18:29:49.799Z"
   },
   {
    "duration": 10,
    "start_time": "2022-11-13T18:29:50.124Z"
   },
   {
    "duration": 291,
    "start_time": "2022-11-13T18:29:50.136Z"
   },
   {
    "duration": 157,
    "start_time": "2022-11-13T18:29:50.429Z"
   },
   {
    "duration": 247,
    "start_time": "2022-11-13T18:29:50.587Z"
   },
   {
    "duration": 13,
    "start_time": "2022-11-13T18:29:50.836Z"
   },
   {
    "duration": 538,
    "start_time": "2022-11-13T18:30:27.457Z"
   },
   {
    "duration": 130,
    "start_time": "2022-11-13T18:30:27.998Z"
   },
   {
    "duration": 17,
    "start_time": "2022-11-13T18:30:28.130Z"
   },
   {
    "duration": 97,
    "start_time": "2022-11-13T18:30:28.151Z"
   },
   {
    "duration": 2241,
    "start_time": "2022-11-13T18:30:28.250Z"
   },
   {
    "duration": 4,
    "start_time": "2022-11-13T18:30:30.493Z"
   },
   {
    "duration": 12,
    "start_time": "2022-11-13T18:30:30.499Z"
   },
   {
    "duration": 42,
    "start_time": "2022-11-13T18:30:30.513Z"
   },
   {
    "duration": 18,
    "start_time": "2022-11-13T18:30:30.557Z"
   },
   {
    "duration": 10,
    "start_time": "2022-11-13T18:30:30.577Z"
   },
   {
    "duration": 22,
    "start_time": "2022-11-13T18:30:30.589Z"
   },
   {
    "duration": 36,
    "start_time": "2022-11-13T18:30:30.613Z"
   },
   {
    "duration": 22,
    "start_time": "2022-11-13T18:30:30.651Z"
   },
   {
    "duration": 33,
    "start_time": "2022-11-13T18:30:30.675Z"
   },
   {
    "duration": 25,
    "start_time": "2022-11-13T18:30:30.710Z"
   },
   {
    "duration": 32,
    "start_time": "2022-11-13T18:30:30.737Z"
   },
   {
    "duration": 20,
    "start_time": "2022-11-13T18:30:30.771Z"
   },
   {
    "duration": 13,
    "start_time": "2022-11-13T18:30:30.793Z"
   },
   {
    "duration": 94,
    "start_time": "2022-11-13T18:30:30.808Z"
   },
   {
    "duration": 37,
    "start_time": "2022-11-13T18:30:30.904Z"
   },
   {
    "duration": 45,
    "start_time": "2022-11-13T18:30:30.943Z"
   },
   {
    "duration": 8,
    "start_time": "2022-11-13T18:30:30.990Z"
   },
   {
    "duration": 21,
    "start_time": "2022-11-13T18:30:31.000Z"
   },
   {
    "duration": 8,
    "start_time": "2022-11-13T18:30:31.023Z"
   },
   {
    "duration": 23,
    "start_time": "2022-11-13T18:30:31.033Z"
   },
   {
    "duration": 10,
    "start_time": "2022-11-13T18:30:31.058Z"
   },
   {
    "duration": 50,
    "start_time": "2022-11-13T18:30:31.078Z"
   },
   {
    "duration": 6,
    "start_time": "2022-11-13T18:30:31.132Z"
   },
   {
    "duration": 19,
    "start_time": "2022-11-13T18:30:31.140Z"
   },
   {
    "duration": 25,
    "start_time": "2022-11-13T18:30:31.161Z"
   },
   {
    "duration": 9,
    "start_time": "2022-11-13T18:30:31.188Z"
   },
   {
    "duration": 12,
    "start_time": "2022-11-13T18:30:31.198Z"
   },
   {
    "duration": 22,
    "start_time": "2022-11-13T18:30:31.212Z"
   },
   {
    "duration": 13,
    "start_time": "2022-11-13T18:30:31.236Z"
   },
   {
    "duration": 30,
    "start_time": "2022-11-13T18:30:31.251Z"
   },
   {
    "duration": 24,
    "start_time": "2022-11-13T18:30:31.283Z"
   },
   {
    "duration": 91,
    "start_time": "2022-11-13T18:30:31.308Z"
   },
   {
    "duration": 571,
    "start_time": "2022-11-13T18:30:31.401Z"
   },
   {
    "duration": 12,
    "start_time": "2022-11-13T18:30:31.974Z"
   },
   {
    "duration": 36,
    "start_time": "2022-11-13T18:30:31.987Z"
   },
   {
    "duration": 3,
    "start_time": "2022-11-13T18:30:32.025Z"
   },
   {
    "duration": 28,
    "start_time": "2022-11-13T18:30:32.030Z"
   },
   {
    "duration": 19,
    "start_time": "2022-11-13T18:30:32.060Z"
   },
   {
    "duration": 15,
    "start_time": "2022-11-13T18:30:32.081Z"
   },
   {
    "duration": 295,
    "start_time": "2022-11-13T18:30:32.098Z"
   },
   {
    "duration": 4,
    "start_time": "2022-11-13T18:30:32.395Z"
   },
   {
    "duration": 8,
    "start_time": "2022-11-13T18:30:32.401Z"
   },
   {
    "duration": 11,
    "start_time": "2022-11-13T18:30:32.411Z"
   },
   {
    "duration": 350,
    "start_time": "2022-11-13T18:30:32.423Z"
   },
   {
    "duration": 10,
    "start_time": "2022-11-13T18:30:32.777Z"
   },
   {
    "duration": 366,
    "start_time": "2022-11-13T18:30:32.789Z"
   },
   {
    "duration": 9,
    "start_time": "2022-11-13T18:30:33.156Z"
   },
   {
    "duration": 371,
    "start_time": "2022-11-13T18:30:33.167Z"
   },
   {
    "duration": 10,
    "start_time": "2022-11-13T18:30:33.540Z"
   },
   {
    "duration": 638,
    "start_time": "2022-11-13T18:30:33.552Z"
   },
   {
    "duration": 218,
    "start_time": "2022-11-13T18:30:34.192Z"
   },
   {
    "duration": 6,
    "start_time": "2022-11-13T18:30:34.412Z"
   },
   {
    "duration": 9,
    "start_time": "2022-11-13T18:30:34.420Z"
   },
   {
    "duration": 182,
    "start_time": "2022-11-13T18:30:34.431Z"
   },
   {
    "duration": 208,
    "start_time": "2022-11-13T18:30:34.615Z"
   },
   {
    "duration": 6,
    "start_time": "2022-11-13T18:30:34.825Z"
   },
   {
    "duration": 202,
    "start_time": "2022-11-13T18:30:34.833Z"
   },
   {
    "duration": 11,
    "start_time": "2022-11-13T18:30:35.037Z"
   },
   {
    "duration": 6,
    "start_time": "2022-11-13T18:30:35.050Z"
   },
   {
    "duration": 168,
    "start_time": "2022-11-13T18:30:35.078Z"
   },
   {
    "duration": 8,
    "start_time": "2022-11-13T18:30:35.247Z"
   },
   {
    "duration": 353,
    "start_time": "2022-11-13T18:30:35.257Z"
   },
   {
    "duration": 354,
    "start_time": "2022-11-13T18:30:35.612Z"
   },
   {
    "duration": 324,
    "start_time": "2022-11-13T18:30:35.968Z"
   },
   {
    "duration": 356,
    "start_time": "2022-11-13T18:30:36.294Z"
   },
   {
    "duration": 361,
    "start_time": "2022-11-13T18:30:36.652Z"
   },
   {
    "duration": 351,
    "start_time": "2022-11-13T18:30:37.014Z"
   },
   {
    "duration": 13,
    "start_time": "2022-11-13T18:30:37.366Z"
   },
   {
    "duration": 161,
    "start_time": "2022-11-13T18:30:37.381Z"
   },
   {
    "duration": 153,
    "start_time": "2022-11-13T18:30:37.544Z"
   },
   {
    "duration": 255,
    "start_time": "2022-11-13T18:30:37.699Z"
   },
   {
    "duration": 23,
    "start_time": "2022-11-13T18:30:37.956Z"
   },
   {
    "duration": 557,
    "start_time": "2022-11-13T18:34:27.467Z"
   },
   {
    "duration": 101,
    "start_time": "2022-11-13T19:28:24.555Z"
   },
   {
    "duration": 15,
    "start_time": "2022-11-13T19:30:56.529Z"
   },
   {
    "duration": 17,
    "start_time": "2022-11-13T19:33:21.275Z"
   },
   {
    "duration": 25,
    "start_time": "2022-11-13T19:34:11.220Z"
   },
   {
    "duration": 27,
    "start_time": "2022-11-13T19:34:34.343Z"
   },
   {
    "duration": 25,
    "start_time": "2022-11-13T19:34:45.071Z"
   },
   {
    "duration": 187,
    "start_time": "2022-11-13T19:38:45.429Z"
   },
   {
    "duration": 189,
    "start_time": "2022-11-13T19:39:30.601Z"
   },
   {
    "duration": 181,
    "start_time": "2022-11-13T19:39:31.527Z"
   },
   {
    "duration": 19,
    "start_time": "2022-11-13T19:52:35.364Z"
   },
   {
    "duration": 215,
    "start_time": "2022-11-13T19:53:04.166Z"
   },
   {
    "duration": 17,
    "start_time": "2022-11-13T19:54:01.447Z"
   },
   {
    "duration": 179,
    "start_time": "2022-11-13T19:54:22.289Z"
   },
   {
    "duration": 78,
    "start_time": "2022-11-14T03:13:48.349Z"
   },
   {
    "duration": 83,
    "start_time": "2022-11-14T03:14:09.958Z"
   },
   {
    "duration": 2,
    "start_time": "2022-11-14T03:57:05.910Z"
   },
   {
    "duration": 1421,
    "start_time": "2022-11-14T03:57:33.761Z"
   },
   {
    "duration": 175,
    "start_time": "2022-11-14T03:57:35.184Z"
   },
   {
    "duration": 15,
    "start_time": "2022-11-14T03:57:35.361Z"
   },
   {
    "duration": 98,
    "start_time": "2022-11-14T03:57:35.379Z"
   },
   {
    "duration": 5,
    "start_time": "2022-11-14T03:57:37.802Z"
   },
   {
    "duration": 45,
    "start_time": "2022-11-14T03:57:37.808Z"
   },
   {
    "duration": 120,
    "start_time": "2022-11-14T03:57:37.855Z"
   },
   {
    "duration": 15,
    "start_time": "2022-11-14T03:57:37.977Z"
   },
   {
    "duration": 90,
    "start_time": "2022-11-14T03:57:37.994Z"
   },
   {
    "duration": 12,
    "start_time": "2022-11-14T03:57:40.505Z"
   },
   {
    "duration": 133,
    "start_time": "2022-11-14T03:57:40.519Z"
   },
   {
    "duration": 20,
    "start_time": "2022-11-14T03:57:40.654Z"
   },
   {
    "duration": 105,
    "start_time": "2022-11-14T03:57:40.676Z"
   },
   {
    "duration": 2228,
    "start_time": "2022-11-14T03:57:40.783Z"
   },
   {
    "duration": 24,
    "start_time": "2022-11-14T03:57:43.014Z"
   },
   {
    "duration": 5,
    "start_time": "2022-11-14T03:57:43.050Z"
   },
   {
    "duration": 8,
    "start_time": "2022-11-14T03:57:43.057Z"
   },
   {
    "duration": 15,
    "start_time": "2022-11-14T03:57:43.066Z"
   },
   {
    "duration": 10,
    "start_time": "2022-11-14T03:57:43.083Z"
   },
   {
    "duration": 9,
    "start_time": "2022-11-14T03:57:43.094Z"
   },
   {
    "duration": 4,
    "start_time": "2022-11-14T03:57:43.104Z"
   },
   {
    "duration": 44,
    "start_time": "2022-11-14T03:57:43.110Z"
   },
   {
    "duration": 9,
    "start_time": "2022-11-14T03:57:43.155Z"
   },
   {
    "duration": 14,
    "start_time": "2022-11-14T03:57:43.166Z"
   },
   {
    "duration": 9,
    "start_time": "2022-11-14T03:57:43.182Z"
   },
   {
    "duration": 3,
    "start_time": "2022-11-14T03:58:24.467Z"
   },
   {
    "duration": 50,
    "start_time": "2022-11-14T03:58:32.570Z"
   },
   {
    "duration": 111,
    "start_time": "2022-11-14T03:58:45.380Z"
   },
   {
    "duration": 26,
    "start_time": "2022-11-14T03:58:55.997Z"
   },
   {
    "duration": 18,
    "start_time": "2022-11-14T03:59:07.247Z"
   },
   {
    "duration": 49,
    "start_time": "2022-11-14T03:59:41.236Z"
   },
   {
    "duration": 8,
    "start_time": "2022-11-14T04:00:12.220Z"
   },
   {
    "duration": 11,
    "start_time": "2022-11-14T04:37:42.178Z"
   },
   {
    "duration": 11,
    "start_time": "2022-11-14T04:58:50.493Z"
   },
   {
    "duration": 6,
    "start_time": "2022-11-14T04:59:24.914Z"
   },
   {
    "duration": 8,
    "start_time": "2022-11-14T05:01:55.499Z"
   },
   {
    "duration": 8,
    "start_time": "2022-11-14T05:02:30.675Z"
   },
   {
    "duration": 9,
    "start_time": "2022-11-14T05:02:37.795Z"
   },
   {
    "duration": 14,
    "start_time": "2022-11-14T05:03:06.431Z"
   },
   {
    "duration": 6,
    "start_time": "2022-11-14T05:03:40.307Z"
   },
   {
    "duration": 9,
    "start_time": "2022-11-14T05:14:34.207Z"
   },
   {
    "duration": 11,
    "start_time": "2022-11-14T05:18:51.323Z"
   },
   {
    "duration": 12,
    "start_time": "2022-11-14T05:20:00.472Z"
   },
   {
    "duration": 10,
    "start_time": "2022-11-14T05:20:42.547Z"
   },
   {
    "duration": 13,
    "start_time": "2022-11-14T05:24:31.446Z"
   },
   {
    "duration": 251,
    "start_time": "2022-11-14T05:45:16.400Z"
   },
   {
    "duration": 5,
    "start_time": "2022-11-14T05:48:34.277Z"
   },
   {
    "duration": 6,
    "start_time": "2022-11-14T06:06:52.537Z"
   },
   {
    "duration": 5,
    "start_time": "2022-11-14T06:14:35.007Z"
   },
   {
    "duration": 15,
    "start_time": "2022-11-14T06:16:11.161Z"
   },
   {
    "duration": 12,
    "start_time": "2022-11-14T06:17:25.065Z"
   },
   {
    "duration": 3,
    "start_time": "2022-11-14T06:17:38.302Z"
   },
   {
    "duration": 129,
    "start_time": "2022-11-14T06:17:38.307Z"
   },
   {
    "duration": 26,
    "start_time": "2022-11-14T06:17:38.438Z"
   },
   {
    "duration": 93,
    "start_time": "2022-11-14T06:17:38.466Z"
   },
   {
    "duration": 2493,
    "start_time": "2022-11-14T06:17:38.562Z"
   },
   {
    "duration": 4,
    "start_time": "2022-11-14T06:17:41.057Z"
   },
   {
    "duration": 5,
    "start_time": "2022-11-14T06:17:41.063Z"
   },
   {
    "duration": 34,
    "start_time": "2022-11-14T06:17:41.070Z"
   },
   {
    "duration": 9,
    "start_time": "2022-11-14T06:17:41.106Z"
   },
   {
    "duration": 41,
    "start_time": "2022-11-14T06:17:41.117Z"
   },
   {
    "duration": 12,
    "start_time": "2022-11-14T06:17:41.160Z"
   },
   {
    "duration": 5,
    "start_time": "2022-11-14T06:17:41.174Z"
   },
   {
    "duration": 11,
    "start_time": "2022-11-14T06:17:41.181Z"
   },
   {
    "duration": 14,
    "start_time": "2022-11-14T06:17:41.197Z"
   },
   {
    "duration": 38,
    "start_time": "2022-11-14T06:17:41.213Z"
   },
   {
    "duration": 5,
    "start_time": "2022-11-14T06:17:41.253Z"
   },
   {
    "duration": 14,
    "start_time": "2022-11-14T06:17:41.260Z"
   },
   {
    "duration": 3,
    "start_time": "2022-11-14T06:17:41.275Z"
   },
   {
    "duration": 12,
    "start_time": "2022-11-14T06:17:41.280Z"
   },
   {
    "duration": 5,
    "start_time": "2022-11-14T06:17:41.295Z"
   },
   {
    "duration": 6,
    "start_time": "2022-11-14T06:17:41.301Z"
   },
   {
    "duration": 66,
    "start_time": "2022-11-14T06:17:41.309Z"
   },
   {
    "duration": 12,
    "start_time": "2022-11-14T06:17:41.377Z"
   },
   {
    "duration": 14,
    "start_time": "2022-11-14T06:17:41.391Z"
   },
   {
    "duration": 3,
    "start_time": "2022-11-14T06:17:41.406Z"
   },
   {
    "duration": 16,
    "start_time": "2022-11-14T06:17:41.410Z"
   },
   {
    "duration": 32,
    "start_time": "2022-11-14T06:17:41.427Z"
   },
   {
    "duration": 10,
    "start_time": "2022-11-14T06:17:41.461Z"
   },
   {
    "duration": 46,
    "start_time": "2022-11-14T06:17:41.473Z"
   },
   {
    "duration": 30,
    "start_time": "2022-11-14T06:17:41.521Z"
   },
   {
    "duration": 9,
    "start_time": "2022-11-14T06:17:41.553Z"
   },
   {
    "duration": 8,
    "start_time": "2022-11-14T06:17:41.564Z"
   },
   {
    "duration": 10,
    "start_time": "2022-11-14T06:17:41.574Z"
   },
   {
    "duration": 8,
    "start_time": "2022-11-14T06:17:41.586Z"
   },
   {
    "duration": 20,
    "start_time": "2022-11-14T06:17:41.596Z"
   },
   {
    "duration": 44,
    "start_time": "2022-11-14T06:17:41.618Z"
   },
   {
    "duration": 6,
    "start_time": "2022-11-14T06:17:41.664Z"
   },
   {
    "duration": 15,
    "start_time": "2022-11-14T06:17:41.672Z"
   },
   {
    "duration": 41,
    "start_time": "2022-11-14T06:17:41.689Z"
   },
   {
    "duration": 672,
    "start_time": "2022-11-14T06:17:41.732Z"
   },
   {
    "duration": 17,
    "start_time": "2022-11-14T06:17:42.411Z"
   },
   {
    "duration": 37,
    "start_time": "2022-11-14T06:17:42.430Z"
   },
   {
    "duration": 5,
    "start_time": "2022-11-14T06:17:42.470Z"
   },
   {
    "duration": 36,
    "start_time": "2022-11-14T06:17:42.476Z"
   },
   {
    "duration": 11,
    "start_time": "2022-11-14T06:17:42.514Z"
   },
   {
    "duration": 23,
    "start_time": "2022-11-14T06:17:42.528Z"
   },
   {
    "duration": 324,
    "start_time": "2022-11-14T06:17:42.553Z"
   },
   {
    "duration": 4,
    "start_time": "2022-11-14T06:17:42.878Z"
   },
   {
    "duration": 9,
    "start_time": "2022-11-14T06:17:42.884Z"
   },
   {
    "duration": 16,
    "start_time": "2022-11-14T06:17:42.895Z"
   },
   {
    "duration": 340,
    "start_time": "2022-11-14T06:17:42.913Z"
   },
   {
    "duration": 10,
    "start_time": "2022-11-14T06:17:43.255Z"
   },
   {
    "duration": 486,
    "start_time": "2022-11-14T06:17:43.267Z"
   },
   {
    "duration": 10,
    "start_time": "2022-11-14T06:17:43.755Z"
   },
   {
    "duration": 336,
    "start_time": "2022-11-14T06:17:43.766Z"
   },
   {
    "duration": 10,
    "start_time": "2022-11-14T06:17:44.103Z"
   },
   {
    "duration": 387,
    "start_time": "2022-11-14T06:17:44.115Z"
   },
   {
    "duration": 194,
    "start_time": "2022-11-14T06:17:44.505Z"
   },
   {
    "duration": 8,
    "start_time": "2022-11-14T06:17:44.700Z"
   },
   {
    "duration": 22,
    "start_time": "2022-11-14T06:17:44.710Z"
   },
   {
    "duration": 176,
    "start_time": "2022-11-14T06:17:44.734Z"
   },
   {
    "duration": 178,
    "start_time": "2022-11-14T06:17:44.912Z"
   },
   {
    "duration": 7,
    "start_time": "2022-11-14T06:17:45.092Z"
   },
   {
    "duration": 210,
    "start_time": "2022-11-14T06:17:45.101Z"
   },
   {
    "duration": 9,
    "start_time": "2022-11-14T06:17:45.313Z"
   },
   {
    "duration": 5,
    "start_time": "2022-11-14T06:17:45.324Z"
   },
   {
    "duration": 180,
    "start_time": "2022-11-14T06:17:45.331Z"
   },
   {
    "duration": 18,
    "start_time": "2022-11-14T06:17:45.513Z"
   },
   {
    "duration": 361,
    "start_time": "2022-11-14T06:17:45.533Z"
   },
   {
    "duration": 345,
    "start_time": "2022-11-14T06:17:45.896Z"
   },
   {
    "duration": 328,
    "start_time": "2022-11-14T06:17:46.243Z"
   },
   {
    "duration": 537,
    "start_time": "2022-11-14T06:17:46.574Z"
   },
   {
    "duration": 368,
    "start_time": "2022-11-14T06:17:47.113Z"
   },
   {
    "duration": 353,
    "start_time": "2022-11-14T06:17:47.483Z"
   },
   {
    "duration": 17,
    "start_time": "2022-11-14T06:17:47.838Z"
   },
   {
    "duration": 160,
    "start_time": "2022-11-14T06:17:47.857Z"
   },
   {
    "duration": 162,
    "start_time": "2022-11-14T06:17:48.019Z"
   },
   {
    "duration": 270,
    "start_time": "2022-11-14T06:17:48.183Z"
   },
   {
    "duration": 15,
    "start_time": "2022-11-14T06:17:48.455Z"
   },
   {
    "duration": 347,
    "start_time": "2022-11-14T06:17:48.472Z"
   },
   {
    "duration": 6,
    "start_time": "2022-11-14T06:17:48.821Z"
   },
   {
    "duration": 245,
    "start_time": "2022-11-14T06:17:48.829Z"
   },
   {
    "duration": 16,
    "start_time": "2022-11-14T06:18:21.518Z"
   },
   {
    "duration": 17,
    "start_time": "2022-11-14T06:18:56.856Z"
   },
   {
    "duration": 10,
    "start_time": "2022-11-14T06:19:17.246Z"
   },
   {
    "duration": 148,
    "start_time": "2022-11-14T06:21:42.760Z"
   },
   {
    "duration": 10,
    "start_time": "2022-11-14T06:23:25.245Z"
   },
   {
    "duration": 6,
    "start_time": "2022-11-14T06:23:32.717Z"
   },
   {
    "duration": 235,
    "start_time": "2022-11-14T06:24:32.693Z"
   },
   {
    "duration": 9,
    "start_time": "2022-11-14T06:31:46.478Z"
   },
   {
    "duration": 15,
    "start_time": "2022-11-14T06:31:51.897Z"
   },
   {
    "duration": 11,
    "start_time": "2022-11-14T06:31:59.269Z"
   },
   {
    "duration": 8,
    "start_time": "2022-11-14T06:32:09.480Z"
   },
   {
    "duration": 6,
    "start_time": "2022-11-14T06:43:06.945Z"
   },
   {
    "duration": 286,
    "start_time": "2022-11-14T06:43:35.765Z"
   },
   {
    "duration": 3,
    "start_time": "2022-11-14T06:43:46.853Z"
   },
   {
    "duration": 225,
    "start_time": "2022-11-14T06:44:27.358Z"
   },
   {
    "duration": 6,
    "start_time": "2022-11-14T06:44:52.393Z"
   },
   {
    "duration": 264,
    "start_time": "2022-11-14T06:46:21.960Z"
   },
   {
    "duration": 221,
    "start_time": "2022-11-14T06:48:17.179Z"
   },
   {
    "duration": 12,
    "start_time": "2022-11-14T06:54:42.234Z"
   },
   {
    "duration": 8,
    "start_time": "2022-11-14T06:54:51.164Z"
   },
   {
    "duration": 295,
    "start_time": "2022-11-14T07:00:03.544Z"
   },
   {
    "duration": 207,
    "start_time": "2022-11-14T07:03:40.065Z"
   },
   {
    "duration": 229,
    "start_time": "2022-11-14T07:03:58.016Z"
   },
   {
    "duration": 270,
    "start_time": "2022-11-14T07:05:47.202Z"
   },
   {
    "duration": 1483,
    "start_time": "2023-07-15T08:39:57.812Z"
   },
   {
    "duration": 174,
    "start_time": "2023-07-15T08:39:59.297Z"
   },
   {
    "duration": 16,
    "start_time": "2023-07-15T08:39:59.473Z"
   },
   {
    "duration": 89,
    "start_time": "2023-07-15T08:39:59.492Z"
   },
   {
    "duration": 2199,
    "start_time": "2023-07-15T08:39:59.584Z"
   },
   {
    "duration": 5,
    "start_time": "2023-07-15T08:40:01.785Z"
   },
   {
    "duration": 98,
    "start_time": "2023-07-15T08:40:01.792Z"
   },
   {
    "duration": 114,
    "start_time": "2023-07-15T08:40:01.892Z"
   },
   {
    "duration": 76,
    "start_time": "2023-07-15T08:40:02.008Z"
   },
   {
    "duration": 79,
    "start_time": "2023-07-15T08:40:02.087Z"
   },
   {
    "duration": 55,
    "start_time": "2023-07-15T08:40:02.168Z"
   },
   {
    "duration": 48,
    "start_time": "2023-07-15T08:40:02.224Z"
   },
   {
    "duration": 54,
    "start_time": "2023-07-15T08:40:02.274Z"
   },
   {
    "duration": 106,
    "start_time": "2023-07-15T08:40:02.330Z"
   },
   {
    "duration": 46,
    "start_time": "2023-07-15T08:40:02.438Z"
   },
   {
    "duration": 38,
    "start_time": "2023-07-15T08:40:02.486Z"
   },
   {
    "duration": 23,
    "start_time": "2023-07-15T08:40:02.527Z"
   },
   {
    "duration": 22,
    "start_time": "2023-07-15T08:40:02.552Z"
   },
   {
    "duration": 38,
    "start_time": "2023-07-15T08:40:02.576Z"
   },
   {
    "duration": 30,
    "start_time": "2023-07-15T08:40:02.615Z"
   },
   {
    "duration": 87,
    "start_time": "2023-07-15T08:40:02.647Z"
   },
   {
    "duration": 53,
    "start_time": "2023-07-15T08:40:02.737Z"
   },
   {
    "duration": 52,
    "start_time": "2023-07-15T08:40:02.792Z"
   },
   {
    "duration": 45,
    "start_time": "2023-07-15T08:40:02.847Z"
   },
   {
    "duration": 23,
    "start_time": "2023-07-15T08:40:02.895Z"
   },
   {
    "duration": 56,
    "start_time": "2023-07-15T08:40:02.919Z"
   },
   {
    "duration": 26,
    "start_time": "2023-07-15T08:40:02.976Z"
   },
   {
    "duration": 15,
    "start_time": "2023-07-15T08:40:03.006Z"
   },
   {
    "duration": 62,
    "start_time": "2023-07-15T08:40:03.022Z"
   },
   {
    "duration": 6,
    "start_time": "2023-07-15T08:40:03.086Z"
   },
   {
    "duration": 15,
    "start_time": "2023-07-15T08:40:03.094Z"
   },
   {
    "duration": 10,
    "start_time": "2023-07-15T08:40:03.111Z"
   },
   {
    "duration": 9,
    "start_time": "2023-07-15T08:40:03.123Z"
   },
   {
    "duration": 5,
    "start_time": "2023-07-15T08:40:03.168Z"
   },
   {
    "duration": 36,
    "start_time": "2023-07-15T08:40:03.175Z"
   },
   {
    "duration": 19,
    "start_time": "2023-07-15T08:40:03.213Z"
   },
   {
    "duration": 5,
    "start_time": "2023-07-15T08:40:03.234Z"
   },
   {
    "duration": 54,
    "start_time": "2023-07-15T08:40:03.241Z"
   },
   {
    "duration": 39,
    "start_time": "2023-07-15T08:40:03.297Z"
   },
   {
    "duration": 631,
    "start_time": "2023-07-15T08:40:03.338Z"
   },
   {
    "duration": 13,
    "start_time": "2023-07-15T08:40:03.971Z"
   },
   {
    "duration": 36,
    "start_time": "2023-07-15T08:40:03.986Z"
   },
   {
    "duration": 5,
    "start_time": "2023-07-15T08:40:04.025Z"
   },
   {
    "duration": 44,
    "start_time": "2023-07-15T08:40:04.066Z"
   },
   {
    "duration": 5,
    "start_time": "2023-07-15T08:40:04.113Z"
   },
   {
    "duration": 28,
    "start_time": "2023-07-15T08:40:04.119Z"
   },
   {
    "duration": 336,
    "start_time": "2023-07-15T08:40:04.149Z"
   },
   {
    "duration": 3,
    "start_time": "2023-07-15T08:40:04.487Z"
   },
   {
    "duration": 18,
    "start_time": "2023-07-15T08:40:04.492Z"
   },
   {
    "duration": 13,
    "start_time": "2023-07-15T08:40:04.512Z"
   },
   {
    "duration": 380,
    "start_time": "2023-07-15T08:40:04.527Z"
   },
   {
    "duration": 11,
    "start_time": "2023-07-15T08:40:04.908Z"
   },
   {
    "duration": 357,
    "start_time": "2023-07-15T08:40:04.920Z"
   },
   {
    "duration": 11,
    "start_time": "2023-07-15T08:40:05.279Z"
   },
   {
    "duration": 343,
    "start_time": "2023-07-15T08:40:05.292Z"
   },
   {
    "duration": 9,
    "start_time": "2023-07-15T08:40:05.637Z"
   },
   {
    "duration": 461,
    "start_time": "2023-07-15T08:40:05.648Z"
   },
   {
    "duration": 191,
    "start_time": "2023-07-15T08:40:06.111Z"
   },
   {
    "duration": 9,
    "start_time": "2023-07-15T08:40:06.304Z"
   },
   {
    "duration": 26,
    "start_time": "2023-07-15T08:40:06.316Z"
   },
   {
    "duration": 191,
    "start_time": "2023-07-15T08:40:06.345Z"
   },
   {
    "duration": 180,
    "start_time": "2023-07-15T08:40:06.539Z"
   },
   {
    "duration": 8,
    "start_time": "2023-07-15T08:40:06.721Z"
   },
   {
    "duration": 217,
    "start_time": "2023-07-15T08:40:06.731Z"
   },
   {
    "duration": 17,
    "start_time": "2023-07-15T08:40:06.950Z"
   },
   {
    "duration": 7,
    "start_time": "2023-07-15T08:40:06.969Z"
   },
   {
    "duration": 175,
    "start_time": "2023-07-15T08:40:06.978Z"
   },
   {
    "duration": 15,
    "start_time": "2023-07-15T08:40:07.155Z"
   },
   {
    "duration": 358,
    "start_time": "2023-07-15T08:40:07.172Z"
   },
   {
    "duration": 331,
    "start_time": "2023-07-15T08:40:07.532Z"
   },
   {
    "duration": 323,
    "start_time": "2023-07-15T08:40:07.867Z"
   },
   {
    "duration": 467,
    "start_time": "2023-07-15T08:40:08.191Z"
   },
   {
    "duration": 360,
    "start_time": "2023-07-15T08:40:08.659Z"
   },
   {
    "duration": 327,
    "start_time": "2023-07-15T08:40:09.020Z"
   },
   {
    "duration": 8,
    "start_time": "2023-07-15T08:40:09.349Z"
   },
   {
    "duration": 151,
    "start_time": "2023-07-15T08:40:09.367Z"
   },
   {
    "duration": 140,
    "start_time": "2023-07-15T08:40:09.520Z"
   },
   {
    "duration": 252,
    "start_time": "2023-07-15T08:40:09.667Z"
   },
   {
    "duration": 15,
    "start_time": "2023-07-15T08:40:09.921Z"
   },
   {
    "duration": 8,
    "start_time": "2023-07-15T08:40:09.937Z"
   },
   {
    "duration": 36,
    "start_time": "2023-07-15T08:40:09.946Z"
   },
   {
    "duration": 216,
    "start_time": "2023-07-15T08:40:09.987Z"
   },
   {
    "duration": 6,
    "start_time": "2023-07-15T08:40:10.204Z"
   },
   {
    "duration": 245,
    "start_time": "2023-07-15T08:40:10.212Z"
   },
   {
    "duration": 11,
    "start_time": "2023-07-15T08:40:10.459Z"
   },
   {
    "duration": 8,
    "start_time": "2023-07-15T08:40:10.472Z"
   },
   {
    "duration": 246,
    "start_time": "2023-07-15T08:40:10.481Z"
   },
   {
    "duration": 8,
    "start_time": "2023-07-15T08:40:10.729Z"
   },
   {
    "duration": 22,
    "start_time": "2023-07-15T08:40:10.738Z"
   },
   {
    "duration": 269,
    "start_time": "2023-07-15T08:40:10.762Z"
   },
   {
    "duration": 41,
    "start_time": "2023-07-15T08:40:11.032Z"
   },
   {
    "duration": 202,
    "start_time": "2023-07-15T08:40:11.074Z"
   },
   {
    "duration": 197,
    "start_time": "2023-07-15T08:40:11.278Z"
   }
  ],
  "kernelspec": {
   "display_name": "Python 3 (ipykernel)",
   "language": "python",
   "name": "python3"
  },
  "language_info": {
   "codemirror_mode": {
    "name": "ipython",
    "version": 3
   },
   "file_extension": ".py",
   "mimetype": "text/x-python",
   "name": "python",
   "nbconvert_exporter": "python",
   "pygments_lexer": "ipython3",
   "version": "3.9.5"
  },
  "toc": {
   "base_numbering": 1,
   "nav_menu": {},
   "number_sections": true,
   "sideBar": true,
   "skip_h1_title": true,
   "title_cell": "Table of Contents",
   "title_sidebar": "Contents",
   "toc_cell": false,
   "toc_position": {},
   "toc_section_display": true,
   "toc_window_display": false
  }
 },
 "nbformat": 4,
 "nbformat_minor": 2
}
